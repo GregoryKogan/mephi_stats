{
 "cells": [
  {
   "cell_type": "markdown",
   "id": "316a592f-c742-46af-b552-bd960afe936a",
   "metadata": {},
   "source": [
    "# БДЗ пятый раздел"
   ]
  },
  {
   "cell_type": "code",
   "execution_count": 1,
   "id": "b738739e-38a2-4a95-8f2d-40ae8bfa8ef7",
   "metadata": {},
   "outputs": [],
   "source": [
    "import scipy.stats as sps\n",
    "from statsmodels.distributions.empirical_distribution import ECDF\n",
    "import matplotlib.pyplot as plt\n",
    "from array import array\n",
    "import numpy as np\n",
    "import math\n",
    "import pandas as pd"
   ]
  },
  {
   "cell_type": "code",
   "execution_count": 2,
   "id": "62ed6779-265a-4a5f-a0fc-1ae9e03118df",
   "metadata": {},
   "outputs": [
    {
     "name": "stdout",
     "output_type": "stream",
     "text": [
      "315 315\n"
     ]
    }
   ],
   "source": [
    "X = pd.read_excel(open('data_matstat_K5.xls', 'rb'), sheet_name='C - plasma')['C11'].to_numpy()\n",
    "Y = pd.read_excel(open('data_matstat_K5.xls', 'rb'), sheet_name='C - plasma')['C12'].to_numpy()\n",
    "\n",
    "n1 = len(X)\n",
    "n2 = len(Y)\n",
    "print(n1, n2)"
   ]
  },
  {
   "cell_type": "markdown",
   "id": "17f3c6bc-6bf3-42b4-af45-564124cc9396",
   "metadata": {},
   "source": [
    "### 5.1 Критерий знаков"
   ]
  },
  {
   "cell_type": "code",
   "execution_count": 3,
   "id": "d94751cf-62f9-42ed-9194-79fb492509f1",
   "metadata": {},
   "outputs": [
    {
     "name": "stdout",
     "output_type": "stream",
     "text": [
      "Sign test: z = 2424.000, p-value = 0.000\n"
     ]
    }
   ],
   "source": [
    "ans = sps.wilcoxon(X, Y)\n",
    "print('Sign test: z = {z:.3f}, p-value = {p_value:.3f}'.format(z =ans[0] , p_value = ans[1]))"
   ]
  },
  {
   "cell_type": "markdown",
   "id": "aece22bc-a48f-4076-8da1-ea7b610d275f",
   "metadata": {},
   "source": [
    "### 5.2. Критерий хи-квадрат"
   ]
  },
  {
   "cell_type": "code",
   "execution_count": 4,
   "id": "425062a0-1a2d-4548-96fc-6ac188d05a92",
   "metadata": {},
   "outputs": [
    {
     "name": "stdout",
     "output_type": "stream",
     "text": [
      "Число групп по формуле Стерджесса : 9\n",
      "Ширина интервалов : 9\n"
     ]
    }
   ],
   "source": [
    "print(\"Число групп по формуле Стерджесса : {z}\".format(z = 1 + int(math.log(n1, 2))))\n",
    "print(\"Ширина интервалов : {z}\".format(z = 1 + int(math.log(n1, 2))))"
   ]
  },
  {
   "cell_type": "code",
   "execution_count": 39,
   "id": "50ed2fe7-1662-40f5-ab2d-4959339c6185",
   "metadata": {},
   "outputs": [
    {
     "name": "stdout",
     "output_type": "stream",
     "text": [
      "[96, 106, 58, 30, 12, 6, 5, 1, 1]\n",
      "[179, 114, 18, 2, 0, 1, 0, 0, 1]\n",
      "[0.3, 0.34, 0.18, 0.1, 0.04, 0.02, 0.02, 0.0, 0.0]\n",
      "[0.57, 0.36, 0.06, 0.01, 0.0, 0.0, 0.0, 0.0, 0.0]\n",
      "[214, 1261, 2309, 3356, 4404, 5451, 6499, 7546, 8594, 9642]\n",
      "[30, 793, 1556, 2320, 3083, 3847, 4610, 5374, 6137, 6901]\n",
      "Сhi-squared test: z = 86.683, p-value = 0.000\n"
     ]
    },
    {
     "data": {
      "image/png": "[encoded data removed]",
      "text/plain": [
       "<Figure size 432x288 with 1 Axes>"
      ]
     },
     "metadata": {
      "needs_background": "light"
     },
     "output_type": "display_data"
    }
   ],
   "source": [
    "result = plt.hist(X,  bins=9, density=False, alpha=0.6, label='Гистограмма частот')\n",
    "frequencies_X = result[0]\n",
    "values_X = result[1]\n",
    "result = plt.hist(Y,  bins=9, density=False, alpha=0.6, label='Гистограмма частот')\n",
    "frequencies_Y = result[0]\n",
    "values_Y = result[1]\n",
    "relative_freq_X = []\n",
    "relative_freq_Y = []\n",
    "\n",
    "for i in range(len(frequencies_X)):\n",
    "    relative_freq_X.append(round(frequencies_X[i]/n1, 2))\n",
    "    relative_freq_Y.append(round(frequencies_Y[i]/n2, 2))\n",
    "print([int(item) for item in frequencies_X])\n",
    "print([int(item) for item in frequencies_Y])\n",
    "print(relative_freq_X)\n",
    "print(relative_freq_Y)\n",
    "#print(sum(relative_freq_X)) для проверки \n",
    "#print(sum(relative_freq_Y)) что сумма относительных частот 1 \n",
    "print([int(item) for item in values_X])\n",
    "print([int(item) for item in values_Y])\n",
    "\n",
    "ans = sps.chi2_contingency([[ 96, 106,  113], [179, 114,  22]]) #вручную убрал частоты <= 5\n",
    "print('Сhi-squared test: z = {z:.3f}, p-value = {p_value:.3f}'.format(z =ans[0] , p_value = ans[1]))"
   ]
  },
  {
   "cell_type": "markdown",
   "id": "f790f38c-400c-4d33-b62c-df8b6f4d256d",
   "metadata": {},
   "source": [
    "В результате проведённого в п.5 статистического анализа удалось определить, что выборки С11 и С12 имеют разные распределения. Критерий знаков и критерий хи-квадрат отвергли гипотезу однородности. Следовательно, по проведенному анализу, мы можем определить, что выборки C11(...) и C12(...) неоднородны."
   ]
  },
  {
   "cell_type": "code",
   "execution_count": null,
   "id": "27264dcd-77b9-404d-9a68-b6bed820f7d2",
   "metadata": {},
   "outputs": [],
   "source": []
  },
  {
   "cell_type": "code",
   "execution_count": null,
   "id": "bc1a0694-57b0-4ded-a03d-91c0a24797a5",
   "metadata": {},
   "outputs": [],
   "source": []
  }
 ],
 "metadata": {
  "kernelspec": {
   "display_name": "Python 3",
   "language": "python",
   "name": "python3"
  },
  "language_info": {
   "codemirror_mode": {
    "name": "ipython",
    "version": 3
   },
   "file_extension": ".py",
   "mimetype": "text/x-python",
   "name": "python",
   "nbconvert_exporter": "python",
   "pygments_lexer": "ipython3",
   "version": "3.8.8"
  }
 },
 "nbformat": 4,
 "nbformat_minor": 5
}
