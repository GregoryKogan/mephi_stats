{
 "cells": [
  {
   "cell_type": "markdown",
   "id": "e08797f3-0d85-4e0e-b4bb-bd98e09dd032",
   "metadata": {},
   "source": [
    "# БДЗ седьмой раздел"
   ]
  },
  {
   "cell_type": "code",
   "execution_count": 7,
   "id": "81bdb909-b280-48cf-a3b3-f779e44aa09e",
   "metadata": {},
   "outputs": [],
   "source": [
    "import scipy.stats as sps\n",
    "from statsmodels.distributions.empirical_distribution import ECDF\n",
    "import matplotlib.pyplot as plt\n",
    "from array import array\n",
    "import numpy as np\n",
    "import math\n",
    "import pandas as pd"
   ]
  },
  {
   "cell_type": "code",
   "execution_count": 55,
   "id": "95cdae2f-5351-4c19-84ba-6ebbec1636cc",
   "metadata": {},
   "outputs": [
    {
     "name": "stdout",
     "output_type": "stream",
     "text": [
      "Число вариантов факторных признаков - 3 : Current Smoker, Former, Never\n",
      "Объем выборки: 315\n"
     ]
    }
   ],
   "source": [
    "X = pd.read_excel(open('data_matstat_K5.xls', 'rb'), sheet_name='C - plasma')['C3'].to_numpy()\n",
    "Y = pd.read_excel(open('data_matstat_K5.xls', 'rb'), sheet_name='C - plasma')['C14'].to_numpy()\n",
    "print(\"Число вариантов факторных признаков - 3 : Current Smoker, Former, Never\")\n",
    "print(\"Объем выборки: {z}\".format(z = len(X)))"
   ]
  },
  {
   "cell_type": "code",
   "execution_count": 56,
   "id": "f25677de-0fbe-41a6-8097-b75448de57de",
   "metadata": {},
   "outputs": [],
   "source": [
    "dict = {'Former': [], 'Never': [], 'Current Smoker': []}\n",
    "for i in range(len(X)):\n",
    "    if X[i] == 'Former':\n",
    "        dict[\"Former\"].append(Y[i])\n",
    "    elif X[i] == 'Never':\n",
    "        dict[\"Never\"].append(Y[i])\n",
    "    elif X[i] == 'Current Smoker':\n",
    "        dict[\"Current Smoker\"].append(Y[i])"
   ]
  },
  {
   "cell_type": "code",
   "execution_count": 57,
   "id": "2b845f70-dd88-4a34-b140-db8d28367e94",
   "metadata": {},
   "outputs": [],
   "source": [
    "groups = []\n",
    "for key in dict:\n",
    "    dict[key] = np.array(dict[key])\n",
    "    groups.append(dict[key])"
   ]
  },
  {
   "cell_type": "markdown",
   "id": "bca379ee-86c3-4209-aee1-0e3ba7220fc2",
   "metadata": {
    "tags": []
   },
   "source": [
    "### а) Рассчитать групповые выборочные характеристики"
   ]
  },
  {
   "cell_type": "code",
   "execution_count": 58,
   "id": "ea7d82fe-db5f-4921-ab9a-bdc30c0be5ae",
   "metadata": {},
   "outputs": [
    {
     "name": "stdout",
     "output_type": "stream",
     "text": [
      "Former - объем выборки: 115\n",
      "Former - среднее: 644.243\n",
      "Former - дисперсия: 52973.784\n",
      "Never - объем выборки: 157\n",
      "Never - среднее: 583.306\n",
      "Never - дисперсия: 34985.664\n",
      "Current Smoker - объем выборки: 43\n",
      "Current Smoker - среднее: 563.070\n",
      "Current Smoker - дисперсия: 41681.972\n"
     ]
    }
   ],
   "source": [
    "for key in dict:\n",
    "    print(\"{f} - объем выборки: {z}\".format(f = key, z = len(dict[key])))\n",
    "    print(\"{f} - среднее: {z:.3f}\".format(f = key, z = dict[key].mean()))\n",
    "    print(\"{f} - дисперсия: {z:.3f}\".format(f = key, z = dict[key].var()))"
   ]
  },
  {
   "cell_type": "markdown",
   "id": "b2d18238-df0d-4e01-a578-2b61045ebd59",
   "metadata": {},
   "source": [
    "### в) Рассчитать показатели вариации, используемые в дисперсионном анализе"
   ]
  },
  {
   "cell_type": "code",
   "execution_count": 59,
   "id": "227ce7c8-11a0-4e93-9af1-3749e5ba0bec",
   "metadata": {},
   "outputs": [
    {
     "name": "stdout",
     "output_type": "stream",
     "text": [
      "602.7904761904762\n",
      "D_b = 1031.933\n",
      "D_w = 42466.855\n",
      "D_x = 43498.788\n",
      "Число степеней свободы: 2\n",
      "Несмещенная оценка групировочного признака: 162529.437\n",
      "Число степеней свободы: 312\n",
      "Несмещенная оценка остаточного признака: 42875.190\n",
      "Число степеней свободы: 314\n",
      "Несмещенная оценка всех признаков: 43637.319\n"
     ]
    }
   ],
   "source": [
    "K = 3\n",
    "n = len(X)\n",
    "\n",
    "general_mean = (groups[0].mean() * len(groups[0]) + groups[1].mean() * len(groups[1]) + groups[2].mean() * len(groups[2]))/ n \n",
    "\n",
    "samples = [groups[0], groups[1], groups[2]]\n",
    "print(general_mean)\n",
    "general_var = 0\n",
    "\n",
    "for sample in samples:\n",
    "    for x in sample:\n",
    "        general_var += (x - general_mean)**2\n",
    "D_x = general_var / n\n",
    "\n",
    "general_var = 0\n",
    "for sample in samples:\n",
    "        general_var += len(sample) * sample.var()\n",
    "D_w = general_var / n\n",
    "\n",
    "general_var = 0\n",
    "for sample in samples:\n",
    "        general_var += len(sample)*(sample.mean() - general_mean)**2\n",
    "D_b = general_var / n\n",
    "\n",
    "print(\"D_b = %.3f\" % D_b)\n",
    "print(\"D_w = %.3f\" % D_w)\n",
    "print(\"D_x = %.3f\" % D_x)\n",
    "\n",
    "print('Число степеней свободы: {dof}'.format(dof = K-1))\n",
    "print('Несмещенная оценка групировочного признака: {z:.3f}'.format(z = (D_b * n)/(K - 1)))\n",
    "print('Число степеней свободы: {dof}'.format(dof = n-K))\n",
    "print('Несмещенная оценка остаточного признака: {z:.3f}'.format(z = (D_w * n)/(n - K)))\n",
    "print('Число степеней свободы: {dof}'.format(dof = n-1))\n",
    "print('Несмещенная оценка всех признаков: {z:.3f}'.format(z = (D_x * n)/(n - 1)))"
   ]
  },
  {
   "cell_type": "markdown",
   "id": "8086ded1-749e-4131-9f2a-3ef2dcfe74c6",
   "metadata": {},
   "source": [
    "### г) Проверить правило сложения дисперсий"
   ]
  },
  {
   "cell_type": "code",
   "execution_count": 61,
   "id": "1afbf3a2-2bfe-4245-8530-6984e93ef9ce",
   "metadata": {},
   "outputs": [
    {
     "name": "stdout",
     "output_type": "stream",
     "text": [
      "1031.932931052181\n",
      "42466.85491475281\n",
      "43498.78784580499\n",
      "43498.78784580499\n"
     ]
    }
   ],
   "source": [
    "print(D_b)\n",
    "print(D_w)\n",
    "print(D_x)\n",
    "print(D_b + D_w)"
   ]
  },
  {
   "cell_type": "markdown",
   "id": "14c03eba-30ee-4766-9ffd-9d5b7a508684",
   "metadata": {},
   "source": [
    "### д) Рассчитать показатели тесноты связи между факторным и результативным признаками"
   ]
  },
  {
   "cell_type": "code",
   "execution_count": 62,
   "id": "876f9a35-fc74-4d5b-bc06-4cd6dd51c78f",
   "metadata": {},
   "outputs": [
    {
     "name": "stdout",
     "output_type": "stream",
     "text": [
      "Эмпирический коэффициент детерминации: 0.024\n",
      "Эмпирическое корреляционное отношение: 0.154\n"
     ]
    }
   ],
   "source": [
    "eta_squared = D_b / D_x   \n",
    "eta = eta_squared ** (1/2)\n",
    "print(\"Эмпирический коэффициент детерминации: %.3f\" % eta_squared)\n",
    "print(\"Эмпирическое корреляционное отношение: %.3f\" % eta)"
   ]
  },
  {
   "cell_type": "markdown",
   "id": "5886a56b-6a70-44d1-9516-b70c1faaad3b",
   "metadata": {},
   "source": [
    "### з) Проверить статистическую гипотезу дисперсионного анализа "
   ]
  },
  {
   "cell_type": "code",
   "execution_count": 66,
   "id": "b47ca965-4ffa-40b2-bf74-5652296c61a0",
   "metadata": {},
   "outputs": [
    {
     "data": {
      "text/plain": [
       "F_onewayResult(statistic=3.7907572286031472, pvalue=0.02362540112051114)"
      ]
     },
     "execution_count": 66,
     "metadata": {},
     "output_type": "execute_result"
    }
   ],
   "source": [
    "sps.f_oneway(groups[0], groups[1], groups[2])"
   ]
  },
  {
   "cell_type": "code",
   "execution_count": null,
   "id": "f2901c3c-bf65-4c2f-94f1-63c8a914b533",
   "metadata": {},
   "outputs": [],
   "source": []
  }
 ],
 "metadata": {
  "kernelspec": {
   "display_name": "Python 3",
   "language": "python",
   "name": "python3"
  },
  "language_info": {
   "codemirror_mode": {
    "name": "ipython",
    "version": 3
   },
   "file_extension": ".py",
   "mimetype": "text/x-python",
   "name": "python",
   "nbconvert_exporter": "python",
   "pygments_lexer": "ipython3",
   "version": "3.8.8"
  }
 },
 "nbformat": 4,
 "nbformat_minor": 5
}
