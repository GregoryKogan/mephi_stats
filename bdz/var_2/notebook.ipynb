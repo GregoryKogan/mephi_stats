{
 "cells": [
  {
   "cell_type": "markdown",
   "metadata": {},
   "source": [
    "# Вариант №2."
   ]
  },
  {
   "cell_type": "code",
   "execution_count": 1,
   "metadata": {},
   "outputs": [],
   "source": [
    "variant = 2"
   ]
  },
  {
   "cell_type": "markdown",
   "metadata": {},
   "source": [
    "Если что, ячейки можно скрывать по разделам `Markdown`."
   ]
  },
  {
   "cell_type": "markdown",
   "metadata": {},
   "source": [
    "# Импорты и определения"
   ]
  },
  {
   "cell_type": "markdown",
   "metadata": {},
   "source": [
    "### Библиотеки и их настройка"
   ]
  },
  {
   "cell_type": "code",
   "execution_count": 2,
   "metadata": {},
   "outputs": [],
   "source": [
    "import numpy as np\n",
    "import pandas as pd\n",
    "from scipy import stats\n",
    "import matplotlib.pyplot as plt\n",
    "import math as m\n",
    "import string\n",
    "from IPython.display import display, Math, Markdown  # для вывода формул в консоль"
   ]
  },
  {
   "cell_type": "code",
   "execution_count": 3,
   "metadata": {},
   "outputs": [],
   "source": [
    "def mprint(*strings):  # функция вывода маркдаун в консоль\n",
    "    for s in strings:\n",
    "        display(Markdown(s))\n",
    "\n",
    "\n",
    "def dataframe_to_markdown(df):\n",
    "    markdown_table = \"| Index | \" + \" | \".join(df.columns) + \" |\\n\"\n",
    "    markdown_table += \"|---\" * (len(df.columns) + 1) + \"|\\n\"  # Учитываем индекс\n",
    "\n",
    "    for index, row in df.iterrows():\n",
    "        row_values = [str(round(val, 2)) for val in row]\n",
    "        markdown_table += f\"| {index} | \" + \" | \".join(row_values) + \" |\\n\"\n",
    "\n",
    "    return markdown_table\n",
    "\n",
    "\n",
    "# можно выводить latex в надписях matplotlib\n",
    "plt.rc(\"text\", usetex=True)\n",
    "plt.rc(\n",
    "    \"text.latex\",\n",
    "    preamble=r\"\"\"\n",
    "\\usepackage[english, russian]{babel}\n",
    "\\usepackage[utf8]{inputenc}\n",
    "\"\"\",\n",
    ")\n",
    "plt.style.use(\"seaborn-v0_8\")"
   ]
  },
  {
   "cell_type": "markdown",
   "metadata": {},
   "source": [
    "### Парсинг вариантов"
   ]
  },
  {
   "cell_type": "code",
   "execution_count": 4,
   "metadata": {},
   "outputs": [
    {
     "data": {
      "text/plain": [
       "'/Users/retrobanner/Projects/mephi_stats/bdz/var_2'"
      ]
     },
     "execution_count": 4,
     "metadata": {},
     "output_type": "execute_result"
    }
   ],
   "source": [
    "%pwd"
   ]
  },
  {
   "cell_type": "code",
   "execution_count": 5,
   "metadata": {},
   "outputs": [
    {
     "data": {
      "text/plain": [
       "1.1         B7 B8 B9\n",
       "1.2               B7\n",
       "2.1, 3.1          B7\n",
       "2.2, 3.2          B7\n",
       "2.3, 3.3     B11 B12\n",
       "Name: 2, dtype: object"
      ]
     },
     "execution_count": 5,
     "metadata": {},
     "output_type": "execute_result"
    }
   ],
   "source": [
    "# считываем столбики для варианта\n",
    "datas = pd.read_excel(\"../bdz_vars.xls\", index_col=0).loc[variant]\n",
    "\n",
    "datas.head()"
   ]
  },
  {
   "cell_type": "code",
   "execution_count": 6,
   "metadata": {},
   "outputs": [
    {
     "name": "stdout",
     "output_type": "stream",
     "text": [
      "{'1.1': ['B7', 'B8', 'B9'], '1.2': ['B7'], '2.1': ['B7'], '3.1': ['B7'], '2.2': ['B7'], '3.2': ['B7'], '2.3': ['B11', 'B12'], '3.3': ['B11', 'B12'], '2.4': ['B11', 'B12'], '3.4': ['B11', 'B12'], '4': ['B7'], '5': ['B11', 'B12'], '6': ['B3', 'B5'], '7': ['B6', 'B1'], '8.1': ['B11', 'B12'], '8.2': ['B7', 'B8', 'B9'], '9.1': ['B1', 'B2'], '9.2': ['B1', 'B2'], '9.3': ['B1', 'B4', 'B2']}\n"
     ]
    }
   ],
   "source": [
    "# создаём словарик: задание -> список столбцов\n",
    "variant_dict = dict()\n",
    "for tasks in datas.index:\n",
    "    for task in tasks.split(\", \"):\n",
    "        variant_dict[task] = datas[tasks].split(\" \")\n",
    "\n",
    "print(variant_dict)"
   ]
  },
  {
   "cell_type": "markdown",
   "metadata": {},
   "source": [
    "### Считываем информацию из excel"
   ]
  },
  {
   "cell_type": "code",
   "execution_count": 7,
   "metadata": {},
   "outputs": [
    {
     "data": {
      "text/plain": [
       "dict_keys(['description', 'A - aaup', 'B - bodyfat', 'C - plasma', 'D - homedat'])"
      ]
     },
     "execution_count": 7,
     "metadata": {},
     "output_type": "execute_result"
    }
   ],
   "source": [
    "dfs = pd.read_excel(\"../bdz_data.xls\", sheet_name=None)\n",
    "dfs.keys()"
   ]
  },
  {
   "cell_type": "code",
   "execution_count": 8,
   "metadata": {},
   "outputs": [
    {
     "name": "stdout",
     "output_type": "stream",
     "text": [
      "{'A': 'A - aaup', 'B': 'B - bodyfat', 'C': 'C - plasma', 'D': 'D - homedat'}\n"
     ]
    }
   ],
   "source": [
    "# создаём словарик: буква -> название листа в excel\n",
    "sheet_dict = dict()\n",
    "for value in list(dfs.keys())[1:]:\n",
    "    key = value[0]\n",
    "    sheet_dict[key] = value\n",
    "print(sheet_dict)"
   ]
  },
  {
   "cell_type": "code",
   "execution_count": 9,
   "metadata": {},
   "outputs": [],
   "source": [
    "# функция: задание -> необходимые данные\n",
    "def data(task):\n",
    "    X = []\n",
    "    for data in variant_dict[task]:\n",
    "        sheet = data[0]\n",
    "        column = data\n",
    "        df = dfs[sheet_dict[sheet]][column]\n",
    "        X.append(df)\n",
    "    return X"
   ]
  },
  {
   "cell_type": "markdown",
   "metadata": {},
   "source": [
    "# Раздел 1. Описательные статистики"
   ]
  },
  {
   "cell_type": "markdown",
   "metadata": {},
   "source": [
    "## 1.1 Выборочные характеристики"
   ]
  },
  {
   "cell_type": "markdown",
   "metadata": {},
   "source": [
    "### Условие"
   ]
  },
  {
   "cell_type": "markdown",
   "metadata": {},
   "source": [
    "Анализируемый признак 1 – `B7` (Weight (lbs))\n",
    "\n",
    "Анализируемый признак 2 – `B8` (Height (inches))\n",
    "\n",
    "Анализируемый признак 3 – `B9` (Neck circumference (cm))"
   ]
  },
  {
   "cell_type": "markdown",
   "metadata": {},
   "source": [
    "### Определения"
   ]
  },
  {
   "cell_type": "code",
   "execution_count": 10,
   "metadata": {},
   "outputs": [
    {
     "name": "stdout",
     "output_type": "stream",
     "text": [
      "0    154.25\n",
      "1    173.25\n",
      "2    154.00\n",
      "3    184.75\n",
      "4    184.25\n",
      "Name: B7, dtype: float64\n",
      "0    67.75\n",
      "1    72.25\n",
      "2    66.25\n",
      "3    72.25\n",
      "4    71.25\n",
      "Name: B8, dtype: float64\n",
      "0    36.2\n",
      "1    38.5\n",
      "2    34.0\n",
      "3    37.4\n",
      "4    34.4\n",
      "Name: B9, dtype: float64\n"
     ]
    }
   ],
   "source": [
    "columns = data(\"1.1\")\n",
    "for i in columns:\n",
    "    print(i.head())"
   ]
  },
  {
   "cell_type": "markdown",
   "metadata": {},
   "source": [
    "### Формулы"
   ]
  },
  {
   "cell_type": "markdown",
   "metadata": {},
   "source": [
    "| Выборочная характеристика                | Формула расчёта                                                                                                                                                                                                                                 |\n",
    "| ---------------------------------------- | ----------------------------------------------------------------------------------------------------------------------------------------------------------------------------------------------------------------------------------------------- |\n",
    "| Объём выборки                            | $n$                                                                                                                                                                                                                                             |\n",
    "| Среднее                                  | $\\overline x = \\dfrac{1}{n} \\sum\\limits_{i = 1}^{n} x_i$                                                                                                                                                                                        |\n",
    "| Выборочная дисперсия                     | $D_X^* = \\dfrac{1}{n} \\sum\\limits_{i = 1}^{n} \\left(x_i - \\overline x\\right)^2$                                                                                                                                                                 |\n",
    "| Выборочное среднеквадратичное отклонение | $\\sigma_X^* = \\sqrt{D_X^*} =\\sqrt{\\dfrac{1}{n} \\sum\\limits_{i = 1}^{n} \\left(x_i - \\overline x\\right)^2}$                                                                                                                                       |\n",
    "| Выборочный коэффициент асимметрии        | $\\gamma_X^* = \\dfrac{\\mu_{3,X}^*}{\\left(\\sigma_X^*\\right)^3} = \\dfrac{\\dfrac{1}{n} \\sum\\limits_{i = 1}^{n} \\left(x_i - \\overline x\\right)^3}{\\left(\\dfrac{1}{n} \\sum\\limits_{i = 1}^{n} \\left(x_i - \\overline x\\right)^2\\right)^{\\frac{3}{2}}}$ |\n",
    "| Выборочный эксцесс                       |      $\\varepsilon_X^* = \\dfrac{\\mu_{4,X}^*}{\\left(\\sigma_X^*\\right)^4} = \\dfrac{\\dfrac{1}{n} \\sum\\limits_{i = 1}^{n} \\left(x_i - \\overline x\\right)^4}{\\left(\\dfrac{1}{n} \\sum\\limits_{i = 1}^{n} \\left(x_i - \\overline x\\right)^2\\right)^2}$                                                                                                                                                                                                                                           |\n"
   ]
  },
  {
   "cell_type": "markdown",
   "metadata": {},
   "source": [
    "### Рассчёты"
   ]
  },
  {
   "cell_type": "markdown",
   "metadata": {},
   "source": [
    "`pd.skew()` возвращает несмещенный выборочный коэффициент асимметрии, поэтому лучше использовать `stats.skew(bias=True)`, чтобы его получить.\n",
    "\n",
    "То же самое касается функции `kurtosis()`."
   ]
  },
  {
   "cell_type": "code",
   "execution_count": 11,
   "metadata": {},
   "outputs": [
    {
     "data": {
      "text/markdown": [
       "$\\mathbf{X_1}:$         $\\overline x_1 =$ 178.92;         $D^*_{X_1} =$ 860.30;         $\\sigma^*_{X_1} =$ 29.33;         $\\gamma^*_{X_1} =$ 1.20;         $\\varepsilon^*_{X_1} =$ 5.14         "
      ],
      "text/plain": [
       "<IPython.core.display.Markdown object>"
      ]
     },
     "metadata": {},
     "output_type": "display_data"
    },
    {
     "data": {
      "text/markdown": [
       "$\\mathbf{X_2}:$         $\\overline x_2 =$ 70.15;         $D^*_{X_2} =$ 13.36;         $\\sigma^*_{X_2} =$ 3.66;         $\\gamma^*_{X_2} =$ -5.35;         $\\varepsilon^*_{X_2} =$ 58.35         "
      ],
      "text/plain": [
       "<IPython.core.display.Markdown object>"
      ]
     },
     "metadata": {},
     "output_type": "display_data"
    },
    {
     "data": {
      "text/markdown": [
       "$\\mathbf{X_3}:$         $\\overline x_3 =$ 37.99;         $D^*_{X_3} =$ 5.89;         $\\sigma^*_{X_3} =$ 2.43;         $\\gamma^*_{X_3} =$ 0.55;         $\\varepsilon^*_{X_3} =$ 2.64         "
      ],
      "text/plain": [
       "<IPython.core.display.Markdown object>"
      ]
     },
     "metadata": {},
     "output_type": "display_data"
    }
   ],
   "source": [
    "for i, X in enumerate(columns, start=1):\n",
    "    mean_ = X.mean()\n",
    "    D = X.var(ddof=0)\n",
    "    d = X.std(ddof=0)\n",
    "    g = stats.skew(X, bias=True)\n",
    "    e = stats.kurtosis(X, bias=True)\n",
    "    output = f\"$\\\\mathbf{{X_{i}}}:$ \\\n",
    "        $\\\\overline x_{i} =$ {mean_:.2f}; \\\n",
    "        $D^*_{{X_{i}}} =$ {D:.2f}; \\\n",
    "        $\\\\sigma^*_{{X_{i}}} =$ {d:.2f}; \\\n",
    "        $\\\\gamma^*_{{X_{i}}} =$ {g:.2f}; \\\n",
    "        $\\\\varepsilon^*_{{X_{i}}} =$ {e:.2f} \\\n",
    "        \"\n",
    "    mprint(output)"
   ]
  },
  {
   "cell_type": "markdown",
   "metadata": {},
   "source": [
    "| Выборочная характеристика                | Признак 1 | Признак 2 | Признак 3 |\n",
    "| ---------------------------------------- | --------- | --------- | --------- |\n",
    "| Среднее                                  | 178.92    | 70.15     | 37.99     |\n",
    "| Выборочная дисперсия                     | 860.30    | 13.36     | 5.89      |\n",
    "| Выборочное среднеквадратичное отклонение | 29.33     | 3.66      | 2.43      |\n",
    "| Выборочный коэффициент асимметрии        | 1.20      | -5.35     | 0.55      |\n",
    "| Выборочный эксцесс                       | 5.14      | 58.35     | 2.64      |\n"
   ]
  },
  {
   "cell_type": "markdown",
   "metadata": {},
   "source": [
    "## 1.2 Группировка и гистограммы частот"
   ]
  },
  {
   "cell_type": "markdown",
   "metadata": {},
   "source": [
    "### Условие"
   ]
  },
  {
   "cell_type": "markdown",
   "metadata": {},
   "source": [
    "Анализируемый признак – `B7` (Weight (lbs))\n",
    "\n",
    "Объём выборки – `252`"
   ]
  },
  {
   "cell_type": "markdown",
   "metadata": {},
   "source": [
    "### Определения"
   ]
  },
  {
   "cell_type": "code",
   "execution_count": 12,
   "metadata": {},
   "outputs": [
    {
     "name": "stdout",
     "output_type": "stream",
     "text": [
      "1\n"
     ]
    },
    {
     "data": {
      "text/html": [
       "<div>\n",
       "<style scoped>\n",
       "    .dataframe tbody tr th:only-of-type {\n",
       "        vertical-align: middle;\n",
       "    }\n",
       "\n",
       "    .dataframe tbody tr th {\n",
       "        vertical-align: top;\n",
       "    }\n",
       "\n",
       "    .dataframe thead th {\n",
       "        text-align: right;\n",
       "    }\n",
       "</style>\n",
       "<table border=\"1\" class=\"dataframe\">\n",
       "  <thead>\n",
       "    <tr style=\"text-align: right;\">\n",
       "      <th></th>\n",
       "      <th>value</th>\n",
       "    </tr>\n",
       "  </thead>\n",
       "  <tbody>\n",
       "    <tr>\n",
       "      <th>0</th>\n",
       "      <td>154.25</td>\n",
       "    </tr>\n",
       "    <tr>\n",
       "      <th>1</th>\n",
       "      <td>173.25</td>\n",
       "    </tr>\n",
       "    <tr>\n",
       "      <th>2</th>\n",
       "      <td>154.00</td>\n",
       "    </tr>\n",
       "    <tr>\n",
       "      <th>3</th>\n",
       "      <td>184.75</td>\n",
       "    </tr>\n",
       "    <tr>\n",
       "      <th>4</th>\n",
       "      <td>184.25</td>\n",
       "    </tr>\n",
       "  </tbody>\n",
       "</table>\n",
       "</div>"
      ],
      "text/plain": [
       "    value\n",
       "0  154.25\n",
       "1  173.25\n",
       "2  154.00\n",
       "3  184.75\n",
       "4  184.25"
      ]
     },
     "execution_count": 12,
     "metadata": {},
     "output_type": "execute_result"
    }
   ],
   "source": [
    "columns = data(\"1.2\")\n",
    "print(len(columns))\n",
    "X = columns[0].to_frame()\n",
    "X.columns = [\"value\"]\n",
    "X.head()"
   ]
  },
  {
   "cell_type": "markdown",
   "metadata": {},
   "source": [
    "### Выбрать число групп"
   ]
  },
  {
   "cell_type": "code",
   "execution_count": 13,
   "metadata": {},
   "outputs": [
    {
     "data": {
      "text/markdown": [
       "$\\mathbf{X}: \\max = 363.15, \\min = 118.5, n = 252, k = 8$"
      ],
      "text/plain": [
       "<IPython.core.display.Markdown object>"
      ]
     },
     "metadata": {},
     "output_type": "display_data"
    }
   ],
   "source": [
    "n = len(X[\"value\"])\n",
    "maximum = max(X[\"value\"])\n",
    "minimum = min(X[\"value\"])\n",
    "k = round(1 + 1.3 * m.log(n))\n",
    "mprint(f\"$\\\\mathbf{{X}}: \\\\max = {maximum}, \\\\min = {minimum}, n = {n}, k = {k}$\")"
   ]
  },
  {
   "cell_type": "code",
   "execution_count": 14,
   "metadata": {},
   "outputs": [
    {
     "data": {
      "text/html": [
       "<div>\n",
       "<style scoped>\n",
       "    .dataframe tbody tr th:only-of-type {\n",
       "        vertical-align: middle;\n",
       "    }\n",
       "\n",
       "    .dataframe tbody tr th {\n",
       "        vertical-align: top;\n",
       "    }\n",
       "\n",
       "    .dataframe thead th {\n",
       "        text-align: right;\n",
       "    }\n",
       "</style>\n",
       "<table border=\"1\" class=\"dataframe\">\n",
       "  <thead>\n",
       "    <tr style=\"text-align: right;\">\n",
       "      <th></th>\n",
       "      <th>value</th>\n",
       "      <th>group</th>\n",
       "    </tr>\n",
       "  </thead>\n",
       "  <tbody>\n",
       "    <tr>\n",
       "      <th>0</th>\n",
       "      <td>154.25</td>\n",
       "      <td>(149.081, 179.662]</td>\n",
       "    </tr>\n",
       "    <tr>\n",
       "      <th>1</th>\n",
       "      <td>173.25</td>\n",
       "      <td>(149.081, 179.662]</td>\n",
       "    </tr>\n",
       "    <tr>\n",
       "      <th>2</th>\n",
       "      <td>154.00</td>\n",
       "      <td>(149.081, 179.662]</td>\n",
       "    </tr>\n",
       "    <tr>\n",
       "      <th>3</th>\n",
       "      <td>184.75</td>\n",
       "      <td>(179.662, 210.244]</td>\n",
       "    </tr>\n",
       "    <tr>\n",
       "      <th>4</th>\n",
       "      <td>184.25</td>\n",
       "      <td>(179.662, 210.244]</td>\n",
       "    </tr>\n",
       "  </tbody>\n",
       "</table>\n",
       "</div>"
      ],
      "text/plain": [
       "    value               group\n",
       "0  154.25  (149.081, 179.662]\n",
       "1  173.25  (149.081, 179.662]\n",
       "2  154.00  (149.081, 179.662]\n",
       "3  184.75  (179.662, 210.244]\n",
       "4  184.25  (179.662, 210.244]"
      ]
     },
     "execution_count": 14,
     "metadata": {},
     "output_type": "execute_result"
    }
   ],
   "source": [
    "X[\"group\"] = pd.cut(X[\"value\"], bins=k)\n",
    "X.head()"
   ]
  },
  {
   "cell_type": "code",
   "execution_count": 15,
   "metadata": {},
   "outputs": [
    {
     "data": {
      "text/markdown": [
       "$\\overline{\\mid\\Delta_k\\mid} =$ 30.611874999999998"
      ],
      "text/plain": [
       "<IPython.core.display.Markdown object>"
      ]
     },
     "metadata": {},
     "output_type": "display_data"
    }
   ],
   "source": [
    "group_len = np.mean(\n",
    "    [interval.right - interval.left for interval in X[\"group\"].cat.categories]\n",
    ")\n",
    "mprint(f\"$\\\\overline{{\\\\mid\\\\Delta_k\\\\mid}} =$ {group_len}\")"
   ]
  },
  {
   "cell_type": "markdown",
   "metadata": {},
   "source": [
    "| Число групп | Обоснование выбора числа групп               | Ширина интервалов |\n",
    "| ----------- | -------------------------------------------- | ----------------- |\n",
    "| 8           | Формула Стерджесса: $k \\approx 1 + 1,3 \\ln{n}$ |     30.61             |\n"
   ]
  },
  {
   "cell_type": "markdown",
   "metadata": {},
   "source": [
    "### Построить таблицу частот"
   ]
  },
  {
   "cell_type": "code",
   "execution_count": 16,
   "metadata": {},
   "outputs": [
    {
     "data": {
      "text/html": [
       "<div>\n",
       "<style scoped>\n",
       "    .dataframe tbody tr th:only-of-type {\n",
       "        vertical-align: middle;\n",
       "    }\n",
       "\n",
       "    .dataframe tbody tr th {\n",
       "        vertical-align: top;\n",
       "    }\n",
       "\n",
       "    .dataframe thead th {\n",
       "        text-align: right;\n",
       "    }\n",
       "</style>\n",
       "<table border=\"1\" class=\"dataframe\">\n",
       "  <thead>\n",
       "    <tr style=\"text-align: right;\">\n",
       "      <th></th>\n",
       "      <th>low edge</th>\n",
       "      <th>high edge</th>\n",
       "      <th>frequency</th>\n",
       "      <th>relative frequency</th>\n",
       "      <th>cumulative frequency</th>\n",
       "      <th>cumulative relative frequency</th>\n",
       "    </tr>\n",
       "  </thead>\n",
       "  <tbody>\n",
       "    <tr>\n",
       "      <th>1</th>\n",
       "      <td>118.255</td>\n",
       "      <td>149.081</td>\n",
       "      <td>31</td>\n",
       "      <td>0.123016</td>\n",
       "      <td>31</td>\n",
       "      <td>0.123016</td>\n",
       "    </tr>\n",
       "    <tr>\n",
       "      <th>2</th>\n",
       "      <td>149.081</td>\n",
       "      <td>179.662</td>\n",
       "      <td>110</td>\n",
       "      <td>0.436508</td>\n",
       "      <td>141</td>\n",
       "      <td>0.559524</td>\n",
       "    </tr>\n",
       "    <tr>\n",
       "      <th>3</th>\n",
       "      <td>179.662</td>\n",
       "      <td>210.244</td>\n",
       "      <td>76</td>\n",
       "      <td>0.301587</td>\n",
       "      <td>217</td>\n",
       "      <td>0.861111</td>\n",
       "    </tr>\n",
       "    <tr>\n",
       "      <th>4</th>\n",
       "      <td>210.244</td>\n",
       "      <td>240.825</td>\n",
       "      <td>29</td>\n",
       "      <td>0.115079</td>\n",
       "      <td>246</td>\n",
       "      <td>0.976190</td>\n",
       "    </tr>\n",
       "    <tr>\n",
       "      <th>5</th>\n",
       "      <td>240.825</td>\n",
       "      <td>271.406</td>\n",
       "      <td>5</td>\n",
       "      <td>0.019841</td>\n",
       "      <td>251</td>\n",
       "      <td>0.996032</td>\n",
       "    </tr>\n",
       "    <tr>\n",
       "      <th>6</th>\n",
       "      <td>271.406</td>\n",
       "      <td>301.987</td>\n",
       "      <td>0</td>\n",
       "      <td>0.000000</td>\n",
       "      <td>251</td>\n",
       "      <td>0.996032</td>\n",
       "    </tr>\n",
       "    <tr>\n",
       "      <th>7</th>\n",
       "      <td>301.987</td>\n",
       "      <td>332.569</td>\n",
       "      <td>0</td>\n",
       "      <td>0.000000</td>\n",
       "      <td>251</td>\n",
       "      <td>0.996032</td>\n",
       "    </tr>\n",
       "    <tr>\n",
       "      <th>8</th>\n",
       "      <td>332.569</td>\n",
       "      <td>363.150</td>\n",
       "      <td>1</td>\n",
       "      <td>0.003968</td>\n",
       "      <td>252</td>\n",
       "      <td>1.000000</td>\n",
       "    </tr>\n",
       "  </tbody>\n",
       "</table>\n",
       "</div>"
      ],
      "text/plain": [
       "   low edge  high edge  frequency  relative frequency  cumulative frequency  \\\n",
       "1   118.255    149.081         31            0.123016                    31   \n",
       "2   149.081    179.662        110            0.436508                   141   \n",
       "3   179.662    210.244         76            0.301587                   217   \n",
       "4   210.244    240.825         29            0.115079                   246   \n",
       "5   240.825    271.406          5            0.019841                   251   \n",
       "6   271.406    301.987          0            0.000000                   251   \n",
       "7   301.987    332.569          0            0.000000                   251   \n",
       "8   332.569    363.150          1            0.003968                   252   \n",
       "\n",
       "   cumulative relative frequency  \n",
       "1                       0.123016  \n",
       "2                       0.559524  \n",
       "3                       0.861111  \n",
       "4                       0.976190  \n",
       "5                       0.996032  \n",
       "6                       0.996032  \n",
       "7                       0.996032  \n",
       "8                       1.000000  "
      ]
     },
     "execution_count": 16,
     "metadata": {},
     "output_type": "execute_result"
    }
   ],
   "source": [
    "groups = pd.DataFrame(index=range(1, k + 1))\n",
    "groups[\"low edge\"] = [interval.left for interval in X[\"group\"].cat.categories]\n",
    "groups[\"high edge\"] = [interval.right for interval in X[\"group\"].cat.categories]\n",
    "groups[\"frequency\"] = X[\"group\"].value_counts().sort_index().values\n",
    "groups[\"relative frequency\"] = groups[\"frequency\"] / n\n",
    "groups[\"cumulative frequency\"] = groups[\"frequency\"].cumsum()\n",
    "groups[\"cumulative relative frequency\"] = groups[\"cumulative frequency\"] / n\n",
    "groups"
   ]
  },
  {
   "cell_type": "code",
   "execution_count": 17,
   "metadata": {},
   "outputs": [
    {
     "name": "stdout",
     "output_type": "stream",
     "text": [
      "| Index | low edge | high edge | frequency | relative frequency | cumulative frequency | cumulative relative frequency |\n",
      "|---|---|---|---|---|---|---|\n",
      "| 1 | 118.25 | 149.08 | 31.0 | 0.12 | 31.0 | 0.12 |\n",
      "| 2 | 149.08 | 179.66 | 110.0 | 0.44 | 141.0 | 0.56 |\n",
      "| 3 | 179.66 | 210.24 | 76.0 | 0.3 | 217.0 | 0.86 |\n",
      "| 4 | 210.24 | 240.82 | 29.0 | 0.12 | 246.0 | 0.98 |\n",
      "| 5 | 240.82 | 271.41 | 5.0 | 0.02 | 251.0 | 1.0 |\n",
      "| 6 | 271.41 | 301.99 | 0.0 | 0.0 | 251.0 | 1.0 |\n",
      "| 7 | 301.99 | 332.57 | 0.0 | 0.0 | 251.0 | 1.0 |\n",
      "| 8 | 332.57 | 363.15 | 1.0 | 0.0 | 252.0 | 1.0 |\n",
      "\n"
     ]
    }
   ],
   "source": [
    "# Чтобы быстрее заполнить табличку\n",
    "print(dataframe_to_markdown(groups))"
   ]
  },
  {
   "cell_type": "markdown",
   "metadata": {},
   "source": [
    "| Номер интервала | Нижняя граница | Верхняя граница | Частота | Относительная частота | Накопленная частота | Относительная накопленная частота |\n",
    "| --------------- | -------------- | --------------- | ------- | --------------------- | ------------------- | --------------------------------- |\n",
    "| 1               | 118.25         | 149.08          | 31      | 0.12                  | 31                  | 0.12                              |\n",
    "| 2               | 149.08         | 179.66          | 110     | 0.44                  | 141                 | 0.56                              |\n",
    "| 3               | 179.66         | 210.24          | 76      | 0.3                   | 217                 | 0.86                              |\n",
    "| 4               | 210.24         | 240.82          | 29      | 0.12                  | 246                 | 0.98                              |\n",
    "| 5               | 240.82         | 271.41          | 5       | 0.02                  | 251                 | 1.00                              |\n",
    "| 6               | 271.41         | 301.99          | 0       | 0.0                   | 251                 | 1.00                              |\n",
    "| 7               | 301.99         | 332.57          | 0       | 0.0                   | 251                 | 1.00                              |\n",
    "| 8               | 332.57         | 363.15          | 1       | 0.0                   | 252                 | 1.00                              |"
   ]
  },
  {
   "cell_type": "markdown",
   "metadata": {},
   "source": [
    "### Построить гистограммы частот и полигоны частот"
   ]
  },
  {
   "cell_type": "code",
   "execution_count": 18,
   "metadata": {},
   "outputs": [
    {
     "data": {
      "image/png": "[encoded data removed]",
      "text/plain": [
       "<Figure size 800x550 with 1 Axes>"
      ]
     },
     "metadata": {},
     "output_type": "display_data"
    }
   ],
   "source": [
    "frequences, bins, _ = plt.hist(X[\"value\"], bins=k, edgecolor=\"black\")\n",
    "\n",
    "bin_centers = (bins[:-1] + bins[1:]) / 2\n",
    "plt.plot(bin_centers, frequences, marker=\"o\", color=\"r\")\n",
    "\n",
    "plt.xlabel(\"Значения\")\n",
    "plt.ylabel(\"Частота\")\n",
    "plt.show()"
   ]
  },
  {
   "cell_type": "code",
   "execution_count": 19,
   "metadata": {},
   "outputs": [
    {
     "data": {
      "image/png": "[encoded data removed]",
      "text/plain": [
       "<Figure size 800x550 with 1 Axes>"
      ]
     },
     "metadata": {},
     "output_type": "display_data"
    }
   ],
   "source": [
    "plt.bar(\n",
    "    bin_centers,\n",
    "    groups[\"relative frequency\"],\n",
    "    width=np.diff(bins),\n",
    "    edgecolor=\"black\",\n",
    ")\n",
    "plt.plot(bin_centers, groups[\"relative frequency\"], marker=\"o\", color=\"r\")\n",
    "plt.xlabel(\"Значения\")\n",
    "plt.ylabel(\"Относительная частота\")\n",
    "plt.show()"
   ]
  },
  {
   "cell_type": "code",
   "execution_count": 20,
   "metadata": {},
   "outputs": [
    {
     "data": {
      "image/png": "[encoded data removed]",
      "text/plain": [
       "<Figure size 800x550 with 1 Axes>"
      ]
     },
     "metadata": {},
     "output_type": "display_data"
    }
   ],
   "source": [
    "plt.bar(\n",
    "    bin_centers,\n",
    "    groups[\"cumulative frequency\"],\n",
    "    width=np.diff(bins),\n",
    "    edgecolor=\"black\",\n",
    ")\n",
    "plt.plot(bin_centers, groups[\"cumulative frequency\"], marker=\"o\", color=\"r\")\n",
    "plt.xlabel(\"Значения\")\n",
    "plt.ylabel(\"Накопленная частота частота\")\n",
    "plt.show()"
   ]
  },
  {
   "cell_type": "code",
   "execution_count": 21,
   "metadata": {},
   "outputs": [
    {
     "data": {
      "image/png": "[encoded data removed]",
      "text/plain": [
       "<Figure size 800x550 with 1 Axes>"
      ]
     },
     "metadata": {},
     "output_type": "display_data"
    }
   ],
   "source": [
    "plt.bar(\n",
    "    bin_centers,\n",
    "    groups[\"cumulative relative frequency\"],\n",
    "    width=np.diff(bins),\n",
    "    edgecolor=\"black\",\n",
    ")\n",
    "plt.plot(bin_centers, groups[\"cumulative relative frequency\"], marker=\"o\", color=\"r\")\n",
    "plt.xlabel(\"Значения\")\n",
    "plt.ylabel(\"Относительная накопленная частота частота\")\n",
    "plt.show()"
   ]
  },
  {
   "cell_type": "markdown",
   "metadata": {},
   "source": [
    "### Построить эмпирическую фукнцию распределения"
   ]
  },
  {
   "cell_type": "code",
   "execution_count": 30,
   "metadata": {},
   "outputs": [
    {
     "data": {
      "image/png": "[encoded data removed]",
      "text/plain": [
       "<Figure size 800x550 with 1 Axes>"
      ]
     },
     "metadata": {},
     "output_type": "display_data"
    }
   ],
   "source": [
    "y = np.arange(1, n + 1) / n\n",
    "\n",
    "plt.step(X[\"value\"].sort_values(), y, label=r\"$F_X^*(x)$\", linewidth=2, color=\"black\")\n",
    "plt.xlabel(\"Значения\")\n",
    "plt.ylabel(\"$F^*_X(x)$\")\n",
    "plt.legend()\n",
    "plt.show()"
   ]
  }
 ],
 "metadata": {
  "kernelspec": {
   "display_name": ".venv",
   "language": "python",
   "name": "python3"
  },
  "language_info": {
   "codemirror_mode": {
    "name": "ipython",
    "version": 3
   },
   "file_extension": ".py",
   "mimetype": "text/x-python",
   "name": "python",
   "nbconvert_exporter": "python",
   "pygments_lexer": "ipython3",
   "version": "3.13.0"
  }
 },
 "nbformat": 4,
 "nbformat_minor": 2
}
