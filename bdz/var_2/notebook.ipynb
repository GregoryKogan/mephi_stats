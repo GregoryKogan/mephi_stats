{
 "cells": [
  {
   "cell_type": "markdown",
   "metadata": {},
   "source": [
    "# Вариант №2."
   ]
  },
  {
   "cell_type": "code",
   "execution_count": 2,
   "metadata": {},
   "outputs": [],
   "source": [
    "variant = 2"
   ]
  },
  {
   "cell_type": "markdown",
   "metadata": {},
   "source": [
    "Если что, ячейки можно скрывать по разделам `Markdown`."
   ]
  },
  {
   "cell_type": "markdown",
   "metadata": {},
   "source": [
    "# Импорты и определения"
   ]
  },
  {
   "cell_type": "markdown",
   "metadata": {},
   "source": [
    "### Библиотеки и их настройка"
   ]
  },
  {
   "cell_type": "code",
   "execution_count": 3,
   "metadata": {},
   "outputs": [],
   "source": [
    "import numpy as np\n",
    "import pandas as pd\n",
    "from scipy import stats\n",
    "import matplotlib.pyplot as plt\n",
    "import math as m\n",
    "import string\n",
    "from IPython.display import display, Math, Markdown  # для вывода формул в консоль"
   ]
  },
  {
   "cell_type": "code",
   "execution_count": 4,
   "metadata": {},
   "outputs": [],
   "source": [
    "def mprint(*strings):  # функция вывода маркдаун в консоль\n",
    "    for s in strings:\n",
    "        display(Markdown(s))\n",
    "\n",
    "\n",
    "def dataframe_to_markdown(df):\n",
    "    markdown_table = \"| Index | \" + \" | \".join(df.columns) + \" |\\n\"\n",
    "    markdown_table += \"|---\" * (len(df.columns) + 1) + \"|\\n\"  # Учитываем индекс\n",
    "\n",
    "    for index, row in df.iterrows():\n",
    "        row_values = [str(round(val, 2)) for val in row]\n",
    "        markdown_table += f\"| {index} | \" + \" | \".join(row_values) + \" |\\n\"\n",
    "\n",
    "    return markdown_table\n",
    "\n",
    "\n",
    "# можно выводить latex в надписях matplotlib\n",
    "plt.rc(\"text\", usetex=True)\n",
    "plt.rc(\n",
    "    \"text.latex\",\n",
    "    preamble=r\"\"\"\n",
    "\\usepackage[english, russian]{babel}\n",
    "\\usepackage[utf8]{inputenc}\n",
    "\"\"\",\n",
    ")\n",
    "plt.style.use(\"seaborn-v0_8\")"
   ]
  },
  {
   "cell_type": "markdown",
   "metadata": {},
   "source": [
    "### Парсинг вариантов"
   ]
  },
  {
   "cell_type": "code",
   "execution_count": 5,
   "metadata": {},
   "outputs": [
    {
     "data": {
      "text/plain": [
       "'/Users/retrobanner/Projects/mephi_stats/bdz/var_2'"
      ]
     },
     "execution_count": 5,
     "metadata": {},
     "output_type": "execute_result"
    }
   ],
   "source": [
    "%pwd"
   ]
  },
  {
   "cell_type": "code",
   "execution_count": 6,
   "metadata": {},
   "outputs": [
    {
     "data": {
      "text/plain": [
       "1.1         B7 B8 B9\n",
       "1.2               B7\n",
       "2.1, 3.1          B7\n",
       "2.2, 3.2          B7\n",
       "2.3, 3.3     B11 B12\n",
       "Name: 2, dtype: object"
      ]
     },
     "execution_count": 6,
     "metadata": {},
     "output_type": "execute_result"
    }
   ],
   "source": [
    "# считываем столбики для варианта\n",
    "datas = pd.read_excel(\"../bdz_vars.xls\", index_col=0).loc[variant]\n",
    "\n",
    "datas.head()"
   ]
  },
  {
   "cell_type": "code",
   "execution_count": 7,
   "metadata": {},
   "outputs": [
    {
     "name": "stdout",
     "output_type": "stream",
     "text": [
      "{'1.1': ['B7', 'B8', 'B9'], '1.2': ['B7'], '2.1': ['B7'], '3.1': ['B7'], '2.2': ['B7'], '3.2': ['B7'], '2.3': ['B11', 'B12'], '3.3': ['B11', 'B12'], '2.4': ['B11', 'B12'], '3.4': ['B11', 'B12'], '4': ['B7'], '5': ['B11', 'B12'], '6': ['B3', 'B5'], '7': ['B6', 'B1'], '8.1': ['B11', 'B12'], '8.2': ['B7', 'B8', 'B9'], '9.1': ['B1', 'B2'], '9.2': ['B1', 'B2'], '9.3': ['B1', 'B4', 'B2']}\n"
     ]
    }
   ],
   "source": [
    "# создаём словарик: задание -> список столбцов\n",
    "variant_dict = dict()\n",
    "for tasks in datas.index:\n",
    "    for task in tasks.split(\", \"):\n",
    "        variant_dict[task] = datas[tasks].split(\" \")\n",
    "\n",
    "print(variant_dict)"
   ]
  },
  {
   "cell_type": "markdown",
   "metadata": {},
   "source": [
    "### Считываем информацию из excel"
   ]
  },
  {
   "cell_type": "code",
   "execution_count": 8,
   "metadata": {},
   "outputs": [
    {
     "data": {
      "text/plain": [
       "dict_keys(['description', 'A - aaup', 'B - bodyfat', 'C - plasma', 'D - homedat'])"
      ]
     },
     "execution_count": 8,
     "metadata": {},
     "output_type": "execute_result"
    }
   ],
   "source": [
    "dfs = pd.read_excel(\"../bdz_data.xls\", sheet_name=None)\n",
    "dfs.keys()"
   ]
  },
  {
   "cell_type": "code",
   "execution_count": 9,
   "metadata": {},
   "outputs": [
    {
     "name": "stdout",
     "output_type": "stream",
     "text": [
      "{'A': 'A - aaup', 'B': 'B - bodyfat', 'C': 'C - plasma', 'D': 'D - homedat'}\n"
     ]
    }
   ],
   "source": [
    "# создаём словарик: буква -> название листа в excel\n",
    "sheet_dict = dict()\n",
    "for value in list(dfs.keys())[1:]:\n",
    "    key = value[0]\n",
    "    sheet_dict[key] = value\n",
    "print(sheet_dict)"
   ]
  },
  {
   "cell_type": "code",
   "execution_count": 10,
   "metadata": {},
   "outputs": [],
   "source": [
    "# функция: задание -> необходимые данные\n",
    "def data(task):\n",
    "    X = []\n",
    "    for data in variant_dict[task]:\n",
    "        sheet = data[0]\n",
    "        column = data\n",
    "        df = dfs[sheet_dict[sheet]][column]\n",
    "        X.append(df)\n",
    "    return X"
   ]
  },
  {
   "cell_type": "markdown",
   "metadata": {},
   "source": [
    "### Дополнительные функции"
   ]
  },
  {
   "cell_type": "code",
   "execution_count": 11,
   "metadata": {},
   "outputs": [],
   "source": [
    "def verdict(alpha, p_value):\n",
    "    if alpha > p_value:\n",
    "        return \"$H_0$ отклоняется\"\n",
    "    else:\n",
    "        return \"$H_0$ принимается\""
   ]
  },
  {
   "cell_type": "markdown",
   "metadata": {},
   "source": [
    "# Раздел 1. Описательные статистики"
   ]
  },
  {
   "cell_type": "markdown",
   "metadata": {},
   "source": [
    "## 1.1 Выборочные характеристики"
   ]
  },
  {
   "cell_type": "markdown",
   "metadata": {},
   "source": [
    "### Условие"
   ]
  },
  {
   "cell_type": "markdown",
   "metadata": {},
   "source": [
    "Анализируемый признак 1 – `B7` (Weight (lbs))\n",
    "\n",
    "Анализируемый признак 2 – `B8` (Height (inches))\n",
    "\n",
    "Анализируемый признак 3 – `B9` (Neck circumference (cm))"
   ]
  },
  {
   "cell_type": "markdown",
   "metadata": {},
   "source": [
    "### Определения"
   ]
  },
  {
   "cell_type": "code",
   "execution_count": 12,
   "metadata": {},
   "outputs": [
    {
     "name": "stdout",
     "output_type": "stream",
     "text": [
      "0    154.25\n",
      "1    173.25\n",
      "2    154.00\n",
      "3    184.75\n",
      "4    184.25\n",
      "Name: B7, dtype: float64\n",
      "0    67.75\n",
      "1    72.25\n",
      "2    66.25\n",
      "3    72.25\n",
      "4    71.25\n",
      "Name: B8, dtype: float64\n",
      "0    36.2\n",
      "1    38.5\n",
      "2    34.0\n",
      "3    37.4\n",
      "4    34.4\n",
      "Name: B9, dtype: float64\n"
     ]
    }
   ],
   "source": [
    "columns = data(\"1.1\")\n",
    "for i in columns:\n",
    "    print(i.head())"
   ]
  },
  {
   "cell_type": "markdown",
   "metadata": {},
   "source": [
    "### Формулы"
   ]
  },
  {
   "cell_type": "markdown",
   "metadata": {},
   "source": [
    "| Выборочная характеристика                | Формула расчёта                                                                                                                                                                                                                                 |\n",
    "| ---------------------------------------- | ----------------------------------------------------------------------------------------------------------------------------------------------------------------------------------------------------------------------------------------------- |\n",
    "| Объём выборки                            | $n$                                                                                                                                                                                                                                             |\n",
    "| Среднее                                  | $\\overline x = \\dfrac{1}{n} \\sum\\limits_{i = 1}^{n} x_i$                                                                                                                                                                                        |\n",
    "| Выборочная дисперсия                     | $D_X^* = \\dfrac{1}{n} \\sum\\limits_{i = 1}^{n} \\left(x_i - \\overline x\\right)^2$                                                                                                                                                                 |\n",
    "| Выборочное среднеквадратичное отклонение | $\\sigma_X^* = \\sqrt{D_X^*} =\\sqrt{\\dfrac{1}{n} \\sum\\limits_{i = 1}^{n} \\left(x_i - \\overline x\\right)^2}$                                                                                                                                       |\n",
    "| Выборочный коэффициент асимметрии        | $\\gamma_X^* = \\dfrac{\\mu_{3,X}^*}{\\left(\\sigma_X^*\\right)^3} = \\dfrac{\\dfrac{1}{n} \\sum\\limits_{i = 1}^{n} \\left(x_i - \\overline x\\right)^3}{\\left(\\dfrac{1}{n} \\sum\\limits_{i = 1}^{n} \\left(x_i - \\overline x\\right)^2\\right)^{\\frac{3}{2}}}$ |\n",
    "| Выборочный эксцесс                       |      $\\varepsilon_X^* = \\dfrac{\\mu_{4,X}^*}{\\left(\\sigma_X^*\\right)^4} - 3 = \\dfrac{\\dfrac{1}{n} \\sum\\limits_{i = 1}^{n} \\left(x_i - \\overline x\\right)^4}{\\left(\\dfrac{1}{n} \\sum\\limits_{i = 1}^{n} \\left(x_i - \\overline x\\right)^2\\right)^2} - 3$                                                                                                                                                                                                                                           |\n"
   ]
  },
  {
   "cell_type": "markdown",
   "metadata": {},
   "source": [
    "### Рассчёты"
   ]
  },
  {
   "cell_type": "markdown",
   "metadata": {},
   "source": [
    "`pd.skew()` возвращает несмещенный выборочный коэффициент асимметрии, поэтому лучше использовать `stats.skew(bias=True)`, чтобы его получить.\n",
    "\n",
    "То же самое касается функции `kurtosis()`."
   ]
  },
  {
   "cell_type": "code",
   "execution_count": 13,
   "metadata": {},
   "outputs": [
    {
     "data": {
      "text/markdown": [
       "$\\mathbf{X_1}:$         $\\overline x_1 =$ 178.92;         $D^*_{X_1} =$ 860.30;         $\\sigma^*_{X_1} =$ 29.33;         $\\gamma^*_{X_1} =$ 1.20;         $\\varepsilon^*_{X_1} =$ 5.14         "
      ],
      "text/plain": [
       "<IPython.core.display.Markdown object>"
      ]
     },
     "metadata": {},
     "output_type": "display_data"
    },
    {
     "data": {
      "text/markdown": [
       "$\\mathbf{X_2}:$         $\\overline x_2 =$ 70.15;         $D^*_{X_2} =$ 13.36;         $\\sigma^*_{X_2} =$ 3.66;         $\\gamma^*_{X_2} =$ -5.35;         $\\varepsilon^*_{X_2} =$ 58.35         "
      ],
      "text/plain": [
       "<IPython.core.display.Markdown object>"
      ]
     },
     "metadata": {},
     "output_type": "display_data"
    },
    {
     "data": {
      "text/markdown": [
       "$\\mathbf{X_3}:$         $\\overline x_3 =$ 37.99;         $D^*_{X_3} =$ 5.89;         $\\sigma^*_{X_3} =$ 2.43;         $\\gamma^*_{X_3} =$ 0.55;         $\\varepsilon^*_{X_3} =$ 2.64         "
      ],
      "text/plain": [
       "<IPython.core.display.Markdown object>"
      ]
     },
     "metadata": {},
     "output_type": "display_data"
    }
   ],
   "source": [
    "for i, X in enumerate(columns, start=1):\n",
    "    mean_ = X.mean()\n",
    "    D = X.var(ddof=0)\n",
    "    d = X.std(ddof=0)\n",
    "    g = stats.skew(X, bias=True)\n",
    "    e = stats.kurtosis(X, bias=True)\n",
    "    output = f\"$\\\\mathbf{{X_{i}}}:$ \\\n",
    "        $\\\\overline x_{i} =$ {mean_:.2f}; \\\n",
    "        $D^*_{{X_{i}}} =$ {D:.2f}; \\\n",
    "        $\\\\sigma^*_{{X_{i}}} =$ {d:.2f}; \\\n",
    "        $\\\\gamma^*_{{X_{i}}} =$ {g:.2f}; \\\n",
    "        $\\\\varepsilon^*_{{X_{i}}} =$ {e:.2f} \\\n",
    "        \"\n",
    "    mprint(output)"
   ]
  },
  {
   "cell_type": "markdown",
   "metadata": {},
   "source": [
    "| Выборочная характеристика                | Признак 1 | Признак 2 | Признак 3 |\n",
    "| ---------------------------------------- | --------- | --------- | --------- |\n",
    "| Среднее                                  | 178.92    | 70.15     | 37.99     |\n",
    "| Выборочная дисперсия                     | 860.30    | 13.36     | 5.89      |\n",
    "| Выборочное среднеквадратичное отклонение | 29.33     | 3.66      | 2.43      |\n",
    "| Выборочный коэффициент асимметрии        | 1.20      | -5.35     | 0.55      |\n",
    "| Выборочный эксцесс                       | 5.14      | 58.35     | 2.64      |\n"
   ]
  },
  {
   "cell_type": "markdown",
   "metadata": {},
   "source": [
    "## 1.2 Группировка и гистограммы частот"
   ]
  },
  {
   "cell_type": "markdown",
   "metadata": {},
   "source": [
    "### Условие"
   ]
  },
  {
   "cell_type": "markdown",
   "metadata": {},
   "source": [
    "Анализируемый признак – `B7` (Weight (lbs))\n",
    "\n",
    "Объём выборки – `252`"
   ]
  },
  {
   "cell_type": "markdown",
   "metadata": {},
   "source": [
    "### Определения"
   ]
  },
  {
   "cell_type": "code",
   "execution_count": 14,
   "metadata": {},
   "outputs": [
    {
     "name": "stdout",
     "output_type": "stream",
     "text": [
      "1\n"
     ]
    },
    {
     "data": {
      "text/html": [
       "<div>\n",
       "<style scoped>\n",
       "    .dataframe tbody tr th:only-of-type {\n",
       "        vertical-align: middle;\n",
       "    }\n",
       "\n",
       "    .dataframe tbody tr th {\n",
       "        vertical-align: top;\n",
       "    }\n",
       "\n",
       "    .dataframe thead th {\n",
       "        text-align: right;\n",
       "    }\n",
       "</style>\n",
       "<table border=\"1\" class=\"dataframe\">\n",
       "  <thead>\n",
       "    <tr style=\"text-align: right;\">\n",
       "      <th></th>\n",
       "      <th>value</th>\n",
       "    </tr>\n",
       "  </thead>\n",
       "  <tbody>\n",
       "    <tr>\n",
       "      <th>0</th>\n",
       "      <td>154.25</td>\n",
       "    </tr>\n",
       "    <tr>\n",
       "      <th>1</th>\n",
       "      <td>173.25</td>\n",
       "    </tr>\n",
       "    <tr>\n",
       "      <th>2</th>\n",
       "      <td>154.00</td>\n",
       "    </tr>\n",
       "    <tr>\n",
       "      <th>3</th>\n",
       "      <td>184.75</td>\n",
       "    </tr>\n",
       "    <tr>\n",
       "      <th>4</th>\n",
       "      <td>184.25</td>\n",
       "    </tr>\n",
       "  </tbody>\n",
       "</table>\n",
       "</div>"
      ],
      "text/plain": [
       "    value\n",
       "0  154.25\n",
       "1  173.25\n",
       "2  154.00\n",
       "3  184.75\n",
       "4  184.25"
      ]
     },
     "execution_count": 14,
     "metadata": {},
     "output_type": "execute_result"
    }
   ],
   "source": [
    "columns = data(\"1.2\")\n",
    "print(len(columns))\n",
    "X = columns[0].to_frame()\n",
    "X.columns = [\"value\"]\n",
    "X.head()"
   ]
  },
  {
   "cell_type": "markdown",
   "metadata": {},
   "source": [
    "### Выбрать число групп"
   ]
  },
  {
   "cell_type": "code",
   "execution_count": 15,
   "metadata": {},
   "outputs": [
    {
     "data": {
      "text/markdown": [
       "$\\mathbf{X}: \\max = 363.15, \\min = 118.5, n = 252, k = 8$"
      ],
      "text/plain": [
       "<IPython.core.display.Markdown object>"
      ]
     },
     "metadata": {},
     "output_type": "display_data"
    }
   ],
   "source": [
    "n = len(X[\"value\"])\n",
    "maximum = max(X[\"value\"])\n",
    "minimum = min(X[\"value\"])\n",
    "k = round(1 + 1.3 * m.log(n))\n",
    "mprint(f\"$\\\\mathbf{{X}}: \\\\max = {maximum}, \\\\min = {minimum}, n = {n}, k = {k}$\")"
   ]
  },
  {
   "cell_type": "code",
   "execution_count": 16,
   "metadata": {},
   "outputs": [
    {
     "data": {
      "text/html": [
       "<div>\n",
       "<style scoped>\n",
       "    .dataframe tbody tr th:only-of-type {\n",
       "        vertical-align: middle;\n",
       "    }\n",
       "\n",
       "    .dataframe tbody tr th {\n",
       "        vertical-align: top;\n",
       "    }\n",
       "\n",
       "    .dataframe thead th {\n",
       "        text-align: right;\n",
       "    }\n",
       "</style>\n",
       "<table border=\"1\" class=\"dataframe\">\n",
       "  <thead>\n",
       "    <tr style=\"text-align: right;\">\n",
       "      <th></th>\n",
       "      <th>value</th>\n",
       "      <th>group</th>\n",
       "    </tr>\n",
       "  </thead>\n",
       "  <tbody>\n",
       "    <tr>\n",
       "      <th>0</th>\n",
       "      <td>154.25</td>\n",
       "      <td>(149.081, 179.662]</td>\n",
       "    </tr>\n",
       "    <tr>\n",
       "      <th>1</th>\n",
       "      <td>173.25</td>\n",
       "      <td>(149.081, 179.662]</td>\n",
       "    </tr>\n",
       "    <tr>\n",
       "      <th>2</th>\n",
       "      <td>154.00</td>\n",
       "      <td>(149.081, 179.662]</td>\n",
       "    </tr>\n",
       "    <tr>\n",
       "      <th>3</th>\n",
       "      <td>184.75</td>\n",
       "      <td>(179.662, 210.244]</td>\n",
       "    </tr>\n",
       "    <tr>\n",
       "      <th>4</th>\n",
       "      <td>184.25</td>\n",
       "      <td>(179.662, 210.244]</td>\n",
       "    </tr>\n",
       "  </tbody>\n",
       "</table>\n",
       "</div>"
      ],
      "text/plain": [
       "    value               group\n",
       "0  154.25  (149.081, 179.662]\n",
       "1  173.25  (149.081, 179.662]\n",
       "2  154.00  (149.081, 179.662]\n",
       "3  184.75  (179.662, 210.244]\n",
       "4  184.25  (179.662, 210.244]"
      ]
     },
     "execution_count": 16,
     "metadata": {},
     "output_type": "execute_result"
    }
   ],
   "source": [
    "X[\"group\"] = pd.cut(X[\"value\"], bins=k)\n",
    "X.head()"
   ]
  },
  {
   "cell_type": "code",
   "execution_count": 17,
   "metadata": {},
   "outputs": [
    {
     "data": {
      "text/markdown": [
       "$\\overline{\\mid\\Delta_k\\mid} =$ 30.611874999999998"
      ],
      "text/plain": [
       "<IPython.core.display.Markdown object>"
      ]
     },
     "metadata": {},
     "output_type": "display_data"
    }
   ],
   "source": [
    "group_len = np.mean(\n",
    "    [interval.right - interval.left for interval in X[\"group\"].cat.categories]\n",
    ")\n",
    "mprint(f\"$\\\\overline{{\\\\mid\\\\Delta_k\\\\mid}} =$ {group_len}\")"
   ]
  },
  {
   "cell_type": "markdown",
   "metadata": {},
   "source": [
    "| Число групп | Обоснование выбора числа групп               | Ширина интервалов |\n",
    "| ----------- | -------------------------------------------- | ----------------- |\n",
    "| 8           | Формула Стерджесса: $k \\approx 1 + 1,3 \\ln{n}$ |     30.61             |\n"
   ]
  },
  {
   "cell_type": "markdown",
   "metadata": {},
   "source": [
    "### Построить таблицу частот"
   ]
  },
  {
   "cell_type": "code",
   "execution_count": 18,
   "metadata": {},
   "outputs": [
    {
     "data": {
      "text/html": [
       "<div>\n",
       "<style scoped>\n",
       "    .dataframe tbody tr th:only-of-type {\n",
       "        vertical-align: middle;\n",
       "    }\n",
       "\n",
       "    .dataframe tbody tr th {\n",
       "        vertical-align: top;\n",
       "    }\n",
       "\n",
       "    .dataframe thead th {\n",
       "        text-align: right;\n",
       "    }\n",
       "</style>\n",
       "<table border=\"1\" class=\"dataframe\">\n",
       "  <thead>\n",
       "    <tr style=\"text-align: right;\">\n",
       "      <th></th>\n",
       "      <th>low edge</th>\n",
       "      <th>high edge</th>\n",
       "      <th>frequency</th>\n",
       "      <th>relative frequency</th>\n",
       "      <th>cumulative frequency</th>\n",
       "      <th>cumulative relative frequency</th>\n",
       "    </tr>\n",
       "  </thead>\n",
       "  <tbody>\n",
       "    <tr>\n",
       "      <th>1</th>\n",
       "      <td>118.255</td>\n",
       "      <td>149.081</td>\n",
       "      <td>31</td>\n",
       "      <td>0.123016</td>\n",
       "      <td>31</td>\n",
       "      <td>0.123016</td>\n",
       "    </tr>\n",
       "    <tr>\n",
       "      <th>2</th>\n",
       "      <td>149.081</td>\n",
       "      <td>179.662</td>\n",
       "      <td>110</td>\n",
       "      <td>0.436508</td>\n",
       "      <td>141</td>\n",
       "      <td>0.559524</td>\n",
       "    </tr>\n",
       "    <tr>\n",
       "      <th>3</th>\n",
       "      <td>179.662</td>\n",
       "      <td>210.244</td>\n",
       "      <td>76</td>\n",
       "      <td>0.301587</td>\n",
       "      <td>217</td>\n",
       "      <td>0.861111</td>\n",
       "    </tr>\n",
       "    <tr>\n",
       "      <th>4</th>\n",
       "      <td>210.244</td>\n",
       "      <td>240.825</td>\n",
       "      <td>29</td>\n",
       "      <td>0.115079</td>\n",
       "      <td>246</td>\n",
       "      <td>0.976190</td>\n",
       "    </tr>\n",
       "    <tr>\n",
       "      <th>5</th>\n",
       "      <td>240.825</td>\n",
       "      <td>271.406</td>\n",
       "      <td>5</td>\n",
       "      <td>0.019841</td>\n",
       "      <td>251</td>\n",
       "      <td>0.996032</td>\n",
       "    </tr>\n",
       "    <tr>\n",
       "      <th>6</th>\n",
       "      <td>271.406</td>\n",
       "      <td>301.987</td>\n",
       "      <td>0</td>\n",
       "      <td>0.000000</td>\n",
       "      <td>251</td>\n",
       "      <td>0.996032</td>\n",
       "    </tr>\n",
       "    <tr>\n",
       "      <th>7</th>\n",
       "      <td>301.987</td>\n",
       "      <td>332.569</td>\n",
       "      <td>0</td>\n",
       "      <td>0.000000</td>\n",
       "      <td>251</td>\n",
       "      <td>0.996032</td>\n",
       "    </tr>\n",
       "    <tr>\n",
       "      <th>8</th>\n",
       "      <td>332.569</td>\n",
       "      <td>363.150</td>\n",
       "      <td>1</td>\n",
       "      <td>0.003968</td>\n",
       "      <td>252</td>\n",
       "      <td>1.000000</td>\n",
       "    </tr>\n",
       "  </tbody>\n",
       "</table>\n",
       "</div>"
      ],
      "text/plain": [
       "   low edge  high edge  frequency  relative frequency  cumulative frequency  \\\n",
       "1   118.255    149.081         31            0.123016                    31   \n",
       "2   149.081    179.662        110            0.436508                   141   \n",
       "3   179.662    210.244         76            0.301587                   217   \n",
       "4   210.244    240.825         29            0.115079                   246   \n",
       "5   240.825    271.406          5            0.019841                   251   \n",
       "6   271.406    301.987          0            0.000000                   251   \n",
       "7   301.987    332.569          0            0.000000                   251   \n",
       "8   332.569    363.150          1            0.003968                   252   \n",
       "\n",
       "   cumulative relative frequency  \n",
       "1                       0.123016  \n",
       "2                       0.559524  \n",
       "3                       0.861111  \n",
       "4                       0.976190  \n",
       "5                       0.996032  \n",
       "6                       0.996032  \n",
       "7                       0.996032  \n",
       "8                       1.000000  "
      ]
     },
     "execution_count": 18,
     "metadata": {},
     "output_type": "execute_result"
    }
   ],
   "source": [
    "groups = pd.DataFrame(index=range(1, k + 1))\n",
    "groups[\"low edge\"] = [interval.left for interval in X[\"group\"].cat.categories]\n",
    "groups[\"high edge\"] = [interval.right for interval in X[\"group\"].cat.categories]\n",
    "groups[\"frequency\"] = X[\"group\"].value_counts().sort_index().values\n",
    "groups[\"relative frequency\"] = groups[\"frequency\"] / n\n",
    "groups[\"cumulative frequency\"] = groups[\"frequency\"].cumsum()\n",
    "groups[\"cumulative relative frequency\"] = groups[\"cumulative frequency\"] / n\n",
    "groups"
   ]
  },
  {
   "cell_type": "code",
   "execution_count": 19,
   "metadata": {},
   "outputs": [
    {
     "name": "stdout",
     "output_type": "stream",
     "text": [
      "| Index | low edge | high edge | frequency | relative frequency | cumulative frequency | cumulative relative frequency |\n",
      "|---|---|---|---|---|---|---|\n",
      "| 1 | 118.25 | 149.08 | 31.0 | 0.12 | 31.0 | 0.12 |\n",
      "| 2 | 149.08 | 179.66 | 110.0 | 0.44 | 141.0 | 0.56 |\n",
      "| 3 | 179.66 | 210.24 | 76.0 | 0.3 | 217.0 | 0.86 |\n",
      "| 4 | 210.24 | 240.82 | 29.0 | 0.12 | 246.0 | 0.98 |\n",
      "| 5 | 240.82 | 271.41 | 5.0 | 0.02 | 251.0 | 1.0 |\n",
      "| 6 | 271.41 | 301.99 | 0.0 | 0.0 | 251.0 | 1.0 |\n",
      "| 7 | 301.99 | 332.57 | 0.0 | 0.0 | 251.0 | 1.0 |\n",
      "| 8 | 332.57 | 363.15 | 1.0 | 0.0 | 252.0 | 1.0 |\n",
      "\n"
     ]
    }
   ],
   "source": [
    "# Чтобы быстрее заполнить табличку\n",
    "print(dataframe_to_markdown(groups))"
   ]
  },
  {
   "cell_type": "markdown",
   "metadata": {},
   "source": [
    "| Номер интервала | Нижняя граница | Верхняя граница | Частота | Относительная частота | Накопленная частота | Относительная накопленная частота |\n",
    "| --------------- | -------------- | --------------- | ------- | --------------------- | ------------------- | --------------------------------- |\n",
    "| 1               | 118.25         | 149.08          | 31      | 0.12                  | 31                  | 0.12                              |\n",
    "| 2               | 149.08         | 179.66          | 110     | 0.44                  | 141                 | 0.56                              |\n",
    "| 3               | 179.66         | 210.24          | 76      | 0.3                   | 217                 | 0.86                              |\n",
    "| 4               | 210.24         | 240.82          | 29      | 0.12                  | 246                 | 0.98                              |\n",
    "| 5               | 240.82         | 271.41          | 5       | 0.02                  | 251                 | 1.00                              |\n",
    "| 6               | 271.41         | 301.99          | 0       | 0.0                   | 251                 | 1.00                              |\n",
    "| 7               | 301.99         | 332.57          | 0       | 0.0                   | 251                 | 1.00                              |\n",
    "| 8               | 332.57         | 363.15          | 1       | 0.0                   | 252                 | 1.00                              |"
   ]
  },
  {
   "cell_type": "markdown",
   "metadata": {},
   "source": [
    "### Построить гистограммы частот и полигоны частот"
   ]
  },
  {
   "cell_type": "code",
   "execution_count": 20,
   "metadata": {},
   "outputs": [
    {
     "data": {
      "image/png": "[encoded data removed]",
      "text/plain": [
       "<Figure size 800x550 with 1 Axes>"
      ]
     },
     "metadata": {},
     "output_type": "display_data"
    }
   ],
   "source": [
    "frequences, bins, _ = plt.hist(X[\"value\"], bins=k, edgecolor=\"black\")\n",
    "\n",
    "bin_centers = (bins[:-1] + bins[1:]) / 2\n",
    "plt.plot(bin_centers, frequences, marker=\"o\", color=\"r\")\n",
    "\n",
    "plt.xlabel(\"Значения\")\n",
    "plt.ylabel(\"Частота\")\n",
    "plt.show()"
   ]
  },
  {
   "cell_type": "code",
   "execution_count": 21,
   "metadata": {},
   "outputs": [
    {
     "data": {
      "image/png": "[encoded data removed]",
      "text/plain": [
       "<Figure size 800x550 with 1 Axes>"
      ]
     },
     "metadata": {},
     "output_type": "display_data"
    }
   ],
   "source": [
    "plt.bar(\n",
    "    bin_centers,\n",
    "    groups[\"relative frequency\"],\n",
    "    width=np.diff(bins),\n",
    "    edgecolor=\"black\",\n",
    ")\n",
    "plt.plot(bin_centers, groups[\"relative frequency\"], marker=\"o\", color=\"r\")\n",
    "plt.xlabel(\"Значения\")\n",
    "plt.ylabel(\"Относительная частота\")\n",
    "plt.show()"
   ]
  },
  {
   "cell_type": "code",
   "execution_count": 22,
   "metadata": {},
   "outputs": [
    {
     "data": {
      "image/png": "[encoded data removed]",
      "text/plain": [
       "<Figure size 800x550 with 1 Axes>"
      ]
     },
     "metadata": {},
     "output_type": "display_data"
    }
   ],
   "source": [
    "plt.bar(\n",
    "    bin_centers,\n",
    "    groups[\"cumulative frequency\"],\n",
    "    width=np.diff(bins),\n",
    "    edgecolor=\"black\",\n",
    ")\n",
    "plt.plot(bin_centers, groups[\"cumulative frequency\"], marker=\"o\", color=\"r\")\n",
    "plt.xlabel(\"Значения\")\n",
    "plt.ylabel(\"Накопленная частота частота\")\n",
    "plt.show()"
   ]
  },
  {
   "cell_type": "code",
   "execution_count": 23,
   "metadata": {},
   "outputs": [
    {
     "data": {
      "image/png": "[encoded data removed]",
      "text/plain": [
       "<Figure size 800x550 with 1 Axes>"
      ]
     },
     "metadata": {},
     "output_type": "display_data"
    }
   ],
   "source": [
    "plt.bar(\n",
    "    bin_centers,\n",
    "    groups[\"cumulative relative frequency\"],\n",
    "    width=np.diff(bins),\n",
    "    edgecolor=\"black\",\n",
    ")\n",
    "plt.plot(bin_centers, groups[\"cumulative relative frequency\"], marker=\"o\", color=\"r\")\n",
    "plt.xlabel(\"Значения\")\n",
    "plt.ylabel(\"Относительная накопленная частота частота\")\n",
    "plt.show()"
   ]
  },
  {
   "cell_type": "markdown",
   "metadata": {},
   "source": [
    "### Построить эмпирическую фукнцию распределения"
   ]
  },
  {
   "cell_type": "code",
   "execution_count": 24,
   "metadata": {},
   "outputs": [
    {
     "data": {
      "image/png": "[encoded data removed]",
      "text/plain": [
       "<Figure size 800x550 with 1 Axes>"
      ]
     },
     "metadata": {},
     "output_type": "display_data"
    }
   ],
   "source": [
    "y = np.arange(1, n + 1) / n\n",
    "\n",
    "plt.step(X[\"value\"].sort_values(), y, label=r\"$F_X^*(x)$\", linewidth=2, color=\"black\")\n",
    "plt.xlabel(\"Значения\")\n",
    "plt.ylabel(\"$F^*_X(x)$\")\n",
    "plt.legend()\n",
    "plt.show()"
   ]
  },
  {
   "cell_type": "markdown",
   "metadata": {},
   "source": [
    "# Раздел 2. Интервальные оценки"
   ]
  },
  {
   "cell_type": "markdown",
   "metadata": {},
   "source": [
    "## 2.1 Доверительные интервалы для математического ожидания"
   ]
  },
  {
   "cell_type": "markdown",
   "metadata": {},
   "source": [
    "### Условие"
   ]
  },
  {
   "cell_type": "markdown",
   "metadata": {},
   "source": [
    "Анализируемый признак – `B7` (Weight (lbs))\n",
    "\n",
    "Объём выборки – `252`\n",
    "\n",
    "Оцениваемый параметр – `m`"
   ]
  },
  {
   "cell_type": "markdown",
   "metadata": {},
   "source": [
    "### Определения"
   ]
  },
  {
   "cell_type": "code",
   "execution_count": 25,
   "metadata": {},
   "outputs": [
    {
     "data": {
      "text/plain": [
       "0    154.25\n",
       "1    173.25\n",
       "2    154.00\n",
       "3    184.75\n",
       "4    184.25\n",
       "Name: B7, dtype: float64"
      ]
     },
     "execution_count": 25,
     "metadata": {},
     "output_type": "execute_result"
    }
   ],
   "source": [
    "X = data(\"2.1\")[0]\n",
    "X.head()"
   ]
  },
  {
   "cell_type": "code",
   "execution_count": 26,
   "metadata": {},
   "outputs": [
    {
     "data": {
      "text/plain": [
       "252"
      ]
     },
     "execution_count": 26,
     "metadata": {},
     "output_type": "execute_result"
    }
   ],
   "source": [
    "n = len(X)\n",
    "n"
   ]
  },
  {
   "cell_type": "markdown",
   "metadata": {},
   "source": [
    "### Привести формулы расчёта доверительных интервалов"
   ]
  },
  {
   "cell_type": "markdown",
   "metadata": {},
   "source": [
    "Так как у нас есть только выборка, мы не можем знать параметров генеральной совокупности(в том числе $m$ и $\\sigma$), поэтому будем рассчитывать доверительные интервалы, используя данный факт. \n",
    "\n",
    "В данном случае `стьюдентизованное среднее` выступает в качестве центральной статистики:\n",
    "\n",
    "| Граница доверительного интервала | Формула расчёта                                                                               |\n",
    "| -------------------------------- | --------------------------------------------------------------------------------------------- |\n",
    "| Нижняя граница                   | $\\overline {\\mathbf{X}} - \\dfrac{S}{\\sqrt{n}} \\cdot t_{1-\\frac{\\alpha}{2}, \\left(n-1\\right)}$ |\n",
    "| Верхняя граница                  | $\\overline {\\mathbf{X}} + \\dfrac{S}{\\sqrt{n}} \\cdot t_{1-\\frac{\\alpha}{2}, \\left(n-1\\right)}$ |\n"
   ]
  },
  {
   "cell_type": "markdown",
   "metadata": {},
   "source": [
    "### Рассчитать доверительные интервалы"
   ]
  },
  {
   "cell_type": "code",
   "execution_count": 27,
   "metadata": {},
   "outputs": [
    {
     "data": {
      "text/html": [
       "<div>\n",
       "<style scoped>\n",
       "    .dataframe tbody tr th:only-of-type {\n",
       "        vertical-align: middle;\n",
       "    }\n",
       "\n",
       "    .dataframe tbody tr th {\n",
       "        vertical-align: top;\n",
       "    }\n",
       "\n",
       "    .dataframe thead th {\n",
       "        text-align: right;\n",
       "    }\n",
       "</style>\n",
       "<table border=\"1\" class=\"dataframe\">\n",
       "  <thead>\n",
       "    <tr style=\"text-align: right;\">\n",
       "      <th></th>\n",
       "      <th>$\\alpha =$ 0.01</th>\n",
       "      <th>$\\alpha =$ 0.05</th>\n",
       "      <th>$\\alpha =$ 0.1</th>\n",
       "    </tr>\n",
       "  </thead>\n",
       "  <tbody>\n",
       "    <tr>\n",
       "      <th>Нижняя граница</th>\n",
       "      <td>174.119136</td>\n",
       "      <td>175.278258</td>\n",
       "      <td>175.867935</td>\n",
       "    </tr>\n",
       "    <tr>\n",
       "      <th>Верхняя граница</th>\n",
       "      <td>183.729673</td>\n",
       "      <td>182.570551</td>\n",
       "      <td>181.980874</td>\n",
       "    </tr>\n",
       "  </tbody>\n",
       "</table>\n",
       "</div>"
      ],
      "text/plain": [
       "                 $\\alpha =$ 0.01  $\\alpha =$ 0.05  $\\alpha =$ 0.1\n",
       "Нижняя граница        174.119136       175.278258      175.867935\n",
       "Верхняя граница       183.729673       182.570551      181.980874"
      ]
     },
     "execution_count": 27,
     "metadata": {},
     "output_type": "execute_result"
    }
   ],
   "source": [
    "intervals = pd.DataFrame(index=[\"Нижняя граница\", \"Верхняя граница\"])\n",
    "alphas = [0.01, 0.05, 0.1]\n",
    "std_err = stats.sem(X)\n",
    "for alpha in alphas:\n",
    "    intervals[f\"$\\\\alpha =$ {alpha}\"] = stats.t.interval(\n",
    "        1 - alpha, df=n - 1, loc=X.mean(), scale=std_err\n",
    "    )\n",
    "intervals"
   ]
  },
  {
   "cell_type": "code",
   "execution_count": 28,
   "metadata": {},
   "outputs": [
    {
     "name": "stdout",
     "output_type": "stream",
     "text": [
      "| Index | $\\alpha =$ 0.01 | $\\alpha =$ 0.05 | $\\alpha =$ 0.1 |\n",
      "|---|---|---|---|\n",
      "| Нижняя граница | 174.12 | 175.28 | 175.87 |\n",
      "| Верхняя граница | 183.73 | 182.57 | 181.98 |\n",
      "\n"
     ]
    }
   ],
   "source": [
    "print(dataframe_to_markdown(intervals))"
   ]
  },
  {
   "cell_type": "markdown",
   "metadata": {},
   "source": [
    "| Index | $\\alpha =$ 0.01 | $\\alpha =$ 0.05 | $\\alpha =$ 0.1 |\n",
    "|---|---|---|---|\n",
    "| Нижняя граница | 174.12 | 175.28 | 175.87 |\n",
    "| Верхняя граница | 183.73 | 182.57 | 181.98 |"
   ]
  },
  {
   "cell_type": "markdown",
   "metadata": {},
   "source": [
    "## 2.2 Доверительные интервалы для дисперсии"
   ]
  },
  {
   "cell_type": "markdown",
   "metadata": {},
   "source": [
    "### Условие"
   ]
  },
  {
   "cell_type": "markdown",
   "metadata": {},
   "source": [
    "Анализируемый признак  – `B7` (Weight (lbs))\n",
    "\n",
    "Объём выборки – `252`\n",
    "\n",
    "Оцениваемый параметр – $\\sigma^2$"
   ]
  },
  {
   "cell_type": "markdown",
   "metadata": {},
   "source": [
    "### Определения"
   ]
  },
  {
   "cell_type": "code",
   "execution_count": 29,
   "metadata": {},
   "outputs": [
    {
     "data": {
      "text/plain": [
       "0    154.25\n",
       "1    173.25\n",
       "2    154.00\n",
       "3    184.75\n",
       "4    184.25\n",
       "Name: B7, dtype: float64"
      ]
     },
     "execution_count": 29,
     "metadata": {},
     "output_type": "execute_result"
    }
   ],
   "source": [
    "X = data(\"2.2\")[0]\n",
    "X.head()"
   ]
  },
  {
   "cell_type": "code",
   "execution_count": 30,
   "metadata": {},
   "outputs": [
    {
     "name": "stdout",
     "output_type": "stream",
     "text": [
      "252\n"
     ]
    }
   ],
   "source": [
    "print(n := len(X))"
   ]
  },
  {
   "cell_type": "markdown",
   "metadata": {},
   "source": [
    "### Привести формулы расчёта доверительных интервалов"
   ]
  },
  {
   "cell_type": "markdown",
   "metadata": {},
   "source": [
    "| Граница доверительного интервала | Формула расчёта                                                                               |\n",
    "| -------------------------------- | --------------------------------------------------------------------------------------------- |\n",
    "| Нижняя граница                   | $\\dfrac{\\left(n-1\\right) \\cdot S^2}{\\chi^2_{1-\\frac{\\alpha}{2}, \\left(n-1\\right)}}$ |\n",
    "| Верхняя граница                  | $\\dfrac{\\left(n-1\\right) \\cdot S^2}{\\chi^2_{\\frac{\\alpha}{2}, \\left(n-1\\right)}}$ |\n"
   ]
  },
  {
   "cell_type": "markdown",
   "metadata": {},
   "source": [
    "### Рассчитать доверительные интервалы"
   ]
  },
  {
   "cell_type": "code",
   "execution_count": 31,
   "metadata": {},
   "outputs": [
    {
     "data": {
      "text/html": [
       "<div>\n",
       "<style scoped>\n",
       "    .dataframe tbody tr th:only-of-type {\n",
       "        vertical-align: middle;\n",
       "    }\n",
       "\n",
       "    .dataframe tbody tr th {\n",
       "        vertical-align: top;\n",
       "    }\n",
       "\n",
       "    .dataframe thead th {\n",
       "        text-align: right;\n",
       "    }\n",
       "</style>\n",
       "<table border=\"1\" class=\"dataframe\">\n",
       "  <thead>\n",
       "    <tr style=\"text-align: right;\">\n",
       "      <th></th>\n",
       "      <th>$\\alpha =$ 0.01</th>\n",
       "      <th>$\\alpha =$ 0.05</th>\n",
       "      <th>$\\alpha =$ 0.1</th>\n",
       "    </tr>\n",
       "  </thead>\n",
       "  <tbody>\n",
       "    <tr>\n",
       "      <th>Нижняя граница</th>\n",
       "      <td>693.828100</td>\n",
       "      <td>730.497795</td>\n",
       "      <td>750.270312</td>\n",
       "    </tr>\n",
       "    <tr>\n",
       "      <th>Верхняя граница</th>\n",
       "      <td>1100.224941</td>\n",
       "      <td>1037.243286</td>\n",
       "      <td>1006.856772</td>\n",
       "    </tr>\n",
       "  </tbody>\n",
       "</table>\n",
       "</div>"
      ],
      "text/plain": [
       "                 $\\alpha =$ 0.01  $\\alpha =$ 0.05  $\\alpha =$ 0.1\n",
       "Нижняя граница        693.828100       730.497795      750.270312\n",
       "Верхняя граница      1100.224941      1037.243286     1006.856772"
      ]
     },
     "execution_count": 31,
     "metadata": {},
     "output_type": "execute_result"
    }
   ],
   "source": [
    "intervals = pd.DataFrame(index=[\"Нижняя граница\", \"Верхняя граница\"])\n",
    "alphas = [0.01, 0.05, 0.1]\n",
    "for alpha in alphas:\n",
    "    chi2_upper, chi2_lower = stats.chi2.interval(1 - alpha, df=n - 1)\n",
    "    intervals[f\"$\\\\alpha =$ {alpha}\"] = [\n",
    "        (n - 1) * X.var(ddof=1) / chi2_lower,\n",
    "        (n - 1) * X.var(ddof=1) / chi2_upper,\n",
    "    ]\n",
    "intervals"
   ]
  },
  {
   "cell_type": "code",
   "execution_count": 32,
   "metadata": {},
   "outputs": [
    {
     "name": "stdout",
     "output_type": "stream",
     "text": [
      "| Index | $\\alpha =$ 0.01 | $\\alpha =$ 0.05 | $\\alpha =$ 0.1 |\n",
      "|---|---|---|---|\n",
      "| Нижняя граница | 693.83 | 730.5 | 750.27 |\n",
      "| Верхняя граница | 1100.22 | 1037.24 | 1006.86 |\n",
      "\n"
     ]
    }
   ],
   "source": [
    "print(dataframe_to_markdown(intervals))"
   ]
  },
  {
   "cell_type": "markdown",
   "metadata": {},
   "source": [
    "| Index           | $\\alpha =$ 0.01 | $\\alpha =$ 0.05 | $\\alpha =$ 0.1 |\n",
    "| --------------- | --------------- | --------------- | -------------- |\n",
    "| Нижняя граница  | 693.83          | 730.5           | 750.27         |\n",
    "| Верхняя граница | 1100.22         | 1037.24         | 1006.86        |"
   ]
  },
  {
   "cell_type": "markdown",
   "metadata": {},
   "source": [
    "## 2.3. Доверительные интервалы для разности мат. ожиданий"
   ]
  },
  {
   "cell_type": "markdown",
   "metadata": {},
   "source": [
    "### Условие"
   ]
  },
  {
   "cell_type": "markdown",
   "metadata": {},
   "source": [
    "Анализируемый признак 1 – `B11` (Abdomen circumference (cm))\n",
    "\n",
    "Анализируемый признак 2 – `B12` (Hip circumference (cm))\n",
    "\n",
    "Объёмы выборок – $n_1 = n_2 = 252$\n",
    "\n",
    "Оцениваемый параметр – $m_1 - m_2$"
   ]
  },
  {
   "cell_type": "markdown",
   "metadata": {},
   "source": [
    "### Определения"
   ]
  },
  {
   "cell_type": "code",
   "execution_count": 33,
   "metadata": {},
   "outputs": [
    {
     "data": {
      "text/plain": [
       "(0     85.2\n",
       " 1     83.0\n",
       " 2     87.9\n",
       " 3     86.4\n",
       " 4    100.0\n",
       " Name: B11, dtype: float64,\n",
       " 0     94.5\n",
       " 1     98.7\n",
       " 2     99.2\n",
       " 3    101.2\n",
       " 4    101.9\n",
       " Name: B12, dtype: float64)"
      ]
     },
     "execution_count": 33,
     "metadata": {},
     "output_type": "execute_result"
    }
   ],
   "source": [
    "X1, X2 = data(\"2.3\")\n",
    "X1.head(), X2.head()"
   ]
  },
  {
   "cell_type": "code",
   "execution_count": 34,
   "metadata": {},
   "outputs": [
    {
     "name": "stdout",
     "output_type": "stream",
     "text": [
      "252 252\n"
     ]
    }
   ],
   "source": [
    "print(n1 := len(X1), n2 := len(X2))"
   ]
  },
  {
   "cell_type": "markdown",
   "metadata": {},
   "source": [
    "### Привести формулы расчёта доверительных интервалов"
   ]
  },
  {
   "cell_type": "markdown",
   "metadata": {},
   "source": [
    "| Граница доверительного интервала | Формула расчёта                                                                                                                                                 |\n",
    "| -------------------------------- | --------------------------------------------------------------------------------------------------------------------------------------------------------------- |\n",
    "| Нижняя граница                   | $\\left(\\overline{\\mathbf{X_1}} - \\overline{\\mathbf{X_2}}\\right) - t_{1-\\frac{\\alpha}{2}, (n_1 + n_2 -2)} \\cdot S \\cdot \\sqrt{\\dfrac{1}{n_1} + \\dfrac{1}{n_2}} $ |\n",
    "| Верхняя граница                  | $\\left(\\overline{\\mathbf{X_1}} - \\overline{\\mathbf{X_2}}\\right) + t_{1-\\frac{\\alpha}{2}, (n_1 + n_2 -2)} \\cdot S \\cdot \\sqrt{\\dfrac{1}{n_1} + \\dfrac{1}{n_2}} $ |\n",
    "| $S$                              | $\\sqrt{\\dfrac{(n_1 - 1)S_1^2 + (n_2-1) S_2^2}{n_1 + n_2 -2}}  $                                                                                                            |\n"
   ]
  },
  {
   "cell_type": "markdown",
   "metadata": {},
   "source": [
    "### Рассчитать доверительные интервалы"
   ]
  },
  {
   "cell_type": "code",
   "execution_count": 35,
   "metadata": {},
   "outputs": [
    {
     "data": {
      "text/html": [
       "<div>\n",
       "<style scoped>\n",
       "    .dataframe tbody tr th:only-of-type {\n",
       "        vertical-align: middle;\n",
       "    }\n",
       "\n",
       "    .dataframe tbody tr th {\n",
       "        vertical-align: top;\n",
       "    }\n",
       "\n",
       "    .dataframe thead th {\n",
       "        text-align: right;\n",
       "    }\n",
       "</style>\n",
       "<table border=\"1\" class=\"dataframe\">\n",
       "  <thead>\n",
       "    <tr style=\"text-align: right;\">\n",
       "      <th></th>\n",
       "      <th>$\\alpha =$ 0.01</th>\n",
       "      <th>$\\alpha =$ 0.05</th>\n",
       "      <th>$\\alpha =$ 0.1</th>\n",
       "    </tr>\n",
       "  </thead>\n",
       "  <tbody>\n",
       "    <tr>\n",
       "      <th>Нижняя граница</th>\n",
       "      <td>-9.457466</td>\n",
       "      <td>-8.951063</td>\n",
       "      <td>-8.692701</td>\n",
       "    </tr>\n",
       "    <tr>\n",
       "      <th>Верхняя граница</th>\n",
       "      <td>-5.240153</td>\n",
       "      <td>-5.746556</td>\n",
       "      <td>-6.004918</td>\n",
       "    </tr>\n",
       "  </tbody>\n",
       "</table>\n",
       "</div>"
      ],
      "text/plain": [
       "                 $\\alpha =$ 0.01  $\\alpha =$ 0.05  $\\alpha =$ 0.1\n",
       "Нижняя граница         -9.457466        -8.951063       -8.692701\n",
       "Верхняя граница        -5.240153        -5.746556       -6.004918"
      ]
     },
     "execution_count": 35,
     "metadata": {},
     "output_type": "execute_result"
    }
   ],
   "source": [
    "intervals = pd.DataFrame(index=[\"Нижняя граница\", \"Верхняя граница\"])\n",
    "alphas = [0.01, 0.05, 0.1]\n",
    "std_err = m.sqrt(\n",
    "    ((n1 - 1) * X1.var(ddof=1) + (n2 - 1) * X2.var(ddof=1))\n",
    "    / (n1 + n2 - 2)\n",
    "    * (1 / n1 + 1 / n2)\n",
    ")\n",
    "for alpha in alphas:\n",
    "    intervals[f\"$\\\\alpha =$ {alpha}\"] = stats.t.interval(\n",
    "        1 - alpha, df=n1 + n2 - 2, loc=X1.mean() - X2.mean(), scale=std_err\n",
    "    )\n",
    "intervals"
   ]
  },
  {
   "cell_type": "code",
   "execution_count": 36,
   "metadata": {},
   "outputs": [
    {
     "name": "stdout",
     "output_type": "stream",
     "text": [
      "| Index | $\\alpha =$ 0.01 | $\\alpha =$ 0.05 | $\\alpha =$ 0.1 |\n",
      "|---|---|---|---|\n",
      "| Нижняя граница | -9.46 | -8.95 | -8.69 |\n",
      "| Верхняя граница | -5.24 | -5.75 | -6.0 |\n",
      "\n"
     ]
    }
   ],
   "source": [
    "print(dataframe_to_markdown(intervals))"
   ]
  },
  {
   "cell_type": "markdown",
   "metadata": {},
   "source": [
    "| Index           | $\\alpha =$ 0.01 | $\\alpha =$ 0.05 | $\\alpha =$ 0.1 |\n",
    "| --------------- | --------------- | --------------- | -------------- |\n",
    "| Нижняя граница  | -9.46           | -8.95           | -8.69          |\n",
    "| Верхняя граница | -5.24           | -5.75           | -6.0           |"
   ]
  },
  {
   "cell_type": "markdown",
   "metadata": {},
   "source": [
    "## 2.4. Доверительные интервалы для отношения дисперсий"
   ]
  },
  {
   "cell_type": "markdown",
   "metadata": {},
   "source": [
    "### Условие"
   ]
  },
  {
   "cell_type": "markdown",
   "metadata": {},
   "source": [
    "Анализируемый признак 1 – `B11` (Abdomen circumference (cm))\n",
    "\n",
    "Анализируемый признак 2 – `B12` (Hip circumference (cm))\n",
    "\n",
    "Объёмы выборок – $n_1 = n_2 =$ `252`\n",
    "\n",
    "Оцениваемый параметр – $\\dfrac{\\sigma_1^2}{\\sigma_2^2}$\n"
   ]
  },
  {
   "cell_type": "markdown",
   "metadata": {},
   "source": [
    "### Определения"
   ]
  },
  {
   "cell_type": "code",
   "execution_count": 37,
   "metadata": {},
   "outputs": [
    {
     "data": {
      "text/plain": [
       "(0     85.2\n",
       " 1     83.0\n",
       " 2     87.9\n",
       " 3     86.4\n",
       " 4    100.0\n",
       " Name: B11, dtype: float64,\n",
       " 0     94.5\n",
       " 1     98.7\n",
       " 2     99.2\n",
       " 3    101.2\n",
       " 4    101.9\n",
       " Name: B12, dtype: float64)"
      ]
     },
     "execution_count": 37,
     "metadata": {},
     "output_type": "execute_result"
    }
   ],
   "source": [
    "X1, X2 = data(\"2.4\")\n",
    "X1.head(), X2.head()"
   ]
  },
  {
   "cell_type": "code",
   "execution_count": 38,
   "metadata": {},
   "outputs": [
    {
     "name": "stdout",
     "output_type": "stream",
     "text": [
      "252 252\n"
     ]
    }
   ],
   "source": [
    "print(n1 := len(X1), n2 := len(X2))"
   ]
  },
  {
   "cell_type": "markdown",
   "metadata": {},
   "source": [
    "### Привести формулы расчёта доверительных интервалов"
   ]
  },
  {
   "cell_type": "markdown",
   "metadata": {},
   "source": [
    "| Граница доверительного интервала | Формула расчёта                                                       |\n",
    "| -------------------------------- | --------------------------------------------------------------------- |\n",
    "| Нижняя граница                   | $\\dfrac{S_1^2}{S_2^2} \\cdot F_{\\frac{\\alpha}{2}, (n_1-1, n_2-1)}$     |\n",
    "| Верхняя граница                  | $\\dfrac{S_1^2}{S_2^2} \\cdot F_{1 - \\frac{\\alpha}{2}, (n_1-1, n_2-1)}$ |"
   ]
  },
  {
   "cell_type": "markdown",
   "metadata": {},
   "source": [
    "### Рассчитать доверительные интервалы"
   ]
  },
  {
   "cell_type": "code",
   "execution_count": 39,
   "metadata": {},
   "outputs": [
    {
     "data": {
      "text/html": [
       "<div>\n",
       "<style scoped>\n",
       "    .dataframe tbody tr th:only-of-type {\n",
       "        vertical-align: middle;\n",
       "    }\n",
       "\n",
       "    .dataframe tbody tr th {\n",
       "        vertical-align: top;\n",
       "    }\n",
       "\n",
       "    .dataframe thead th {\n",
       "        text-align: right;\n",
       "    }\n",
       "</style>\n",
       "<table border=\"1\" class=\"dataframe\">\n",
       "  <thead>\n",
       "    <tr style=\"text-align: right;\">\n",
       "      <th></th>\n",
       "      <th>$\\alpha =$ 0.01</th>\n",
       "      <th>$\\alpha =$ 0.05</th>\n",
       "      <th>$\\alpha =$ 0.1</th>\n",
       "    </tr>\n",
       "  </thead>\n",
       "  <tbody>\n",
       "    <tr>\n",
       "      <th>Нижняя граница</th>\n",
       "      <td>1.634915</td>\n",
       "      <td>1.767942</td>\n",
       "      <td>1.839998</td>\n",
       "    </tr>\n",
       "    <tr>\n",
       "      <th>Верхняя граница</th>\n",
       "      <td>3.139347</td>\n",
       "      <td>2.903130</td>\n",
       "      <td>2.789441</td>\n",
       "    </tr>\n",
       "  </tbody>\n",
       "</table>\n",
       "</div>"
      ],
      "text/plain": [
       "                 $\\alpha =$ 0.01  $\\alpha =$ 0.05  $\\alpha =$ 0.1\n",
       "Нижняя граница          1.634915         1.767942        1.839998\n",
       "Верхняя граница         3.139347         2.903130        2.789441"
      ]
     },
     "execution_count": 39,
     "metadata": {},
     "output_type": "execute_result"
    }
   ],
   "source": [
    "intervals = pd.DataFrame(index=[\"Нижняя граница\", \"Верхняя граница\"])\n",
    "alphas = [0.01, 0.05, 0.1]\n",
    "for alpha in alphas:\n",
    "    intervals[f\"$\\\\alpha =$ {alpha}\"] = stats.f.interval(\n",
    "        1 - alpha, dfn=n1 - 1, dfd=n2 - 1, loc=0, scale=X1.var(ddof=1) / X2.var(ddof=1)\n",
    "    )\n",
    "intervals"
   ]
  },
  {
   "cell_type": "code",
   "execution_count": 40,
   "metadata": {},
   "outputs": [
    {
     "name": "stdout",
     "output_type": "stream",
     "text": [
      "| Index | $\\alpha =$ 0.01 | $\\alpha =$ 0.05 | $\\alpha =$ 0.1 |\n",
      "|---|---|---|---|\n",
      "| Нижняя граница | 1.63 | 1.77 | 1.84 |\n",
      "| Верхняя граница | 3.14 | 2.9 | 2.79 |\n",
      "\n"
     ]
    }
   ],
   "source": [
    "print(dataframe_to_markdown(intervals))"
   ]
  },
  {
   "cell_type": "markdown",
   "metadata": {},
   "source": [
    "| Index           | $\\alpha =$ 0.01 | $\\alpha =$ 0.05 | $\\alpha =$ 0.1 |\n",
    "| --------------- | --------------- | --------------- | -------------- |\n",
    "| Нижняя граница  | 1.63            | 1.77            | 1.84           |\n",
    "| Верхняя граница | 3.14            | 2.9             | 2.79           |\n"
   ]
  },
  {
   "cell_type": "markdown",
   "metadata": {},
   "source": [
    "# Раздел 3. Проверка статистических гипотез о математических ожиданиях и дисперсиях"
   ]
  },
  {
   "cell_type": "markdown",
   "metadata": {},
   "source": [
    "## 3.1. Проверка статистических гипотез о математических ожиданиях"
   ]
  },
  {
   "cell_type": "markdown",
   "metadata": {},
   "source": [
    "### Условие"
   ]
  },
  {
   "cell_type": "markdown",
   "metadata": {},
   "source": [
    "Анализируемый признак  – `B7` (Weight (lbs))\n",
    "\n",
    "Объём выборки – `252`\n",
    "\n",
    "Статистическая гипотеза: $H_0:\\ m = m_0;\\ \\ \\ H':\\ m \\neq m_0$"
   ]
  },
  {
   "cell_type": "markdown",
   "metadata": {},
   "source": [
    "### Определения"
   ]
  },
  {
   "cell_type": "code",
   "execution_count": 41,
   "metadata": {},
   "outputs": [
    {
     "data": {
      "text/plain": [
       "0    154.25\n",
       "1    173.25\n",
       "2    154.00\n",
       "3    184.75\n",
       "4    184.25\n",
       "Name: B7, dtype: float64"
      ]
     },
     "execution_count": 41,
     "metadata": {},
     "output_type": "execute_result"
    }
   ],
   "source": [
    "X = data(\"3.1\")[0]\n",
    "X.head()"
   ]
  },
  {
   "cell_type": "code",
   "execution_count": 42,
   "metadata": {},
   "outputs": [
    {
     "name": "stdout",
     "output_type": "stream",
     "text": [
      "252\n"
     ]
    }
   ],
   "source": [
    "print(n := len(X))"
   ]
  },
  {
   "cell_type": "markdown",
   "metadata": {},
   "source": [
    "### Указать формулы расчёта показателей, используемых при проверке статистических гипотез"
   ]
  },
  {
   "cell_type": "markdown",
   "metadata": {},
   "source": [
    "Мы не знаем параметр $\\sigma$, значит используем `t-test`."
   ]
  },
  {
   "cell_type": "markdown",
   "metadata": {},
   "source": [
    "|                                                                                  | Выражение                                                                |\n",
    "| -------------------------------------------------------------------------------- | ------------------------------------------------------------------------ |\n",
    "| Формула расчёта статистики критерия                                              | $Z = \\dfrac{\\overline X - m_0}{S/\\sqrt{n}}$                              |\n",
    "| Закон распределения статистики критерия при условии истинности основной гипотезы | $T(n - 1)$                                                               |\n",
    "| Формулы расчёта критических точек                                                | $\\pm t_{1 - \\frac{\\alpha}{2}, n - 1}$                                    |\n",
    "| Формула расчёта $p$-value                                                        | $2\\min(F_Z(z_{\\text{выб}} \\mid H_0),\\ 1 - F_Z(z_{\\text{выб}} \\mid H_0))$ |\n"
   ]
  },
  {
   "cell_type": "markdown",
   "metadata": {},
   "source": [
    "### Выбрать произвольные значения $m_0$ и проверить статистические гипотезы"
   ]
  },
  {
   "cell_type": "code",
   "execution_count": 43,
   "metadata": {},
   "outputs": [
    {
     "data": {
      "text/markdown": [
       "### T-test"
      ],
      "text/plain": [
       "<IPython.core.display.Markdown object>"
      ]
     },
     "metadata": {},
     "output_type": "display_data"
    },
    {
     "data": {
      "text/markdown": [
       "---"
      ],
      "text/plain": [
       "<IPython.core.display.Markdown object>"
      ]
     },
     "metadata": {},
     "output_type": "display_data"
    },
    {
     "data": {
      "text/markdown": [
       "$H_0: m = m_0 = 120$"
      ],
      "text/plain": [
       "<IPython.core.display.Markdown object>"
      ]
     },
     "metadata": {},
     "output_type": "display_data"
    },
    {
     "data": {
      "text/markdown": [
       "$z_{выб} =$ 31.83"
      ],
      "text/plain": [
       "<IPython.core.display.Markdown object>"
      ]
     },
     "metadata": {},
     "output_type": "display_data"
    },
    {
     "data": {
      "text/markdown": [
       "$p =$ 0.00"
      ],
      "text/plain": [
       "<IPython.core.display.Markdown object>"
      ]
     },
     "metadata": {},
     "output_type": "display_data"
    },
    {
     "data": {
      "text/markdown": [
       "$H_0$ отклоняется"
      ],
      "text/plain": [
       "<IPython.core.display.Markdown object>"
      ]
     },
     "metadata": {},
     "output_type": "display_data"
    },
    {
     "data": {
      "text/markdown": [
       "---"
      ],
      "text/plain": [
       "<IPython.core.display.Markdown object>"
      ]
     },
     "metadata": {},
     "output_type": "display_data"
    },
    {
     "data": {
      "text/markdown": [
       "$H_0: m = m_0 = 180$"
      ],
      "text/plain": [
       "<IPython.core.display.Markdown object>"
      ]
     },
     "metadata": {},
     "output_type": "display_data"
    },
    {
     "data": {
      "text/markdown": [
       "$z_{выб} =$ -0.58"
      ],
      "text/plain": [
       "<IPython.core.display.Markdown object>"
      ]
     },
     "metadata": {},
     "output_type": "display_data"
    },
    {
     "data": {
      "text/markdown": [
       "$p =$ 0.56"
      ],
      "text/plain": [
       "<IPython.core.display.Markdown object>"
      ]
     },
     "metadata": {},
     "output_type": "display_data"
    },
    {
     "data": {
      "text/markdown": [
       "$H_0$ принимается"
      ],
      "text/plain": [
       "<IPython.core.display.Markdown object>"
      ]
     },
     "metadata": {},
     "output_type": "display_data"
    },
    {
     "data": {
      "text/markdown": [
       "---"
      ],
      "text/plain": [
       "<IPython.core.display.Markdown object>"
      ]
     },
     "metadata": {},
     "output_type": "display_data"
    },
    {
     "data": {
      "text/markdown": [
       "$H_0: m = m_0 = 240$"
      ],
      "text/plain": [
       "<IPython.core.display.Markdown object>"
      ]
     },
     "metadata": {},
     "output_type": "display_data"
    },
    {
     "data": {
      "text/markdown": [
       "$z_{выб} =$ -32.99"
      ],
      "text/plain": [
       "<IPython.core.display.Markdown object>"
      ]
     },
     "metadata": {},
     "output_type": "display_data"
    },
    {
     "data": {
      "text/markdown": [
       "$p =$ 0.00"
      ],
      "text/plain": [
       "<IPython.core.display.Markdown object>"
      ]
     },
     "metadata": {},
     "output_type": "display_data"
    },
    {
     "data": {
      "text/markdown": [
       "$H_0$ отклоняется"
      ],
      "text/plain": [
       "<IPython.core.display.Markdown object>"
      ]
     },
     "metadata": {},
     "output_type": "display_data"
    }
   ],
   "source": [
    "alpha = 0.1\n",
    "m0_list = [120, 180, 240]\n",
    "\n",
    "mprint(r\"### T-test\")\n",
    "for m0 in m0_list:\n",
    "    z, p_value = stats.ttest_1samp(X, m0)\n",
    "    mprint(\n",
    "        r\"---\",\n",
    "        f\"$H_0: m = m_0 = {m0}$\",\n",
    "        f\"$z_{{выб}} =$ {z:.2f}\",\n",
    "        f\"$p =$ {p_value:.2f}\",\n",
    "        verdict(alpha, p_value),\n",
    "    )"
   ]
  },
  {
   "cell_type": "markdown",
   "metadata": {},
   "source": [
    "| $m_0$ | Уровень значимости | Выборочное значение статистического критерия | $p$-value | Статистическое решение | Вывод        |\n",
    "| ----- | ------------------ | -------------------------------------------- | --------- | ---------------------- | ------------ |\n",
    "| 120   | 0.1                | 31.83                                        | 0.00      | $H_0$ отклоняется      | $m \\neq 120$ |\n",
    "| 180   | 0.1                | -0.58                                        | 0.56      | $H_0$ принимается      | $m = 180$    |\n",
    "| 240   | 0.1                | -32.99                                       | 0.00      | $H_0$ отклоняется      | $m \\neq 240$ |\n"
   ]
  },
  {
   "cell_type": "markdown",
   "metadata": {},
   "source": [
    "## 3.2 Проверка статистических гипотез о дисперсиях"
   ]
  },
  {
   "cell_type": "markdown",
   "metadata": {},
   "source": [
    "### Условие"
   ]
  },
  {
   "cell_type": "markdown",
   "metadata": {},
   "source": [
    "Анализируемый признак  – `B7` (Weight (lbs))\n",
    "\n",
    "Объём выборки – `252`\n",
    "\n",
    "Статистическая гипотеза: $H_0:\\ \\sigma = \\sigma_0;\\ \\ \\ H':\\ \\sigma \\neq \\sigma_0$"
   ]
  },
  {
   "cell_type": "markdown",
   "metadata": {},
   "source": [
    "### Определения"
   ]
  },
  {
   "cell_type": "code",
   "execution_count": 44,
   "metadata": {},
   "outputs": [
    {
     "data": {
      "text/plain": [
       "0    154.25\n",
       "1    173.25\n",
       "2    154.00\n",
       "3    184.75\n",
       "4    184.25\n",
       "Name: B7, dtype: float64"
      ]
     },
     "execution_count": 44,
     "metadata": {},
     "output_type": "execute_result"
    }
   ],
   "source": [
    "X = data(\"3.2\")[0]\n",
    "X.head()"
   ]
  },
  {
   "cell_type": "code",
   "execution_count": 45,
   "metadata": {},
   "outputs": [
    {
     "name": "stdout",
     "output_type": "stream",
     "text": [
      "252\n"
     ]
    }
   ],
   "source": [
    "print(n := len(X))"
   ]
  },
  {
   "cell_type": "markdown",
   "metadata": {},
   "source": [
    "### Указать формулы расчёта показателей, используемых при проверке статистических гипотез"
   ]
  },
  {
   "cell_type": "markdown",
   "metadata": {},
   "source": [
    "Мы не знаем параметр $m$, значит используем $\\chi^2-test$."
   ]
  },
  {
   "cell_type": "markdown",
   "metadata": {},
   "source": [
    "|                                                                                  | Выражение                                                                 |\n",
    "| -------------------------------------------------------------------------------- | ------------------------------------------------------------------------- |\n",
    "| Формула расчёта статистики критерия                                              | $Z = \\dfrac{(n - 1)S^2}{\\sigma_0^2}$                                      |\n",
    "| Закон распределения статистики критерия при условии истинности основной гипотезы | $\\chi^2(n - 1)$                                                           |\n",
    "| Формулы расчёта критических точек                                                | $\\chi^2_{\\frac{\\alpha}{2}, n - 1},\\ \\chi^2_{1 - \\frac{\\alpha}{2}, n - 1}$ |\n",
    "| Формула расчёта $p$-value                                                        | $2\\min(F_Z(z_{\\text{выб}} \\mid H_0),\\ 1 - F_Z(z_{\\text{выб}} \\mid H_0))$  |\n"
   ]
  },
  {
   "cell_type": "markdown",
   "metadata": {},
   "source": [
    "### Выбрать произвольные значения $\\sigma_0$ и проверить статистические гипотезы"
   ]
  },
  {
   "cell_type": "code",
   "execution_count": 46,
   "metadata": {},
   "outputs": [],
   "source": [
    "def chisquare(X, value):\n",
    "    n = len(X)\n",
    "    z = (n - 1) * X.var(ddof=1) / value**2\n",
    "    cdf = stats.chi2.cdf(z, df=n - 1)\n",
    "    p_value = 2 * min(cdf, 1 - cdf)\n",
    "    return z, p_value"
   ]
  },
  {
   "cell_type": "code",
   "execution_count": 47,
   "metadata": {},
   "outputs": [
    {
     "data": {
      "text/markdown": [
       "### $\\chi^2$-test"
      ],
      "text/plain": [
       "<IPython.core.display.Markdown object>"
      ]
     },
     "metadata": {},
     "output_type": "display_data"
    },
    {
     "data": {
      "text/markdown": [
       "---"
      ],
      "text/plain": [
       "<IPython.core.display.Markdown object>"
      ]
     },
     "metadata": {},
     "output_type": "display_data"
    },
    {
     "data": {
      "text/markdown": [
       "$H_0: \\sigma = \\sigma_0 = 10$"
      ],
      "text/plain": [
       "<IPython.core.display.Markdown object>"
      ]
     },
     "metadata": {},
     "output_type": "display_data"
    },
    {
     "data": {
      "text/markdown": [
       "$z_{выб} =$ 2167.94"
      ],
      "text/plain": [
       "<IPython.core.display.Markdown object>"
      ]
     },
     "metadata": {},
     "output_type": "display_data"
    },
    {
     "data": {
      "text/markdown": [
       "$p =$ 0.00"
      ],
      "text/plain": [
       "<IPython.core.display.Markdown object>"
      ]
     },
     "metadata": {},
     "output_type": "display_data"
    },
    {
     "data": {
      "text/markdown": [
       "$H_0$ отклоняется"
      ],
      "text/plain": [
       "<IPython.core.display.Markdown object>"
      ]
     },
     "metadata": {},
     "output_type": "display_data"
    },
    {
     "data": {
      "text/markdown": [
       "---"
      ],
      "text/plain": [
       "<IPython.core.display.Markdown object>"
      ]
     },
     "metadata": {},
     "output_type": "display_data"
    },
    {
     "data": {
      "text/markdown": [
       "$H_0: \\sigma = \\sigma_0 = 20$"
      ],
      "text/plain": [
       "<IPython.core.display.Markdown object>"
      ]
     },
     "metadata": {},
     "output_type": "display_data"
    },
    {
     "data": {
      "text/markdown": [
       "$z_{выб} =$ 541.99"
      ],
      "text/plain": [
       "<IPython.core.display.Markdown object>"
      ]
     },
     "metadata": {},
     "output_type": "display_data"
    },
    {
     "data": {
      "text/markdown": [
       "$p =$ 0.00"
      ],
      "text/plain": [
       "<IPython.core.display.Markdown object>"
      ]
     },
     "metadata": {},
     "output_type": "display_data"
    },
    {
     "data": {
      "text/markdown": [
       "$H_0$ отклоняется"
      ],
      "text/plain": [
       "<IPython.core.display.Markdown object>"
      ]
     },
     "metadata": {},
     "output_type": "display_data"
    },
    {
     "data": {
      "text/markdown": [
       "---"
      ],
      "text/plain": [
       "<IPython.core.display.Markdown object>"
      ]
     },
     "metadata": {},
     "output_type": "display_data"
    },
    {
     "data": {
      "text/markdown": [
       "$H_0: \\sigma = \\sigma_0 = 30$"
      ],
      "text/plain": [
       "<IPython.core.display.Markdown object>"
      ]
     },
     "metadata": {},
     "output_type": "display_data"
    },
    {
     "data": {
      "text/markdown": [
       "$z_{выб} =$ 240.88"
      ],
      "text/plain": [
       "<IPython.core.display.Markdown object>"
      ]
     },
     "metadata": {},
     "output_type": "display_data"
    },
    {
     "data": {
      "text/markdown": [
       "$p =$ 0.67"
      ],
      "text/plain": [
       "<IPython.core.display.Markdown object>"
      ]
     },
     "metadata": {},
     "output_type": "display_data"
    },
    {
     "data": {
      "text/markdown": [
       "$H_0$ принимается"
      ],
      "text/plain": [
       "<IPython.core.display.Markdown object>"
      ]
     },
     "metadata": {},
     "output_type": "display_data"
    }
   ],
   "source": [
    "alpha = 0.1\n",
    "std0_list = [10, 20, 30]\n",
    "\n",
    "mprint(r\"### $\\chi^2$-test\")\n",
    "for std0 in std0_list:\n",
    "    z, p_value = chisquare(X, std0)\n",
    "    mprint(\n",
    "        r\"---\",\n",
    "        f\"$H_0: \\\\sigma = \\\\sigma_0 = {std0}$\",\n",
    "        f\"$z_{{выб}} =$ {z:.2f}\",\n",
    "        f\"$p =$ {p_value:.2f}\",\n",
    "        verdict(alpha, p_value),\n",
    "    )"
   ]
  },
  {
   "cell_type": "markdown",
   "metadata": {},
   "source": [
    "| $\\sigma_0$ | Уровень значимости | Выборочное значение статистического критерия | $p$-value | Статистическое решение | Вывод            |\n",
    "| ---------- | ------------------ | -------------------------------------------- | --------- | ---------------------- | ---------------- |\n",
    "| 10         | 0.1                | 2167.94                                      | 0.00      | $H_0$ отклоняется      | $\\sigma \\neq 10$ |\n",
    "| 20         | 0.1                | 541.99                                       | 0.00      | $H_0$ отклоняется      | $\\sigma \\neq 20$ |\n",
    "| 30         | 0.1                | 240.88                                       | 0.67      | $H_0$ принимается      | $\\sigma = 30$    |"
   ]
  },
  {
   "cell_type": "markdown",
   "metadata": {},
   "source": [
    "## 3.3 Проверка статистических гипотез о равенстве математических ожиданий"
   ]
  },
  {
   "cell_type": "markdown",
   "metadata": {},
   "source": [
    "### Условие"
   ]
  },
  {
   "cell_type": "markdown",
   "metadata": {},
   "source": [
    "Анализируемый признак 1 – `B11` (Abdomen circumference (cm))\n",
    "\n",
    "Анализируемый признак 2 – `B12` (Hip circumference (cm))\n",
    "\n",
    "Объёмы выборок – $n_1 = n_2 = 252$\n",
    "\n",
    "Статистическая гипотеза: $H_0:\\ m_1 = m_2;\\ \\ \\ H':\\ m_1 \\neq m_2$"
   ]
  },
  {
   "cell_type": "markdown",
   "metadata": {},
   "source": [
    "### Определения"
   ]
  },
  {
   "cell_type": "code",
   "execution_count": 48,
   "metadata": {},
   "outputs": [
    {
     "data": {
      "text/plain": [
       "(0     85.2\n",
       " 1     83.0\n",
       " 2     87.9\n",
       " 3     86.4\n",
       " 4    100.0\n",
       " Name: B11, dtype: float64,\n",
       " 0     94.5\n",
       " 1     98.7\n",
       " 2     99.2\n",
       " 3    101.2\n",
       " 4    101.9\n",
       " Name: B12, dtype: float64)"
      ]
     },
     "execution_count": 48,
     "metadata": {},
     "output_type": "execute_result"
    }
   ],
   "source": [
    "X1, X2 = data(\"3.3\")\n",
    "X1.head(), X2.head()"
   ]
  },
  {
   "cell_type": "code",
   "execution_count": 49,
   "metadata": {},
   "outputs": [
    {
     "name": "stdout",
     "output_type": "stream",
     "text": [
      "252 252\n"
     ]
    }
   ],
   "source": [
    "print(n1 := len(X1), n2 := len(X2))"
   ]
  },
  {
   "cell_type": "markdown",
   "metadata": {},
   "source": [
    "### Указать формулы расчёта показателей, используемых при проверке статистических гипотез"
   ]
  },
  {
   "cell_type": "markdown",
   "metadata": {},
   "source": [
    "Мы не знаем параметр $\\sigma$, значит используем `t-test`."
   ]
  },
  {
   "cell_type": "markdown",
   "metadata": {},
   "source": [
    "|                                                                                  | Выражение                                                                                                                                                  |\n",
    "| -------------------------------------------------------------------------------- | ---------------------------------------------------------------------------------------------------------------------------------------------------------- |\n",
    "| Формула расчёта статистики критерия                                              | $Z = \\dfrac{\\overline{X_1} - \\overline{X_2}}{S\\sqrt{\\dfrac{1}{n_1} + \\dfrac{1}{n_2}}}$, где $S^2 = \\dfrac{(n_1 - 1)S_1^2 + (n_2 - 1)S_2^2}{n_1 + n_2 - 2}$ |\n",
    "| Закон распределения статистики критерия при условии истинности основной гипотезы | $T(n_1 + n_2 - 2)$                                                                                                                                         |\n",
    "| Формулы расчёта критических точек                                                | $\\pm t_{1 - \\frac{\\alpha}{2}, n_1 + n_2 - 2}$                                                                                                              |\n",
    "| Формула расчёта $p$-value                                                        | $2\\min(F_Z(z_{\\text{выб}} \\mid H_0),\\ 1 - F_Z(z_{\\text{выб}} \\mid H_0))$                                                                                   |\n"
   ]
  },
  {
   "cell_type": "markdown",
   "metadata": {},
   "source": [
    "### Проверить статистические гипотезы"
   ]
  },
  {
   "cell_type": "code",
   "execution_count": 50,
   "metadata": {},
   "outputs": [
    {
     "data": {
      "text/markdown": [
       "### two-sample T-test"
      ],
      "text/plain": [
       "<IPython.core.display.Markdown object>"
      ]
     },
     "metadata": {},
     "output_type": "display_data"
    },
    {
     "data": {
      "text/markdown": [
       "$H_0: m_1 = m_2$"
      ],
      "text/plain": [
       "<IPython.core.display.Markdown object>"
      ]
     },
     "metadata": {},
     "output_type": "display_data"
    },
    {
     "data": {
      "text/markdown": [
       "$z_{выб} =$ -9.01"
      ],
      "text/plain": [
       "<IPython.core.display.Markdown object>"
      ]
     },
     "metadata": {},
     "output_type": "display_data"
    },
    {
     "data": {
      "text/markdown": [
       "$p =$ 0.00"
      ],
      "text/plain": [
       "<IPython.core.display.Markdown object>"
      ]
     },
     "metadata": {},
     "output_type": "display_data"
    },
    {
     "data": {
      "text/markdown": [
       "При $\\alpha = 0.01$ $H_0$ отклоняется"
      ],
      "text/plain": [
       "<IPython.core.display.Markdown object>"
      ]
     },
     "metadata": {},
     "output_type": "display_data"
    },
    {
     "data": {
      "text/markdown": [
       "При $\\alpha = 0.05$ $H_0$ отклоняется"
      ],
      "text/plain": [
       "<IPython.core.display.Markdown object>"
      ]
     },
     "metadata": {},
     "output_type": "display_data"
    },
    {
     "data": {
      "text/markdown": [
       "При $\\alpha = 0.1$ $H_0$ отклоняется"
      ],
      "text/plain": [
       "<IPython.core.display.Markdown object>"
      ]
     },
     "metadata": {},
     "output_type": "display_data"
    }
   ],
   "source": [
    "alphas = [0.01, 0.05, 0.1]\n",
    "z, p_value = stats.ttest_ind(X1, X2)\n",
    "mprint(\n",
    "    r\"### two-sample T-test\",\n",
    "    f\"$H_0: m_1 = m_2$\",\n",
    "    f\"$z_{{выб}} =$ {z:.2f}\",\n",
    "    f\"$p =$ {p_value:.2f}\",\n",
    ")\n",
    "for alpha in alphas:\n",
    "    mprint(f\"При $\\\\alpha = {alpha}$ {verdict(alpha, p_value)}\")"
   ]
  },
  {
   "cell_type": "markdown",
   "metadata": {},
   "source": [
    "| Уровень значимости | Выборочное значение статистического критерия | $p$-value | Статистическое решение | Вывод        |\n",
    "| ------------------ | -------------------------------------------- | --------- | ---------------------- | ------------ |\n",
    "| 0.01               | -9.01                                        | 0.00      | $H_0$ отклоняется      | $m_1 \\neq m_2$ |\n",
    "| 0.05               | -9.01                                        | 0.00      | $H_0$ отклоняется      | $m_1 \\neq m_2$    |\n",
    "| 0.1                | -9.01                                        | 0.00      | $H_0$ отклоняется      | $m_1 \\neq m_2$ |\n"
   ]
  },
  {
   "cell_type": "markdown",
   "metadata": {},
   "source": [
    "## 3.4 Проверка статистических гипотез о равенстве дисперсий"
   ]
  },
  {
   "cell_type": "markdown",
   "metadata": {},
   "source": [
    "### Условие"
   ]
  },
  {
   "cell_type": "markdown",
   "metadata": {},
   "source": [
    "Анализируемый признак 1 – `B11` (Abdomen circumference (cm))\n",
    "\n",
    "Анализируемый признак 2 – `B12` (Hip circumference (cm))\n",
    "\n",
    "Объёмы выборок – $n_1 = n_2 = 252$\n",
    "\n",
    "Статистическая гипотеза: $H_0:\\ \\sigma_1 = \\sigma_2;\\ \\ \\ H':\\ \\sigma_1 \\neq \\sigma_2$"
   ]
  },
  {
   "cell_type": "markdown",
   "metadata": {},
   "source": [
    "### Определения"
   ]
  },
  {
   "cell_type": "code",
   "execution_count": 51,
   "metadata": {},
   "outputs": [
    {
     "data": {
      "text/plain": [
       "(0     85.2\n",
       " 1     83.0\n",
       " 2     87.9\n",
       " 3     86.4\n",
       " 4    100.0\n",
       " Name: B11, dtype: float64,\n",
       " 0     94.5\n",
       " 1     98.7\n",
       " 2     99.2\n",
       " 3    101.2\n",
       " 4    101.9\n",
       " Name: B12, dtype: float64)"
      ]
     },
     "execution_count": 51,
     "metadata": {},
     "output_type": "execute_result"
    }
   ],
   "source": [
    "X1, X2 = data(\"3.4\")\n",
    "X1.head(), X2.head()"
   ]
  },
  {
   "cell_type": "code",
   "execution_count": 52,
   "metadata": {},
   "outputs": [
    {
     "name": "stdout",
     "output_type": "stream",
     "text": [
      "252 252\n"
     ]
    }
   ],
   "source": [
    "print(n1 := len(X1), n2 := len(X2))"
   ]
  },
  {
   "cell_type": "markdown",
   "metadata": {},
   "source": [
    "### Указать формулы расчёта показателей, используемых при проверке статистических гипотез"
   ]
  },
  {
   "cell_type": "markdown",
   "metadata": {},
   "source": [
    "|                                                                                  | Выражение                                                                                 |\n",
    "| -------------------------------------------------------------------------------- | ----------------------------------------------------------------------------------------- |\n",
    "| Формула расчёта статистики критерия                                              | $Z = \\dfrac{S_1^2}{S_2^2}$                                                                |\n",
    "| Закон распределения статистики критерия при условии истинности основной гипотезы | $F(n_1 - 1,\\ n_2 - 1)$                                                                    |\n",
    "| Формулы расчёта критических точек                                                | $F_{\\frac{\\alpha}{2},\\ n_1 - 1,\\ n_2 - 1},\\ F_{1 - \\frac{\\alpha}{2},\\ n_1 - 1,\\ n_2 - 1}$ |\n",
    "| Формула расчёта $p$-value                                                        | $2\\min(F_Z(z_{\\text{выб}} \\mid H_0),\\ 1 - F_Z(z_{\\text{выб}} \\mid H_0))$                  |"
   ]
  },
  {
   "cell_type": "markdown",
   "metadata": {},
   "source": [
    "### Проверить статистические гипотезы"
   ]
  },
  {
   "cell_type": "code",
   "execution_count": 53,
   "metadata": {},
   "outputs": [],
   "source": [
    "def Ftest(X1, X2):\n",
    "    n1 = len(X1)\n",
    "    n2 = len(X2)\n",
    "    z = X1.var(ddof=1) / X2.var(ddof=1)\n",
    "    cdf = stats.f.cdf(z, dfn=n1 - 1, dfd=n2 - 1)\n",
    "    p_value = 2 * min(cdf, 1 - cdf)\n",
    "    return z, p_value"
   ]
  },
  {
   "cell_type": "code",
   "execution_count": 54,
   "metadata": {},
   "outputs": [
    {
     "data": {
      "text/markdown": [
       "### F-test"
      ],
      "text/plain": [
       "<IPython.core.display.Markdown object>"
      ]
     },
     "metadata": {},
     "output_type": "display_data"
    },
    {
     "data": {
      "text/markdown": [
       "$H_0: \\sigma_1 = \\sigma_2$"
      ],
      "text/plain": [
       "<IPython.core.display.Markdown object>"
      ]
     },
     "metadata": {},
     "output_type": "display_data"
    },
    {
     "data": {
      "text/markdown": [
       "$z_{выб} =$ 2.27"
      ],
      "text/plain": [
       "<IPython.core.display.Markdown object>"
      ]
     },
     "metadata": {},
     "output_type": "display_data"
    },
    {
     "data": {
      "text/markdown": [
       "$p =$ 0.00"
      ],
      "text/plain": [
       "<IPython.core.display.Markdown object>"
      ]
     },
     "metadata": {},
     "output_type": "display_data"
    },
    {
     "data": {
      "text/markdown": [
       "При $\\alpha = 0.01$ $H_0$ отклоняется"
      ],
      "text/plain": [
       "<IPython.core.display.Markdown object>"
      ]
     },
     "metadata": {},
     "output_type": "display_data"
    },
    {
     "data": {
      "text/markdown": [
       "При $\\alpha = 0.05$ $H_0$ отклоняется"
      ],
      "text/plain": [
       "<IPython.core.display.Markdown object>"
      ]
     },
     "metadata": {},
     "output_type": "display_data"
    },
    {
     "data": {
      "text/markdown": [
       "При $\\alpha = 0.1$ $H_0$ отклоняется"
      ],
      "text/plain": [
       "<IPython.core.display.Markdown object>"
      ]
     },
     "metadata": {},
     "output_type": "display_data"
    }
   ],
   "source": [
    "alphas = [0.01, 0.05, 0.1]\n",
    "z, p_value = Ftest(X1, X2)\n",
    "mprint(\n",
    "    r\"### F-test\",\n",
    "    f\"$H_0: \\\\sigma_1 = \\\\sigma_2$\",\n",
    "    f\"$z_{{выб}} =$ {z:.2f}\",\n",
    "    f\"$p =$ {p_value:.2f}\",\n",
    ")\n",
    "\n",
    "for alpha in alphas:\n",
    "    mprint(f\"При $\\\\alpha = {alpha}$ {verdict(alpha, p_value)}\")"
   ]
  },
  {
   "cell_type": "markdown",
   "metadata": {},
   "source": [
    "| Уровень значимости | Выборочное значение статистического критерия | $p$-value | Статистическое решение | Вывод                    |\n",
    "| ------------------ | -------------------------------------------- | --------- | ---------------------- | ------------------------ |\n",
    "| 0.01               | 2.27                                         | 0.00      | $H_0$ отклоняется      | $\\sigma_1 \\neq \\sigma_2$ |\n",
    "| 0.05               | 2.27                                         | 0.00      | $H_0$ отклоняется      | $\\sigma_1 \\neq \\sigma_2$ |\n",
    "| 0.1                | 2.27                                         | 0.00      | $H_0$ отклоняется      | $\\sigma_1 \\neq \\sigma_2$ |"
   ]
  },
  {
   "cell_type": "markdown",
   "metadata": {},
   "source": [
    "# Раздел 4. Критерии согласия"
   ]
  },
  {
   "cell_type": "markdown",
   "metadata": {},
   "source": [
    "## Условие"
   ]
  },
  {
   "cell_type": "markdown",
   "metadata": {},
   "source": [
    "Анализируемый признак  – `B7` (Weight (lbs))\n",
    "\n",
    "Объём выборки – `252`"
   ]
  },
  {
   "cell_type": "markdown",
   "metadata": {},
   "source": [
    "## Определения"
   ]
  },
  {
   "cell_type": "code",
   "execution_count": 55,
   "metadata": {},
   "outputs": [
    {
     "data": {
      "text/plain": [
       "0    154.25\n",
       "1    173.25\n",
       "2    154.00\n",
       "3    184.75\n",
       "4    184.25\n",
       "Name: B7, dtype: float64"
      ]
     },
     "execution_count": 55,
     "metadata": {},
     "output_type": "execute_result"
    }
   ],
   "source": [
    "X = data(\"4\")[0]\n",
    "X.head()"
   ]
  },
  {
   "cell_type": "code",
   "execution_count": 56,
   "metadata": {},
   "outputs": [
    {
     "name": "stdout",
     "output_type": "stream",
     "text": [
      "252\n"
     ]
    }
   ],
   "source": [
    "print(n := len(X))"
   ]
  },
  {
   "cell_type": "markdown",
   "metadata": {},
   "source": [
    "## 4.1. Критерий $\\chi^2$ "
   ]
  },
  {
   "cell_type": "markdown",
   "metadata": {},
   "source": [
    "Теоретическое распределение - нормальное.\n",
    "\n",
    "Статистическая гипотеза - $H_0:\\ X \\sim N;\\ \\ \\ H':\\ X \\nsim N$"
   ]
  },
  {
   "cell_type": "markdown",
   "metadata": {},
   "source": [
    "### Указать формулы расчёта показателей, используемых при проверке статистических гипотез"
   ]
  },
  {
   "cell_type": "markdown",
   "metadata": {},
   "source": [
    "|                                                                                  | Выражение                                                                         | Пояснение использованных обозначений                                                                                                                                                                                                                                                                                                                                               |\n",
    "| -------------------------------------------------------------------------------- | --------------------------------------------------------------------------------- | ---------------------------------------------------------------------------------------------------------------------------------------------------------------------------------------------------------------------------------------------------------------------------------------------------------------------------------------------------------------------------------- |\n",
    "| Формула расчёта статистики критерия                                              | $Z = \\sum\\limits_{i=1}^{k} \\dfrac{\\left(n_i - n \\cdot p_i\\right)^2}{n \\cdot p_i}$ | $k$ - число интервалов в группированном статистическом ряду. $\\\\$ $n_i$ - частота попадания случайной величины $\\mathbf X$ в интервал $\\Delta_i$. $\\\\$ $p_i$ - вероятность попадания случайной величины $\\mathbf X$ в интервал $\\Delta_i$ в условиях $H_0$, то есть, если $\\Delta_i = (a_{i-1}, a_{i}]$, то $$p_i = \\int\\limits_{a_{i-1}}^{a_{i}}g(x)dx = G(a_{i}) - G(a_{i-1}).$$ |\n",
    "| Закон распределения статистики критерия при условии истинности основной гипотезы | $\\chi^2(k - r - 1)$                                                               | $r$ - количество оцениваемых параметров у предполагаемого распределения $G$.                                                                                                                                                                                                                                                                                                       |\n",
    "| Формулы расчёта критической точки                                                | $\\chi^2_{1 - \\alpha,\\ k - r - 1}$                                                 | Малые значения $Z$ нам также подходят, поэтому критическая область выбирается правосторонней                                                                                                                                                                                                                                                                                       |\n",
    "| Формула расчёта $p$-value                                                        | $1 - F_Z(z_{\\text{выб}} \\mid H_0)$                                                |                                                                                                                                                                                                                                                                                                                                                                                    |"
   ]
  },
  {
   "cell_type": "markdown",
   "metadata": {},
   "source": [
    "### Выбрать число групп"
   ]
  },
  {
   "cell_type": "markdown",
   "metadata": {},
   "source": [
    "Обычно выбирают число групп по формуле Стерджесса: $k \\approx 1 + 1,3 \\ln{n}$.\n",
    "\n",
    "Однако критерий $\\chi^2$ чувствителен к группам, для которых ожидаемые частоты $n \\cdot p_i$ меньше 5. Поэтому при группировке нужно учитывать это.\n",
    "\n",
    "Рассмотрим данный пример:"
   ]
  },
  {
   "cell_type": "code",
   "execution_count": 57,
   "metadata": {},
   "outputs": [
    {
     "data": {
      "image/png": "[encoded data removed]",
      "text/plain": [
       "<Figure size 800x550 with 1 Axes>"
      ]
     },
     "metadata": {},
     "output_type": "display_data"
    }
   ],
   "source": [
    "k = round(1 + 1.3 * m.log(n))\n",
    "frequences, bin_edges, _ = plt.hist(X, bins=k, edgecolor=\"black\")\n",
    "plt.show()"
   ]
  },
  {
   "cell_type": "markdown",
   "metadata": {},
   "source": [
    "Для каждого интервала $[a_{i-1}, a_i]$ найдём $p_i = G(a_i) - G(a_{i-1})$ - вероятность попадания случайной величины $\\mathbf X$ в интервал $[a_{i-1}, a_i]$ в условиях $H_0$.\n",
    "\n",
    "Напомним, что в данном случае теоретическое распределение - нормальное. Поэтому и будем использовать `stats.norm.cdf()`."
   ]
  },
  {
   "cell_type": "code",
   "execution_count": 58,
   "metadata": {},
   "outputs": [
    {
     "data": {
      "text/plain": [
       "array([1.35055454e-01, 3.55071966e-01, 3.46696912e-01, 1.25693091e-01,\n",
       "       1.67664622e-02, 8.11224914e-04, 1.40249714e-05, 8.55288832e-08])"
      ]
     },
     "execution_count": 58,
     "metadata": {},
     "output_type": "execute_result"
    }
   ],
   "source": [
    "probabilities = np.diff(stats.norm(loc=X.mean(), scale=X.std(ddof=1)).cdf(bin_edges))\n",
    "probabilities"
   ]
  },
  {
   "cell_type": "markdown",
   "metadata": {},
   "source": [
    "Мы нашли вероятности попасть в каждый интервал. Теперь найдём ожидаемые частоты $n \\cdot p_i$."
   ]
  },
  {
   "cell_type": "code",
   "execution_count": 59,
   "metadata": {},
   "outputs": [
    {
     "data": {
      "text/plain": [
       "array([3.40339743e+01, 8.94781354e+01, 8.73676218e+01, 3.16746590e+01,\n",
       "       4.22514847e+00, 2.04428678e-01, 3.53429279e-03, 2.15532786e-05])"
      ]
     },
     "execution_count": 59,
     "metadata": {},
     "output_type": "execute_result"
    }
   ],
   "source": [
    "expected_frequencies = n * probabilities\n",
    "expected_frequencies"
   ]
  },
  {
   "cell_type": "markdown",
   "metadata": {},
   "source": [
    "Как видим, для первого и четырёх последних интервалов ожидаемые частоты меньше 5. Условие $n \\cdot p_i \\gtrsim 5$ не выполняется.\n",
    "\n",
    "Следует объединить эти интервалы с соседними, пока это условие не будет выполнено."
   ]
  },
  {
   "cell_type": "code",
   "execution_count": 60,
   "metadata": {},
   "outputs": [],
   "source": [
    "def adjust_intervals(bin_edges, expected_frequencies, k=None):\n",
    "    \"\"\"\n",
    "    Функция для корректировки интервалов и вероятностей\n",
    "\n",
    "    Параметры:\n",
    "    bin_edges: list\n",
    "        Границы интервалов\n",
    "    expected_frequencies: list\n",
    "        Ожидаемые частоты\n",
    "    k: uint\n",
    "        Количество интервалов, которое мы хотим получить на выходе.\n",
    "        Работает следующим образом:\n",
    "        если None, то мы просто объединяем интервалы с малой ожидаемой частотой с соседними. На выходе получаем k <= len(intervals).\n",
    "        если число, то мы сначала объединяем интервалы с малой ожидаемой частотой, получая k <= len(intervals),\n",
    "        а затем разбиваем интервалы, для которых ожидаемая частота большая, таким образом получая на выходе k >= len(intervals).\n",
    "    \"\"\"\n",
    "\n",
    "    bin_edges_copy = bin_edges.copy()\n",
    "    expected_frequencies_copy = expected_frequencies.copy()\n",
    "\n",
    "    # Шаг 1: Объединяем интервалы с малой частотой\n",
    "    i = 0\n",
    "    while True:\n",
    "        if expected_frequencies_copy[i] <= 5:\n",
    "            if i == 0:  # Крайний левый интервал\n",
    "                bin_edges_copy.pop(i + 1)\n",
    "                expected_frequencies_copy[i + 1] += expected_frequencies_copy[i]\n",
    "\n",
    "            elif i == len(bin_edges_copy) - 2:  # Крайний правый интервал\n",
    "                bin_edges_copy.pop(i)\n",
    "                expected_frequencies_copy[i - 1] += expected_frequencies_copy[i]\n",
    "            else:  # Объединяем с соседом c наименьшим expected_frequencies_copy\n",
    "                if expected_frequencies_copy[i - 1] < expected_frequencies_copy[i + 1]:\n",
    "                    bin_edges_copy.pop(i)\n",
    "                    expected_frequencies_copy[i - 1] += expected_frequencies_copy[i]\n",
    "                else:\n",
    "                    bin_edges_copy.pop(i + 1)\n",
    "                    expected_frequencies_copy[i + 1] += expected_frequencies_copy[i]\n",
    "            expected_frequencies_copy.pop(i)\n",
    "            i -= 1\n",
    "\n",
    "        i += 1\n",
    "        if i >= len(bin_edges_copy) - 1:\n",
    "            break\n",
    "\n",
    "    # Этап 2: Подразбиение интервалов c большими ожидаемыми частотами, если k != None\n",
    "    if k is not None:\n",
    "        while len(bin_edges_copy) < k + 1:\n",
    "            # Найти интервал с максимальной вероятностью\n",
    "            max_index = expected_frequencies_copy.index(max(expected_frequencies_copy))\n",
    "            a, b = bin_edges_copy[max_index : max_index + 2]\n",
    "            c = (a + b) / 2  # Точка разделения\n",
    "\n",
    "            # Ожидаемые частоты примерно поделятся пополам (допускается погрешность)\n",
    "            e_left = e_right = expected_frequencies_copy[max_index] / 2\n",
    "\n",
    "            bin_edges_copy.insert(max_index + 1, c)\n",
    "\n",
    "            expected_frequencies_copy[max_index] = e_left\n",
    "            expected_frequencies_copy.insert(max_index + 1, e_right)\n",
    "\n",
    "    return expected_frequencies_copy, bin_edges_copy"
   ]
  },
  {
   "cell_type": "code",
   "execution_count": 61,
   "metadata": {},
   "outputs": [
    {
     "data": {
      "text/plain": [
       "[34.03397434022345,\n",
       " 22.36953384918518,\n",
       " 22.36953384918518,\n",
       " 22.36953384918518,\n",
       " 22.36953384918518,\n",
       " 43.68381092445328,\n",
       " 43.68381092445328,\n",
       " 36.10779200994649]"
      ]
     },
     "execution_count": 61,
     "metadata": {},
     "output_type": "execute_result"
    }
   ],
   "source": [
    "expected_frequencies, bin_edges = adjust_intervals(\n",
    "    bin_edges.tolist(), expected_frequencies.tolist(), k=k\n",
    ")\n",
    "expected_frequencies"
   ]
  },
  {
   "cell_type": "code",
   "execution_count": 62,
   "metadata": {},
   "outputs": [
    {
     "data": {
      "image/png": "[encoded data removed]",
      "text/plain": [
       "<Figure size 800x550 with 1 Axes>"
      ]
     },
     "metadata": {},
     "output_type": "display_data"
    }
   ],
   "source": [
    "groups = pd.DataFrame(index=range(1, len(bin_edges)))\n",
    "groups[\"low edge\"] = bin_edges[:-1]\n",
    "groups[\"high edge\"] = bin_edges[1:]\n",
    "groups[\"frequency\"] = groups.apply(\n",
    "    lambda row: ((X >= row[\"low edge\"]) & (X < row[\"high edge\"])).sum(), axis=1\n",
    ")\n",
    "\n",
    "plt.bar(\n",
    "    (groups[\"high edge\"] + groups[\"low edge\"]) / 2,\n",
    "    groups[\"frequency\"],\n",
    "    width=groups[\"high edge\"] - groups[\"low edge\"],\n",
    "    edgecolor=\"black\",\n",
    ")\n",
    "plt.show()"
   ]
  },
  {
   "cell_type": "markdown",
   "metadata": {},
   "source": [
    "Гистограмма выглядит не слишком красиво, зато на интервалы всё разбито правильно."
   ]
  },
  {
   "cell_type": "code",
   "execution_count": 63,
   "metadata": {},
   "outputs": [
    {
     "data": {
      "text/markdown": [
       "Число интервалов: 8"
      ],
      "text/plain": [
       "<IPython.core.display.Markdown object>"
      ]
     },
     "metadata": {},
     "output_type": "display_data"
    },
    {
     "data": {
      "text/markdown": [
       "Ширина интервалов: от 7.65 до 152.91"
      ],
      "text/plain": [
       "<IPython.core.display.Markdown object>"
      ]
     },
     "metadata": {},
     "output_type": "display_data"
    }
   ],
   "source": [
    "mprint(\n",
    "    f\"Число интервалов: {k}\",\n",
    "    f\"Ширина интервалов: от {np.diff(bin_edges).min():.2f} до {np.diff(bin_edges).max():.2f}\",\n",
    ")"
   ]
  },
  {
   "cell_type": "markdown",
   "metadata": {},
   "source": [
    "| Число интервалов | Обоснование выбора числа интервалов                                                                               | Ширина интервалов |\n",
    "| ---------------- | ----------------------------------------------------------------------------------------------------------------- | ----------------- |\n",
    "| 8                | $k \\approx 1 + 1,3 \\ln{n}$ - формула Стерджесса $\\\\n \\cdot p_i \\gtrsim 5$ - поправка на чувствительность критерия | от 7.65 до 152.91 |\n",
    "\n"
   ]
  },
  {
   "cell_type": "markdown",
   "metadata": {},
   "source": [
    "### Построить таблицу частот"
   ]
  },
  {
   "cell_type": "markdown",
   "metadata": {},
   "source": [
    "Нужно пересчитать ожидаемые частоты, так как в функции объединения интервалов возникли погрешности."
   ]
  },
  {
   "cell_type": "code",
   "execution_count": 64,
   "metadata": {},
   "outputs": [
    {
     "data": {
      "text/plain": [
       "array([34.03397434, 17.66170356, 21.47264575, 24.4069558 , 25.93683028,\n",
       "       49.70475435, 37.6628675 , 36.10779201])"
      ]
     },
     "execution_count": 64,
     "metadata": {},
     "output_type": "execute_result"
    }
   ],
   "source": [
    "expected_frequencies = (\n",
    "    np.diff(stats.norm.cdf(bin_edges, loc=X.mean(), scale=X.std(ddof=1))) * n\n",
    ")\n",
    "expected_frequencies"
   ]
  },
  {
   "cell_type": "code",
   "execution_count": 65,
   "metadata": {},
   "outputs": [
    {
     "data": {
      "text/html": [
       "<div>\n",
       "<style scoped>\n",
       "    .dataframe tbody tr th:only-of-type {\n",
       "        vertical-align: middle;\n",
       "    }\n",
       "\n",
       "    .dataframe tbody tr th {\n",
       "        vertical-align: top;\n",
       "    }\n",
       "\n",
       "    .dataframe thead th {\n",
       "        text-align: right;\n",
       "    }\n",
       "</style>\n",
       "<table border=\"1\" class=\"dataframe\">\n",
       "  <thead>\n",
       "    <tr style=\"text-align: right;\">\n",
       "      <th></th>\n",
       "      <th>low edge</th>\n",
       "      <th>high edge</th>\n",
       "      <th>frequency</th>\n",
       "      <th>relative frequency</th>\n",
       "      <th>expected frequency</th>\n",
       "    </tr>\n",
       "  </thead>\n",
       "  <tbody>\n",
       "    <tr>\n",
       "      <th>1</th>\n",
       "      <td>118.500000</td>\n",
       "      <td>149.081250</td>\n",
       "      <td>31</td>\n",
       "      <td>0.123016</td>\n",
       "      <td>34.033974</td>\n",
       "    </tr>\n",
       "    <tr>\n",
       "      <th>2</th>\n",
       "      <td>149.081250</td>\n",
       "      <td>156.726562</td>\n",
       "      <td>25</td>\n",
       "      <td>0.099206</td>\n",
       "      <td>17.661704</td>\n",
       "    </tr>\n",
       "    <tr>\n",
       "      <th>3</th>\n",
       "      <td>156.726562</td>\n",
       "      <td>164.371875</td>\n",
       "      <td>28</td>\n",
       "      <td>0.111111</td>\n",
       "      <td>21.472646</td>\n",
       "    </tr>\n",
       "    <tr>\n",
       "      <th>4</th>\n",
       "      <td>164.371875</td>\n",
       "      <td>172.017187</td>\n",
       "      <td>30</td>\n",
       "      <td>0.119048</td>\n",
       "      <td>24.406956</td>\n",
       "    </tr>\n",
       "    <tr>\n",
       "      <th>5</th>\n",
       "      <td>172.017187</td>\n",
       "      <td>179.662500</td>\n",
       "      <td>27</td>\n",
       "      <td>0.107143</td>\n",
       "      <td>25.936830</td>\n",
       "    </tr>\n",
       "    <tr>\n",
       "      <th>6</th>\n",
       "      <td>179.662500</td>\n",
       "      <td>194.953125</td>\n",
       "      <td>42</td>\n",
       "      <td>0.166667</td>\n",
       "      <td>49.704754</td>\n",
       "    </tr>\n",
       "    <tr>\n",
       "      <th>7</th>\n",
       "      <td>194.953125</td>\n",
       "      <td>210.243750</td>\n",
       "      <td>34</td>\n",
       "      <td>0.134921</td>\n",
       "      <td>37.662867</td>\n",
       "    </tr>\n",
       "    <tr>\n",
       "      <th>8</th>\n",
       "      <td>210.243750</td>\n",
       "      <td>363.150000</td>\n",
       "      <td>34</td>\n",
       "      <td>0.134921</td>\n",
       "      <td>36.107792</td>\n",
       "    </tr>\n",
       "  </tbody>\n",
       "</table>\n",
       "</div>"
      ],
      "text/plain": [
       "     low edge   high edge  frequency  relative frequency  expected frequency\n",
       "1  118.500000  149.081250         31            0.123016           34.033974\n",
       "2  149.081250  156.726562         25            0.099206           17.661704\n",
       "3  156.726562  164.371875         28            0.111111           21.472646\n",
       "4  164.371875  172.017187         30            0.119048           24.406956\n",
       "5  172.017187  179.662500         27            0.107143           25.936830\n",
       "6  179.662500  194.953125         42            0.166667           49.704754\n",
       "7  194.953125  210.243750         34            0.134921           37.662867\n",
       "8  210.243750  363.150000         34            0.134921           36.107792"
      ]
     },
     "execution_count": 65,
     "metadata": {},
     "output_type": "execute_result"
    }
   ],
   "source": [
    "groups[\"relative frequency\"] = groups[\"frequency\"] / n\n",
    "groups[\"expected frequency\"] = expected_frequencies\n",
    "groups"
   ]
  },
  {
   "cell_type": "code",
   "execution_count": 66,
   "metadata": {},
   "outputs": [
    {
     "name": "stdout",
     "output_type": "stream",
     "text": [
      "| Index | low edge | high edge | frequency | relative frequency | expected frequency |\n",
      "|---|---|---|---|---|---|\n",
      "| 1 | 118.5 | 149.08 | 31.0 | 0.12 | 34.03 |\n",
      "| 2 | 149.08 | 156.73 | 25.0 | 0.1 | 17.66 |\n",
      "| 3 | 156.73 | 164.37 | 28.0 | 0.11 | 21.47 |\n",
      "| 4 | 164.37 | 172.02 | 30.0 | 0.12 | 24.41 |\n",
      "| 5 | 172.02 | 179.66 | 27.0 | 0.11 | 25.94 |\n",
      "| 6 | 179.66 | 194.95 | 42.0 | 0.17 | 49.7 |\n",
      "| 7 | 194.95 | 210.24 | 34.0 | 0.13 | 37.66 |\n",
      "| 8 | 210.24 | 363.15 | 34.0 | 0.13 | 36.11 |\n",
      "\n"
     ]
    }
   ],
   "source": [
    "print(dataframe_to_markdown(groups))"
   ]
  },
  {
   "cell_type": "markdown",
   "metadata": {},
   "source": [
    "| Номер интервала | Нижняя граница | Верхняя граница | Частота | Относительная частота | Вероятность попадания в интервал при условии истинности основной гипотезы |\n",
    "| --------------- | -------------- | --------------- | ------- | --------------------- | ------------------------------------------------------------------------- |\n",
    "| 1               | 118.5          | 149.08          | 31.0    | 0.12                  | 34.03                                                                     |\n",
    "| 2               | 149.08         | 156.73          | 25.0    | 0.1                   | 17.66                                                                     |\n",
    "| 3               | 156.73         | 164.37          | 28.0    | 0.11                  | 21.47                                                                     |\n",
    "| 4               | 164.37         | 172.02          | 30.0    | 0.12                  | 24.41                                                                     |\n",
    "| 5               | 172.02         | 179.66          | 27.0    | 0.11                  | 25.94                                                                     |\n",
    "| 6               | 179.66         | 194.95          | 42.0    | 0.17                  | 49.7                                                                      |\n",
    "| 7               | 194.95         | 210.24          | 34.0    | 0.13                  | 37.66                                                                     |\n",
    "| 8               | 210.24         | 363.15          | 34.0    | 0.13                  | 36.11                                                                     |"
   ]
  },
  {
   "cell_type": "markdown",
   "metadata": {},
   "source": [
    "### Построить гистограмму относительных частот и функцию плотности теоретического распределения на одном графике"
   ]
  },
  {
   "cell_type": "code",
   "execution_count": 67,
   "metadata": {},
   "outputs": [
    {
     "data": {
      "image/png": "[encoded data removed]",
      "text/plain": [
       "<Figure size 800x550 with 1 Axes>"
      ]
     },
     "metadata": {},
     "output_type": "display_data"
    }
   ],
   "source": [
    "grid = np.linspace(X.min() - 100, X.max() + 100, 1000)\n",
    "plt.hist(\n",
    "    X,\n",
    "    bins=bin_edges,\n",
    "    edgecolor=\"black\",\n",
    "    density=True,\n",
    "    label=\"Гистограмма относительных частот\",\n",
    "    color=\"orange\",\n",
    ")\n",
    "\n",
    "plt.plot(\n",
    "    grid,\n",
    "    stats.norm.pdf(grid, loc=X.mean(), scale=X.std(ddof=1)),\n",
    "    label=\"Плотность нормального распределения\",\n",
    "    lw=5,\n",
    ")\n",
    "plt.legend()\n",
    "plt.xlim(100, 400)\n",
    "plt.xlabel(\"Значения\")\n",
    "plt.show()"
   ]
  },
  {
   "cell_type": "markdown",
   "metadata": {},
   "source": [
    "### Проверить статистические гипотезы"
   ]
  },
  {
   "cell_type": "code",
   "execution_count": 68,
   "metadata": {},
   "outputs": [],
   "source": [
    "def chi2_gof(obs_frequency, exp_frequency, ddof=0):\n",
    "    k = len(obs_frequency)\n",
    "    z = sum((obs_frequency - exp_frequency) ** 2 / exp_frequency)\n",
    "    p_value = stats.chi2.sf(z, df=k - ddof - 1)\n",
    "    return z, p_value"
   ]
  },
  {
   "cell_type": "code",
   "execution_count": 69,
   "metadata": {},
   "outputs": [
    {
     "data": {
      "text/markdown": [
       "### $\\chi^2$-test"
      ],
      "text/plain": [
       "<IPython.core.display.Markdown object>"
      ]
     },
     "metadata": {},
     "output_type": "display_data"
    },
    {
     "data": {
      "text/markdown": [
       "$H_0: F_X(x) = N(\\mu, \\sigma)$"
      ],
      "text/plain": [
       "<IPython.core.display.Markdown object>"
      ]
     },
     "metadata": {},
     "output_type": "display_data"
    },
    {
     "data": {
      "text/markdown": [
       "$z_{выб} =$ 8.30"
      ],
      "text/plain": [
       "<IPython.core.display.Markdown object>"
      ]
     },
     "metadata": {},
     "output_type": "display_data"
    },
    {
     "data": {
      "text/markdown": [
       "$p =$ 0.14"
      ],
      "text/plain": [
       "<IPython.core.display.Markdown object>"
      ]
     },
     "metadata": {},
     "output_type": "display_data"
    },
    {
     "data": {
      "text/markdown": [
       "При $\\alpha = 0.01$ $H_0$ принимается"
      ],
      "text/plain": [
       "<IPython.core.display.Markdown object>"
      ]
     },
     "metadata": {},
     "output_type": "display_data"
    },
    {
     "data": {
      "text/markdown": [
       "При $\\alpha = 0.05$ $H_0$ принимается"
      ],
      "text/plain": [
       "<IPython.core.display.Markdown object>"
      ]
     },
     "metadata": {},
     "output_type": "display_data"
    },
    {
     "data": {
      "text/markdown": [
       "При $\\alpha = 0.1$ $H_0$ принимается"
      ],
      "text/plain": [
       "<IPython.core.display.Markdown object>"
      ]
     },
     "metadata": {},
     "output_type": "display_data"
    }
   ],
   "source": [
    "alphas = [0.01, 0.05, 0.1]\n",
    "\n",
    "z, p_value = chi2_gof(groups[\"frequency\"], groups[\"expected frequency\"], ddof=2)\n",
    "mprint(\n",
    "    r\"### $\\chi^2$-test\",\n",
    "    f\"$H_0: F_X(x) = N(\\\\mu, \\\\sigma)$\",\n",
    "    f\"$z_{{выб}} =$ {z:.2f}\",\n",
    "    f\"$p =$ {p_value:.2f}\",\n",
    ")\n",
    "\n",
    "for alpha in alphas:\n",
    "    mprint(f\"При $\\\\alpha = {alpha}$ {verdict(alpha, p_value)}\")"
   ]
  },
  {
   "cell_type": "markdown",
   "metadata": {},
   "source": [
    "## 4.2. Критерий Харке-Бера"
   ]
  },
  {
   "cell_type": "markdown",
   "metadata": {},
   "source": [
    "Статистическая гипотеза: $H_0:\\ X \\sim N;\\ \\ \\ H':\\ X \\nsim N$"
   ]
  },
  {
   "cell_type": "markdown",
   "metadata": {},
   "source": [
    "### Теоретическая справка"
   ]
  },
  {
   "cell_type": "markdown",
   "metadata": {},
   "source": [
    "Критерий Харке-Бера (Jarque-Bera) - это критерий проверки гипотезы о нормальности выборки:\n",
    "\n",
    "$H_0:\\ X \\sim N;\\ \\ \\ H':\\ X \\nsim N$\n",
    "\n",
    "Для проверки нормальности распределения нулевая гипотеза разбивается на две части:\n",
    "\n",
    "$$H_0^{(1)}: \\gamma_X = 0;\\ \\ \\ H'^{(1)}: \\gamma_X \\neq 0$$\n",
    "$$H_0^{(2)}: \\varepsilon_X = 0;\\ \\ \\ H'^{(2)}: \\varepsilon_X \\neq 0, где$$\n",
    "\n",
    "$\\gamma_X$ - [коэффициент асимметрии](#формулы), $\\varepsilon_X$ - [эксцесс](#формулы).\n",
    "\n",
    "Для этих гипотез используются следующие статистики:\n",
    "\n",
    "$Z_1 = \\dfrac{\\gamma^*_X}{\\sqrt{\\dfrac{6}{n}}};\\ \\ \\ Z_2 = \\dfrac{\\varepsilon^*_X}{\\sqrt{\\dfrac{24}{n}}}$, при этом $Z_1 \\mid_{H_0^{(1)}} \\sim N(0, 1);\\ \\ \\ Z_2 \\mid_{H_0^{(2)}} \\sim N(0, 1)$.\n",
    "\n",
    "Если хоть одна $H_0^{(1)}$ или $H_0^{(2)}$ отклоняется, то исходная гипотеза $H_0$ отклоняется.\n",
    "\n",
    "Для проверки основной гипотезы строится общая статистика: $Z = Z_1^2 + Z_2^2$, при этом $Z \\mid_{H_0} \\sim \\chi^2(2)$. Критическая область - правосторонняя."
   ]
  },
  {
   "cell_type": "markdown",
   "metadata": {},
   "source": [
    "### Указать формулы расчёта показателей, используемых при проверке статистических гипотез"
   ]
  },
  {
   "cell_type": "markdown",
   "metadata": {},
   "source": [
    "|                                                                                  | Выражение                                                                                                                         | Пояснение использованных обозначений                                                                                                    |\n",
    "| -------------------------------------------------------------------------------- | --------------------------------------------------------------------------------------------------------------------------------- | --------------------------------------------------------------------------------------------------------------------------------------- |\n",
    "| Формула расчёта статистики критерия                                              | $Z = Z^2_1 + Z^2_2$, где $\\\\Z_1 = \\dfrac{\\gamma^*_X}{\\sqrt{\\dfrac{6}{n}}};\\\\ Z_2 = \\dfrac{\\varepsilon^*_X}{\\sqrt{\\dfrac{24}{n}}}$ | $\\gamma^*_X$ - [выборочный коэффициент асимметрии](#формулы), $\\\\ \\varepsilon^*_X$ - [выборочный эксцесс](#формулы), $\\\\ n$ - объём выборки. |\n",
    "| Закон распределения статистики критерия при условии истинности основной гипотезы | $\\chi^2(2)$                                                                                                                       |                                                                                                                                         |\n",
    "| Формулы расчёта критической точки                                                | $\\chi^2_{1 - \\alpha,\\ 2}$                                                                                                         | Правосторонняя критическая область.              |\n",
    "| Формула расчёта $p$-value                                                        | $1 - F_Z(z_{\\text{выб}} \\mid H_0)$                                                                                                |                                                                                                                                         |"
   ]
  },
  {
   "cell_type": "markdown",
   "metadata": {},
   "source": [
    "### Проверить статистические гипотезы"
   ]
  },
  {
   "cell_type": "code",
   "execution_count": 70,
   "metadata": {},
   "outputs": [
    {
     "data": {
      "text/markdown": [
       "### Jarque-Bera test"
      ],
      "text/plain": [
       "<IPython.core.display.Markdown object>"
      ]
     },
     "metadata": {},
     "output_type": "display_data"
    },
    {
     "data": {
      "text/markdown": [
       "$H_0: F_X(x) = N(\\mu, \\sigma)$"
      ],
      "text/plain": [
       "<IPython.core.display.Markdown object>"
      ]
     },
     "metadata": {},
     "output_type": "display_data"
    },
    {
     "data": {
      "text/markdown": [
       "$z_{выб} =$ 337.89"
      ],
      "text/plain": [
       "<IPython.core.display.Markdown object>"
      ]
     },
     "metadata": {},
     "output_type": "display_data"
    },
    {
     "data": {
      "text/markdown": [
       "$p =$ 0.00"
      ],
      "text/plain": [
       "<IPython.core.display.Markdown object>"
      ]
     },
     "metadata": {},
     "output_type": "display_data"
    },
    {
     "data": {
      "text/markdown": [
       "При $\\alpha = 0.01$ $H_0$ отклоняется"
      ],
      "text/plain": [
       "<IPython.core.display.Markdown object>"
      ]
     },
     "metadata": {},
     "output_type": "display_data"
    },
    {
     "data": {
      "text/markdown": [
       "При $\\alpha = 0.05$ $H_0$ отклоняется"
      ],
      "text/plain": [
       "<IPython.core.display.Markdown object>"
      ]
     },
     "metadata": {},
     "output_type": "display_data"
    },
    {
     "data": {
      "text/markdown": [
       "При $\\alpha = 0.1$ $H_0$ отклоняется"
      ],
      "text/plain": [
       "<IPython.core.display.Markdown object>"
      ]
     },
     "metadata": {},
     "output_type": "display_data"
    }
   ],
   "source": [
    "z, p_value = stats.jarque_bera(X)\n",
    "mprint(\n",
    "    r\"### Jarque-Bera test\",\n",
    "    f\"$H_0: F_X(x) = N(\\\\mu, \\\\sigma)$\",\n",
    "    f\"$z_{{выб}} =$ {z:.2f}\",\n",
    "    f\"$p =$ {p_value:.2f}\",\n",
    ")\n",
    "\n",
    "for alpha in alphas:\n",
    "    mprint(f\"При $\\\\alpha = {alpha}$ {verdict(alpha, p_value)}\")"
   ]
  },
  {
   "cell_type": "markdown",
   "metadata": {},
   "source": [
    "| Уровень значимости | Выборочное значение статистического критерия | $p$-value | Статистическое решение | Вывод       |\n",
    "| ------------------ | -------------------------------------------- | --------- | ---------------------- | ----------- |\n",
    "| 0.01               | 337.89                                       | 0.0       | $H_0$ отклоняется      | $X \\nsim N$ |\n",
    "| 0.05               | 337.89                                       | 0.0       | $H_0$ отклоняется      | $X \\nsim N$ |\n",
    "| 0.1                | 337.89                                       | 0.0       | $H_0$ отклоняется      | $X \\nsim N$ |"
   ]
  },
  {
   "cell_type": "markdown",
   "metadata": {},
   "source": [
    "Вывод (в терминах предметной области): \n",
    "\n",
    "В результате проведённого в п.4 статистического анализа обнаружено, что критерий $\\chi^2$ не отвергает гипотезу о нормальности распределения, но критерий Харке-Бера отвергает её.\n",
    "\n",
    "Так как для этих данных критерий Харке-Бера более чувствителен, чем критерий $\\chi^2$, то можно сделать вывод, что выборка `B7` (Weight (lbs)) не имеет нормального распределения."
   ]
  },
  {
   "cell_type": "markdown",
   "metadata": {},
   "source": [
    "# Раздел 5. Проверка однородности выборок"
   ]
  },
  {
   "cell_type": "markdown",
   "metadata": {},
   "source": [
    "## Условие"
   ]
  },
  {
   "cell_type": "markdown",
   "metadata": {},
   "source": [
    "Анализируемый признак 1 – `B11` (Abdomen circumference (cm))\n",
    "\n",
    "Анализируемый признак 2 – `B12` (Hip circumference (cm))\n",
    "\n",
    "Объёмы выборок – $n_1 = n_2 = 252$"
   ]
  },
  {
   "cell_type": "markdown",
   "metadata": {},
   "source": [
    "## Определения"
   ]
  },
  {
   "cell_type": "code",
   "execution_count": 132,
   "metadata": {},
   "outputs": [
    {
     "data": {
      "text/plain": [
       "(0     85.2\n",
       " 1     83.0\n",
       " 2     87.9\n",
       " 3     86.4\n",
       " 4    100.0\n",
       " Name: B11, dtype: float64,\n",
       " 0     94.5\n",
       " 1     98.7\n",
       " 2     99.2\n",
       " 3    101.2\n",
       " 4    101.9\n",
       " Name: B12, dtype: float64)"
      ]
     },
     "execution_count": 132,
     "metadata": {},
     "output_type": "execute_result"
    }
   ],
   "source": [
    "X, Y = data(\"5\")\n",
    "\n",
    "X.head(), Y.head()"
   ]
  },
  {
   "cell_type": "code",
   "execution_count": 133,
   "metadata": {},
   "outputs": [
    {
     "name": "stdout",
     "output_type": "stream",
     "text": [
      "252 252\n"
     ]
    }
   ],
   "source": [
    "print(n1 := len(X), n2 := len(Y))"
   ]
  },
  {
   "cell_type": "markdown",
   "metadata": {},
   "source": [
    "## 5.1 Критерий знаков"
   ]
  },
  {
   "cell_type": "markdown",
   "metadata": {},
   "source": [
    "Статистическая гипотеза: $H_0:\\ F_{X}(x) = F_{Y}(x);\\ \\ \\ H':\\ F_{X}(x) \\neq F_{Y}(x)$"
   ]
  },
  {
   "cell_type": "markdown",
   "metadata": {},
   "source": [
    "### Указать формулы расчёта показателей, используемых при проверке статистических гипотез"
   ]
  },
  {
   "cell_type": "markdown",
   "metadata": {},
   "source": [
    "|                                                                                  | Выражение                                                                                                                         | Пояснение использованных обозначений                                                                                                    |\n",
    "| -------------------------------------------------------------------------------- | --------------------------------------------------------------------------------------------------------------------------------- | --------------------------------------------------------------------------------------------------------------------------------------- |\n",
    "| Формула расчёта статистики критерия                                              | $Z = \\dfrac{K_+ - \\dfrac{n}{2}}{\\sqrt{\\dfrac{n}{4}}}$ | $K_+$ - количество знаков `+` в выборке $z_1, \\dots, z_n = x_1 - y_1, \\dots, x_n - y_n$ |\n",
    "| Закон распределения статистики критерия при условии истинности основной гипотезы | $N(0, 1)$                                                                                                                       |                                                                                                                                         |\n",
    "| Формулы расчёта критической точки                                                | $\\pm u_{1 - \\frac{\\alpha}{2}}$                                                                                                         | Двусторонняя критическая область.              |\n",
    "| Формула расчёта $p$-value                                                        | $2\\min(F_Z(z_{\\text{выб}} \\mid H_0),\\ 1 - F_Z(z_{\\text{выб}} \\mid H_0))$                                                                                                |                                                                                                                                         |\n"
   ]
  },
  {
   "cell_type": "markdown",
   "metadata": {},
   "source": [
    "### Проверить статистические гипотезы"
   ]
  },
  {
   "cell_type": "code",
   "execution_count": 76,
   "metadata": {},
   "outputs": [],
   "source": [
    "def sign_test(X, Y):\n",
    "    if len(X) != len(Y):\n",
    "        raise ValueError(\"Длины выборок должны совпадать\")\n",
    "    n = len(X)\n",
    "    k = sum(X > Y)\n",
    "    z = (k - n / 2) / m.sqrt(n / 4)\n",
    "    p_value = 2 * min(stats.norm.cdf(z), 1 - stats.norm.cdf(z))\n",
    "    return z, p_value"
   ]
  },
  {
   "cell_type": "code",
   "execution_count": 77,
   "metadata": {},
   "outputs": [
    {
     "data": {
      "text/markdown": [
       "### Sign test"
      ],
      "text/plain": [
       "<IPython.core.display.Markdown object>"
      ]
     },
     "metadata": {},
     "output_type": "display_data"
    },
    {
     "data": {
      "text/markdown": [
       "$H_0: F_X(x) = F_Y(x)$"
      ],
      "text/plain": [
       "<IPython.core.display.Markdown object>"
      ]
     },
     "metadata": {},
     "output_type": "display_data"
    },
    {
     "data": {
      "text/markdown": [
       "$z_{выб} =$ -12.72"
      ],
      "text/plain": [
       "<IPython.core.display.Markdown object>"
      ]
     },
     "metadata": {},
     "output_type": "display_data"
    },
    {
     "data": {
      "text/markdown": [
       "$p =$ 0.00"
      ],
      "text/plain": [
       "<IPython.core.display.Markdown object>"
      ]
     },
     "metadata": {},
     "output_type": "display_data"
    },
    {
     "data": {
      "text/markdown": [
       "При $\\alpha = 0.01$ $H_0$ отклоняется"
      ],
      "text/plain": [
       "<IPython.core.display.Markdown object>"
      ]
     },
     "metadata": {},
     "output_type": "display_data"
    },
    {
     "data": {
      "text/markdown": [
       "При $\\alpha = 0.05$ $H_0$ отклоняется"
      ],
      "text/plain": [
       "<IPython.core.display.Markdown object>"
      ]
     },
     "metadata": {},
     "output_type": "display_data"
    },
    {
     "data": {
      "text/markdown": [
       "При $\\alpha = 0.1$ $H_0$ отклоняется"
      ],
      "text/plain": [
       "<IPython.core.display.Markdown object>"
      ]
     },
     "metadata": {},
     "output_type": "display_data"
    }
   ],
   "source": [
    "alphas = [0.01, 0.05, 0.1]\n",
    "\n",
    "z, p_value = sign_test(X, Y)\n",
    "mprint(\n",
    "    r\"### Sign test\",\n",
    "    f\"$H_0: F_X(x) = F_Y(x)$\",\n",
    "    f\"$z_{{выб}} =$ {z:.2f}\",\n",
    "    f\"$p =$ {p_value:.2f}\",\n",
    ")\n",
    "\n",
    "for alpha in alphas:\n",
    "    mprint(f\"При $\\\\alpha = {alpha}$ {verdict(alpha, p_value)}\")"
   ]
  },
  {
   "cell_type": "markdown",
   "metadata": {},
   "source": [
    "| Уровень значимости | Выборочное значение статистического критерия | $p$-value | Статистическое решение | Вывод                    |\n",
    "| ------------------ | -------------------------------------------- | --------- | ---------------------- | ------------------------ |\n",
    "| 0.01               | -12.72                                       | 0.00      | $H_0$ отклоняется      | $F_{X}(x) \\neq F_{Y}(x)$ |\n",
    "| 0.05               | -12.72                                       | 0.00      | $H_0$ отклоняется      | $F_{X}(x) \\neq F_{Y}(x)$ |\n",
    "| 0.1                | -12.72                                       | 0.00      | $H_0$ отклоняется      | $F_{X}(x) \\neq F_{Y}(x)$ |"
   ]
  },
  {
   "cell_type": "markdown",
   "metadata": {},
   "source": [
    "## 5.2 Критерий $\\chi^2$"
   ]
  },
  {
   "cell_type": "markdown",
   "metadata": {},
   "source": [
    "Статистическая гипотеза: $H_0:\\ F_{X}(x) = F_{Y}(x);\\ \\ \\ H':\\ F_{X}(x) \\neq F_{Y}(x)$"
   ]
  },
  {
   "cell_type": "markdown",
   "metadata": {},
   "source": [
    "### Указать формулы расчёта показателей, используемых при проверке статистических гипотез"
   ]
  },
  {
   "cell_type": "markdown",
   "metadata": {},
   "source": [
    "|                                                                                  | Выражение                                                                                                                         | Пояснение использованных обозначений                                                                                                    |\n",
    "| -------------------------------------------------------------------------------- | --------------------------------------------------------------------------------------------------------------------------------- | --------------------------------------------------------------------------------------------------------------------------------------- |\n",
    "| Формула расчёта статистики критерия                                              | $Z = nm\\sum\\limits_{i=1}^{k}\\dfrac{1}{n_i+m_i}\\left(\\dfrac{n_i}{n} + \\dfrac{m_i}{m}\\right)$ | $k$ - число интервалов в группированном статистическом ряду. $\\\\$ $n_i$ - частота попадания случайной величины $\\mathbf X$ в интервал $\\Delta_i$. $\\\\$ $m_i$ - частота попадания случайной величины $\\mathbf X$ в интервал $\\Delta_i$. $\\\\$ $n$ - объём выборки $x_1, \\dots, x_n$ $\\\\$ $m$ - объём выборки $y_1, \\dots, y_m$ |\n",
    "| Закон распределения статистики критерия при условии истинности основной гипотезы | $\\chi^2(k - 1)$                                                                                                                       |                                                                                                                                         |\n",
    "| Формулы расчёта критической точки                                                | $\\chi^2_{1 - \\alpha,\\ k - 1}$                                                                                                         | Правосторонняя критическая область.              |\n",
    "| Формула расчёта $p$-value                                                        | $1 - F_Z(z_{\\text{выб}} \\mid H_0)$                                                                                                |                                                                                                                                         |"
   ]
  },
  {
   "cell_type": "markdown",
   "metadata": {},
   "source": [
    "### Выбрать число групп"
   ]
  },
  {
   "cell_type": "markdown",
   "metadata": {},
   "source": [
    "Обычно выбирают число групп по формуле Стерджесса: $k \\approx 1 + 1,3 \\ln{\\max(n, m)}$.\n",
    "\n",
    "Однако критерий $\\chi^2$ чувствителен к группам, для которых $n_i + m_i$ меньше 5. Поэтому при группировке нужно учитывать это.\n",
    "\n",
    "Рассмотрим данный пример:"
   ]
  },
  {
   "cell_type": "code",
   "execution_count": 134,
   "metadata": {},
   "outputs": [
    {
     "data": {
      "image/png": "[encoded data removed]",
      "text/plain": [
       "<Figure size 800x550 with 1 Axes>"
      ]
     },
     "metadata": {},
     "output_type": "display_data"
    }
   ],
   "source": [
    "k = round(1 + 1.3 * m.log(max(n1, n2)))\n",
    "\n",
    "frequences, bin_edges, _ = plt.hist((X, Y), bins=k, edgecolor=\"black\", stacked=True)\n",
    "plt.show()"
   ]
  },
  {
   "cell_type": "markdown",
   "metadata": {},
   "source": [
    "Посмотрим на значения $n_i + m_i$ для каждого интервала."
   ]
  },
  {
   "cell_type": "code",
   "execution_count": 137,
   "metadata": {},
   "outputs": [
    {
     "data": {
      "text/plain": [
       "array([ 23.,  89., 192., 156.,  39.,   3.,   0.,   2.])"
      ]
     },
     "execution_count": 137,
     "metadata": {},
     "output_type": "execute_result"
    }
   ],
   "source": [
    "frequences[1]"
   ]
  },
  {
   "cell_type": "markdown",
   "metadata": {},
   "source": [
    "Как видим, для последних трёх интервалов $n_i + m_i < 5$. Условие $n_i + m_i \\gtrsim 5$ не выполняется.\n",
    "\n",
    "Следует объединить эти интервалы с соседними, пока это условие не будет выполнено."
   ]
  },
  {
   "cell_type": "code",
   "execution_count": 140,
   "metadata": {},
   "outputs": [
    {
     "data": {
      "text/plain": [
       "[23.0, 89.0, 48.0, 48.0, 96.0, 78.0, 78.0, 44.0]"
      ]
     },
     "execution_count": 140,
     "metadata": {},
     "output_type": "execute_result"
    }
   ],
   "source": [
    "frequences, bin_edges = adjust_intervals(\n",
    "    bin_edges.tolist(), frequences[1].tolist(), k=k\n",
    ")\n",
    "\n",
    "frequences  # неточное значение. нужно пересчитать будет"
   ]
  },
  {
   "cell_type": "code",
   "execution_count": 141,
   "metadata": {},
   "outputs": [
    {
     "data": {
      "image/png": "[encoded data removed]",
      "text/plain": [
       "<Figure size 800x550 with 1 Axes>"
      ]
     },
     "metadata": {},
     "output_type": "display_data"
    }
   ],
   "source": [
    "frequences, bin_edges, _ = plt.hist(\n",
    "    (X, Y), bins=bin_edges, edgecolor=\"black\", stacked=True\n",
    ")\n",
    "plt.show()"
   ]
  },
  {
   "cell_type": "code",
   "execution_count": 142,
   "metadata": {},
   "outputs": [
    {
     "data": {
      "text/plain": [
       "array([ 23.,  89.,  39.,  39., 114., 101.,  55.,  44.])"
      ]
     },
     "execution_count": 142,
     "metadata": {},
     "output_type": "execute_result"
    }
   ],
   "source": [
    "frequences[1]"
   ]
  },
  {
   "cell_type": "markdown",
   "metadata": {},
   "source": [
    "Теперь группировка выборок проведена правильно."
   ]
  },
  {
   "cell_type": "code",
   "execution_count": 144,
   "metadata": {},
   "outputs": [
    {
     "data": {
      "text/markdown": [
       "Число интервалов: 8"
      ],
      "text/plain": [
       "<IPython.core.display.Markdown object>"
      ]
     },
     "metadata": {},
     "output_type": "display_data"
    },
    {
     "data": {
      "text/markdown": [
       "Ширина интервалов: от 2.46 до 39.35"
      ],
      "text/plain": [
       "<IPython.core.display.Markdown object>"
      ]
     },
     "metadata": {},
     "output_type": "display_data"
    }
   ],
   "source": [
    "mprint(\n",
    "    f\"Число интервалов: {k}\",\n",
    "    f\"Ширина интервалов: от {np.diff(bin_edges).min():.2f} до {np.diff(bin_edges).max():.2f}\",\n",
    ")"
   ]
  },
  {
   "cell_type": "markdown",
   "metadata": {},
   "source": [
    "| Число интервалов | Обоснование выбора числа интервалов                                                                               | Ширина интервалов |\n",
    "| ---------------- | ----------------------------------------------------------------------------------------------------------------- | ----------------- |\n",
    "| 8                | $k \\approx 1 + 1.3 \\ln \\max(n, m)$ - формула Стерджесса $\\\\n_i + m_i \\gtrsim 5$ - поправка на чувствительность критерия | от 2.46 до 39.35 |\n",
    "\n"
   ]
  },
  {
   "cell_type": "markdown",
   "metadata": {},
   "source": [
    "### Построить таблицу частот"
   ]
  },
  {
   "cell_type": "code",
   "execution_count": 147,
   "metadata": {},
   "outputs": [
    {
     "data": {
      "text/html": [
       "<div>\n",
       "<style scoped>\n",
       "    .dataframe tbody tr th:only-of-type {\n",
       "        vertical-align: middle;\n",
       "    }\n",
       "\n",
       "    .dataframe tbody tr th {\n",
       "        vertical-align: top;\n",
       "    }\n",
       "\n",
       "    .dataframe thead th {\n",
       "        text-align: right;\n",
       "    }\n",
       "</style>\n",
       "<table border=\"1\" class=\"dataframe\">\n",
       "  <thead>\n",
       "    <tr style=\"text-align: right;\">\n",
       "      <th></th>\n",
       "      <th>low edge</th>\n",
       "      <th>high edge</th>\n",
       "      <th>frequency1</th>\n",
       "      <th>frequency2</th>\n",
       "      <th>relative frequency1</th>\n",
       "      <th>relative frequency2</th>\n",
       "    </tr>\n",
       "  </thead>\n",
       "  <tbody>\n",
       "    <tr>\n",
       "      <th>1</th>\n",
       "      <td>69.400000</td>\n",
       "      <td>79.237500</td>\n",
       "      <td>23.0</td>\n",
       "      <td>0.0</td>\n",
       "      <td>0.091270</td>\n",
       "      <td>0.000000</td>\n",
       "    </tr>\n",
       "    <tr>\n",
       "      <th>2</th>\n",
       "      <td>79.237500</td>\n",
       "      <td>89.075000</td>\n",
       "      <td>77.0</td>\n",
       "      <td>12.0</td>\n",
       "      <td>0.305556</td>\n",
       "      <td>0.047619</td>\n",
       "    </tr>\n",
       "    <tr>\n",
       "      <th>3</th>\n",
       "      <td>89.075000</td>\n",
       "      <td>91.534375</td>\n",
       "      <td>29.0</td>\n",
       "      <td>10.0</td>\n",
       "      <td>0.115079</td>\n",
       "      <td>0.039683</td>\n",
       "    </tr>\n",
       "    <tr>\n",
       "      <th>4</th>\n",
       "      <td>91.534375</td>\n",
       "      <td>93.993750</td>\n",
       "      <td>19.0</td>\n",
       "      <td>20.0</td>\n",
       "      <td>0.075397</td>\n",
       "      <td>0.079365</td>\n",
       "    </tr>\n",
       "    <tr>\n",
       "      <th>5</th>\n",
       "      <td>93.993750</td>\n",
       "      <td>98.912500</td>\n",
       "      <td>38.0</td>\n",
       "      <td>76.0</td>\n",
       "      <td>0.150794</td>\n",
       "      <td>0.301587</td>\n",
       "    </tr>\n",
       "    <tr>\n",
       "      <th>6</th>\n",
       "      <td>98.912500</td>\n",
       "      <td>103.831250</td>\n",
       "      <td>28.0</td>\n",
       "      <td>73.0</td>\n",
       "      <td>0.111111</td>\n",
       "      <td>0.289683</td>\n",
       "    </tr>\n",
       "    <tr>\n",
       "      <th>7</th>\n",
       "      <td>103.831250</td>\n",
       "      <td>108.750000</td>\n",
       "      <td>20.0</td>\n",
       "      <td>35.0</td>\n",
       "      <td>0.079365</td>\n",
       "      <td>0.138889</td>\n",
       "    </tr>\n",
       "    <tr>\n",
       "      <th>8</th>\n",
       "      <td>108.750000</td>\n",
       "      <td>148.100000</td>\n",
       "      <td>18.0</td>\n",
       "      <td>26.0</td>\n",
       "      <td>0.071429</td>\n",
       "      <td>0.103175</td>\n",
       "    </tr>\n",
       "  </tbody>\n",
       "</table>\n",
       "</div>"
      ],
      "text/plain": [
       "     low edge   high edge  frequency1  frequency2  relative frequency1  \\\n",
       "1   69.400000   79.237500        23.0         0.0             0.091270   \n",
       "2   79.237500   89.075000        77.0        12.0             0.305556   \n",
       "3   89.075000   91.534375        29.0        10.0             0.115079   \n",
       "4   91.534375   93.993750        19.0        20.0             0.075397   \n",
       "5   93.993750   98.912500        38.0        76.0             0.150794   \n",
       "6   98.912500  103.831250        28.0        73.0             0.111111   \n",
       "7  103.831250  108.750000        20.0        35.0             0.079365   \n",
       "8  108.750000  148.100000        18.0        26.0             0.071429   \n",
       "\n",
       "   relative frequency2  \n",
       "1             0.000000  \n",
       "2             0.047619  \n",
       "3             0.039683  \n",
       "4             0.079365  \n",
       "5             0.301587  \n",
       "6             0.289683  \n",
       "7             0.138889  \n",
       "8             0.103175  "
      ]
     },
     "execution_count": 147,
     "metadata": {},
     "output_type": "execute_result"
    }
   ],
   "source": [
    "groups = pd.DataFrame(index=range(1, len(bin_edges)))\n",
    "groups[\"low edge\"] = bin_edges[:-1]\n",
    "groups[\"high edge\"] = bin_edges[1:]\n",
    "groups[\"frequency1\"] = frequences[0]\n",
    "groups[\"frequency2\"] = frequences[1] - frequences[0]\n",
    "groups[\"relative frequency1\"] = groups[\"frequency1\"] / n1\n",
    "groups[\"relative frequency2\"] = groups[\"frequency2\"] / n2\n",
    "\n",
    "groups"
   ]
  },
  {
   "cell_type": "code",
   "execution_count": 148,
   "metadata": {},
   "outputs": [
    {
     "name": "stdout",
     "output_type": "stream",
     "text": [
      "| Index | low edge | high edge | frequency1 | frequency2 | relative frequency1 | relative frequency2 |\n",
      "|---|---|---|---|---|---|---|\n",
      "| 1 | 69.4 | 79.24 | 23.0 | 0.0 | 0.09 | 0.0 |\n",
      "| 2 | 79.24 | 89.08 | 77.0 | 12.0 | 0.31 | 0.05 |\n",
      "| 3 | 89.08 | 91.53 | 29.0 | 10.0 | 0.12 | 0.04 |\n",
      "| 4 | 91.53 | 93.99 | 19.0 | 20.0 | 0.08 | 0.08 |\n",
      "| 5 | 93.99 | 98.91 | 38.0 | 76.0 | 0.15 | 0.3 |\n",
      "| 6 | 98.91 | 103.83 | 28.0 | 73.0 | 0.11 | 0.29 |\n",
      "| 7 | 103.83 | 108.75 | 20.0 | 35.0 | 0.08 | 0.14 |\n",
      "| 8 | 108.75 | 148.1 | 18.0 | 26.0 | 0.07 | 0.1 |\n",
      "\n"
     ]
    }
   ],
   "source": [
    "print(dataframe_to_markdown(groups))"
   ]
  },
  {
   "cell_type": "markdown",
   "metadata": {},
   "source": [
    "| Номер интервала | Нижняя граница | Верхняя граница | Частота признака 1 | Частота признака 2 | Относительная частота признака 1 | Относительная частота признака 2 |\n",
    "| --------------- | -------------- | --------------- | ------------------ | ------------------ | -------------------------------- | -------------------------------- |\n",
    "| 1               | 69.4           | 79.24           | 23.0               | 0.0                | 0.09                             | 0.0                              |\n",
    "| 2               | 79.24          | 89.08           | 77.0               | 12.0               | 0.31                             | 0.05                             |\n",
    "| 3               | 89.08          | 91.53           | 29.0               | 10.0               | 0.12                             | 0.04                             |\n",
    "| 4               | 91.53          | 93.99           | 19.0               | 20.0               | 0.08                             | 0.08                             |\n",
    "| 5               | 93.99          | 98.91           | 38.0               | 76.0               | 0.15                             | 0.3                              |\n",
    "| 6               | 98.91          | 103.83          | 28.0               | 73.0               | 0.11                             | 0.29                             |\n",
    "| 7               | 103.83         | 108.75          | 20.0               | 35.0               | 0.08                             | 0.14                             |\n",
    "| 8               | 108.75         | 148.1           | 18.0               | 26.0               | 0.07                             | 0.1                              |"
   ]
  },
  {
   "cell_type": "markdown",
   "metadata": {},
   "source": [
    "### Построить гистограммы относительных частот на одном графике"
   ]
  },
  {
   "cell_type": "code",
   "execution_count": 167,
   "metadata": {},
   "outputs": [
    {
     "data": {
      "image/png": "[encoded data removed]",
      "text/plain": [
       "<Figure size 800x550 with 1 Axes>"
      ]
     },
     "metadata": {},
     "output_type": "display_data"
    }
   ],
   "source": [
    "plt.hist(\n",
    "    X,\n",
    "    bins=bin_edges,\n",
    "    edgecolor=\"black\",\n",
    "    density=True,\n",
    "    label=\"Выборка X\",\n",
    "    color=\"orange\",\n",
    "    lw=2,\n",
    ")\n",
    "plt.hist(\n",
    "    Y,\n",
    "    bins=bin_edges,\n",
    "    edgecolor=\"black\",\n",
    "    density=True,\n",
    "    label=\"Выборка Y\",\n",
    "    alpha=0.7,\n",
    "    linestyle=\"--\",\n",
    "    lw=2,\n",
    "    color=\"blue\",\n",
    ")\n",
    "plt.legend()\n",
    "plt.title(\"Гистограммы относительных частот\")\n",
    "plt.xlabel(\"Значения\")\n",
    "plt.ylabel(\"Относительная частота\")\n",
    "plt.show()"
   ]
  },
  {
   "cell_type": "markdown",
   "metadata": {},
   "source": [
    "### Проверить статистические гипотезы"
   ]
  },
  {
   "cell_type": "code",
   "execution_count": 169,
   "metadata": {},
   "outputs": [],
   "source": [
    "def chi2_2samp(frequencies1, frequencies2):\n",
    "    if len(frequencies1) != len(frequencies2):\n",
    "        raise ValueError(\"Длины выборок должны совпадать\")\n",
    "    k = len(frequencies1)\n",
    "    n = sum(frequencies1)\n",
    "    m = sum(frequencies2)\n",
    "    z = (\n",
    "        n\n",
    "        * m\n",
    "        * sum(\n",
    "            (frequencies1 / n - frequencies2 / m) ** 2 / (frequencies1 + frequencies2)\n",
    "        )\n",
    "    )\n",
    "    p_value = stats.chi2.sf(z, df=k - 1)\n",
    "    return z, p_value"
   ]
  },
  {
   "cell_type": "code",
   "execution_count": 170,
   "metadata": {},
   "outputs": [
    {
     "data": {
      "text/markdown": [
       "### $\\chi^2$-test"
      ],
      "text/plain": [
       "<IPython.core.display.Markdown object>"
      ]
     },
     "metadata": {},
     "output_type": "display_data"
    },
    {
     "data": {
      "text/markdown": [
       "$H_0: F_X(x) = F_Y(x)$"
      ],
      "text/plain": [
       "<IPython.core.display.Markdown object>"
      ]
     },
     "metadata": {},
     "output_type": "display_data"
    },
    {
     "data": {
      "text/markdown": [
       "$z_{выб} =$ 118.02"
      ],
      "text/plain": [
       "<IPython.core.display.Markdown object>"
      ]
     },
     "metadata": {},
     "output_type": "display_data"
    },
    {
     "data": {
      "text/markdown": [
       "$p =$ 0.00"
      ],
      "text/plain": [
       "<IPython.core.display.Markdown object>"
      ]
     },
     "metadata": {},
     "output_type": "display_data"
    },
    {
     "data": {
      "text/markdown": [
       "При $\\alpha = 0.01$ $H_0$ отклоняется"
      ],
      "text/plain": [
       "<IPython.core.display.Markdown object>"
      ]
     },
     "metadata": {},
     "output_type": "display_data"
    },
    {
     "data": {
      "text/markdown": [
       "При $\\alpha = 0.05$ $H_0$ отклоняется"
      ],
      "text/plain": [
       "<IPython.core.display.Markdown object>"
      ]
     },
     "metadata": {},
     "output_type": "display_data"
    },
    {
     "data": {
      "text/markdown": [
       "При $\\alpha = 0.1$ $H_0$ отклоняется"
      ],
      "text/plain": [
       "<IPython.core.display.Markdown object>"
      ]
     },
     "metadata": {},
     "output_type": "display_data"
    }
   ],
   "source": [
    "alphas = [0.01, 0.05, 0.1]\n",
    "\n",
    "z, p_value = chi2_2samp(groups[\"frequency1\"], groups[\"frequency2\"])\n",
    "mprint(\n",
    "    r\"### $\\chi^2$-test\",\n",
    "    f\"$H_0: F_X(x) = F_Y(x)$\",\n",
    "    f\"$z_{{выб}} =$ {z:.2f}\",\n",
    "    f\"$p =$ {p_value:.2f}\",\n",
    ")\n",
    "\n",
    "for alpha in alphas:\n",
    "    mprint(f\"При $\\\\alpha = {alpha}$ {verdict(alpha, p_value)}\")"
   ]
  },
  {
   "cell_type": "markdown",
   "metadata": {},
   "source": [
    "| Уровень значимости | Выборочное значение статистического критерия | $p$-value | Статистическое решение | Вывод                    |\n",
    "| ------------------ | -------------------------------------------- | --------- | ---------------------- | ------------------------ |\n",
    "| 0.01               | 118.02                                       | 0.0       | $H_0$ отклоняется      | $F_{X}(x) \\neq F_{Y}(x)$ |\n",
    "| 0.05               | 118.02                                       | 0.0       | $H_0$ отклоняется      | $F_{X}(x) \\neq F_{Y}(x)$ |\n",
    "| 0.1                | 118.02                                       | 0.0       | $H_0$ отклоняется      | $F_{X}(x) \\neq F_{Y}(x)$ |"
   ]
  },
  {
   "cell_type": "markdown",
   "metadata": {},
   "source": [
    "### Вывод (в терминах предметной области)"
   ]
  },
  {
   "cell_type": "markdown",
   "metadata": {},
   "source": [
    "В результате проведённого в п.5 статистического анализа обнаружено, что выборки `B11` (Abdomen circumference (cm)) и `B12` (Hip circumference (cm)) неоднородны."
   ]
  }
 ],
 "metadata": {
  "kernelspec": {
   "display_name": ".venv",
   "language": "python",
   "name": "python3"
  },
  "language_info": {
   "codemirror_mode": {
    "name": "ipython",
    "version": 3
   },
   "file_extension": ".py",
   "mimetype": "text/x-python",
   "name": "python",
   "nbconvert_exporter": "python",
   "pygments_lexer": "ipython3",
   "version": "3.13.0"
  }
 },
 "nbformat": 4,
 "nbformat_minor": 2
}
