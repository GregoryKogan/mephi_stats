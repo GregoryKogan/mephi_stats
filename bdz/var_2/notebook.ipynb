{
 "cells": [
  {
   "cell_type": "markdown",
   "metadata": {},
   "source": [
    "# Вариант №2."
   ]
  },
  {
   "cell_type": "code",
   "execution_count": 231,
   "metadata": {},
   "outputs": [],
   "source": [
    "variant = 2"
   ]
  },
  {
   "cell_type": "markdown",
   "metadata": {},
   "source": [
    "Если что, ячейки можно скрывать по разделам `Markdown`."
   ]
  },
  {
   "cell_type": "markdown",
   "metadata": {},
   "source": [
    "# Импорты и определения"
   ]
  },
  {
   "cell_type": "markdown",
   "metadata": {},
   "source": [
    "### Библиотеки и их настройка"
   ]
  },
  {
   "cell_type": "code",
   "execution_count": 232,
   "metadata": {},
   "outputs": [],
   "source": [
    "import numpy as np\n",
    "import pandas as pd\n",
    "from scipy import stats\n",
    "import matplotlib.pyplot as plt\n",
    "import math as m\n",
    "from IPython.display import display, Markdown  # для вывода формул в консоль"
   ]
  },
  {
   "cell_type": "code",
   "execution_count": 233,
   "metadata": {},
   "outputs": [],
   "source": [
    "def mprint(*strings):  # функция вывода маркдаун в консоль\n",
    "    for s in strings:\n",
    "        display(Markdown(s))\n",
    "\n",
    "\n",
    "def dataframe_to_markdown(df):\n",
    "    markdown_table = \"| Index | \" + \" | \".join(df.columns) + \" |\\n\"\n",
    "    markdown_table += \"|---\" * (len(df.columns) + 1) + \"|\\n\"  # Учитываем индекс\n",
    "\n",
    "    for index, row in df.iterrows():\n",
    "        row_values = [str(round(val, 2) if type(val) != str else val) for val in row]\n",
    "        markdown_table += f\"| {index} | \" + \" | \".join(row_values) + \" |\\n\"\n",
    "\n",
    "    return markdown_table\n",
    "\n",
    "\n",
    "# можно выводить latex в надписях matplotlib\n",
    "plt.rc(\"text\", usetex=True)\n",
    "plt.rc(\n",
    "    \"text.latex\",\n",
    "    preamble=r\"\"\"\n",
    "\\usepackage[english, russian]{babel}\n",
    "\\usepackage[utf8]{inputenc}\n",
    "\"\"\",\n",
    ")\n",
    "plt.style.use(\"seaborn-v0_8\")"
   ]
  },
  {
   "cell_type": "markdown",
   "metadata": {},
   "source": [
    "### Парсинг вариантов"
   ]
  },
  {
   "cell_type": "code",
   "execution_count": 234,
   "metadata": {},
   "outputs": [
    {
     "data": {
      "text/plain": [
       "'/Users/retrobanner/Projects/mephi_stats/bdz/var_2'"
      ]
     },
     "execution_count": 234,
     "metadata": {},
     "output_type": "execute_result"
    }
   ],
   "source": [
    "%pwd"
   ]
  },
  {
   "cell_type": "code",
   "execution_count": 235,
   "metadata": {},
   "outputs": [
    {
     "data": {
      "text/plain": [
       "1.1         B7 B8 B9\n",
       "1.2               B7\n",
       "2.1, 3.1          B7\n",
       "2.2, 3.2          B7\n",
       "2.3, 3.3     B11 B12\n",
       "Name: 2, dtype: object"
      ]
     },
     "execution_count": 235,
     "metadata": {},
     "output_type": "execute_result"
    }
   ],
   "source": [
    "# считываем столбики для варианта\n",
    "datas = pd.read_excel(\"../bdz_vars.xls\", index_col=0).loc[variant]\n",
    "\n",
    "datas.head()"
   ]
  },
  {
   "cell_type": "code",
   "execution_count": 236,
   "metadata": {},
   "outputs": [
    {
     "name": "stdout",
     "output_type": "stream",
     "text": [
      "{'1.1': ['B7', 'B8', 'B9'], '1.2': ['B7'], '2.1': ['B7'], '3.1': ['B7'], '2.2': ['B7'], '3.2': ['B7'], '2.3': ['B11', 'B12'], '3.3': ['B11', 'B12'], '2.4': ['B11', 'B12'], '3.4': ['B11', 'B12'], '4': ['B7'], '5': ['B11', 'B12'], '6': ['B3', 'B5'], '7': ['B6', 'B1'], '8.1': ['B11', 'B12'], '8.2': ['B7', 'B8', 'B9'], '9.1': ['B1', 'B2'], '9.2': ['B1', 'B2'], '9.3': ['B1', 'B4', 'B2']}\n"
     ]
    }
   ],
   "source": [
    "# создаём словарик: задание -> список столбцов\n",
    "variant_dict = dict()\n",
    "for tasks in datas.index:\n",
    "    for task in tasks.split(\", \"):\n",
    "        variant_dict[task] = datas[tasks].split(\" \")\n",
    "\n",
    "print(variant_dict)"
   ]
  },
  {
   "cell_type": "markdown",
   "metadata": {},
   "source": [
    "### Считываем информацию из excel"
   ]
  },
  {
   "cell_type": "code",
   "execution_count": 237,
   "metadata": {},
   "outputs": [
    {
     "data": {
      "text/plain": [
       "dict_keys(['description', 'A - aaup', 'B - bodyfat', 'C - plasma', 'D - homedat'])"
      ]
     },
     "execution_count": 237,
     "metadata": {},
     "output_type": "execute_result"
    }
   ],
   "source": [
    "dfs = pd.read_excel(\"../bdz_data.xls\", sheet_name=None)\n",
    "dfs.keys()"
   ]
  },
  {
   "cell_type": "code",
   "execution_count": 238,
   "metadata": {},
   "outputs": [
    {
     "name": "stdout",
     "output_type": "stream",
     "text": [
      "{'A': 'A - aaup', 'B': 'B - bodyfat', 'C': 'C - plasma', 'D': 'D - homedat'}\n"
     ]
    }
   ],
   "source": [
    "# создаём словарик: буква -> название листа в excel\n",
    "sheet_dict = dict()\n",
    "for value in list(dfs.keys())[1:]:\n",
    "    key = value[0]\n",
    "    sheet_dict[key] = value\n",
    "print(sheet_dict)"
   ]
  },
  {
   "cell_type": "code",
   "execution_count": 239,
   "metadata": {},
   "outputs": [],
   "source": [
    "# функция: задание -> необходимые данные\n",
    "def data(task):\n",
    "    X = []\n",
    "    for data in variant_dict[task]:\n",
    "        sheet = data[0]\n",
    "        column = data\n",
    "        df = dfs[sheet_dict[sheet]][column]\n",
    "        X.append(df)\n",
    "    return X"
   ]
  },
  {
   "cell_type": "markdown",
   "metadata": {},
   "source": [
    "### Дополнительные функции"
   ]
  },
  {
   "cell_type": "code",
   "execution_count": 240,
   "metadata": {},
   "outputs": [],
   "source": [
    "def verdict(alpha, p_value):\n",
    "    if alpha > p_value:\n",
    "        return \"$H_0$ отклоняется\"\n",
    "    else:\n",
    "        return \"$H_0$ принимается\""
   ]
  },
  {
   "cell_type": "markdown",
   "metadata": {},
   "source": [
    "# Раздел 1. Описательные статистики"
   ]
  },
  {
   "cell_type": "markdown",
   "metadata": {},
   "source": [
    "## 1.1 Выборочные характеристики"
   ]
  },
  {
   "cell_type": "markdown",
   "metadata": {},
   "source": [
    "### Условие"
   ]
  },
  {
   "cell_type": "markdown",
   "metadata": {},
   "source": [
    "Анализируемый признак 1 – `B7` (Weight (lbs))\n",
    "\n",
    "Анализируемый признак 2 – `B8` (Height (inches))\n",
    "\n",
    "Анализируемый признак 3 – `B9` (Neck circumference (cm))"
   ]
  },
  {
   "cell_type": "markdown",
   "metadata": {},
   "source": [
    "### Определения"
   ]
  },
  {
   "cell_type": "code",
   "execution_count": 241,
   "metadata": {},
   "outputs": [
    {
     "name": "stdout",
     "output_type": "stream",
     "text": [
      "0    154.25\n",
      "1    173.25\n",
      "2    154.00\n",
      "3    184.75\n",
      "4    184.25\n",
      "Name: B7, dtype: float64\n",
      "0    67.75\n",
      "1    72.25\n",
      "2    66.25\n",
      "3    72.25\n",
      "4    71.25\n",
      "Name: B8, dtype: float64\n",
      "0    36.2\n",
      "1    38.5\n",
      "2    34.0\n",
      "3    37.4\n",
      "4    34.4\n",
      "Name: B9, dtype: float64\n"
     ]
    }
   ],
   "source": [
    "columns = data(\"1.1\")\n",
    "for i in columns:\n",
    "    print(i.head())"
   ]
  },
  {
   "cell_type": "markdown",
   "metadata": {},
   "source": [
    "### Формулы"
   ]
  },
  {
   "cell_type": "markdown",
   "metadata": {},
   "source": [
    "| Выборочная характеристика                | Формула расчёта                                                                                                                                                                                                                                 |\n",
    "| ---------------------------------------- | ----------------------------------------------------------------------------------------------------------------------------------------------------------------------------------------------------------------------------------------------- |\n",
    "| Объём выборки                            | $n$                                                                                                                                                                                                                                             |\n",
    "| Среднее                                  | $\\overline x = \\dfrac{1}{n} \\sum\\limits_{i = 1}^{n} x_i$                                                                                                                                                                                        |\n",
    "| Выборочная дисперсия                     | $D_X^* = \\dfrac{1}{n} \\sum\\limits_{i = 1}^{n} \\left(x_i - \\overline x\\right)^2$                                                                                                                                                                 |\n",
    "| Выборочное среднеквадратичное отклонение | $\\sigma_X^* = \\sqrt{D_X^*} =\\sqrt{\\dfrac{1}{n} \\sum\\limits_{i = 1}^{n} \\left(x_i - \\overline x\\right)^2}$                                                                                                                                       |\n",
    "| Выборочный коэффициент асимметрии        | $\\gamma_X^* = \\dfrac{\\mu_{3,X}^*}{\\left(\\sigma_X^*\\right)^3} = \\dfrac{\\dfrac{1}{n} \\sum\\limits_{i = 1}^{n} \\left(x_i - \\overline x\\right)^3}{\\left(\\dfrac{1}{n} \\sum\\limits_{i = 1}^{n} \\left(x_i - \\overline x\\right)^2\\right)^{\\frac{3}{2}}}$ |\n",
    "| Выборочный эксцесс                       |      $\\varepsilon_X^* = \\dfrac{\\mu_{4,X}^*}{\\left(\\sigma_X^*\\right)^4} - 3 = \\dfrac{\\dfrac{1}{n} \\sum\\limits_{i = 1}^{n} \\left(x_i - \\overline x\\right)^4}{\\left(\\dfrac{1}{n} \\sum\\limits_{i = 1}^{n} \\left(x_i - \\overline x\\right)^2\\right)^2} - 3$                                                                                                                                                                                                                                           |\n"
   ]
  },
  {
   "cell_type": "markdown",
   "metadata": {},
   "source": [
    "### Рассчёты"
   ]
  },
  {
   "cell_type": "markdown",
   "metadata": {},
   "source": [
    "`pd.skew()` возвращает несмещенный выборочный коэффициент асимметрии, поэтому лучше использовать `stats.skew(bias=True)`, чтобы его получить.\n",
    "\n",
    "То же самое касается функции `kurtosis()`."
   ]
  },
  {
   "cell_type": "code",
   "execution_count": 242,
   "metadata": {},
   "outputs": [
    {
     "data": {
      "text/markdown": [
       "$\\mathbf{X_1}:$         $\\overline x_1 =$ 178.92;         $D^*_{X_1} =$ 860.30;         $\\sigma^*_{X_1} =$ 29.33;         $\\gamma^*_{X_1} =$ 1.20;         $\\varepsilon^*_{X_1} =$ 5.14         "
      ],
      "text/plain": [
       "<IPython.core.display.Markdown object>"
      ]
     },
     "metadata": {},
     "output_type": "display_data"
    },
    {
     "data": {
      "text/markdown": [
       "$\\mathbf{X_2}:$         $\\overline x_2 =$ 70.15;         $D^*_{X_2} =$ 13.36;         $\\sigma^*_{X_2} =$ 3.66;         $\\gamma^*_{X_2} =$ -5.35;         $\\varepsilon^*_{X_2} =$ 58.35         "
      ],
      "text/plain": [
       "<IPython.core.display.Markdown object>"
      ]
     },
     "metadata": {},
     "output_type": "display_data"
    },
    {
     "data": {
      "text/markdown": [
       "$\\mathbf{X_3}:$         $\\overline x_3 =$ 37.99;         $D^*_{X_3} =$ 5.89;         $\\sigma^*_{X_3} =$ 2.43;         $\\gamma^*_{X_3} =$ 0.55;         $\\varepsilon^*_{X_3} =$ 2.64         "
      ],
      "text/plain": [
       "<IPython.core.display.Markdown object>"
      ]
     },
     "metadata": {},
     "output_type": "display_data"
    }
   ],
   "source": [
    "for i, X in enumerate(columns, start=1):\n",
    "    mean_ = X.mean()\n",
    "    D = X.var(ddof=0)\n",
    "    d = X.std(ddof=0)\n",
    "    g = stats.skew(X, bias=True)\n",
    "    e = stats.kurtosis(X, bias=True)\n",
    "    output = f\"$\\\\mathbf{{X_{i}}}:$ \\\n",
    "        $\\\\overline x_{i} =$ {mean_:.2f}; \\\n",
    "        $D^*_{{X_{i}}} =$ {D:.2f}; \\\n",
    "        $\\\\sigma^*_{{X_{i}}} =$ {d:.2f}; \\\n",
    "        $\\\\gamma^*_{{X_{i}}} =$ {g:.2f}; \\\n",
    "        $\\\\varepsilon^*_{{X_{i}}} =$ {e:.2f} \\\n",
    "        \"\n",
    "    mprint(output)"
   ]
  },
  {
   "cell_type": "markdown",
   "metadata": {},
   "source": [
    "| Выборочная характеристика                | Признак 1 | Признак 2 | Признак 3 |\n",
    "| ---------------------------------------- | --------- | --------- | --------- |\n",
    "| Среднее                                  | 178.92    | 70.15     | 37.99     |\n",
    "| Выборочная дисперсия                     | 860.30    | 13.36     | 5.89      |\n",
    "| Выборочное среднеквадратичное отклонение | 29.33     | 3.66      | 2.43      |\n",
    "| Выборочный коэффициент асимметрии        | 1.20      | -5.35     | 0.55      |\n",
    "| Выборочный эксцесс                       | 5.14      | 58.35     | 2.64      |\n"
   ]
  },
  {
   "cell_type": "markdown",
   "metadata": {},
   "source": [
    "## 1.2 Группировка и гистограммы частот"
   ]
  },
  {
   "cell_type": "markdown",
   "metadata": {},
   "source": [
    "### Условие"
   ]
  },
  {
   "cell_type": "markdown",
   "metadata": {},
   "source": [
    "Анализируемый признак – `B7` (Weight (lbs))\n",
    "\n",
    "Объём выборки – $n$ = `252`"
   ]
  },
  {
   "cell_type": "markdown",
   "metadata": {},
   "source": [
    "### Определения"
   ]
  },
  {
   "cell_type": "code",
   "execution_count": 243,
   "metadata": {},
   "outputs": [
    {
     "data": {
      "text/plain": [
       "0      154.25\n",
       "1      173.25\n",
       "2      154.00\n",
       "3      184.75\n",
       "4      184.25\n",
       "        ...  \n",
       "247    134.25\n",
       "248    201.00\n",
       "249    186.75\n",
       "250    190.75\n",
       "251    207.50\n",
       "Name: B7, Length: 252, dtype: float64"
      ]
     },
     "execution_count": 243,
     "metadata": {},
     "output_type": "execute_result"
    }
   ],
   "source": [
    "X = data(\"1.2\")[0]\n",
    "X"
   ]
  },
  {
   "cell_type": "code",
   "execution_count": 244,
   "metadata": {},
   "outputs": [
    {
     "name": "stdout",
     "output_type": "stream",
     "text": [
      "252\n"
     ]
    }
   ],
   "source": [
    "print(n := len(X))"
   ]
  },
  {
   "cell_type": "code",
   "execution_count": 245,
   "metadata": {},
   "outputs": [
    {
     "data": {
      "text/html": [
       "<div>\n",
       "<style scoped>\n",
       "    .dataframe tbody tr th:only-of-type {\n",
       "        vertical-align: middle;\n",
       "    }\n",
       "\n",
       "    .dataframe tbody tr th {\n",
       "        vertical-align: top;\n",
       "    }\n",
       "\n",
       "    .dataframe thead th {\n",
       "        text-align: right;\n",
       "    }\n",
       "</style>\n",
       "<table border=\"1\" class=\"dataframe\">\n",
       "  <thead>\n",
       "    <tr style=\"text-align: right;\">\n",
       "      <th></th>\n",
       "      <th>value</th>\n",
       "    </tr>\n",
       "  </thead>\n",
       "  <tbody>\n",
       "    <tr>\n",
       "      <th>0</th>\n",
       "      <td>154.25</td>\n",
       "    </tr>\n",
       "    <tr>\n",
       "      <th>1</th>\n",
       "      <td>173.25</td>\n",
       "    </tr>\n",
       "    <tr>\n",
       "      <th>2</th>\n",
       "      <td>154.00</td>\n",
       "    </tr>\n",
       "    <tr>\n",
       "      <th>3</th>\n",
       "      <td>184.75</td>\n",
       "    </tr>\n",
       "    <tr>\n",
       "      <th>4</th>\n",
       "      <td>184.25</td>\n",
       "    </tr>\n",
       "  </tbody>\n",
       "</table>\n",
       "</div>"
      ],
      "text/plain": [
       "    value\n",
       "0  154.25\n",
       "1  173.25\n",
       "2  154.00\n",
       "3  184.75\n",
       "4  184.25"
      ]
     },
     "execution_count": 245,
     "metadata": {},
     "output_type": "execute_result"
    }
   ],
   "source": [
    "X = pd.DataFrame(X.values, columns=[\"value\"])\n",
    "X.head()"
   ]
  },
  {
   "cell_type": "markdown",
   "metadata": {},
   "source": [
    "### Выбрать число групп"
   ]
  },
  {
   "cell_type": "code",
   "execution_count": 246,
   "metadata": {},
   "outputs": [
    {
     "data": {
      "text/markdown": [
       "$\\mathbf{X}: \\max = 363.15, \\min = 118.5, n = 252, k = 8$"
      ],
      "text/plain": [
       "<IPython.core.display.Markdown object>"
      ]
     },
     "metadata": {},
     "output_type": "display_data"
    }
   ],
   "source": [
    "maximum = max(X[\"value\"])\n",
    "minimum = min(X[\"value\"])\n",
    "k = round(1 + 1.3 * m.log(n))\n",
    "mprint(f\"$\\\\mathbf{{X}}: \\\\max = {maximum}, \\\\min = {minimum}, n = {n}, k = {k}$\")"
   ]
  },
  {
   "cell_type": "code",
   "execution_count": 247,
   "metadata": {},
   "outputs": [
    {
     "data": {
      "text/html": [
       "<div>\n",
       "<style scoped>\n",
       "    .dataframe tbody tr th:only-of-type {\n",
       "        vertical-align: middle;\n",
       "    }\n",
       "\n",
       "    .dataframe tbody tr th {\n",
       "        vertical-align: top;\n",
       "    }\n",
       "\n",
       "    .dataframe thead th {\n",
       "        text-align: right;\n",
       "    }\n",
       "</style>\n",
       "<table border=\"1\" class=\"dataframe\">\n",
       "  <thead>\n",
       "    <tr style=\"text-align: right;\">\n",
       "      <th></th>\n",
       "      <th>value</th>\n",
       "      <th>group</th>\n",
       "    </tr>\n",
       "  </thead>\n",
       "  <tbody>\n",
       "    <tr>\n",
       "      <th>0</th>\n",
       "      <td>154.25</td>\n",
       "      <td>(149.081, 179.662]</td>\n",
       "    </tr>\n",
       "    <tr>\n",
       "      <th>1</th>\n",
       "      <td>173.25</td>\n",
       "      <td>(149.081, 179.662]</td>\n",
       "    </tr>\n",
       "    <tr>\n",
       "      <th>2</th>\n",
       "      <td>154.00</td>\n",
       "      <td>(149.081, 179.662]</td>\n",
       "    </tr>\n",
       "    <tr>\n",
       "      <th>3</th>\n",
       "      <td>184.75</td>\n",
       "      <td>(179.662, 210.244]</td>\n",
       "    </tr>\n",
       "    <tr>\n",
       "      <th>4</th>\n",
       "      <td>184.25</td>\n",
       "      <td>(179.662, 210.244]</td>\n",
       "    </tr>\n",
       "  </tbody>\n",
       "</table>\n",
       "</div>"
      ],
      "text/plain": [
       "    value               group\n",
       "0  154.25  (149.081, 179.662]\n",
       "1  173.25  (149.081, 179.662]\n",
       "2  154.00  (149.081, 179.662]\n",
       "3  184.75  (179.662, 210.244]\n",
       "4  184.25  (179.662, 210.244]"
      ]
     },
     "execution_count": 247,
     "metadata": {},
     "output_type": "execute_result"
    }
   ],
   "source": [
    "X[\"group\"] = pd.cut(X[\"value\"], bins=k)\n",
    "X.head()"
   ]
  },
  {
   "cell_type": "code",
   "execution_count": 248,
   "metadata": {},
   "outputs": [
    {
     "data": {
      "text/markdown": [
       "Ширина интервалов: от 30.58 до 30.83"
      ],
      "text/plain": [
       "<IPython.core.display.Markdown object>"
      ]
     },
     "metadata": {},
     "output_type": "display_data"
    }
   ],
   "source": [
    "delta_min = np.min(\n",
    "    [interval.right - interval.left for interval in X[\"group\"].cat.categories]\n",
    ")\n",
    "delta_max = np.max(\n",
    "    [interval.right - interval.left for interval in X[\"group\"].cat.categories]\n",
    ")\n",
    "mprint(f\"Ширина интервалов: от {delta_min:.2f} до {delta_max:.2f}\")"
   ]
  },
  {
   "cell_type": "markdown",
   "metadata": {},
   "source": [
    "| Число групп | Обоснование выбора числа групп                 | Ширина интервалов |\n",
    "| ----------- | ---------------------------------------------- | ----------------- |\n",
    "| 8           | Формула Стерджесса: $k \\approx 1 + 1,3 \\ln{n}$ | от 30.58 до 30.83 |\n"
   ]
  },
  {
   "cell_type": "markdown",
   "metadata": {},
   "source": [
    "### Построить таблицу частот"
   ]
  },
  {
   "cell_type": "code",
   "execution_count": 249,
   "metadata": {},
   "outputs": [
    {
     "data": {
      "text/html": [
       "<div>\n",
       "<style scoped>\n",
       "    .dataframe tbody tr th:only-of-type {\n",
       "        vertical-align: middle;\n",
       "    }\n",
       "\n",
       "    .dataframe tbody tr th {\n",
       "        vertical-align: top;\n",
       "    }\n",
       "\n",
       "    .dataframe thead th {\n",
       "        text-align: right;\n",
       "    }\n",
       "</style>\n",
       "<table border=\"1\" class=\"dataframe\">\n",
       "  <thead>\n",
       "    <tr style=\"text-align: right;\">\n",
       "      <th></th>\n",
       "      <th>low edge</th>\n",
       "      <th>high edge</th>\n",
       "      <th>frequency</th>\n",
       "      <th>relative frequency</th>\n",
       "      <th>cumulative frequency</th>\n",
       "      <th>cumulative relative frequency</th>\n",
       "    </tr>\n",
       "  </thead>\n",
       "  <tbody>\n",
       "    <tr>\n",
       "      <th>1</th>\n",
       "      <td>118.255</td>\n",
       "      <td>149.081</td>\n",
       "      <td>31</td>\n",
       "      <td>0.123016</td>\n",
       "      <td>31</td>\n",
       "      <td>0.123016</td>\n",
       "    </tr>\n",
       "    <tr>\n",
       "      <th>2</th>\n",
       "      <td>149.081</td>\n",
       "      <td>179.662</td>\n",
       "      <td>110</td>\n",
       "      <td>0.436508</td>\n",
       "      <td>141</td>\n",
       "      <td>0.559524</td>\n",
       "    </tr>\n",
       "    <tr>\n",
       "      <th>3</th>\n",
       "      <td>179.662</td>\n",
       "      <td>210.244</td>\n",
       "      <td>76</td>\n",
       "      <td>0.301587</td>\n",
       "      <td>217</td>\n",
       "      <td>0.861111</td>\n",
       "    </tr>\n",
       "    <tr>\n",
       "      <th>4</th>\n",
       "      <td>210.244</td>\n",
       "      <td>240.825</td>\n",
       "      <td>29</td>\n",
       "      <td>0.115079</td>\n",
       "      <td>246</td>\n",
       "      <td>0.976190</td>\n",
       "    </tr>\n",
       "    <tr>\n",
       "      <th>5</th>\n",
       "      <td>240.825</td>\n",
       "      <td>271.406</td>\n",
       "      <td>5</td>\n",
       "      <td>0.019841</td>\n",
       "      <td>251</td>\n",
       "      <td>0.996032</td>\n",
       "    </tr>\n",
       "    <tr>\n",
       "      <th>6</th>\n",
       "      <td>271.406</td>\n",
       "      <td>301.987</td>\n",
       "      <td>0</td>\n",
       "      <td>0.000000</td>\n",
       "      <td>251</td>\n",
       "      <td>0.996032</td>\n",
       "    </tr>\n",
       "    <tr>\n",
       "      <th>7</th>\n",
       "      <td>301.987</td>\n",
       "      <td>332.569</td>\n",
       "      <td>0</td>\n",
       "      <td>0.000000</td>\n",
       "      <td>251</td>\n",
       "      <td>0.996032</td>\n",
       "    </tr>\n",
       "    <tr>\n",
       "      <th>8</th>\n",
       "      <td>332.569</td>\n",
       "      <td>363.150</td>\n",
       "      <td>1</td>\n",
       "      <td>0.003968</td>\n",
       "      <td>252</td>\n",
       "      <td>1.000000</td>\n",
       "    </tr>\n",
       "  </tbody>\n",
       "</table>\n",
       "</div>"
      ],
      "text/plain": [
       "   low edge  high edge  frequency  relative frequency  cumulative frequency  \\\n",
       "1   118.255    149.081         31            0.123016                    31   \n",
       "2   149.081    179.662        110            0.436508                   141   \n",
       "3   179.662    210.244         76            0.301587                   217   \n",
       "4   210.244    240.825         29            0.115079                   246   \n",
       "5   240.825    271.406          5            0.019841                   251   \n",
       "6   271.406    301.987          0            0.000000                   251   \n",
       "7   301.987    332.569          0            0.000000                   251   \n",
       "8   332.569    363.150          1            0.003968                   252   \n",
       "\n",
       "   cumulative relative frequency  \n",
       "1                       0.123016  \n",
       "2                       0.559524  \n",
       "3                       0.861111  \n",
       "4                       0.976190  \n",
       "5                       0.996032  \n",
       "6                       0.996032  \n",
       "7                       0.996032  \n",
       "8                       1.000000  "
      ]
     },
     "execution_count": 249,
     "metadata": {},
     "output_type": "execute_result"
    }
   ],
   "source": [
    "groups = pd.DataFrame(index=range(1, k + 1))\n",
    "groups[\"low edge\"] = [interval.left for interval in X[\"group\"].cat.categories]\n",
    "groups[\"high edge\"] = [interval.right for interval in X[\"group\"].cat.categories]\n",
    "groups[\"frequency\"] = X[\"group\"].value_counts().sort_index().values\n",
    "groups[\"relative frequency\"] = groups[\"frequency\"] / n\n",
    "groups[\"cumulative frequency\"] = groups[\"frequency\"].cumsum()\n",
    "groups[\"cumulative relative frequency\"] = groups[\"cumulative frequency\"] / n\n",
    "groups"
   ]
  },
  {
   "cell_type": "code",
   "execution_count": 250,
   "metadata": {},
   "outputs": [
    {
     "name": "stdout",
     "output_type": "stream",
     "text": [
      "| Index | low edge | high edge | frequency | relative frequency | cumulative frequency | cumulative relative frequency |\n",
      "|---|---|---|---|---|---|---|\n",
      "| 1 | 118.25 | 149.08 | 31.0 | 0.12 | 31.0 | 0.12 |\n",
      "| 2 | 149.08 | 179.66 | 110.0 | 0.44 | 141.0 | 0.56 |\n",
      "| 3 | 179.66 | 210.24 | 76.0 | 0.3 | 217.0 | 0.86 |\n",
      "| 4 | 210.24 | 240.82 | 29.0 | 0.12 | 246.0 | 0.98 |\n",
      "| 5 | 240.82 | 271.41 | 5.0 | 0.02 | 251.0 | 1.0 |\n",
      "| 6 | 271.41 | 301.99 | 0.0 | 0.0 | 251.0 | 1.0 |\n",
      "| 7 | 301.99 | 332.57 | 0.0 | 0.0 | 251.0 | 1.0 |\n",
      "| 8 | 332.57 | 363.15 | 1.0 | 0.0 | 252.0 | 1.0 |\n",
      "\n"
     ]
    }
   ],
   "source": [
    "# Чтобы быстрее заполнить табличку\n",
    "print(dataframe_to_markdown(groups))"
   ]
  },
  {
   "cell_type": "markdown",
   "metadata": {},
   "source": [
    "| Номер интервала | Нижняя граница | Верхняя граница | Частота | Относительная частота | Накопленная частота | Относительная накопленная частота |\n",
    "| --------------- | -------------- | --------------- | ------- | --------------------- | ------------------- | --------------------------------- |\n",
    "| 1               | 118.25         | 149.08          | 31      | 0.12                  | 31                  | 0.12                              |\n",
    "| 2               | 149.08         | 179.66          | 110     | 0.44                  | 141                 | 0.56                              |\n",
    "| 3               | 179.66         | 210.24          | 76      | 0.3                   | 217                 | 0.86                              |\n",
    "| 4               | 210.24         | 240.82          | 29      | 0.12                  | 246                 | 0.98                              |\n",
    "| 5               | 240.82         | 271.41          | 5       | 0.02                  | 251                 | 1.00                              |\n",
    "| 6               | 271.41         | 301.99          | 0       | 0.0                   | 251                 | 1.00                              |\n",
    "| 7               | 301.99         | 332.57          | 0       | 0.0                   | 251                 | 1.00                              |\n",
    "| 8               | 332.57         | 363.15          | 1       | 0.0                   | 252                 | 1.00                              |"
   ]
  },
  {
   "cell_type": "markdown",
   "metadata": {},
   "source": [
    "### Построить гистограммы частот и полигоны частот"
   ]
  },
  {
   "cell_type": "code",
   "execution_count": 251,
   "metadata": {},
   "outputs": [],
   "source": [
    "bin_centers = (groups[\"low edge\"] + groups[\"high edge\"]) / 2\n",
    "width = groups[\"high edge\"] - groups[\"low edge\"]"
   ]
  },
  {
   "cell_type": "code",
   "execution_count": 252,
   "metadata": {},
   "outputs": [
    {
     "data": {
      "image/png": "[encoded data removed]",
      "text/plain": [
       "<Figure size 800x550 with 1 Axes>"
      ]
     },
     "metadata": {},
     "output_type": "display_data"
    }
   ],
   "source": [
    "plt.bar(bin_centers, groups[\"frequency\"], width=width, edgecolor=\"black\")\n",
    "plt.plot(bin_centers, groups[\"frequency\"], marker=\"o\", color=\"r\")\n",
    "\n",
    "plt.xlabel(\"Значения\")\n",
    "plt.ylabel(\"Частота\")\n",
    "plt.show()"
   ]
  },
  {
   "cell_type": "code",
   "execution_count": 253,
   "metadata": {},
   "outputs": [
    {
     "data": {
      "image/png": "[encoded data removed]",
      "text/plain": [
       "<Figure size 800x550 with 1 Axes>"
      ]
     },
     "metadata": {},
     "output_type": "display_data"
    }
   ],
   "source": [
    "plt.bar(\n",
    "    bin_centers,\n",
    "    groups[\"relative frequency\"],\n",
    "    width=width,\n",
    "    edgecolor=\"black\",\n",
    ")\n",
    "plt.plot(bin_centers, groups[\"relative frequency\"], marker=\"o\", color=\"r\")\n",
    "plt.xlabel(\"Значения\")\n",
    "plt.ylabel(\"Относительная частота\")\n",
    "plt.show()"
   ]
  },
  {
   "cell_type": "code",
   "execution_count": 254,
   "metadata": {},
   "outputs": [
    {
     "data": {
      "image/png": "[encoded data removed]",
      "text/plain": [
       "<Figure size 800x550 with 1 Axes>"
      ]
     },
     "metadata": {},
     "output_type": "display_data"
    }
   ],
   "source": [
    "plt.bar(\n",
    "    bin_centers,\n",
    "    groups[\"cumulative frequency\"],\n",
    "    width=width,\n",
    "    edgecolor=\"black\",\n",
    ")\n",
    "plt.plot(bin_centers, groups[\"cumulative frequency\"], marker=\"o\", color=\"r\")\n",
    "plt.xlabel(\"Значения\")\n",
    "plt.ylabel(\"Накопленная частота частота\")\n",
    "plt.show()"
   ]
  },
  {
   "cell_type": "code",
   "execution_count": 255,
   "metadata": {},
   "outputs": [
    {
     "data": {
      "image/png": "[encoded data removed]",
      "text/plain": [
       "<Figure size 800x550 with 1 Axes>"
      ]
     },
     "metadata": {},
     "output_type": "display_data"
    }
   ],
   "source": [
    "plt.bar(\n",
    "    bin_centers,\n",
    "    groups[\"cumulative relative frequency\"],\n",
    "    width=width,\n",
    "    edgecolor=\"black\",\n",
    ")\n",
    "plt.plot(bin_centers, groups[\"cumulative relative frequency\"], marker=\"o\", color=\"r\")\n",
    "plt.xlabel(\"Значения\")\n",
    "plt.ylabel(\"Относительная накопленная частота частота\")\n",
    "plt.show()"
   ]
  },
  {
   "cell_type": "markdown",
   "metadata": {},
   "source": [
    "А теперь всё на одном графике."
   ]
  },
  {
   "cell_type": "code",
   "execution_count": 256,
   "metadata": {},
   "outputs": [
    {
     "data": {
      "image/png": "[encoded data removed]",
      "text/plain": [
       "<Figure size 1000x600 with 4 Axes>"
      ]
     },
     "metadata": {},
     "output_type": "display_data"
    }
   ],
   "source": [
    "fig, axes = plt.subplots(2, 2, figsize=(10, 6))\n",
    "\n",
    "axes[0, 0].bar(\n",
    "    bin_centers,\n",
    "    groups[\"frequency\"],\n",
    "    width=width,\n",
    "    edgecolor=\"black\",\n",
    ")\n",
    "axes[0, 0].plot(bin_centers, groups[\"frequency\"], marker=\"o\", color=\"r\")\n",
    "axes[0, 0].set_xlabel(\"Значения\")\n",
    "axes[0, 0].set_ylabel(\"Частота\")\n",
    "axes[0, 0].set_title(\"Гистограмма и полигон частот\")\n",
    "\n",
    "axes[0, 1].bar(\n",
    "    bin_centers,\n",
    "    groups[\"relative frequency\"],\n",
    "    width=width,\n",
    "    edgecolor=\"black\",\n",
    ")\n",
    "axes[0, 1].plot(bin_centers, groups[\"relative frequency\"], marker=\"o\", color=\"r\")\n",
    "axes[0, 1].set_xlabel(\"Значения\")\n",
    "axes[0, 1].set_ylabel(\"Относительная частота\")\n",
    "axes[0, 1].set_title(\"Гистограмма и полигон относительных частот\")\n",
    "\n",
    "axes[1, 0].bar(\n",
    "    bin_centers,\n",
    "    groups[\"cumulative frequency\"],\n",
    "    width=width,\n",
    "    edgecolor=\"black\",\n",
    ")\n",
    "axes[1, 0].plot(bin_centers, groups[\"cumulative frequency\"], marker=\"o\", color=\"r\")\n",
    "axes[1, 0].set_xlabel(\"Значения\")\n",
    "axes[1, 0].set_ylabel(\"Накопленная частота частота\")\n",
    "axes[1, 0].set_title(\"Гистограмма и полигон накопленных частот\")\n",
    "\n",
    "axes[1, 1].bar(\n",
    "    bin_centers,\n",
    "    groups[\"cumulative relative frequency\"],\n",
    "    width=width,\n",
    "    edgecolor=\"black\",\n",
    ")\n",
    "axes[1, 1].plot(\n",
    "    bin_centers, groups[\"cumulative relative frequency\"], marker=\"o\", color=\"r\"\n",
    ")\n",
    "axes[1, 1].set_xlabel(\"Значения\")\n",
    "axes[1, 1].set_ylabel(\"Относительная накопленная частота частота\")\n",
    "axes[1, 1].set_title(\"Гистограмма и полигон относительных накопленных частот\")\n",
    "\n",
    "plt.tight_layout()\n",
    "plt.show()"
   ]
  },
  {
   "cell_type": "markdown",
   "metadata": {},
   "source": [
    "### Построить эмпирическую фукнцию распределения"
   ]
  },
  {
   "cell_type": "code",
   "execution_count": 257,
   "metadata": {},
   "outputs": [
    {
     "data": {
      "image/png": "[encoded data removed]",
      "text/plain": [
       "<Figure size 800x550 with 1 Axes>"
      ]
     },
     "metadata": {},
     "output_type": "display_data"
    }
   ],
   "source": [
    "X_sorted = np.sort(X[\"value\"])\n",
    "X_sorted = np.concatenate(([-10000], X_sorted, [10000]))\n",
    "F = np.arange(1, n + 1) / n\n",
    "F = np.concatenate(([0], F, [1]))\n",
    "plt.step(X_sorted, F, where=\"post\", label=r\"$F_X^*(x)$\", linewidth=2)\n",
    "plt.xlim(100, 400)\n",
    "plt.xlabel(\"Значения\")\n",
    "plt.ylabel(\"$F^*_X(x)$\")\n",
    "plt.legend()\n",
    "plt.title(\"Эмпирическая функция распределения\")\n",
    "plt.show()"
   ]
  },
  {
   "cell_type": "markdown",
   "metadata": {},
   "source": [
    "# Раздел 2. Интервальные оценки"
   ]
  },
  {
   "cell_type": "markdown",
   "metadata": {},
   "source": [
    "## 2.1 Доверительные интервалы для математического ожидания"
   ]
  },
  {
   "cell_type": "markdown",
   "metadata": {},
   "source": [
    "### Условие"
   ]
  },
  {
   "cell_type": "markdown",
   "metadata": {},
   "source": [
    "Анализируемый признак – `B7` (Weight (lbs))\n",
    "\n",
    "Объём выборки – $n$ = `252`\n",
    "\n",
    "Оцениваемый параметр – `m`"
   ]
  },
  {
   "cell_type": "markdown",
   "metadata": {},
   "source": [
    "### Определения"
   ]
  },
  {
   "cell_type": "code",
   "execution_count": 258,
   "metadata": {},
   "outputs": [
    {
     "data": {
      "text/plain": [
       "0    154.25\n",
       "1    173.25\n",
       "2    154.00\n",
       "3    184.75\n",
       "4    184.25\n",
       "Name: B7, dtype: float64"
      ]
     },
     "execution_count": 258,
     "metadata": {},
     "output_type": "execute_result"
    }
   ],
   "source": [
    "X = data(\"2.1\")[0]\n",
    "X.head()"
   ]
  },
  {
   "cell_type": "code",
   "execution_count": 259,
   "metadata": {},
   "outputs": [
    {
     "name": "stdout",
     "output_type": "stream",
     "text": [
      "252\n"
     ]
    }
   ],
   "source": [
    "print(n := len(X))"
   ]
  },
  {
   "cell_type": "markdown",
   "metadata": {},
   "source": [
    "### Привести формулы расчёта доверительных интервалов"
   ]
  },
  {
   "cell_type": "markdown",
   "metadata": {},
   "source": [
    "Так как у нас есть только выборка, мы не можем знать параметров генеральной совокупности(в том числе $m$ и $\\sigma$), поэтому будем рассчитывать доверительные интервалы, используя данный факт. \n",
    "\n",
    "В данном случае `стьюдентизованное среднее` выступает в качестве центральной статистики:\n",
    "\n",
    "| Граница доверительного интервала | Формула расчёта                                                                               |\n",
    "| -------------------------------- | --------------------------------------------------------------------------------------------- |\n",
    "| Нижняя граница                   | $\\overline {\\mathbf{X}} - \\dfrac{S}{\\sqrt{n}} \\cdot t_{1-\\frac{\\alpha}{2}, \\left(n-1\\right)}$ |\n",
    "| Верхняя граница                  | $\\overline {\\mathbf{X}} + \\dfrac{S}{\\sqrt{n}} \\cdot t_{1-\\frac{\\alpha}{2}, \\left(n-1\\right)}$ |\n"
   ]
  },
  {
   "cell_type": "markdown",
   "metadata": {},
   "source": [
    "### Рассчитать доверительные интервалы"
   ]
  },
  {
   "cell_type": "code",
   "execution_count": 260,
   "metadata": {},
   "outputs": [
    {
     "data": {
      "text/html": [
       "<div>\n",
       "<style scoped>\n",
       "    .dataframe tbody tr th:only-of-type {\n",
       "        vertical-align: middle;\n",
       "    }\n",
       "\n",
       "    .dataframe tbody tr th {\n",
       "        vertical-align: top;\n",
       "    }\n",
       "\n",
       "    .dataframe thead th {\n",
       "        text-align: right;\n",
       "    }\n",
       "</style>\n",
       "<table border=\"1\" class=\"dataframe\">\n",
       "  <thead>\n",
       "    <tr style=\"text-align: right;\">\n",
       "      <th></th>\n",
       "      <th>$\\alpha =$ 0.01</th>\n",
       "      <th>$\\alpha =$ 0.05</th>\n",
       "      <th>$\\alpha =$ 0.1</th>\n",
       "    </tr>\n",
       "  </thead>\n",
       "  <tbody>\n",
       "    <tr>\n",
       "      <th>Нижняя граница</th>\n",
       "      <td>174.119136</td>\n",
       "      <td>175.278258</td>\n",
       "      <td>175.867935</td>\n",
       "    </tr>\n",
       "    <tr>\n",
       "      <th>Верхняя граница</th>\n",
       "      <td>183.729673</td>\n",
       "      <td>182.570551</td>\n",
       "      <td>181.980874</td>\n",
       "    </tr>\n",
       "  </tbody>\n",
       "</table>\n",
       "</div>"
      ],
      "text/plain": [
       "                 $\\alpha =$ 0.01  $\\alpha =$ 0.05  $\\alpha =$ 0.1\n",
       "Нижняя граница        174.119136       175.278258      175.867935\n",
       "Верхняя граница       183.729673       182.570551      181.980874"
      ]
     },
     "execution_count": 260,
     "metadata": {},
     "output_type": "execute_result"
    }
   ],
   "source": [
    "intervals = pd.DataFrame(index=[\"Нижняя граница\", \"Верхняя граница\"])\n",
    "alphas = [0.01, 0.05, 0.1]\n",
    "std_err = stats.sem(X)\n",
    "for alpha in alphas:\n",
    "    intervals[f\"$\\\\alpha =$ {alpha}\"] = stats.t.interval(\n",
    "        1 - alpha, df=n - 1, loc=X.mean(), scale=std_err\n",
    "    )\n",
    "intervals"
   ]
  },
  {
   "cell_type": "code",
   "execution_count": 261,
   "metadata": {},
   "outputs": [
    {
     "name": "stdout",
     "output_type": "stream",
     "text": [
      "| Index | $\\alpha =$ 0.01 | $\\alpha =$ 0.05 | $\\alpha =$ 0.1 |\n",
      "|---|---|---|---|\n",
      "| Нижняя граница | 174.12 | 175.28 | 175.87 |\n",
      "| Верхняя граница | 183.73 | 182.57 | 181.98 |\n",
      "\n"
     ]
    }
   ],
   "source": [
    "print(dataframe_to_markdown(intervals))"
   ]
  },
  {
   "cell_type": "markdown",
   "metadata": {},
   "source": [
    "| Index | $\\alpha =$ 0.01 | $\\alpha =$ 0.05 | $\\alpha =$ 0.1 |\n",
    "|---|---|---|---|\n",
    "| Нижняя граница | 174.12 | 175.28 | 175.87 |\n",
    "| Верхняя граница | 183.73 | 182.57 | 181.98 |"
   ]
  },
  {
   "cell_type": "markdown",
   "metadata": {},
   "source": [
    "## 2.2 Доверительные интервалы для дисперсии"
   ]
  },
  {
   "cell_type": "markdown",
   "metadata": {},
   "source": [
    "### Условие"
   ]
  },
  {
   "cell_type": "markdown",
   "metadata": {},
   "source": [
    "Анализируемый признак  – `B7` (Weight (lbs))\n",
    "\n",
    "Объём выборки – $n$ = `252`\n",
    "\n",
    "Оцениваемый параметр – $\\sigma^2$"
   ]
  },
  {
   "cell_type": "markdown",
   "metadata": {},
   "source": [
    "### Определения"
   ]
  },
  {
   "cell_type": "code",
   "execution_count": 262,
   "metadata": {},
   "outputs": [
    {
     "data": {
      "text/plain": [
       "0    154.25\n",
       "1    173.25\n",
       "2    154.00\n",
       "3    184.75\n",
       "4    184.25\n",
       "Name: B7, dtype: float64"
      ]
     },
     "execution_count": 262,
     "metadata": {},
     "output_type": "execute_result"
    }
   ],
   "source": [
    "X = data(\"2.2\")[0]\n",
    "X.head()"
   ]
  },
  {
   "cell_type": "code",
   "execution_count": 263,
   "metadata": {},
   "outputs": [
    {
     "name": "stdout",
     "output_type": "stream",
     "text": [
      "252\n"
     ]
    }
   ],
   "source": [
    "print(n := len(X))"
   ]
  },
  {
   "cell_type": "markdown",
   "metadata": {},
   "source": [
    "### Привести формулы расчёта доверительных интервалов"
   ]
  },
  {
   "cell_type": "markdown",
   "metadata": {},
   "source": [
    "| Граница доверительного интервала | Формула расчёта                                                                               |\n",
    "| -------------------------------- | --------------------------------------------------------------------------------------------- |\n",
    "| Нижняя граница                   | $\\dfrac{\\left(n-1\\right) \\cdot S^2}{\\chi^2_{1-\\frac{\\alpha}{2}, \\left(n-1\\right)}}$ |\n",
    "| Верхняя граница                  | $\\dfrac{\\left(n-1\\right) \\cdot S^2}{\\chi^2_{\\frac{\\alpha}{2}, \\left(n-1\\right)}}$ |\n"
   ]
  },
  {
   "cell_type": "markdown",
   "metadata": {},
   "source": [
    "### Рассчитать доверительные интервалы"
   ]
  },
  {
   "cell_type": "code",
   "execution_count": 264,
   "metadata": {},
   "outputs": [
    {
     "data": {
      "text/html": [
       "<div>\n",
       "<style scoped>\n",
       "    .dataframe tbody tr th:only-of-type {\n",
       "        vertical-align: middle;\n",
       "    }\n",
       "\n",
       "    .dataframe tbody tr th {\n",
       "        vertical-align: top;\n",
       "    }\n",
       "\n",
       "    .dataframe thead th {\n",
       "        text-align: right;\n",
       "    }\n",
       "</style>\n",
       "<table border=\"1\" class=\"dataframe\">\n",
       "  <thead>\n",
       "    <tr style=\"text-align: right;\">\n",
       "      <th></th>\n",
       "      <th>$\\alpha =$ 0.01</th>\n",
       "      <th>$\\alpha =$ 0.05</th>\n",
       "      <th>$\\alpha =$ 0.1</th>\n",
       "    </tr>\n",
       "  </thead>\n",
       "  <tbody>\n",
       "    <tr>\n",
       "      <th>Нижняя граница</th>\n",
       "      <td>693.828100</td>\n",
       "      <td>730.497795</td>\n",
       "      <td>750.270312</td>\n",
       "    </tr>\n",
       "    <tr>\n",
       "      <th>Верхняя граница</th>\n",
       "      <td>1100.224941</td>\n",
       "      <td>1037.243286</td>\n",
       "      <td>1006.856772</td>\n",
       "    </tr>\n",
       "  </tbody>\n",
       "</table>\n",
       "</div>"
      ],
      "text/plain": [
       "                 $\\alpha =$ 0.01  $\\alpha =$ 0.05  $\\alpha =$ 0.1\n",
       "Нижняя граница        693.828100       730.497795      750.270312\n",
       "Верхняя граница      1100.224941      1037.243286     1006.856772"
      ]
     },
     "execution_count": 264,
     "metadata": {},
     "output_type": "execute_result"
    }
   ],
   "source": [
    "intervals = pd.DataFrame(index=[\"Нижняя граница\", \"Верхняя граница\"])\n",
    "alphas = [0.01, 0.05, 0.1]\n",
    "for alpha in alphas:\n",
    "    chi2_upper, chi2_lower = stats.chi2.interval(1 - alpha, df=n - 1)\n",
    "    intervals[f\"$\\\\alpha =$ {alpha}\"] = [\n",
    "        (n - 1) * X.var(ddof=1) / chi2_lower,\n",
    "        (n - 1) * X.var(ddof=1) / chi2_upper,\n",
    "    ]\n",
    "intervals"
   ]
  },
  {
   "cell_type": "code",
   "execution_count": 265,
   "metadata": {},
   "outputs": [
    {
     "name": "stdout",
     "output_type": "stream",
     "text": [
      "| Index | $\\alpha =$ 0.01 | $\\alpha =$ 0.05 | $\\alpha =$ 0.1 |\n",
      "|---|---|---|---|\n",
      "| Нижняя граница | 693.83 | 730.5 | 750.27 |\n",
      "| Верхняя граница | 1100.22 | 1037.24 | 1006.86 |\n",
      "\n"
     ]
    }
   ],
   "source": [
    "print(dataframe_to_markdown(intervals))"
   ]
  },
  {
   "cell_type": "markdown",
   "metadata": {},
   "source": [
    "| Index           | $\\alpha =$ 0.01 | $\\alpha =$ 0.05 | $\\alpha =$ 0.1 |\n",
    "| --------------- | --------------- | --------------- | -------------- |\n",
    "| Нижняя граница  | 693.83          | 730.5           | 750.27         |\n",
    "| Верхняя граница | 1100.22         | 1037.24         | 1006.86        |"
   ]
  },
  {
   "cell_type": "markdown",
   "metadata": {},
   "source": [
    "## 2.3. Доверительные интервалы для разности мат. ожиданий"
   ]
  },
  {
   "cell_type": "markdown",
   "metadata": {},
   "source": [
    "### Условие"
   ]
  },
  {
   "cell_type": "markdown",
   "metadata": {},
   "source": [
    "Анализируемый признак 1 – `B11` (Abdomen circumference (cm))\n",
    "\n",
    "Анализируемый признак 2 – `B12` (Hip circumference (cm))\n",
    "\n",
    "Объёмы выборок – $n_1 = n_2 = 252$\n",
    "\n",
    "Оцениваемый параметр – $m_1 - m_2$"
   ]
  },
  {
   "cell_type": "markdown",
   "metadata": {},
   "source": [
    "### Определения"
   ]
  },
  {
   "cell_type": "code",
   "execution_count": 266,
   "metadata": {},
   "outputs": [
    {
     "data": {
      "text/plain": [
       "(0     85.2\n",
       " 1     83.0\n",
       " 2     87.9\n",
       " 3     86.4\n",
       " 4    100.0\n",
       " Name: B11, dtype: float64,\n",
       " 0     94.5\n",
       " 1     98.7\n",
       " 2     99.2\n",
       " 3    101.2\n",
       " 4    101.9\n",
       " Name: B12, dtype: float64)"
      ]
     },
     "execution_count": 266,
     "metadata": {},
     "output_type": "execute_result"
    }
   ],
   "source": [
    "X1, X2 = data(\"2.3\")\n",
    "X1.head(), X2.head()"
   ]
  },
  {
   "cell_type": "code",
   "execution_count": 267,
   "metadata": {},
   "outputs": [
    {
     "name": "stdout",
     "output_type": "stream",
     "text": [
      "252 252\n"
     ]
    }
   ],
   "source": [
    "print(n1 := len(X1), n2 := len(X2))"
   ]
  },
  {
   "cell_type": "markdown",
   "metadata": {},
   "source": [
    "### Привести формулы расчёта доверительных интервалов"
   ]
  },
  {
   "cell_type": "markdown",
   "metadata": {},
   "source": [
    "| Граница доверительного интервала | Формула расчёта                                                                                                                                                 |\n",
    "| -------------------------------- | --------------------------------------------------------------------------------------------------------------------------------------------------------------- |\n",
    "| Нижняя граница                   | $\\left(\\overline{\\mathbf{X_1}} - \\overline{\\mathbf{X_2}}\\right) - t_{1-\\frac{\\alpha}{2}, (n_1 + n_2 -2)} \\cdot S \\cdot \\sqrt{\\dfrac{1}{n_1} + \\dfrac{1}{n_2}} $ |\n",
    "| Верхняя граница                  | $\\left(\\overline{\\mathbf{X_1}} - \\overline{\\mathbf{X_2}}\\right) + t_{1-\\frac{\\alpha}{2}, (n_1 + n_2 -2)} \\cdot S \\cdot \\sqrt{\\dfrac{1}{n_1} + \\dfrac{1}{n_2}} $ |\n",
    "| $S$                              | $\\sqrt{\\dfrac{(n_1 - 1)S_1^2 + (n_2-1) S_2^2}{n_1 + n_2 -2}}  $                                                                                                            |\n"
   ]
  },
  {
   "cell_type": "markdown",
   "metadata": {},
   "source": [
    "### Рассчитать доверительные интервалы"
   ]
  },
  {
   "cell_type": "code",
   "execution_count": 268,
   "metadata": {},
   "outputs": [
    {
     "data": {
      "text/html": [
       "<div>\n",
       "<style scoped>\n",
       "    .dataframe tbody tr th:only-of-type {\n",
       "        vertical-align: middle;\n",
       "    }\n",
       "\n",
       "    .dataframe tbody tr th {\n",
       "        vertical-align: top;\n",
       "    }\n",
       "\n",
       "    .dataframe thead th {\n",
       "        text-align: right;\n",
       "    }\n",
       "</style>\n",
       "<table border=\"1\" class=\"dataframe\">\n",
       "  <thead>\n",
       "    <tr style=\"text-align: right;\">\n",
       "      <th></th>\n",
       "      <th>$\\alpha =$ 0.01</th>\n",
       "      <th>$\\alpha =$ 0.05</th>\n",
       "      <th>$\\alpha =$ 0.1</th>\n",
       "    </tr>\n",
       "  </thead>\n",
       "  <tbody>\n",
       "    <tr>\n",
       "      <th>Нижняя граница</th>\n",
       "      <td>-9.457466</td>\n",
       "      <td>-8.951063</td>\n",
       "      <td>-8.692701</td>\n",
       "    </tr>\n",
       "    <tr>\n",
       "      <th>Верхняя граница</th>\n",
       "      <td>-5.240153</td>\n",
       "      <td>-5.746556</td>\n",
       "      <td>-6.004918</td>\n",
       "    </tr>\n",
       "  </tbody>\n",
       "</table>\n",
       "</div>"
      ],
      "text/plain": [
       "                 $\\alpha =$ 0.01  $\\alpha =$ 0.05  $\\alpha =$ 0.1\n",
       "Нижняя граница         -9.457466        -8.951063       -8.692701\n",
       "Верхняя граница        -5.240153        -5.746556       -6.004918"
      ]
     },
     "execution_count": 268,
     "metadata": {},
     "output_type": "execute_result"
    }
   ],
   "source": [
    "intervals = pd.DataFrame(index=[\"Нижняя граница\", \"Верхняя граница\"])\n",
    "alphas = [0.01, 0.05, 0.1]\n",
    "std_err = m.sqrt(\n",
    "    ((n1 - 1) * X1.var(ddof=1) + (n2 - 1) * X2.var(ddof=1))\n",
    "    / (n1 + n2 - 2)\n",
    "    * (1 / n1 + 1 / n2)\n",
    ")\n",
    "for alpha in alphas:\n",
    "    intervals[f\"$\\\\alpha =$ {alpha}\"] = stats.t.interval(\n",
    "        1 - alpha, df=n1 + n2 - 2, loc=X1.mean() - X2.mean(), scale=std_err\n",
    "    )\n",
    "intervals"
   ]
  },
  {
   "cell_type": "code",
   "execution_count": 269,
   "metadata": {},
   "outputs": [
    {
     "name": "stdout",
     "output_type": "stream",
     "text": [
      "| Index | $\\alpha =$ 0.01 | $\\alpha =$ 0.05 | $\\alpha =$ 0.1 |\n",
      "|---|---|---|---|\n",
      "| Нижняя граница | -9.46 | -8.95 | -8.69 |\n",
      "| Верхняя граница | -5.24 | -5.75 | -6.0 |\n",
      "\n"
     ]
    }
   ],
   "source": [
    "print(dataframe_to_markdown(intervals))"
   ]
  },
  {
   "cell_type": "markdown",
   "metadata": {},
   "source": [
    "| Index           | $\\alpha =$ 0.01 | $\\alpha =$ 0.05 | $\\alpha =$ 0.1 |\n",
    "| --------------- | --------------- | --------------- | -------------- |\n",
    "| Нижняя граница  | -9.46           | -8.95           | -8.69          |\n",
    "| Верхняя граница | -5.24           | -5.75           | -6.0           |"
   ]
  },
  {
   "cell_type": "markdown",
   "metadata": {},
   "source": [
    "## 2.4. Доверительные интервалы для отношения дисперсий"
   ]
  },
  {
   "cell_type": "markdown",
   "metadata": {},
   "source": [
    "### Условие"
   ]
  },
  {
   "cell_type": "markdown",
   "metadata": {},
   "source": [
    "Анализируемый признак 1 – `B11` (Abdomen circumference (cm))\n",
    "\n",
    "Анализируемый признак 2 – `B12` (Hip circumference (cm))\n",
    "\n",
    "Объёмы выборок – $n_1 = n_2 = 252$\n",
    "\n",
    "Оцениваемый параметр – $\\dfrac{\\sigma_1^2}{\\sigma_2^2}$\n"
   ]
  },
  {
   "cell_type": "markdown",
   "metadata": {},
   "source": [
    "### Определения"
   ]
  },
  {
   "cell_type": "code",
   "execution_count": 270,
   "metadata": {},
   "outputs": [
    {
     "data": {
      "text/plain": [
       "(0     85.2\n",
       " 1     83.0\n",
       " 2     87.9\n",
       " 3     86.4\n",
       " 4    100.0\n",
       " Name: B11, dtype: float64,\n",
       " 0     94.5\n",
       " 1     98.7\n",
       " 2     99.2\n",
       " 3    101.2\n",
       " 4    101.9\n",
       " Name: B12, dtype: float64)"
      ]
     },
     "execution_count": 270,
     "metadata": {},
     "output_type": "execute_result"
    }
   ],
   "source": [
    "X1, X2 = data(\"2.4\")\n",
    "X1.head(), X2.head()"
   ]
  },
  {
   "cell_type": "code",
   "execution_count": 271,
   "metadata": {},
   "outputs": [
    {
     "name": "stdout",
     "output_type": "stream",
     "text": [
      "252 252\n"
     ]
    }
   ],
   "source": [
    "print(n1 := len(X1), n2 := len(X2))"
   ]
  },
  {
   "cell_type": "markdown",
   "metadata": {},
   "source": [
    "### Привести формулы расчёта доверительных интервалов"
   ]
  },
  {
   "cell_type": "markdown",
   "metadata": {},
   "source": [
    "| Граница доверительного интервала | Формула расчёта                                                       |\n",
    "| -------------------------------- | --------------------------------------------------------------------- |\n",
    "| Нижняя граница                   | $\\dfrac{S_1^2}{S_2^2} \\cdot F_{\\frac{\\alpha}{2}, (n_1-1, n_2-1)}$     |\n",
    "| Верхняя граница                  | $\\dfrac{S_1^2}{S_2^2} \\cdot F_{1 - \\frac{\\alpha}{2}, (n_1-1, n_2-1)}$ |"
   ]
  },
  {
   "cell_type": "markdown",
   "metadata": {},
   "source": [
    "### Рассчитать доверительные интервалы"
   ]
  },
  {
   "cell_type": "code",
   "execution_count": 272,
   "metadata": {},
   "outputs": [
    {
     "data": {
      "text/html": [
       "<div>\n",
       "<style scoped>\n",
       "    .dataframe tbody tr th:only-of-type {\n",
       "        vertical-align: middle;\n",
       "    }\n",
       "\n",
       "    .dataframe tbody tr th {\n",
       "        vertical-align: top;\n",
       "    }\n",
       "\n",
       "    .dataframe thead th {\n",
       "        text-align: right;\n",
       "    }\n",
       "</style>\n",
       "<table border=\"1\" class=\"dataframe\">\n",
       "  <thead>\n",
       "    <tr style=\"text-align: right;\">\n",
       "      <th></th>\n",
       "      <th>$\\alpha =$ 0.01</th>\n",
       "      <th>$\\alpha =$ 0.05</th>\n",
       "      <th>$\\alpha =$ 0.1</th>\n",
       "    </tr>\n",
       "  </thead>\n",
       "  <tbody>\n",
       "    <tr>\n",
       "      <th>Нижняя граница</th>\n",
       "      <td>1.634915</td>\n",
       "      <td>1.767942</td>\n",
       "      <td>1.839998</td>\n",
       "    </tr>\n",
       "    <tr>\n",
       "      <th>Верхняя граница</th>\n",
       "      <td>3.139347</td>\n",
       "      <td>2.903130</td>\n",
       "      <td>2.789441</td>\n",
       "    </tr>\n",
       "  </tbody>\n",
       "</table>\n",
       "</div>"
      ],
      "text/plain": [
       "                 $\\alpha =$ 0.01  $\\alpha =$ 0.05  $\\alpha =$ 0.1\n",
       "Нижняя граница          1.634915         1.767942        1.839998\n",
       "Верхняя граница         3.139347         2.903130        2.789441"
      ]
     },
     "execution_count": 272,
     "metadata": {},
     "output_type": "execute_result"
    }
   ],
   "source": [
    "intervals = pd.DataFrame(index=[\"Нижняя граница\", \"Верхняя граница\"])\n",
    "alphas = [0.01, 0.05, 0.1]\n",
    "for alpha in alphas:\n",
    "    intervals[f\"$\\\\alpha =$ {alpha}\"] = stats.f.interval(\n",
    "        1 - alpha, dfn=n1 - 1, dfd=n2 - 1, loc=0, scale=X1.var(ddof=1) / X2.var(ddof=1)\n",
    "    )\n",
    "intervals"
   ]
  },
  {
   "cell_type": "code",
   "execution_count": 273,
   "metadata": {},
   "outputs": [
    {
     "name": "stdout",
     "output_type": "stream",
     "text": [
      "| Index | $\\alpha =$ 0.01 | $\\alpha =$ 0.05 | $\\alpha =$ 0.1 |\n",
      "|---|---|---|---|\n",
      "| Нижняя граница | 1.63 | 1.77 | 1.84 |\n",
      "| Верхняя граница | 3.14 | 2.9 | 2.79 |\n",
      "\n"
     ]
    }
   ],
   "source": [
    "print(dataframe_to_markdown(intervals))"
   ]
  },
  {
   "cell_type": "markdown",
   "metadata": {},
   "source": [
    "| Index           | $\\alpha =$ 0.01 | $\\alpha =$ 0.05 | $\\alpha =$ 0.1 |\n",
    "| --------------- | --------------- | --------------- | -------------- |\n",
    "| Нижняя граница  | 1.63            | 1.77            | 1.84           |\n",
    "| Верхняя граница | 3.14            | 2.9             | 2.79           |\n"
   ]
  },
  {
   "cell_type": "markdown",
   "metadata": {},
   "source": [
    "# Раздел 3. Проверка статистических гипотез о математических ожиданиях и дисперсиях"
   ]
  },
  {
   "cell_type": "markdown",
   "metadata": {},
   "source": [
    "## 3.1. Проверка статистических гипотез о математических ожиданиях"
   ]
  },
  {
   "cell_type": "markdown",
   "metadata": {},
   "source": [
    "### Условие"
   ]
  },
  {
   "cell_type": "markdown",
   "metadata": {},
   "source": [
    "Анализируемый признак  – `B7` (Weight (lbs))\n",
    "\n",
    "Объём выборки – $n$ = `252`\n",
    "\n",
    "Статистическая гипотеза: $H_0:\\ m = m_0;\\ \\ \\ H':\\ m \\neq m_0$"
   ]
  },
  {
   "cell_type": "markdown",
   "metadata": {},
   "source": [
    "### Определения"
   ]
  },
  {
   "cell_type": "code",
   "execution_count": 274,
   "metadata": {},
   "outputs": [
    {
     "data": {
      "text/plain": [
       "0    154.25\n",
       "1    173.25\n",
       "2    154.00\n",
       "3    184.75\n",
       "4    184.25\n",
       "Name: B7, dtype: float64"
      ]
     },
     "execution_count": 274,
     "metadata": {},
     "output_type": "execute_result"
    }
   ],
   "source": [
    "X = data(\"3.1\")[0]\n",
    "X.head()"
   ]
  },
  {
   "cell_type": "code",
   "execution_count": 275,
   "metadata": {},
   "outputs": [
    {
     "name": "stdout",
     "output_type": "stream",
     "text": [
      "252\n"
     ]
    }
   ],
   "source": [
    "print(n := len(X))"
   ]
  },
  {
   "cell_type": "markdown",
   "metadata": {},
   "source": [
    "### Указать формулы расчёта показателей, используемых при проверке статистических гипотез"
   ]
  },
  {
   "cell_type": "markdown",
   "metadata": {},
   "source": [
    "Мы не знаем параметр $\\sigma$, значит используем `t-test`."
   ]
  },
  {
   "cell_type": "markdown",
   "metadata": {},
   "source": [
    "|                                                                                  | Выражение                                                                |\n",
    "| -------------------------------------------------------------------------------- | ------------------------------------------------------------------------ |\n",
    "| Формула расчёта статистики критерия                                              | $Z = \\dfrac{\\overline X - m_0}{S/\\sqrt{n}}$                              |\n",
    "| Закон распределения статистики критерия при условии истинности основной гипотезы | $T(n - 1)$                                                               |\n",
    "| Формулы расчёта критических точек                                                | $\\pm t_{1 - \\frac{\\alpha}{2}, n - 1}$                                    |\n",
    "| Формула расчёта $p$-value                                                        | $2\\min(F_Z(z_{\\text{выб}} \\mid H_0),\\ 1 - F_Z(z_{\\text{выб}} \\mid H_0))$ |\n"
   ]
  },
  {
   "cell_type": "markdown",
   "metadata": {},
   "source": [
    "### Выбрать произвольные значения $m_0$ и проверить статистические гипотезы"
   ]
  },
  {
   "cell_type": "code",
   "execution_count": 276,
   "metadata": {},
   "outputs": [
    {
     "data": {
      "text/markdown": [
       "### T-test"
      ],
      "text/plain": [
       "<IPython.core.display.Markdown object>"
      ]
     },
     "metadata": {},
     "output_type": "display_data"
    },
    {
     "data": {
      "text/markdown": [
       "---"
      ],
      "text/plain": [
       "<IPython.core.display.Markdown object>"
      ]
     },
     "metadata": {},
     "output_type": "display_data"
    },
    {
     "data": {
      "text/markdown": [
       "$H_0: m = m_0 = 120$"
      ],
      "text/plain": [
       "<IPython.core.display.Markdown object>"
      ]
     },
     "metadata": {},
     "output_type": "display_data"
    },
    {
     "data": {
      "text/markdown": [
       "$z_{выб} =$ 31.83"
      ],
      "text/plain": [
       "<IPython.core.display.Markdown object>"
      ]
     },
     "metadata": {},
     "output_type": "display_data"
    },
    {
     "data": {
      "text/markdown": [
       "$p =$ 0.00"
      ],
      "text/plain": [
       "<IPython.core.display.Markdown object>"
      ]
     },
     "metadata": {},
     "output_type": "display_data"
    },
    {
     "data": {
      "text/markdown": [
       "$H_0$ отклоняется"
      ],
      "text/plain": [
       "<IPython.core.display.Markdown object>"
      ]
     },
     "metadata": {},
     "output_type": "display_data"
    },
    {
     "data": {
      "text/markdown": [
       "---"
      ],
      "text/plain": [
       "<IPython.core.display.Markdown object>"
      ]
     },
     "metadata": {},
     "output_type": "display_data"
    },
    {
     "data": {
      "text/markdown": [
       "$H_0: m = m_0 = 180$"
      ],
      "text/plain": [
       "<IPython.core.display.Markdown object>"
      ]
     },
     "metadata": {},
     "output_type": "display_data"
    },
    {
     "data": {
      "text/markdown": [
       "$z_{выб} =$ -0.58"
      ],
      "text/plain": [
       "<IPython.core.display.Markdown object>"
      ]
     },
     "metadata": {},
     "output_type": "display_data"
    },
    {
     "data": {
      "text/markdown": [
       "$p =$ 0.56"
      ],
      "text/plain": [
       "<IPython.core.display.Markdown object>"
      ]
     },
     "metadata": {},
     "output_type": "display_data"
    },
    {
     "data": {
      "text/markdown": [
       "$H_0$ принимается"
      ],
      "text/plain": [
       "<IPython.core.display.Markdown object>"
      ]
     },
     "metadata": {},
     "output_type": "display_data"
    },
    {
     "data": {
      "text/markdown": [
       "---"
      ],
      "text/plain": [
       "<IPython.core.display.Markdown object>"
      ]
     },
     "metadata": {},
     "output_type": "display_data"
    },
    {
     "data": {
      "text/markdown": [
       "$H_0: m = m_0 = 240$"
      ],
      "text/plain": [
       "<IPython.core.display.Markdown object>"
      ]
     },
     "metadata": {},
     "output_type": "display_data"
    },
    {
     "data": {
      "text/markdown": [
       "$z_{выб} =$ -32.99"
      ],
      "text/plain": [
       "<IPython.core.display.Markdown object>"
      ]
     },
     "metadata": {},
     "output_type": "display_data"
    },
    {
     "data": {
      "text/markdown": [
       "$p =$ 0.00"
      ],
      "text/plain": [
       "<IPython.core.display.Markdown object>"
      ]
     },
     "metadata": {},
     "output_type": "display_data"
    },
    {
     "data": {
      "text/markdown": [
       "$H_0$ отклоняется"
      ],
      "text/plain": [
       "<IPython.core.display.Markdown object>"
      ]
     },
     "metadata": {},
     "output_type": "display_data"
    }
   ],
   "source": [
    "alpha = 0.1\n",
    "m0_list = [120, 180, 240]\n",
    "\n",
    "mprint(r\"### T-test\")\n",
    "for m0 in m0_list:\n",
    "    z, p_value = stats.ttest_1samp(X, m0)\n",
    "    mprint(\n",
    "        r\"---\",\n",
    "        f\"$H_0: m = m_0 = {m0}$\",\n",
    "        f\"$z_{{выб}} =$ {z:.2f}\",\n",
    "        f\"$p =$ {p_value:.2f}\",\n",
    "        verdict(alpha, p_value),\n",
    "    )"
   ]
  },
  {
   "cell_type": "markdown",
   "metadata": {},
   "source": [
    "| $m_0$ | Уровень значимости | Выборочное значение статистического критерия | $p$-value | Статистическое решение | Вывод        |\n",
    "| ----- | ------------------ | -------------------------------------------- | --------- | ---------------------- | ------------ |\n",
    "| 120   | 0.1                | 31.83                                        | 0.00      | $H_0$ отклоняется      | $m \\neq 120$ |\n",
    "| 180   | 0.1                | -0.58                                        | 0.56      | $H_0$ принимается      | $m = 180$    |\n",
    "| 240   | 0.1                | -32.99                                       | 0.00      | $H_0$ отклоняется      | $m \\neq 240$ |\n"
   ]
  },
  {
   "cell_type": "markdown",
   "metadata": {},
   "source": [
    "## 3.2 Проверка статистических гипотез о дисперсиях"
   ]
  },
  {
   "cell_type": "markdown",
   "metadata": {},
   "source": [
    "### Условие"
   ]
  },
  {
   "cell_type": "markdown",
   "metadata": {},
   "source": [
    "Анализируемый признак  – `B7` (Weight (lbs))\n",
    "\n",
    "Объём выборки – $n$ = `252`\n",
    "\n",
    "Статистическая гипотеза: $H_0:\\ \\sigma = \\sigma_0;\\ \\ \\ H':\\ \\sigma \\neq \\sigma_0$"
   ]
  },
  {
   "cell_type": "markdown",
   "metadata": {},
   "source": [
    "### Определения"
   ]
  },
  {
   "cell_type": "code",
   "execution_count": 277,
   "metadata": {},
   "outputs": [
    {
     "data": {
      "text/plain": [
       "0    154.25\n",
       "1    173.25\n",
       "2    154.00\n",
       "3    184.75\n",
       "4    184.25\n",
       "Name: B7, dtype: float64"
      ]
     },
     "execution_count": 277,
     "metadata": {},
     "output_type": "execute_result"
    }
   ],
   "source": [
    "X = data(\"3.2\")[0]\n",
    "X.head()"
   ]
  },
  {
   "cell_type": "code",
   "execution_count": 278,
   "metadata": {},
   "outputs": [
    {
     "name": "stdout",
     "output_type": "stream",
     "text": [
      "252\n"
     ]
    }
   ],
   "source": [
    "print(n := len(X))"
   ]
  },
  {
   "cell_type": "markdown",
   "metadata": {},
   "source": [
    "### Указать формулы расчёта показателей, используемых при проверке статистических гипотез"
   ]
  },
  {
   "cell_type": "markdown",
   "metadata": {},
   "source": [
    "Мы не знаем параметр $m$, значит используем $\\chi^2-test$."
   ]
  },
  {
   "cell_type": "markdown",
   "metadata": {},
   "source": [
    "|                                                                                  | Выражение                                                                 |\n",
    "| -------------------------------------------------------------------------------- | ------------------------------------------------------------------------- |\n",
    "| Формула расчёта статистики критерия                                              | $Z = \\dfrac{(n - 1)S^2}{\\sigma_0^2}$                                      |\n",
    "| Закон распределения статистики критерия при условии истинности основной гипотезы | $\\chi^2(n - 1)$                                                           |\n",
    "| Формулы расчёта критических точек                                                | $\\chi^2_{\\frac{\\alpha}{2}, n - 1},\\ \\chi^2_{1 - \\frac{\\alpha}{2}, n - 1}$ |\n",
    "| Формула расчёта $p$-value                                                        | $2\\min(F_Z(z_{\\text{выб}} \\mid H_0),\\ 1 - F_Z(z_{\\text{выб}} \\mid H_0))$  |\n"
   ]
  },
  {
   "cell_type": "markdown",
   "metadata": {},
   "source": [
    "### Выбрать произвольные значения $\\sigma_0$ и проверить статистические гипотезы"
   ]
  },
  {
   "cell_type": "code",
   "execution_count": 279,
   "metadata": {},
   "outputs": [],
   "source": [
    "def chisquare(X, value):\n",
    "    n = len(X)\n",
    "    z = (n - 1) * X.var(ddof=1) / value**2\n",
    "    cdf = stats.chi2.cdf(z, df=n - 1)\n",
    "    p_value = 2 * min(cdf, 1 - cdf)\n",
    "    return z, p_value"
   ]
  },
  {
   "cell_type": "code",
   "execution_count": 280,
   "metadata": {},
   "outputs": [
    {
     "data": {
      "text/markdown": [
       "### $\\chi^2$-test"
      ],
      "text/plain": [
       "<IPython.core.display.Markdown object>"
      ]
     },
     "metadata": {},
     "output_type": "display_data"
    },
    {
     "data": {
      "text/markdown": [
       "---"
      ],
      "text/plain": [
       "<IPython.core.display.Markdown object>"
      ]
     },
     "metadata": {},
     "output_type": "display_data"
    },
    {
     "data": {
      "text/markdown": [
       "$H_0: \\sigma = \\sigma_0 = 10$"
      ],
      "text/plain": [
       "<IPython.core.display.Markdown object>"
      ]
     },
     "metadata": {},
     "output_type": "display_data"
    },
    {
     "data": {
      "text/markdown": [
       "$z_{выб} =$ 2167.94"
      ],
      "text/plain": [
       "<IPython.core.display.Markdown object>"
      ]
     },
     "metadata": {},
     "output_type": "display_data"
    },
    {
     "data": {
      "text/markdown": [
       "$p =$ 0.00"
      ],
      "text/plain": [
       "<IPython.core.display.Markdown object>"
      ]
     },
     "metadata": {},
     "output_type": "display_data"
    },
    {
     "data": {
      "text/markdown": [
       "$H_0$ отклоняется"
      ],
      "text/plain": [
       "<IPython.core.display.Markdown object>"
      ]
     },
     "metadata": {},
     "output_type": "display_data"
    },
    {
     "data": {
      "text/markdown": [
       "---"
      ],
      "text/plain": [
       "<IPython.core.display.Markdown object>"
      ]
     },
     "metadata": {},
     "output_type": "display_data"
    },
    {
     "data": {
      "text/markdown": [
       "$H_0: \\sigma = \\sigma_0 = 20$"
      ],
      "text/plain": [
       "<IPython.core.display.Markdown object>"
      ]
     },
     "metadata": {},
     "output_type": "display_data"
    },
    {
     "data": {
      "text/markdown": [
       "$z_{выб} =$ 541.99"
      ],
      "text/plain": [
       "<IPython.core.display.Markdown object>"
      ]
     },
     "metadata": {},
     "output_type": "display_data"
    },
    {
     "data": {
      "text/markdown": [
       "$p =$ 0.00"
      ],
      "text/plain": [
       "<IPython.core.display.Markdown object>"
      ]
     },
     "metadata": {},
     "output_type": "display_data"
    },
    {
     "data": {
      "text/markdown": [
       "$H_0$ отклоняется"
      ],
      "text/plain": [
       "<IPython.core.display.Markdown object>"
      ]
     },
     "metadata": {},
     "output_type": "display_data"
    },
    {
     "data": {
      "text/markdown": [
       "---"
      ],
      "text/plain": [
       "<IPython.core.display.Markdown object>"
      ]
     },
     "metadata": {},
     "output_type": "display_data"
    },
    {
     "data": {
      "text/markdown": [
       "$H_0: \\sigma = \\sigma_0 = 30$"
      ],
      "text/plain": [
       "<IPython.core.display.Markdown object>"
      ]
     },
     "metadata": {},
     "output_type": "display_data"
    },
    {
     "data": {
      "text/markdown": [
       "$z_{выб} =$ 240.88"
      ],
      "text/plain": [
       "<IPython.core.display.Markdown object>"
      ]
     },
     "metadata": {},
     "output_type": "display_data"
    },
    {
     "data": {
      "text/markdown": [
       "$p =$ 0.67"
      ],
      "text/plain": [
       "<IPython.core.display.Markdown object>"
      ]
     },
     "metadata": {},
     "output_type": "display_data"
    },
    {
     "data": {
      "text/markdown": [
       "$H_0$ принимается"
      ],
      "text/plain": [
       "<IPython.core.display.Markdown object>"
      ]
     },
     "metadata": {},
     "output_type": "display_data"
    }
   ],
   "source": [
    "alpha = 0.1\n",
    "std0_list = [10, 20, 30]\n",
    "\n",
    "mprint(r\"### $\\chi^2$-test\")\n",
    "for std0 in std0_list:\n",
    "    z, p_value = chisquare(X, std0)\n",
    "    mprint(\n",
    "        r\"---\",\n",
    "        f\"$H_0: \\\\sigma = \\\\sigma_0 = {std0}$\",\n",
    "        f\"$z_{{выб}} =$ {z:.2f}\",\n",
    "        f\"$p =$ {p_value:.2f}\",\n",
    "        verdict(alpha, p_value),\n",
    "    )"
   ]
  },
  {
   "cell_type": "markdown",
   "metadata": {},
   "source": [
    "| $\\sigma_0$ | Уровень значимости | Выборочное значение статистического критерия | $p$-value | Статистическое решение | Вывод            |\n",
    "| ---------- | ------------------ | -------------------------------------------- | --------- | ---------------------- | ---------------- |\n",
    "| 10         | 0.1                | 2167.94                                      | 0.00      | $H_0$ отклоняется      | $\\sigma \\neq 10$ |\n",
    "| 20         | 0.1                | 541.99                                       | 0.00      | $H_0$ отклоняется      | $\\sigma \\neq 20$ |\n",
    "| 30         | 0.1                | 240.88                                       | 0.67      | $H_0$ принимается      | $\\sigma = 30$    |"
   ]
  },
  {
   "cell_type": "markdown",
   "metadata": {},
   "source": [
    "## 3.3 Проверка статистических гипотез о равенстве математических ожиданий"
   ]
  },
  {
   "cell_type": "markdown",
   "metadata": {},
   "source": [
    "### Условие"
   ]
  },
  {
   "cell_type": "markdown",
   "metadata": {},
   "source": [
    "Анализируемый признак 1 – `B11` (Abdomen circumference (cm))\n",
    "\n",
    "Анализируемый признак 2 – `B12` (Hip circumference (cm))\n",
    "\n",
    "Объёмы выборок – $n_1 = n_2 = 252$\n",
    "\n",
    "Статистическая гипотеза: $H_0:\\ m_1 = m_2;\\ \\ \\ H':\\ m_1 \\neq m_2$"
   ]
  },
  {
   "cell_type": "markdown",
   "metadata": {},
   "source": [
    "### Определения"
   ]
  },
  {
   "cell_type": "code",
   "execution_count": 281,
   "metadata": {},
   "outputs": [
    {
     "data": {
      "text/plain": [
       "(0     85.2\n",
       " 1     83.0\n",
       " 2     87.9\n",
       " 3     86.4\n",
       " 4    100.0\n",
       " Name: B11, dtype: float64,\n",
       " 0     94.5\n",
       " 1     98.7\n",
       " 2     99.2\n",
       " 3    101.2\n",
       " 4    101.9\n",
       " Name: B12, dtype: float64)"
      ]
     },
     "execution_count": 281,
     "metadata": {},
     "output_type": "execute_result"
    }
   ],
   "source": [
    "X1, X2 = data(\"3.3\")\n",
    "X1.head(), X2.head()"
   ]
  },
  {
   "cell_type": "code",
   "execution_count": 282,
   "metadata": {},
   "outputs": [
    {
     "name": "stdout",
     "output_type": "stream",
     "text": [
      "252 252\n"
     ]
    }
   ],
   "source": [
    "print(n1 := len(X1), n2 := len(X2))"
   ]
  },
  {
   "cell_type": "markdown",
   "metadata": {},
   "source": [
    "### Указать формулы расчёта показателей, используемых при проверке статистических гипотез"
   ]
  },
  {
   "cell_type": "markdown",
   "metadata": {},
   "source": [
    "Мы не знаем параметр $\\sigma$, значит используем `t-test`."
   ]
  },
  {
   "cell_type": "markdown",
   "metadata": {},
   "source": [
    "|                                                                                  | Выражение                                                                                                                                                  |\n",
    "| -------------------------------------------------------------------------------- | ---------------------------------------------------------------------------------------------------------------------------------------------------------- |\n",
    "| Формула расчёта статистики критерия                                              | $Z = \\dfrac{\\overline{X_1} - \\overline{X_2}}{S\\sqrt{\\dfrac{1}{n_1} + \\dfrac{1}{n_2}}}$, где $S^2 = \\dfrac{(n_1 - 1)S_1^2 + (n_2 - 1)S_2^2}{n_1 + n_2 - 2}$ |\n",
    "| Закон распределения статистики критерия при условии истинности основной гипотезы | $T(n_1 + n_2 - 2)$                                                                                                                                         |\n",
    "| Формулы расчёта критических точек                                                | $\\pm t_{1 - \\frac{\\alpha}{2}, n_1 + n_2 - 2}$                                                                                                              |\n",
    "| Формула расчёта $p$-value                                                        | $2\\min(F_Z(z_{\\text{выб}} \\mid H_0),\\ 1 - F_Z(z_{\\text{выб}} \\mid H_0))$                                                                                   |\n"
   ]
  },
  {
   "cell_type": "markdown",
   "metadata": {},
   "source": [
    "### Проверить статистические гипотезы"
   ]
  },
  {
   "cell_type": "code",
   "execution_count": 283,
   "metadata": {},
   "outputs": [
    {
     "data": {
      "text/markdown": [
       "### two-sample T-test"
      ],
      "text/plain": [
       "<IPython.core.display.Markdown object>"
      ]
     },
     "metadata": {},
     "output_type": "display_data"
    },
    {
     "data": {
      "text/markdown": [
       "$H_0: m_1 = m_2$"
      ],
      "text/plain": [
       "<IPython.core.display.Markdown object>"
      ]
     },
     "metadata": {},
     "output_type": "display_data"
    },
    {
     "data": {
      "text/markdown": [
       "$z_{выб} =$ -9.01"
      ],
      "text/plain": [
       "<IPython.core.display.Markdown object>"
      ]
     },
     "metadata": {},
     "output_type": "display_data"
    },
    {
     "data": {
      "text/markdown": [
       "$p =$ 0.00"
      ],
      "text/plain": [
       "<IPython.core.display.Markdown object>"
      ]
     },
     "metadata": {},
     "output_type": "display_data"
    },
    {
     "data": {
      "text/markdown": [
       "При $\\alpha = 0.01$ $H_0$ отклоняется"
      ],
      "text/plain": [
       "<IPython.core.display.Markdown object>"
      ]
     },
     "metadata": {},
     "output_type": "display_data"
    },
    {
     "data": {
      "text/markdown": [
       "При $\\alpha = 0.05$ $H_0$ отклоняется"
      ],
      "text/plain": [
       "<IPython.core.display.Markdown object>"
      ]
     },
     "metadata": {},
     "output_type": "display_data"
    },
    {
     "data": {
      "text/markdown": [
       "При $\\alpha = 0.1$ $H_0$ отклоняется"
      ],
      "text/plain": [
       "<IPython.core.display.Markdown object>"
      ]
     },
     "metadata": {},
     "output_type": "display_data"
    }
   ],
   "source": [
    "alphas = [0.01, 0.05, 0.1]\n",
    "z, p_value = stats.ttest_ind(X1, X2)\n",
    "mprint(\n",
    "    r\"### two-sample T-test\",\n",
    "    f\"$H_0: m_1 = m_2$\",\n",
    "    f\"$z_{{выб}} =$ {z:.2f}\",\n",
    "    f\"$p =$ {p_value:.2f}\",\n",
    ")\n",
    "for alpha in alphas:\n",
    "    mprint(f\"При $\\\\alpha = {alpha}$ {verdict(alpha, p_value)}\")"
   ]
  },
  {
   "cell_type": "markdown",
   "metadata": {},
   "source": [
    "| Уровень значимости | Выборочное значение статистического критерия | $p$-value | Статистическое решение | Вывод        |\n",
    "| ------------------ | -------------------------------------------- | --------- | ---------------------- | ------------ |\n",
    "| 0.01               | -9.01                                        | 0.00      | $H_0$ отклоняется      | $m_1 \\neq m_2$ |\n",
    "| 0.05               | -9.01                                        | 0.00      | $H_0$ отклоняется      | $m_1 \\neq m_2$    |\n",
    "| 0.1                | -9.01                                        | 0.00      | $H_0$ отклоняется      | $m_1 \\neq m_2$ |\n"
   ]
  },
  {
   "cell_type": "markdown",
   "metadata": {},
   "source": [
    "## 3.4 Проверка статистических гипотез о равенстве дисперсий"
   ]
  },
  {
   "cell_type": "markdown",
   "metadata": {},
   "source": [
    "### Условие"
   ]
  },
  {
   "cell_type": "markdown",
   "metadata": {},
   "source": [
    "Анализируемый признак 1 – `B11` (Abdomen circumference (cm))\n",
    "\n",
    "Анализируемый признак 2 – `B12` (Hip circumference (cm))\n",
    "\n",
    "Объёмы выборок – $n_1 = n_2 = 252$\n",
    "\n",
    "Статистическая гипотеза: $H_0:\\ \\sigma_1 = \\sigma_2;\\ \\ \\ H':\\ \\sigma_1 \\neq \\sigma_2$"
   ]
  },
  {
   "cell_type": "markdown",
   "metadata": {},
   "source": [
    "### Определения"
   ]
  },
  {
   "cell_type": "code",
   "execution_count": 284,
   "metadata": {},
   "outputs": [
    {
     "data": {
      "text/plain": [
       "(0     85.2\n",
       " 1     83.0\n",
       " 2     87.9\n",
       " 3     86.4\n",
       " 4    100.0\n",
       " Name: B11, dtype: float64,\n",
       " 0     94.5\n",
       " 1     98.7\n",
       " 2     99.2\n",
       " 3    101.2\n",
       " 4    101.9\n",
       " Name: B12, dtype: float64)"
      ]
     },
     "execution_count": 284,
     "metadata": {},
     "output_type": "execute_result"
    }
   ],
   "source": [
    "X1, X2 = data(\"3.4\")\n",
    "X1.head(), X2.head()"
   ]
  },
  {
   "cell_type": "code",
   "execution_count": 285,
   "metadata": {},
   "outputs": [
    {
     "name": "stdout",
     "output_type": "stream",
     "text": [
      "252 252\n"
     ]
    }
   ],
   "source": [
    "print(n1 := len(X1), n2 := len(X2))"
   ]
  },
  {
   "cell_type": "markdown",
   "metadata": {},
   "source": [
    "### Указать формулы расчёта показателей, используемых при проверке статистических гипотез"
   ]
  },
  {
   "cell_type": "markdown",
   "metadata": {},
   "source": [
    "|                                                                                  | Выражение                                                                                 |\n",
    "| -------------------------------------------------------------------------------- | ----------------------------------------------------------------------------------------- |\n",
    "| Формула расчёта статистики критерия                                              | $Z = \\dfrac{S_1^2}{S_2^2}$                                                                |\n",
    "| Закон распределения статистики критерия при условии истинности основной гипотезы | $F(n_1 - 1,\\ n_2 - 1)$                                                                    |\n",
    "| Формулы расчёта критических точек                                                | $F_{\\frac{\\alpha}{2},\\ n_1 - 1,\\ n_2 - 1},\\ F_{1 - \\frac{\\alpha}{2},\\ n_1 - 1,\\ n_2 - 1}$ |\n",
    "| Формула расчёта $p$-value                                                        | $2\\min(F_Z(z_{\\text{выб}} \\mid H_0),\\ 1 - F_Z(z_{\\text{выб}} \\mid H_0))$                  |"
   ]
  },
  {
   "cell_type": "markdown",
   "metadata": {},
   "source": [
    "### Проверить статистические гипотезы"
   ]
  },
  {
   "cell_type": "code",
   "execution_count": 286,
   "metadata": {},
   "outputs": [],
   "source": [
    "def Ftest(X1, X2):\n",
    "    n1 = len(X1)\n",
    "    n2 = len(X2)\n",
    "    z = X1.var(ddof=1) / X2.var(ddof=1)\n",
    "    cdf = stats.f.cdf(z, dfn=n1 - 1, dfd=n2 - 1)\n",
    "    p_value = 2 * min(cdf, 1 - cdf)\n",
    "    return z, p_value"
   ]
  },
  {
   "cell_type": "code",
   "execution_count": 287,
   "metadata": {},
   "outputs": [
    {
     "data": {
      "text/markdown": [
       "### F-test"
      ],
      "text/plain": [
       "<IPython.core.display.Markdown object>"
      ]
     },
     "metadata": {},
     "output_type": "display_data"
    },
    {
     "data": {
      "text/markdown": [
       "$H_0: \\sigma_1 = \\sigma_2$"
      ],
      "text/plain": [
       "<IPython.core.display.Markdown object>"
      ]
     },
     "metadata": {},
     "output_type": "display_data"
    },
    {
     "data": {
      "text/markdown": [
       "$z_{выб} =$ 2.27"
      ],
      "text/plain": [
       "<IPython.core.display.Markdown object>"
      ]
     },
     "metadata": {},
     "output_type": "display_data"
    },
    {
     "data": {
      "text/markdown": [
       "$p =$ 0.00"
      ],
      "text/plain": [
       "<IPython.core.display.Markdown object>"
      ]
     },
     "metadata": {},
     "output_type": "display_data"
    },
    {
     "data": {
      "text/markdown": [
       "При $\\alpha = 0.01$ $H_0$ отклоняется"
      ],
      "text/plain": [
       "<IPython.core.display.Markdown object>"
      ]
     },
     "metadata": {},
     "output_type": "display_data"
    },
    {
     "data": {
      "text/markdown": [
       "При $\\alpha = 0.05$ $H_0$ отклоняется"
      ],
      "text/plain": [
       "<IPython.core.display.Markdown object>"
      ]
     },
     "metadata": {},
     "output_type": "display_data"
    },
    {
     "data": {
      "text/markdown": [
       "При $\\alpha = 0.1$ $H_0$ отклоняется"
      ],
      "text/plain": [
       "<IPython.core.display.Markdown object>"
      ]
     },
     "metadata": {},
     "output_type": "display_data"
    }
   ],
   "source": [
    "alphas = [0.01, 0.05, 0.1]\n",
    "z, p_value = Ftest(X1, X2)\n",
    "mprint(\n",
    "    r\"### F-test\",\n",
    "    f\"$H_0: \\\\sigma_1 = \\\\sigma_2$\",\n",
    "    f\"$z_{{выб}} =$ {z:.2f}\",\n",
    "    f\"$p =$ {p_value:.2f}\",\n",
    ")\n",
    "\n",
    "for alpha in alphas:\n",
    "    mprint(f\"При $\\\\alpha = {alpha}$ {verdict(alpha, p_value)}\")"
   ]
  },
  {
   "cell_type": "markdown",
   "metadata": {},
   "source": [
    "| Уровень значимости | Выборочное значение статистического критерия | $p$-value | Статистическое решение | Вывод                    |\n",
    "| ------------------ | -------------------------------------------- | --------- | ---------------------- | ------------------------ |\n",
    "| 0.01               | 2.27                                         | 0.00      | $H_0$ отклоняется      | $\\sigma_1 \\neq \\sigma_2$ |\n",
    "| 0.05               | 2.27                                         | 0.00      | $H_0$ отклоняется      | $\\sigma_1 \\neq \\sigma_2$ |\n",
    "| 0.1                | 2.27                                         | 0.00      | $H_0$ отклоняется      | $\\sigma_1 \\neq \\sigma_2$ |"
   ]
  },
  {
   "cell_type": "markdown",
   "metadata": {},
   "source": [
    "# Раздел 4. Критерии согласия"
   ]
  },
  {
   "cell_type": "markdown",
   "metadata": {},
   "source": [
    "## Условие"
   ]
  },
  {
   "cell_type": "markdown",
   "metadata": {},
   "source": [
    "Анализируемый признак  – `B7` (Weight (lbs))\n",
    "\n",
    "Объём выборки – `252`"
   ]
  },
  {
   "cell_type": "markdown",
   "metadata": {},
   "source": [
    "## Определения"
   ]
  },
  {
   "cell_type": "code",
   "execution_count": 288,
   "metadata": {},
   "outputs": [
    {
     "data": {
      "text/plain": [
       "0    154.25\n",
       "1    173.25\n",
       "2    154.00\n",
       "3    184.75\n",
       "4    184.25\n",
       "Name: B7, dtype: float64"
      ]
     },
     "execution_count": 288,
     "metadata": {},
     "output_type": "execute_result"
    }
   ],
   "source": [
    "X = data(\"4\")[0]\n",
    "X.head()"
   ]
  },
  {
   "cell_type": "code",
   "execution_count": 289,
   "metadata": {},
   "outputs": [
    {
     "name": "stdout",
     "output_type": "stream",
     "text": [
      "252\n"
     ]
    }
   ],
   "source": [
    "print(n := len(X))"
   ]
  },
  {
   "cell_type": "markdown",
   "metadata": {},
   "source": [
    "## 4.1. Критерий $\\chi^2$ "
   ]
  },
  {
   "cell_type": "markdown",
   "metadata": {},
   "source": [
    "Теоретическое распределение - нормальное.\n",
    "\n",
    "Статистическая гипотеза - $H_0:\\ X \\sim N;\\ \\ \\ H':\\ X \\nsim N$"
   ]
  },
  {
   "cell_type": "markdown",
   "metadata": {},
   "source": [
    "### Указать формулы расчёта показателей, используемых при проверке статистических гипотез"
   ]
  },
  {
   "cell_type": "markdown",
   "metadata": {},
   "source": [
    "|                                                                                  | Выражение                                                                         | Пояснение использованных обозначений                                                                                                                                                                                                                                                                                                                                               |\n",
    "| -------------------------------------------------------------------------------- | --------------------------------------------------------------------------------- | ---------------------------------------------------------------------------------------------------------------------------------------------------------------------------------------------------------------------------------------------------------------------------------------------------------------------------------------------------------------------------------- |\n",
    "| Формула расчёта статистики критерия                                              | $Z = \\sum\\limits_{i=1}^{k} \\dfrac{\\left(n_i - n \\cdot p_i\\right)^2}{n \\cdot p_i}$ | $k$ - число интервалов в группированном статистическом ряду. $\\\\$ $n_i$ - частота попадания случайной величины $\\mathbf X$ в интервал $\\Delta_i$. $\\\\$ $p_i$ - вероятность попадания случайной величины $\\mathbf X$ в интервал $\\Delta_i$ в условиях $H_0$, то есть, если $\\Delta_i = (a_{i-1}, a_{i}]$, то $$p_i = \\int\\limits_{a_{i-1}}^{a_{i}}g(x)dx = G(a_{i}) - G(a_{i-1}).$$ |\n",
    "| Закон распределения статистики критерия при условии истинности основной гипотезы | $\\chi^2(k - r - 1)$                                                               | $r$ - количество оцениваемых параметров у предполагаемого распределения $G$.                                                                                                                                                                                                                                                                                                       |\n",
    "| Формулы расчёта критической точки                                                | $\\chi^2_{1 - \\alpha,\\ k - r - 1}$                                                 | Малые значения $Z$ нам также подходят, поэтому критическая область выбирается правосторонней                                                                                                                                                                                                                                                                                       |\n",
    "| Формула расчёта $p$-value                                                        | $1 - F_Z(z_{\\text{выб}} \\mid H_0)$                                                |                                                                                                                                                                                                                                                                                                                                                                                    |"
   ]
  },
  {
   "cell_type": "markdown",
   "metadata": {},
   "source": [
    "### Выбрать число групп"
   ]
  },
  {
   "cell_type": "markdown",
   "metadata": {},
   "source": [
    "Область всевозможных значений предполагаемого распределения делят на $k$ групп(интервалов). Наше предполагаемое распределение - нормальное. Поэтому делим всю числовую прямую на $k$ интервалов.\n",
    "\n",
    "Обычно выбирают число групп по формуле Стерджесса: $k \\approx 1 + 1,3 \\ln{n}$.\n",
    "\n",
    "Однако критерий $\\chi^2$ чувствителен к группам, для которых ожидаемые частоты $n \\cdot p_i$ меньше 5. Поэтому при группировке нужно учитывать это.\n",
    "\n",
    "Я поступал следующим образом:\n",
    "1. Разбивал выборку на $k$ групп библиотечными функциями.\n",
    "2. Левый конец первого интервала и правый конец второго интервала устремлял в $\\infty$.\n",
    "3. Рассчитывал $n \\cdot p_i$, и в зависимости от этого соединял некоторые соседние интервалы.\n",
    "4. Если нужно, подразбивал интервалы с большим $n \\cdot p_i$."
   ]
  },
  {
   "cell_type": "code",
   "execution_count": 290,
   "metadata": {},
   "outputs": [
    {
     "data": {
      "text/plain": [
       "8"
      ]
     },
     "execution_count": 290,
     "metadata": {},
     "output_type": "execute_result"
    }
   ],
   "source": [
    "k = round(1 + 1.3 * m.log(n))\n",
    "k"
   ]
  },
  {
   "cell_type": "code",
   "execution_count": 291,
   "metadata": {},
   "outputs": [
    {
     "data": {
      "text/plain": [
       "array([118.5    , 149.08125, 179.6625 , 210.24375, 240.825  , 271.40625,\n",
       "       301.9875 , 332.56875, 363.15   ])"
      ]
     },
     "execution_count": 291,
     "metadata": {},
     "output_type": "execute_result"
    }
   ],
   "source": [
    "frequences, bin_edges = np.histogram(X, bins=k)\n",
    "bin_edges"
   ]
  },
  {
   "cell_type": "markdown",
   "metadata": {},
   "source": [
    "Устремляю левый конец первого интервала в $-\\infty$ и правый конец последнего интервала в $+\\infty$. Можно считать, что точки $\\pm1000$ - это $\\pm\\infty$, так как за интервал $(-1000, 1000)$, смотря по выборке, вероятность попадания ничтожно мала. Но в каких то случаях, нужно скорректировать эти значения."
   ]
  },
  {
   "cell_type": "code",
   "execution_count": 292,
   "metadata": {},
   "outputs": [
    {
     "data": {
      "text/plain": [
       "array([-1000.     ,   149.08125,   179.6625 ,   210.24375,   240.825  ,\n",
       "         271.40625,   301.9875 ,   332.56875,  1000.     ])"
      ]
     },
     "execution_count": 292,
     "metadata": {},
     "output_type": "execute_result"
    }
   ],
   "source": [
    "bin_edges[0] = -1000\n",
    "bin_edges[-1] = 1000\n",
    "bin_edges"
   ]
  },
  {
   "cell_type": "markdown",
   "metadata": {},
   "source": [
    "Для каждого интервала $[a_{i-1}, a_i]$ найдём $p_i = G(a_i) - G(a_{i-1})$ - вероятность попадания случайной величины $\\mathbf X$ в интервал $[a_{i-1}, a_i]$ в условиях $H_0$.\n",
    "\n",
    "Напомним, что в данном случае теоретическое распределение - нормальное. Поэтому и будем использовать `stats.norm.cdf()`."
   ]
  },
  {
   "cell_type": "code",
   "execution_count": 293,
   "metadata": {},
   "outputs": [
    {
     "data": {
      "text/plain": [
       "array([1.54946233e-01, 3.55071966e-01, 3.46696912e-01, 1.25693091e-01,\n",
       "       1.67664622e-02, 8.11224914e-04, 1.40249714e-05, 8.57111686e-08])"
      ]
     },
     "execution_count": 293,
     "metadata": {},
     "output_type": "execute_result"
    }
   ],
   "source": [
    "probabilities = np.diff(stats.norm(loc=X.mean(), scale=X.std(ddof=1)).cdf(bin_edges))\n",
    "probabilities"
   ]
  },
  {
   "cell_type": "markdown",
   "metadata": {},
   "source": [
    "Мы нашли вероятности попасть в каждый интервал. Теперь найдём ожидаемые частоты $n \\cdot p_i$."
   ]
  },
  {
   "cell_type": "code",
   "execution_count": 294,
   "metadata": {},
   "outputs": [],
   "source": [
    "def get_expected_frequencies(bin_edges, n, cdf=stats.norm.cdf):\n",
    "    probabilities = np.diff(cdf(bin_edges))\n",
    "    return n * probabilities"
   ]
  },
  {
   "cell_type": "code",
   "execution_count": 295,
   "metadata": {},
   "outputs": [
    {
     "data": {
      "text/plain": [
       "array([3.90464507e+01, 8.94781354e+01, 8.73676218e+01, 3.16746590e+01,\n",
       "       4.22514847e+00, 2.04428678e-01, 3.53429279e-03, 2.15992145e-05])"
      ]
     },
     "execution_count": 295,
     "metadata": {},
     "output_type": "execute_result"
    }
   ],
   "source": [
    "get_expected_frequencies(\n",
    "    bin_edges, n, cdf=stats.norm(loc=X.mean(), scale=X.std(ddof=1)).cdf\n",
    ")"
   ]
  },
  {
   "cell_type": "markdown",
   "metadata": {},
   "source": [
    "Как видим, для пятого и всех последующих интервалов ожидаемые частоты меньше 5. Условие $n \\cdot p_i \\gtrsim 5$ не выполняется.\n",
    "\n",
    "Следует объединить эти интервалы с соседними, пока это условие не будет выполнено."
   ]
  },
  {
   "cell_type": "code",
   "execution_count": 296,
   "metadata": {},
   "outputs": [],
   "source": [
    "def merge_interval(bin_edges, expected_frequencies, i):\n",
    "    # Объединяем два интервала в зависимости от их индексов.\n",
    "    if i == 0:  # Крайний левый интервал\n",
    "        bin_edges.pop(i + 1)\n",
    "        expected_frequencies[i + 1] += expected_frequencies[i]\n",
    "    elif i == len(bin_edges) - 2:  # Крайний правый интервал\n",
    "        bin_edges.pop(i)\n",
    "        expected_frequencies[i - 1] += expected_frequencies[i]\n",
    "    else:  # Объединяем с соседом c наименьшим expected_frequencies\n",
    "        if expected_frequencies[i - 1] < expected_frequencies[i + 1]:\n",
    "            bin_edges.pop(i)\n",
    "            expected_frequencies[i - 1] += expected_frequencies[i]\n",
    "        else:\n",
    "            bin_edges.pop(i + 1)\n",
    "            expected_frequencies[i + 1] += expected_frequencies[i]\n",
    "    expected_frequencies.pop(i)"
   ]
  },
  {
   "cell_type": "code",
   "execution_count": 297,
   "metadata": {},
   "outputs": [],
   "source": [
    "def adjust_intervals(bin_edges, n, distrib=stats.norm, k=None):\n",
    "    \"\"\"\n",
    "    Функция для корректировки интервалов и вероятностей\n",
    "\n",
    "    Параметры:\n",
    "    bin_edges: Границы интервалов\n",
    "    n: uint - объем выборки\n",
    "    distrib: распределение, которое мы хотим использовать для подсчета вероятностей\n",
    "    k: uint\n",
    "        Количество интервалов, которое мы хотим получить на выходе.\n",
    "        Работает следующим образом:\n",
    "        если None, то мы просто объединяем интервалы с малой ожидаемой частотой с соседними. На выходе получаем k <= len(intervals).\n",
    "        если число, то мы сначала объединяем интервалы с малой ожидаемой частотой, получая k <= len(intervals),\n",
    "        а затем разбиваем интервалы, для которых ожидаемая частота большая, таким образом получая на выходе k >= len(intervals).\n",
    "    \"\"\"\n",
    "    cdf = distrib.cdf\n",
    "    ppf = distrib.ppf\n",
    "    expected_frequencies = get_expected_frequencies(bin_edges, n, cdf=cdf).tolist()\n",
    "    if type(bin_edges) == np.ndarray:\n",
    "        bin_edges = bin_edges.tolist()\n",
    "\n",
    "    # Слияние интервалов с ожидаемой частотой <= 5\n",
    "    i = 0\n",
    "    while True:\n",
    "        if expected_frequencies[i] <= 5:\n",
    "            merge_interval(bin_edges, expected_frequencies, i)\n",
    "            i -= 1\n",
    "\n",
    "        i += 1\n",
    "        if i >= len(bin_edges) - 1:\n",
    "            break\n",
    "\n",
    "    # Разбиение интервалов с максимальной ожидаемой частотой.\n",
    "    if k is not None:\n",
    "        while len(bin_edges) < k + 1:\n",
    "            max_expected_frequency = max(expected_frequencies)\n",
    "\n",
    "            # если максимальная ожидаемая частота меньше 10, то нельзя подразбивать интервалы\n",
    "            if max_expected_frequency < 10:\n",
    "                break\n",
    "\n",
    "            max_index = expected_frequencies.index(max_expected_frequency)\n",
    "            a, b = bin_edges[max_index : max_index + 2]\n",
    "\n",
    "            # Находим такое c, что ожидаемая частота в интервалах (a, c) и (c, b) как минимум 5\n",
    "            c = (ppf(cdf(a) + 5 / n) + ppf(cdf(b) - 5 / n)) / 2\n",
    "\n",
    "            e_left, e_right = get_expected_frequencies([a, c, b], n, cdf=cdf)\n",
    "\n",
    "            bin_edges.insert(max_index + 1, c)\n",
    "\n",
    "            expected_frequencies[max_index] = e_left\n",
    "            expected_frequencies.insert(max_index + 1, e_right)\n",
    "\n",
    "    return np.array(bin_edges), np.array(expected_frequencies)"
   ]
  },
  {
   "cell_type": "code",
   "execution_count": 298,
   "metadata": {},
   "outputs": [
    {
     "data": {
      "text/plain": [
       "(array([-1000.        ,   149.08125   ,   164.81703146,   172.31854569,\n",
       "          179.6625    ,   186.9602006 ,   194.45080324,   210.24375   ,\n",
       "         1000.        ]),\n",
       " array([39.0464507 , 40.48644318, 24.05884788, 24.93284434, 24.62528372,\n",
       "        23.59176092, 39.15057721, 36.10779206]))"
      ]
     },
     "execution_count": 298,
     "metadata": {},
     "output_type": "execute_result"
    }
   ],
   "source": [
    "bin_edges, expected_frequencies = adjust_intervals(\n",
    "    bin_edges, n, distrib=stats.norm(loc=X.mean(), scale=X.std(ddof=1)), k=8\n",
    ")\n",
    "bin_edges, expected_frequencies"
   ]
  },
  {
   "cell_type": "code",
   "execution_count": 299,
   "metadata": {},
   "outputs": [
    {
     "data": {
      "image/png": "[encoded data removed]",
      "text/plain": [
       "<Figure size 1200x600 with 2 Axes>"
      ]
     },
     "metadata": {},
     "output_type": "display_data"
    }
   ],
   "source": [
    "fig, axes = plt.subplots(1, 2, figsize=(12, 6))\n",
    "axes[0].hist(X, bins=bin_edges, edgecolor=\"black\", density=True)\n",
    "axes[0].set_xlabel(\"Значения\")\n",
    "axes[0].set_ylabel(\"Относительная частота\")\n",
    "\n",
    "axes[1].hist(X, bins=bin_edges, edgecolor=\"black\", density=True)\n",
    "axes[1].set_xlabel(\"Значения\")\n",
    "axes[1].set_ylabel(\"Относительная частота\")\n",
    "plt.xlim(100, 250)\n",
    "\n",
    "plt.show()"
   ]
  },
  {
   "cell_type": "markdown",
   "metadata": {},
   "source": [
    "Теперь мы чётко разбили всю числовую прямую на интервалы, для которых ожидаемые частоты $n \\cdot p_i \\gtrsim 5$."
   ]
  },
  {
   "cell_type": "code",
   "execution_count": 300,
   "metadata": {},
   "outputs": [
    {
     "data": {
      "text/markdown": [
       "Число интервалов: 8"
      ],
      "text/plain": [
       "<IPython.core.display.Markdown object>"
      ]
     },
     "metadata": {},
     "output_type": "display_data"
    },
    {
     "data": {
      "text/markdown": [
       "Ширина интервалов: от 7.30 до 1149.08"
      ],
      "text/plain": [
       "<IPython.core.display.Markdown object>"
      ]
     },
     "metadata": {},
     "output_type": "display_data"
    }
   ],
   "source": [
    "mprint(\n",
    "    f\"Число интервалов: {k}\",\n",
    "    f\"Ширина интервалов: от {np.diff(bin_edges).min():.2f} до {np.diff(bin_edges).max():.2f}\",\n",
    ")"
   ]
  },
  {
   "cell_type": "markdown",
   "metadata": {},
   "source": [
    "| Число интервалов | Обоснование выбора числа интервалов                                                                               | Ширина интервалов   |\n",
    "| ---------------- | ----------------------------------------------------------------------------------------------------------------- | ------------------- |\n",
    "| 8                | $k \\approx 1 + 1,3 \\ln{n}$ - формула Стерджесса $\\\\n \\cdot p_i \\gtrsim 5$ - поправка на чувствительность критерия | от 7.30 до $\\infty$ |\n",
    "\n"
   ]
  },
  {
   "cell_type": "markdown",
   "metadata": {},
   "source": [
    "### Построить таблицу частот"
   ]
  },
  {
   "cell_type": "code",
   "execution_count": 301,
   "metadata": {},
   "outputs": [
    {
     "data": {
      "text/html": [
       "<div>\n",
       "<style scoped>\n",
       "    .dataframe tbody tr th:only-of-type {\n",
       "        vertical-align: middle;\n",
       "    }\n",
       "\n",
       "    .dataframe tbody tr th {\n",
       "        vertical-align: top;\n",
       "    }\n",
       "\n",
       "    .dataframe thead th {\n",
       "        text-align: right;\n",
       "    }\n",
       "</style>\n",
       "<table border=\"1\" class=\"dataframe\">\n",
       "  <thead>\n",
       "    <tr style=\"text-align: right;\">\n",
       "      <th></th>\n",
       "      <th>low edge</th>\n",
       "      <th>high edge</th>\n",
       "      <th>frequency</th>\n",
       "      <th>relative frequency</th>\n",
       "      <th>expected probability</th>\n",
       "    </tr>\n",
       "  </thead>\n",
       "  <tbody>\n",
       "    <tr>\n",
       "      <th>1</th>\n",
       "      <td>-1000.000000</td>\n",
       "      <td>149.081250</td>\n",
       "      <td>31</td>\n",
       "      <td>0.123016</td>\n",
       "      <td>0.154946</td>\n",
       "    </tr>\n",
       "    <tr>\n",
       "      <th>2</th>\n",
       "      <td>149.081250</td>\n",
       "      <td>164.817031</td>\n",
       "      <td>53</td>\n",
       "      <td>0.210317</td>\n",
       "      <td>0.160660</td>\n",
       "    </tr>\n",
       "    <tr>\n",
       "      <th>3</th>\n",
       "      <td>164.817031</td>\n",
       "      <td>172.318546</td>\n",
       "      <td>30</td>\n",
       "      <td>0.119048</td>\n",
       "      <td>0.095472</td>\n",
       "    </tr>\n",
       "    <tr>\n",
       "      <th>4</th>\n",
       "      <td>172.318546</td>\n",
       "      <td>179.662500</td>\n",
       "      <td>27</td>\n",
       "      <td>0.107143</td>\n",
       "      <td>0.098940</td>\n",
       "    </tr>\n",
       "    <tr>\n",
       "      <th>5</th>\n",
       "      <td>179.662500</td>\n",
       "      <td>186.960201</td>\n",
       "      <td>23</td>\n",
       "      <td>0.091270</td>\n",
       "      <td>0.097719</td>\n",
       "    </tr>\n",
       "    <tr>\n",
       "      <th>6</th>\n",
       "      <td>186.960201</td>\n",
       "      <td>194.450803</td>\n",
       "      <td>18</td>\n",
       "      <td>0.071429</td>\n",
       "      <td>0.093618</td>\n",
       "    </tr>\n",
       "    <tr>\n",
       "      <th>7</th>\n",
       "      <td>194.450803</td>\n",
       "      <td>210.243750</td>\n",
       "      <td>35</td>\n",
       "      <td>0.138889</td>\n",
       "      <td>0.155359</td>\n",
       "    </tr>\n",
       "    <tr>\n",
       "      <th>8</th>\n",
       "      <td>210.243750</td>\n",
       "      <td>1000.000000</td>\n",
       "      <td>35</td>\n",
       "      <td>0.138889</td>\n",
       "      <td>0.143285</td>\n",
       "    </tr>\n",
       "  </tbody>\n",
       "</table>\n",
       "</div>"
      ],
      "text/plain": [
       "      low edge    high edge  frequency  relative frequency  \\\n",
       "1 -1000.000000   149.081250         31            0.123016   \n",
       "2   149.081250   164.817031         53            0.210317   \n",
       "3   164.817031   172.318546         30            0.119048   \n",
       "4   172.318546   179.662500         27            0.107143   \n",
       "5   179.662500   186.960201         23            0.091270   \n",
       "6   186.960201   194.450803         18            0.071429   \n",
       "7   194.450803   210.243750         35            0.138889   \n",
       "8   210.243750  1000.000000         35            0.138889   \n",
       "\n",
       "   expected probability  \n",
       "1              0.154946  \n",
       "2              0.160660  \n",
       "3              0.095472  \n",
       "4              0.098940  \n",
       "5              0.097719  \n",
       "6              0.093618  \n",
       "7              0.155359  \n",
       "8              0.143285  "
      ]
     },
     "execution_count": 301,
     "metadata": {},
     "output_type": "execute_result"
    }
   ],
   "source": [
    "groups = pd.DataFrame(index=range(1, len(bin_edges)))\n",
    "groups[\"low edge\"] = bin_edges[:-1]\n",
    "groups[\"high edge\"] = bin_edges[1:]\n",
    "groups[\"frequency\"] = groups.apply(\n",
    "    lambda row: ((X >= row[\"low edge\"]) & (X < row[\"high edge\"])).sum(), axis=1\n",
    ")\n",
    "groups[\"relative frequency\"] = groups[\"frequency\"] / n\n",
    "groups[\"expected probability\"] = expected_frequencies / n\n",
    "groups"
   ]
  },
  {
   "cell_type": "code",
   "execution_count": 302,
   "metadata": {},
   "outputs": [
    {
     "name": "stdout",
     "output_type": "stream",
     "text": [
      "| Index | low edge | high edge | frequency | relative frequency | expected probability |\n",
      "|---|---|---|---|---|---|\n",
      "| 1 | -1000.0 | 149.08 | 31.0 | 0.12 | 0.15 |\n",
      "| 2 | 149.08 | 164.82 | 53.0 | 0.21 | 0.16 |\n",
      "| 3 | 164.82 | 172.32 | 30.0 | 0.12 | 0.1 |\n",
      "| 4 | 172.32 | 179.66 | 27.0 | 0.11 | 0.1 |\n",
      "| 5 | 179.66 | 186.96 | 23.0 | 0.09 | 0.1 |\n",
      "| 6 | 186.96 | 194.45 | 18.0 | 0.07 | 0.09 |\n",
      "| 7 | 194.45 | 210.24 | 35.0 | 0.14 | 0.16 |\n",
      "| 8 | 210.24 | 1000.0 | 35.0 | 0.14 | 0.14 |\n",
      "\n"
     ]
    }
   ],
   "source": [
    "print(dataframe_to_markdown(groups))"
   ]
  },
  {
   "cell_type": "markdown",
   "metadata": {},
   "source": [
    "| Номер интервала | Нижняя граница | Верхняя граница | Частота | Относительная частота | Вероятность попадания в интервал при условии истинности основной гипотезы |\n",
    "| --------------- | -------------- | --------------- | ------- | --------------------- | ------------------------------------------------------------------------- |\n",
    "| 1               | $-\\infty$      | 149.08          | 31.0    | 0.12                  | 0.15                                                                      |\n",
    "| 2               | 149.08         | 164.82          | 53.0    | 0.21                  | 0.16                                                                      |\n",
    "| 3               | 164.82         | 172.32          | 30.0    | 0.12                  | 0.10                                                                      |\n",
    "| 4               | 172.32         | 179.66          | 27.0    | 0.11                  | 0.10                                                                      |\n",
    "| 5               | 179.66         | 186.96          | 23.0    | 0.09                  | 0.10                                                                      |\n",
    "| 6               | 186.96         | 194.45          | 18.0    | 0.07                  | 0.09                                                                      |\n",
    "| 7               | 194.45         | 210.24          | 35.0    | 0.14                  | 0.16                                                                      |\n",
    "| 8               | 210.24         | $+\\infty$       | 35.0    | 0.14                  | 0.14                                                                      |"
   ]
  },
  {
   "cell_type": "markdown",
   "metadata": {},
   "source": [
    "### Построить гистограмму относительных частот и функцию плотности теоретического распределения на одном графике"
   ]
  },
  {
   "cell_type": "code",
   "execution_count": 303,
   "metadata": {},
   "outputs": [
    {
     "data": {
      "image/png": "[encoded data removed]",
      "text/plain": [
       "<Figure size 800x550 with 1 Axes>"
      ]
     },
     "metadata": {},
     "output_type": "display_data"
    }
   ],
   "source": [
    "grid = np.linspace(X.min() - 100, X.max() + 100, 1000)\n",
    "plt.hist(\n",
    "    X,\n",
    "    bins=bin_edges,\n",
    "    edgecolor=\"black\",\n",
    "    density=True,\n",
    "    label=\"Гистограмма относительных частот\",\n",
    "    color=\"orange\",\n",
    ")\n",
    "\n",
    "plt.plot(\n",
    "    grid,\n",
    "    stats.norm.pdf(grid, loc=X.mean(), scale=X.std(ddof=1)),\n",
    "    label=\"Плотность нормального распределения\",\n",
    "    lw=5,\n",
    ")\n",
    "plt.legend()\n",
    "plt.xlim(100, 400)\n",
    "plt.xlabel(\"Значения\")\n",
    "plt.show()"
   ]
  },
  {
   "cell_type": "markdown",
   "metadata": {},
   "source": [
    "### Проверить статистические гипотезы"
   ]
  },
  {
   "cell_type": "code",
   "execution_count": 304,
   "metadata": {},
   "outputs": [
    {
     "data": {
      "text/markdown": [
       "### $\\chi^2$-test"
      ],
      "text/plain": [
       "<IPython.core.display.Markdown object>"
      ]
     },
     "metadata": {},
     "output_type": "display_data"
    },
    {
     "data": {
      "text/markdown": [
       "$H_0: F_X(x) = N(\\mu, \\sigma)$"
      ],
      "text/plain": [
       "<IPython.core.display.Markdown object>"
      ]
     },
     "metadata": {},
     "output_type": "display_data"
    },
    {
     "data": {
      "text/markdown": [
       "$z_{выб} =$ 9.07"
      ],
      "text/plain": [
       "<IPython.core.display.Markdown object>"
      ]
     },
     "metadata": {},
     "output_type": "display_data"
    },
    {
     "data": {
      "text/markdown": [
       "$p =$ 0.11"
      ],
      "text/plain": [
       "<IPython.core.display.Markdown object>"
      ]
     },
     "metadata": {},
     "output_type": "display_data"
    },
    {
     "data": {
      "text/markdown": [
       "При $\\alpha = 0.01$ $H_0$ принимается"
      ],
      "text/plain": [
       "<IPython.core.display.Markdown object>"
      ]
     },
     "metadata": {},
     "output_type": "display_data"
    },
    {
     "data": {
      "text/markdown": [
       "При $\\alpha = 0.05$ $H_0$ принимается"
      ],
      "text/plain": [
       "<IPython.core.display.Markdown object>"
      ]
     },
     "metadata": {},
     "output_type": "display_data"
    },
    {
     "data": {
      "text/markdown": [
       "При $\\alpha = 0.1$ $H_0$ принимается"
      ],
      "text/plain": [
       "<IPython.core.display.Markdown object>"
      ]
     },
     "metadata": {},
     "output_type": "display_data"
    }
   ],
   "source": [
    "alphas = [0.01, 0.05, 0.1]\n",
    "\n",
    "z, p_value = stats.chisquare(groups[\"frequency\"], expected_frequencies, ddof=2)\n",
    "mprint(\n",
    "    r\"### $\\chi^2$-test\",\n",
    "    f\"$H_0: F_X(x) = N(\\\\mu, \\\\sigma)$\",\n",
    "    f\"$z_{{выб}} =$ {z:.2f}\",\n",
    "    f\"$p =$ {p_value:.2f}\",\n",
    ")\n",
    "\n",
    "for alpha in alphas:\n",
    "    mprint(f\"При $\\\\alpha = {alpha}$ {verdict(alpha, p_value)}\")"
   ]
  },
  {
   "cell_type": "markdown",
   "metadata": {},
   "source": [
    "## 4.2. Критерий Харке-Бера"
   ]
  },
  {
   "cell_type": "markdown",
   "metadata": {},
   "source": [
    "Статистическая гипотеза: $H_0:\\ X \\sim N;\\ \\ \\ H':\\ X \\nsim N$"
   ]
  },
  {
   "cell_type": "markdown",
   "metadata": {},
   "source": [
    "### Теоретическая справка"
   ]
  },
  {
   "cell_type": "markdown",
   "metadata": {},
   "source": [
    "Критерий Харке-Бера (Jarque-Bera) - это критерий проверки гипотезы о нормальности выборки:\n",
    "\n",
    "$H_0:\\ X \\sim N;\\ \\ \\ H':\\ X \\nsim N$\n",
    "\n",
    "Для проверки нормальности распределения нулевая гипотеза разбивается на две части:\n",
    "\n",
    "$$H_0^{(1)}: \\gamma_X = 0;\\ \\ \\ H'^{(1)}: \\gamma_X \\neq 0$$\n",
    "$$H_0^{(2)}: \\varepsilon_X = 0;\\ \\ \\ H'^{(2)}: \\varepsilon_X \\neq 0, где$$\n",
    "\n",
    "$\\gamma_X$ - [коэффициент асимметрии](#формулы), $\\varepsilon_X$ - [эксцесс](#формулы).\n",
    "\n",
    "Для этих гипотез используются следующие статистики:\n",
    "\n",
    "$Z_1 = \\dfrac{\\gamma^*_X}{\\sqrt{\\dfrac{6}{n}}};\\ \\ \\ Z_2 = \\dfrac{\\varepsilon^*_X}{\\sqrt{\\dfrac{24}{n}}}$, при этом $Z_1 \\mid_{H_0^{(1)}} \\sim N(0, 1);\\ \\ \\ Z_2 \\mid_{H_0^{(2)}} \\sim N(0, 1)$.\n",
    "\n",
    "Если хоть одна $H_0^{(1)}$ или $H_0^{(2)}$ отклоняется, то исходная гипотеза $H_0$ отклоняется.\n",
    "\n",
    "Для проверки основной гипотезы строится общая статистика: $Z = Z_1^2 + Z_2^2$, при этом $Z \\mid_{H_0} \\sim \\chi^2(2)$. Критическая область - правосторонняя."
   ]
  },
  {
   "cell_type": "markdown",
   "metadata": {},
   "source": [
    "### Указать формулы расчёта показателей, используемых при проверке статистических гипотез"
   ]
  },
  {
   "cell_type": "markdown",
   "metadata": {},
   "source": [
    "|                                                                                  | Выражение                                                                                                                         | Пояснение использованных обозначений                                                                                                    |\n",
    "| -------------------------------------------------------------------------------- | --------------------------------------------------------------------------------------------------------------------------------- | --------------------------------------------------------------------------------------------------------------------------------------- |\n",
    "| Формула расчёта статистики критерия                                              | $Z = Z^2_1 + Z^2_2$, где $\\\\Z_1 = \\dfrac{\\gamma^*_X}{\\sqrt{\\dfrac{6}{n}}};\\\\ Z_2 = \\dfrac{\\varepsilon^*_X}{\\sqrt{\\dfrac{24}{n}}}$ | $\\gamma^*_X$ - [выборочный коэффициент асимметрии](#формулы), $\\\\ \\varepsilon^*_X$ - [выборочный эксцесс](#формулы), $\\\\ n$ - объём выборки. |\n",
    "| Закон распределения статистики критерия при условии истинности основной гипотезы | $\\chi^2(2)$                                                                                                                       |                                                                                                                                         |\n",
    "| Формулы расчёта критической точки                                                | $\\chi^2_{1 - \\alpha,\\ 2}$                                                                                                         | Правосторонняя критическая область.              |\n",
    "| Формула расчёта $p$-value                                                        | $1 - F_Z(z_{\\text{выб}} \\mid H_0)$                                                                                                |                                                                                                                                         |"
   ]
  },
  {
   "cell_type": "markdown",
   "metadata": {},
   "source": [
    "### Проверить статистические гипотезы"
   ]
  },
  {
   "cell_type": "code",
   "execution_count": 305,
   "metadata": {},
   "outputs": [
    {
     "data": {
      "text/markdown": [
       "### Jarque-Bera test"
      ],
      "text/plain": [
       "<IPython.core.display.Markdown object>"
      ]
     },
     "metadata": {},
     "output_type": "display_data"
    },
    {
     "data": {
      "text/markdown": [
       "$H_0: F_X(x) = N(\\mu, \\sigma)$"
      ],
      "text/plain": [
       "<IPython.core.display.Markdown object>"
      ]
     },
     "metadata": {},
     "output_type": "display_data"
    },
    {
     "data": {
      "text/markdown": [
       "$z_{выб} =$ 337.89"
      ],
      "text/plain": [
       "<IPython.core.display.Markdown object>"
      ]
     },
     "metadata": {},
     "output_type": "display_data"
    },
    {
     "data": {
      "text/markdown": [
       "$p =$ 0.00"
      ],
      "text/plain": [
       "<IPython.core.display.Markdown object>"
      ]
     },
     "metadata": {},
     "output_type": "display_data"
    },
    {
     "data": {
      "text/markdown": [
       "При $\\alpha = 0.01$ $H_0$ отклоняется"
      ],
      "text/plain": [
       "<IPython.core.display.Markdown object>"
      ]
     },
     "metadata": {},
     "output_type": "display_data"
    },
    {
     "data": {
      "text/markdown": [
       "При $\\alpha = 0.05$ $H_0$ отклоняется"
      ],
      "text/plain": [
       "<IPython.core.display.Markdown object>"
      ]
     },
     "metadata": {},
     "output_type": "display_data"
    },
    {
     "data": {
      "text/markdown": [
       "При $\\alpha = 0.1$ $H_0$ отклоняется"
      ],
      "text/plain": [
       "<IPython.core.display.Markdown object>"
      ]
     },
     "metadata": {},
     "output_type": "display_data"
    }
   ],
   "source": [
    "z, p_value = stats.jarque_bera(X)\n",
    "mprint(\n",
    "    r\"### Jarque-Bera test\",\n",
    "    f\"$H_0: F_X(x) = N(\\\\mu, \\\\sigma)$\",\n",
    "    f\"$z_{{выб}} =$ {z:.2f}\",\n",
    "    f\"$p =$ {p_value:.2f}\",\n",
    ")\n",
    "\n",
    "for alpha in alphas:\n",
    "    mprint(f\"При $\\\\alpha = {alpha}$ {verdict(alpha, p_value)}\")"
   ]
  },
  {
   "cell_type": "markdown",
   "metadata": {},
   "source": [
    "| Уровень значимости | Выборочное значение статистического критерия | $p$-value | Статистическое решение | Вывод       |\n",
    "| ------------------ | -------------------------------------------- | --------- | ---------------------- | ----------- |\n",
    "| 0.01               | 337.89                                       | 0.0       | $H_0$ отклоняется      | $X \\nsim N$ |\n",
    "| 0.05               | 337.89                                       | 0.0       | $H_0$ отклоняется      | $X \\nsim N$ |\n",
    "| 0.1                | 337.89                                       | 0.0       | $H_0$ отклоняется      | $X \\nsim N$ |"
   ]
  },
  {
   "cell_type": "markdown",
   "metadata": {},
   "source": [
    "## Вывод (в терминах предметной области):"
   ]
  },
  {
   "cell_type": "markdown",
   "metadata": {},
   "source": [
    "В результате проведённого в п.4 статистического анализа обнаружено, что критерий $\\chi^2$ не отвергает гипотезу о нормальности распределения, но критерий Харке-Бера отвергает её.\n",
    "\n",
    "Так как для этих данных критерий Харке-Бера более чувствителен, чем критерий $\\chi^2$, то можно сделать вывод, что выборка `B7` (Weight (lbs)) не имеет нормального распределения."
   ]
  },
  {
   "cell_type": "markdown",
   "metadata": {},
   "source": [
    "# Раздел 5. Проверка однородности выборок"
   ]
  },
  {
   "cell_type": "markdown",
   "metadata": {},
   "source": [
    "## Условие"
   ]
  },
  {
   "cell_type": "markdown",
   "metadata": {},
   "source": [
    "Анализируемый признак 1 – `B11` (Abdomen circumference (cm))\n",
    "\n",
    "Анализируемый признак 2 – `B12` (Hip circumference (cm))\n",
    "\n",
    "Объёмы выборок – $n_1 = n_2 = 252$"
   ]
  },
  {
   "cell_type": "markdown",
   "metadata": {},
   "source": [
    "## Определения"
   ]
  },
  {
   "cell_type": "code",
   "execution_count": 306,
   "metadata": {},
   "outputs": [
    {
     "data": {
      "text/plain": [
       "(0     85.2\n",
       " 1     83.0\n",
       " 2     87.9\n",
       " 3     86.4\n",
       " 4    100.0\n",
       " Name: B11, dtype: float64,\n",
       " 0     94.5\n",
       " 1     98.7\n",
       " 2     99.2\n",
       " 3    101.2\n",
       " 4    101.9\n",
       " Name: B12, dtype: float64)"
      ]
     },
     "execution_count": 306,
     "metadata": {},
     "output_type": "execute_result"
    }
   ],
   "source": [
    "X, Y = data(\"5\")\n",
    "\n",
    "X.head(), Y.head()"
   ]
  },
  {
   "cell_type": "code",
   "execution_count": 307,
   "metadata": {},
   "outputs": [
    {
     "name": "stdout",
     "output_type": "stream",
     "text": [
      "252 252\n"
     ]
    }
   ],
   "source": [
    "print(n1 := len(X), n2 := len(Y))"
   ]
  },
  {
   "cell_type": "markdown",
   "metadata": {},
   "source": [
    "## 5.1 Критерий знаков"
   ]
  },
  {
   "cell_type": "markdown",
   "metadata": {},
   "source": [
    "Статистическая гипотеза: $H_0:\\ F_{X}(x) = F_{Y}(x);\\ \\ \\ H':\\ F_{X}(x) \\neq F_{Y}(x)$"
   ]
  },
  {
   "cell_type": "markdown",
   "metadata": {},
   "source": [
    "### Указать формулы расчёта показателей, используемых при проверке статистических гипотез"
   ]
  },
  {
   "cell_type": "markdown",
   "metadata": {},
   "source": [
    "|                                                                                  | Выражение                                                                                                                         | Пояснение использованных обозначений                                                                                                    |\n",
    "| -------------------------------------------------------------------------------- | --------------------------------------------------------------------------------------------------------------------------------- | --------------------------------------------------------------------------------------------------------------------------------------- |\n",
    "| Формула расчёта статистики критерия                                              | $Z = \\dfrac{K_+ - \\dfrac{n}{2}}{\\sqrt{\\dfrac{n}{4}}}$ | $K_+$ - количество знаков `+` в выборке $z_1, \\dots, z_n = x_1 - y_1, \\dots, x_n - y_n$ |\n",
    "| Закон распределения статистики критерия при условии истинности основной гипотезы | $N(0, 1)$                                                                                                                       |                                                                                                                                         |\n",
    "| Формулы расчёта критической точки                                                | $\\pm u_{1 - \\frac{\\alpha}{2}}$                                                                                                         | Двусторонняя критическая область.              |\n",
    "| Формула расчёта $p$-value                                                        | $2\\min(F_Z(z_{\\text{выб}} \\mid H_0),\\ 1 - F_Z(z_{\\text{выб}} \\mid H_0))$                                                                                                |                                                                                                                                         |\n"
   ]
  },
  {
   "cell_type": "markdown",
   "metadata": {},
   "source": [
    "### Проверить статистические гипотезы"
   ]
  },
  {
   "cell_type": "code",
   "execution_count": 308,
   "metadata": {},
   "outputs": [],
   "source": [
    "def sign_test(X, Y):\n",
    "    if len(X) != len(Y):\n",
    "        raise ValueError(\"Длины выборок должны совпадать\")\n",
    "    n = len(X)\n",
    "    k = sum(X > Y)\n",
    "    z = (k - n / 2) / m.sqrt(n / 4)\n",
    "    p_value = 2 * min(stats.norm.cdf(z), 1 - stats.norm.cdf(z))\n",
    "    return z, p_value"
   ]
  },
  {
   "cell_type": "code",
   "execution_count": 309,
   "metadata": {},
   "outputs": [
    {
     "data": {
      "text/markdown": [
       "### Sign test"
      ],
      "text/plain": [
       "<IPython.core.display.Markdown object>"
      ]
     },
     "metadata": {},
     "output_type": "display_data"
    },
    {
     "data": {
      "text/markdown": [
       "$H_0: F_X(x) = F_Y(x)$"
      ],
      "text/plain": [
       "<IPython.core.display.Markdown object>"
      ]
     },
     "metadata": {},
     "output_type": "display_data"
    },
    {
     "data": {
      "text/markdown": [
       "$z_{выб} =$ -12.72"
      ],
      "text/plain": [
       "<IPython.core.display.Markdown object>"
      ]
     },
     "metadata": {},
     "output_type": "display_data"
    },
    {
     "data": {
      "text/markdown": [
       "$p =$ 0.00"
      ],
      "text/plain": [
       "<IPython.core.display.Markdown object>"
      ]
     },
     "metadata": {},
     "output_type": "display_data"
    },
    {
     "data": {
      "text/markdown": [
       "При $\\alpha = 0.01$ $H_0$ отклоняется"
      ],
      "text/plain": [
       "<IPython.core.display.Markdown object>"
      ]
     },
     "metadata": {},
     "output_type": "display_data"
    },
    {
     "data": {
      "text/markdown": [
       "При $\\alpha = 0.05$ $H_0$ отклоняется"
      ],
      "text/plain": [
       "<IPython.core.display.Markdown object>"
      ]
     },
     "metadata": {},
     "output_type": "display_data"
    },
    {
     "data": {
      "text/markdown": [
       "При $\\alpha = 0.1$ $H_0$ отклоняется"
      ],
      "text/plain": [
       "<IPython.core.display.Markdown object>"
      ]
     },
     "metadata": {},
     "output_type": "display_data"
    }
   ],
   "source": [
    "alphas = [0.01, 0.05, 0.1]\n",
    "\n",
    "z, p_value = sign_test(X, Y)\n",
    "mprint(\n",
    "    r\"### Sign test\",\n",
    "    f\"$H_0: F_X(x) = F_Y(x)$\",\n",
    "    f\"$z_{{выб}} =$ {z:.2f}\",\n",
    "    f\"$p =$ {p_value:.2f}\",\n",
    ")\n",
    "\n",
    "for alpha in alphas:\n",
    "    mprint(f\"При $\\\\alpha = {alpha}$ {verdict(alpha, p_value)}\")"
   ]
  },
  {
   "cell_type": "markdown",
   "metadata": {},
   "source": [
    "| Уровень значимости | Выборочное значение статистического критерия | $p$-value | Статистическое решение | Вывод                    |\n",
    "| ------------------ | -------------------------------------------- | --------- | ---------------------- | ------------------------ |\n",
    "| 0.01               | -12.72                                       | 0.00      | $H_0$ отклоняется      | $F_{X}(x) \\neq F_{Y}(x)$ |\n",
    "| 0.05               | -12.72                                       | 0.00      | $H_0$ отклоняется      | $F_{X}(x) \\neq F_{Y}(x)$ |\n",
    "| 0.1                | -12.72                                       | 0.00      | $H_0$ отклоняется      | $F_{X}(x) \\neq F_{Y}(x)$ |"
   ]
  },
  {
   "cell_type": "markdown",
   "metadata": {},
   "source": [
    "## 5.2 Критерий $\\chi^2$"
   ]
  },
  {
   "cell_type": "markdown",
   "metadata": {},
   "source": [
    "Статистическая гипотеза: $H_0:\\ F_{X}(x) = F_{Y}(x);\\ \\ \\ H':\\ F_{X}(x) \\neq F_{Y}(x)$"
   ]
  },
  {
   "cell_type": "markdown",
   "metadata": {},
   "source": [
    "### Указать формулы расчёта показателей, используемых при проверке статистических гипотез"
   ]
  },
  {
   "cell_type": "markdown",
   "metadata": {},
   "source": [
    "|                                                                                  | Выражение                                                                                                                         | Пояснение использованных обозначений                                                                                                    |\n",
    "| -------------------------------------------------------------------------------- | --------------------------------------------------------------------------------------------------------------------------------- | --------------------------------------------------------------------------------------------------------------------------------------- |\n",
    "| Формула расчёта статистики критерия                                              | $Z = nm\\sum\\limits_{i=1}^{k}\\dfrac{1}{n_i+m_i}\\left(\\dfrac{n_i}{n} + \\dfrac{m_i}{m}\\right)$ | $k$ - число интервалов в группированном статистическом ряду. $\\\\$ $n_i$ - частота попадания случайной величины $\\mathbf X$ в интервал $\\Delta_i$. $\\\\$ $m_i$ - частота попадания случайной величины $\\mathbf X$ в интервал $\\Delta_i$. $\\\\$ $n$ - объём выборки $x_1, \\dots, x_n$ $\\\\$ $m$ - объём выборки $y_1, \\dots, y_m$ |\n",
    "| Закон распределения статистики критерия при условии истинности основной гипотезы | $\\chi^2(k - 1)$                                                                                                                       |                                                                                                                                         |\n",
    "| Формулы расчёта критической точки                                                | $\\chi^2_{1 - \\alpha,\\ k - 1}$                                                                                                         | Правосторонняя критическая область.              |\n",
    "| Формула расчёта $p$-value                                                        | $1 - F_Z(z_{\\text{выб}} \\mid H_0)$                                                                                                |                                                                                                                                         |"
   ]
  },
  {
   "cell_type": "markdown",
   "metadata": {},
   "source": [
    "### Выбрать число групп"
   ]
  },
  {
   "cell_type": "markdown",
   "metadata": {},
   "source": [
    "Обычно выбирают число групп по формуле Стерджесса: $k \\approx 1 + 1,3 \\ln{\\max(n, m)}$.\n",
    "\n",
    "Однако критерий $\\chi^2$ чувствителен к группам, для которых $n_i + m_i$ меньше 5. Поэтому при группировке нужно учитывать это.\n",
    "\n",
    "Рассмотрим данный пример:"
   ]
  },
  {
   "cell_type": "code",
   "execution_count": 310,
   "metadata": {},
   "outputs": [
    {
     "data": {
      "image/png": "[encoded data removed]",
      "text/plain": [
       "<Figure size 800x550 with 1 Axes>"
      ]
     },
     "metadata": {},
     "output_type": "display_data"
    }
   ],
   "source": [
    "k = round(1 + 1.3 * m.log(max(n1, n2)))\n",
    "\n",
    "frequences, bin_edges, _ = plt.hist((X, Y), bins=k, edgecolor=\"black\", stacked=True)\n",
    "plt.show()"
   ]
  },
  {
   "cell_type": "markdown",
   "metadata": {},
   "source": [
    "Посмотрим на значения $n_i + m_i$ для каждого интервала."
   ]
  },
  {
   "cell_type": "code",
   "execution_count": 311,
   "metadata": {},
   "outputs": [
    {
     "data": {
      "text/plain": [
       "array([ 23.,  89., 192., 156.,  39.,   3.,   0.,   2.])"
      ]
     },
     "execution_count": 311,
     "metadata": {},
     "output_type": "execute_result"
    }
   ],
   "source": [
    "frequences[1]"
   ]
  },
  {
   "cell_type": "markdown",
   "metadata": {},
   "source": [
    "Как видим, для последних трёх интервалов $n_i + m_i < 5$. Условие $n_i + m_i \\gtrsim 5$ не выполняется.\n",
    "\n",
    "Следует объединить эти интервалы с соседними, пока это условие не будет выполнено."
   ]
  },
  {
   "cell_type": "code",
   "execution_count": 315,
   "metadata": {},
   "outputs": [],
   "source": [
    "def merge_interval(bin_edges, frequences1, frequences2, i):\n",
    "    # Объединяем два интервала в зависимости от их индексов.\n",
    "    if i == 0:  # Крайний левый интервал\n",
    "        bin_edges.pop(i + 1)\n",
    "        frequences1[i + 1] += frequences1[i]\n",
    "        frequences2[i + 1] += frequences2[i]\n",
    "    elif i == len(bin_edges) - 2:  # Крайний правый интервал\n",
    "        bin_edges.pop(i)\n",
    "        frequences1[i - 1] += frequences1[i]\n",
    "        frequences2[i - 1] += frequences2[i]\n",
    "    else:  # Объединяем с соседом c наименьшим expected_frequencies\n",
    "        if (\n",
    "            frequences1[i - 1] + frequences2[i - 1]\n",
    "            < frequences1[i + 1] + frequences2[i + 1]\n",
    "        ):\n",
    "            bin_edges.pop(i)\n",
    "            frequences1[i - 1] += frequences1[i]\n",
    "            frequences2[i - 1] += frequences2[i]\n",
    "        else:\n",
    "            bin_edges.pop(i + 1)\n",
    "            frequences1[i + 1] += frequences1[i]\n",
    "            frequences2[i + 1] += frequences2[i]\n",
    "    frequences1.pop(i)\n",
    "    frequences2.pop(i)"
   ]
  },
  {
   "cell_type": "code",
   "execution_count": 316,
   "metadata": {},
   "outputs": [],
   "source": [
    "def adjust_intervals(bin_edges, X1, X2, k=None):\n",
    "    \"\"\"\n",
    "    Функция для корректировки интервалов и частот попадания в них\n",
    "    bin_edges: Границы интервалов\n",
    "    X1: Первая выборка\n",
    "    X2: Вторая выборка\n",
    "    k: uint\n",
    "        Количество интервалов, которое мы хотим получить на выходе.\n",
    "        Работает следующим образом:\n",
    "        если None, то мы просто объединяем интервалы с малой частотой попадания с соседними. На выходе получаем k <= len(intervals).\n",
    "        если число, то мы сначала объединяем интервалы с малой частотой попадания, получая k <= len(intervals),\n",
    "        а затем разбиваем интервалы, для которых частота попадания большая, таким образом получая на выходе k >= len(intervals).\n",
    "    \"\"\"\n",
    "    frequences1, _ = np.histogram(X1, bins=bin_edges)\n",
    "    frequences2, _ = np.histogram(X2, bins=bin_edges)\n",
    "    frequences1 = frequences1.tolist()\n",
    "    frequences2 = frequences2.tolist()\n",
    "\n",
    "    # Слияние интервалов с малой частотой попадания\n",
    "    i = 0\n",
    "    while True:\n",
    "        if frequences1[i] + frequences2[i] < 5:\n",
    "            merge_interval(bin_edges, frequences1, frequences2, i)\n",
    "            i -= 1\n",
    "\n",
    "        i += 1\n",
    "        if i >= len(bin_edges) - 1:\n",
    "            break\n",
    "\n",
    "    # Разбиение интервалов с максимальной частотой попадания\n",
    "    if k is not None:\n",
    "        while len(bin_edges) < k + 1:\n",
    "            total_frequency = [x + y for x, y in zip(frequences1, frequences2)]\n",
    "            max_frequency = max(total_frequency)\n",
    "\n",
    "            # если максимальная частота меньше 5, то нельзя подразбивать интервалы\n",
    "            if max_frequency < 10:\n",
    "                break\n",
    "\n",
    "            max_index = total_frequency.index(max_frequency)\n",
    "            a, b = bin_edges[max_index : max_index + 2]\n",
    "\n",
    "            # Находим такое c, что частота попадания в интервалах (a, c) и (c, b) как минимум 5\n",
    "            c = (a + b) / 2\n",
    "\n",
    "            frequences1[max_index] = ((X1 >= a) & (X1 < c)).sum()\n",
    "            frequences2[max_index] = ((X2 >= a) & (X2 < c)).sum()\n",
    "            frequences1.insert(max_index + 1, ((X1 >= c) & (X1 < b)).sum())\n",
    "            frequences2.insert(max_index + 1, ((X2 >= c) & (X2 < b)).sum())\n",
    "            bin_edges.insert(max_index + 1, c)\n",
    "\n",
    "    return bin_edges, frequences1, frequences2"
   ]
  },
  {
   "cell_type": "code",
   "execution_count": 317,
   "metadata": {},
   "outputs": [
    {
     "data": {
      "text/plain": [
       "array([ 23,  89,  78, 114, 101,  55,  39,   5])"
      ]
     },
     "execution_count": 317,
     "metadata": {},
     "output_type": "execute_result"
    }
   ],
   "source": [
    "bin_edges, frequences1, frequences2 = adjust_intervals(bin_edges.tolist(), X, Y, k=k)\n",
    "np.array(frequences1) + np.array(frequences2)"
   ]
  },
  {
   "cell_type": "code",
   "execution_count": 318,
   "metadata": {},
   "outputs": [
    {
     "data": {
      "image/png": "[encoded data removed]",
      "text/plain": [
       "<Figure size 800x550 with 1 Axes>"
      ]
     },
     "metadata": {},
     "output_type": "display_data"
    }
   ],
   "source": [
    "frequences, bin_edges, _ = plt.hist(\n",
    "    (X, Y), bins=bin_edges, edgecolor=\"black\", stacked=True\n",
    ")\n",
    "plt.show()"
   ]
  },
  {
   "cell_type": "code",
   "execution_count": 319,
   "metadata": {},
   "outputs": [
    {
     "data": {
      "text/plain": [
       "array([ 23.,  89.,  78., 114., 101.,  55.,  39.,   5.])"
      ]
     },
     "execution_count": 319,
     "metadata": {},
     "output_type": "execute_result"
    }
   ],
   "source": [
    "frequences[1]"
   ]
  },
  {
   "cell_type": "markdown",
   "metadata": {},
   "source": [
    "Теперь группировка выборок проведена правильно."
   ]
  },
  {
   "cell_type": "code",
   "execution_count": 320,
   "metadata": {},
   "outputs": [
    {
     "data": {
      "text/markdown": [
       "Число интервалов: 8"
      ],
      "text/plain": [
       "<IPython.core.display.Markdown object>"
      ]
     },
     "metadata": {},
     "output_type": "display_data"
    },
    {
     "data": {
      "text/markdown": [
       "Ширина интервалов: от 4.92 до 29.51"
      ],
      "text/plain": [
       "<IPython.core.display.Markdown object>"
      ]
     },
     "metadata": {},
     "output_type": "display_data"
    }
   ],
   "source": [
    "mprint(\n",
    "    f\"Число интервалов: {k}\",\n",
    "    f\"Ширина интервалов: от {np.diff(bin_edges).min():.2f} до {np.diff(bin_edges).max():.2f}\",\n",
    ")"
   ]
  },
  {
   "cell_type": "markdown",
   "metadata": {},
   "source": [
    "| Число интервалов | Обоснование выбора числа интервалов                                                                                     | Ширина интервалов |\n",
    "| ---------------- | ----------------------------------------------------------------------------------------------------------------------- | ----------------- |\n",
    "| 8                | $k \\approx 1 + 1.3 \\ln \\max(n, m)$ - формула Стерджесса $\\\\n_i + m_i \\gtrsim 5$ - поправка на чувствительность критерия | от 4.92 до 29.51  |\n",
    "\n"
   ]
  },
  {
   "cell_type": "markdown",
   "metadata": {},
   "source": [
    "### Построить таблицу частот"
   ]
  },
  {
   "cell_type": "code",
   "execution_count": 321,
   "metadata": {},
   "outputs": [
    {
     "data": {
      "text/html": [
       "<div>\n",
       "<style scoped>\n",
       "    .dataframe tbody tr th:only-of-type {\n",
       "        vertical-align: middle;\n",
       "    }\n",
       "\n",
       "    .dataframe tbody tr th {\n",
       "        vertical-align: top;\n",
       "    }\n",
       "\n",
       "    .dataframe thead th {\n",
       "        text-align: right;\n",
       "    }\n",
       "</style>\n",
       "<table border=\"1\" class=\"dataframe\">\n",
       "  <thead>\n",
       "    <tr style=\"text-align: right;\">\n",
       "      <th></th>\n",
       "      <th>low edge</th>\n",
       "      <th>high edge</th>\n",
       "      <th>frequency1</th>\n",
       "      <th>frequency2</th>\n",
       "      <th>relative frequency1</th>\n",
       "      <th>relative frequency2</th>\n",
       "    </tr>\n",
       "  </thead>\n",
       "  <tbody>\n",
       "    <tr>\n",
       "      <th>1</th>\n",
       "      <td>69.40000</td>\n",
       "      <td>79.23750</td>\n",
       "      <td>23.0</td>\n",
       "      <td>0.0</td>\n",
       "      <td>0.091270</td>\n",
       "      <td>0.000000</td>\n",
       "    </tr>\n",
       "    <tr>\n",
       "      <th>2</th>\n",
       "      <td>79.23750</td>\n",
       "      <td>89.07500</td>\n",
       "      <td>77.0</td>\n",
       "      <td>12.0</td>\n",
       "      <td>0.305556</td>\n",
       "      <td>0.047619</td>\n",
       "    </tr>\n",
       "    <tr>\n",
       "      <th>3</th>\n",
       "      <td>89.07500</td>\n",
       "      <td>93.99375</td>\n",
       "      <td>48.0</td>\n",
       "      <td>30.0</td>\n",
       "      <td>0.190476</td>\n",
       "      <td>0.119048</td>\n",
       "    </tr>\n",
       "    <tr>\n",
       "      <th>4</th>\n",
       "      <td>93.99375</td>\n",
       "      <td>98.91250</td>\n",
       "      <td>38.0</td>\n",
       "      <td>76.0</td>\n",
       "      <td>0.150794</td>\n",
       "      <td>0.301587</td>\n",
       "    </tr>\n",
       "    <tr>\n",
       "      <th>5</th>\n",
       "      <td>98.91250</td>\n",
       "      <td>103.83125</td>\n",
       "      <td>28.0</td>\n",
       "      <td>73.0</td>\n",
       "      <td>0.111111</td>\n",
       "      <td>0.289683</td>\n",
       "    </tr>\n",
       "    <tr>\n",
       "      <th>6</th>\n",
       "      <td>103.83125</td>\n",
       "      <td>108.75000</td>\n",
       "      <td>20.0</td>\n",
       "      <td>35.0</td>\n",
       "      <td>0.079365</td>\n",
       "      <td>0.138889</td>\n",
       "    </tr>\n",
       "    <tr>\n",
       "      <th>7</th>\n",
       "      <td>108.75000</td>\n",
       "      <td>118.58750</td>\n",
       "      <td>15.0</td>\n",
       "      <td>24.0</td>\n",
       "      <td>0.059524</td>\n",
       "      <td>0.095238</td>\n",
       "    </tr>\n",
       "    <tr>\n",
       "      <th>8</th>\n",
       "      <td>118.58750</td>\n",
       "      <td>148.10000</td>\n",
       "      <td>3.0</td>\n",
       "      <td>2.0</td>\n",
       "      <td>0.011905</td>\n",
       "      <td>0.007937</td>\n",
       "    </tr>\n",
       "  </tbody>\n",
       "</table>\n",
       "</div>"
      ],
      "text/plain": [
       "    low edge  high edge  frequency1  frequency2  relative frequency1  \\\n",
       "1   69.40000   79.23750        23.0         0.0             0.091270   \n",
       "2   79.23750   89.07500        77.0        12.0             0.305556   \n",
       "3   89.07500   93.99375        48.0        30.0             0.190476   \n",
       "4   93.99375   98.91250        38.0        76.0             0.150794   \n",
       "5   98.91250  103.83125        28.0        73.0             0.111111   \n",
       "6  103.83125  108.75000        20.0        35.0             0.079365   \n",
       "7  108.75000  118.58750        15.0        24.0             0.059524   \n",
       "8  118.58750  148.10000         3.0         2.0             0.011905   \n",
       "\n",
       "   relative frequency2  \n",
       "1             0.000000  \n",
       "2             0.047619  \n",
       "3             0.119048  \n",
       "4             0.301587  \n",
       "5             0.289683  \n",
       "6             0.138889  \n",
       "7             0.095238  \n",
       "8             0.007937  "
      ]
     },
     "execution_count": 321,
     "metadata": {},
     "output_type": "execute_result"
    }
   ],
   "source": [
    "groups = pd.DataFrame(index=range(1, len(bin_edges)))\n",
    "groups[\"low edge\"] = bin_edges[:-1]\n",
    "groups[\"high edge\"] = bin_edges[1:]\n",
    "groups[\"frequency1\"] = frequences[0]\n",
    "groups[\"frequency2\"] = frequences[1] - frequences[0]\n",
    "groups[\"relative frequency1\"] = groups[\"frequency1\"] / n1\n",
    "groups[\"relative frequency2\"] = groups[\"frequency2\"] / n2\n",
    "\n",
    "groups"
   ]
  },
  {
   "cell_type": "code",
   "execution_count": 322,
   "metadata": {},
   "outputs": [
    {
     "name": "stdout",
     "output_type": "stream",
     "text": [
      "| Index | low edge | high edge | frequency1 | frequency2 | relative frequency1 | relative frequency2 |\n",
      "|---|---|---|---|---|---|---|\n",
      "| 1 | 69.4 | 79.24 | 23.0 | 0.0 | 0.09 | 0.0 |\n",
      "| 2 | 79.24 | 89.08 | 77.0 | 12.0 | 0.31 | 0.05 |\n",
      "| 3 | 89.08 | 93.99 | 48.0 | 30.0 | 0.19 | 0.12 |\n",
      "| 4 | 93.99 | 98.91 | 38.0 | 76.0 | 0.15 | 0.3 |\n",
      "| 5 | 98.91 | 103.83 | 28.0 | 73.0 | 0.11 | 0.29 |\n",
      "| 6 | 103.83 | 108.75 | 20.0 | 35.0 | 0.08 | 0.14 |\n",
      "| 7 | 108.75 | 118.59 | 15.0 | 24.0 | 0.06 | 0.1 |\n",
      "| 8 | 118.59 | 148.1 | 3.0 | 2.0 | 0.01 | 0.01 |\n",
      "\n"
     ]
    }
   ],
   "source": [
    "print(dataframe_to_markdown(groups))"
   ]
  },
  {
   "cell_type": "markdown",
   "metadata": {},
   "source": [
    "| Номер интервала | Нижняя граница | Верхняя граница | Частота признака 1 | Частота признака 2 | Относительная частота признака 1 | Относительная частота признака 2 |\n",
    "| --------------- | -------------- | --------------- | ------------------ | ------------------ | -------------------------------- | -------------------------------- |\n",
    "| 1               | 69.4           | 79.24           | 23.0               | 0.0                | 0.09                             | 0.0                              |\n",
    "| 2               | 79.24          | 89.08           | 77.0               | 12.0               | 0.31                             | 0.05                             |\n",
    "| 3               | 89.08          | 93.99           | 48.0               | 30.0               | 0.19                             | 0.12                             |\n",
    "| 4               | 93.99          | 98.91           | 38.0               | 76.0               | 0.15                             | 0.3                              |\n",
    "| 5               | 98.91          | 103.83          | 28.0               | 73.0               | 0.11                             | 0.29                             |\n",
    "| 6               | 103.83         | 108.75          | 20.0               | 35.0               | 0.08                             | 0.14                             |\n",
    "| 7               | 108.75         | 118.59          | 15.0               | 24.0               | 0.06                             | 0.1                              |\n",
    "| 8               | 118.59         | 148.1           | 3.0                | 2.0                | 0.01                             | 0.01                             |"
   ]
  },
  {
   "cell_type": "markdown",
   "metadata": {},
   "source": [
    "### Построить гистограммы относительных частот на одном графике"
   ]
  },
  {
   "cell_type": "code",
   "execution_count": 323,
   "metadata": {},
   "outputs": [
    {
     "data": {
      "image/png": "[encoded data removed]",
      "text/plain": [
       "<Figure size 800x550 with 1 Axes>"
      ]
     },
     "metadata": {},
     "output_type": "display_data"
    }
   ],
   "source": [
    "plt.bar(\n",
    "    (groups[\"low edge\"] + groups[\"high edge\"]) / 2,\n",
    "    groups[\"relative frequency1\"],\n",
    "    width=groups[\"high edge\"] - groups[\"low edge\"],\n",
    "    edgecolor=\"black\",\n",
    "    label=\"Выборка X\",\n",
    "    color=\"orange\",\n",
    "    lw=2,\n",
    ")\n",
    "\n",
    "plt.bar(\n",
    "    (groups[\"low edge\"] + groups[\"high edge\"]) / 2,\n",
    "    groups[\"relative frequency2\"],\n",
    "    width=groups[\"high edge\"] - groups[\"low edge\"],\n",
    "    edgecolor=\"black\",\n",
    "    label=\"Выборка Y\",\n",
    "    alpha=0.7,\n",
    "    linestyle=\"--\",\n",
    "    lw=2,\n",
    "    color=\"blue\",\n",
    ")\n",
    "plt.legend()\n",
    "plt.title(\"Гистограммы относительных частот\")\n",
    "plt.xlabel(\"Значения\")\n",
    "plt.ylabel(\"Относительная частота\")\n",
    "plt.show()"
   ]
  },
  {
   "cell_type": "markdown",
   "metadata": {},
   "source": [
    "### Проверить статистические гипотезы"
   ]
  },
  {
   "cell_type": "code",
   "execution_count": 324,
   "metadata": {},
   "outputs": [],
   "source": [
    "def chi2_2samp(frequencies1, frequencies2):\n",
    "    if len(frequencies1) != len(frequencies2):\n",
    "        raise ValueError(\"Длины выборок должны совпадать\")\n",
    "    k = len(frequencies1)\n",
    "    n = sum(frequencies1)\n",
    "    m = sum(frequencies2)\n",
    "    z = (\n",
    "        n\n",
    "        * m\n",
    "        * sum(\n",
    "            (frequencies1 / n - frequencies2 / m) ** 2 / (frequencies1 + frequencies2)\n",
    "        )\n",
    "    )\n",
    "    p_value = stats.chi2.sf(z, df=k - 1)\n",
    "    return z, p_value"
   ]
  },
  {
   "cell_type": "code",
   "execution_count": 325,
   "metadata": {},
   "outputs": [
    {
     "data": {
      "text/markdown": [
       "### $\\chi^2$-test"
      ],
      "text/plain": [
       "<IPython.core.display.Markdown object>"
      ]
     },
     "metadata": {},
     "output_type": "display_data"
    },
    {
     "data": {
      "text/markdown": [
       "$H_0: F_X(x) = F_Y(x)$"
      ],
      "text/plain": [
       "<IPython.core.display.Markdown object>"
      ]
     },
     "metadata": {},
     "output_type": "display_data"
    },
    {
     "data": {
      "text/markdown": [
       "$z_{выб} =$ 113.71"
      ],
      "text/plain": [
       "<IPython.core.display.Markdown object>"
      ]
     },
     "metadata": {},
     "output_type": "display_data"
    },
    {
     "data": {
      "text/markdown": [
       "$p =$ 0.00"
      ],
      "text/plain": [
       "<IPython.core.display.Markdown object>"
      ]
     },
     "metadata": {},
     "output_type": "display_data"
    },
    {
     "data": {
      "text/markdown": [
       "При $\\alpha = 0.01$ $H_0$ отклоняется"
      ],
      "text/plain": [
       "<IPython.core.display.Markdown object>"
      ]
     },
     "metadata": {},
     "output_type": "display_data"
    },
    {
     "data": {
      "text/markdown": [
       "При $\\alpha = 0.05$ $H_0$ отклоняется"
      ],
      "text/plain": [
       "<IPython.core.display.Markdown object>"
      ]
     },
     "metadata": {},
     "output_type": "display_data"
    },
    {
     "data": {
      "text/markdown": [
       "При $\\alpha = 0.1$ $H_0$ отклоняется"
      ],
      "text/plain": [
       "<IPython.core.display.Markdown object>"
      ]
     },
     "metadata": {},
     "output_type": "display_data"
    }
   ],
   "source": [
    "alphas = [0.01, 0.05, 0.1]\n",
    "\n",
    "z, p_value = chi2_2samp(groups[\"frequency1\"], groups[\"frequency2\"])\n",
    "mprint(\n",
    "    r\"### $\\chi^2$-test\",\n",
    "    f\"$H_0: F_X(x) = F_Y(x)$\",\n",
    "    f\"$z_{{выб}} =$ {z:.2f}\",\n",
    "    f\"$p =$ {p_value:.2f}\",\n",
    ")\n",
    "\n",
    "for alpha in alphas:\n",
    "    mprint(f\"При $\\\\alpha = {alpha}$ {verdict(alpha, p_value)}\")"
   ]
  },
  {
   "cell_type": "markdown",
   "metadata": {},
   "source": [
    "| Уровень значимости | Выборочное значение статистического критерия | $p$-value | Статистическое решение | Вывод                    |\n",
    "| ------------------ | -------------------------------------------- | --------- | ---------------------- | ------------------------ |\n",
    "| 0.01               | 113.71                                       | 0.0       | $H_0$ отклоняется      | $F_{X}(x) \\neq F_{Y}(x)$ |\n",
    "| 0.05               | 113.71                                       | 0.0       | $H_0$ отклоняется      | $F_{X}(x) \\neq F_{Y}(x)$ |\n",
    "| 0.1                | 113.71                                       | 0.0       | $H_0$ отклоняется      | $F_{X}(x) \\neq F_{Y}(x)$ |"
   ]
  },
  {
   "cell_type": "markdown",
   "metadata": {},
   "source": [
    "## Вывод (в терминах предметной области)"
   ]
  },
  {
   "cell_type": "markdown",
   "metadata": {},
   "source": [
    "В результате проведённого в п.5 статистического анализа обнаружено, что выборки `B11` (Abdomen circumference (cm)) и `B12` (Hip circumference (cm)) неоднородны."
   ]
  },
  {
   "cell_type": "markdown",
   "metadata": {},
   "source": [
    "# Раздел 6. Таблицы сопряжённости"
   ]
  },
  {
   "cell_type": "markdown",
   "metadata": {},
   "source": [
    "## Условие"
   ]
  },
  {
   "cell_type": "markdown",
   "metadata": {},
   "source": [
    "Факторный признак $x$ - `B3` (Body fat)\n",
    "\n",
    "Результативный признак $y$ - `B5` (Sex)\n",
    "\n",
    "Объёмы выборок - $n_1 = n_2 = n = 252$\n",
    "\n",
    "Статистическая гипотеза $H_0:\\ F_Y(y \\mid_{X = x^{(1)}}) = F_Y(y \\mid_{X = x^{(2)}}) = \\dots = F_Y(y \\mid_{X = x^{(k_1)}}) = F_Y(y);\\ \\ \\ H':\\ \\exists i, j: F_Y(y \\mid_{X = x^{(i)}}) \\neq F_Y(y \\mid_{X = x^{(j)})}$"
   ]
  },
  {
   "cell_type": "markdown",
   "metadata": {},
   "source": [
    "## Определения"
   ]
  },
  {
   "cell_type": "code",
   "execution_count": 102,
   "metadata": {},
   "outputs": [
    {
     "data": {
      "text/plain": [
       "(0    normal\n",
       " 1       low\n",
       " 2      high\n",
       " 3    normal\n",
       " 4      high\n",
       " Name: B3, dtype: object,\n",
       " 0    Male\n",
       " 1    Male\n",
       " 2    Male\n",
       " 3    Male\n",
       " 4    Male\n",
       " Name: B5, dtype: object)"
      ]
     },
     "execution_count": 102,
     "metadata": {},
     "output_type": "execute_result"
    }
   ],
   "source": [
    "X, Y = data(\"6\")\n",
    "X.head(), Y.head()"
   ]
  },
  {
   "cell_type": "code",
   "execution_count": 103,
   "metadata": {},
   "outputs": [
    {
     "name": "stdout",
     "output_type": "stream",
     "text": [
      "252 252\n"
     ]
    }
   ],
   "source": [
    "print(n1 := len(X), n2 := len(Y))\n",
    "if n1 == n2:\n",
    "    n = n1"
   ]
  },
  {
   "cell_type": "markdown",
   "metadata": {},
   "source": [
    "## Указать формулы расчёта показателей, используемых при проверке статистических гипотез"
   ]
  },
  {
   "cell_type": "markdown",
   "metadata": {},
   "source": [
    "|                                                                                  | Выражение                                                                               | Пояснение использованных обозначений                                                                                                                                                                                                                                                                                                                                                                                                                                                                |\n",
    "| -------------------------------------------------------------------------------- | --------------------------------------------------------------------------------------- | --------------------------------------------------------------------------------------------------------------------------------------------------------------------------------------------------------------------------------------------------------------------------------------------------------------------------------------------------------------------------------------------------------------------------------------------------------------------------------------------------- |\n",
    "| Формула рассчёта статистики критерия                                             | $Z = \\sum\\limits_{i=1}^{k_1}\\sum\\limits_{j=1}^{k_2}\\dfrac{(n_{ij} - m_{ij})^2}{m_{ij}}$ | $(x_1, y_1), \\dots, (x_n, y_n)$ - наблюдения случайного вектора $(X, Y)$, где $X, Y$ - случайные величины дискретного типа $\\\\$ $x^{(1)}, \\dots, x^{(k_1)}$ - варианты признака $X$ $\\\\$ $y^{(1)}, \\dots, y^{(k_2)}$ - варианты признака $Y$ $\\\\$ $n_{ij}$ - выборочная частота варианта $(x^{(i)}, y^{(j)})$ в выборке $(x_1, y_1), \\dots, (x_n, y_n)$ $\\\\$ $m_{ij}$ - теоретическая частота варианта  $(x^{(i)}, y^{(j)})$ в выборке $(x_1, y_1), \\dots, (x_n, y_n)$ при условии истинности $H_0$ |\n",
    "| Закон распределения статистики критерия при условии истинности основной гипотезы | $\\chi^2((k_1 - 1)(k_2 - 1))$                                                            |                                                                                                                                                                                                                                                                                                                                                                                                                                                                                                     |\n",
    "| Формула расчета критической точки                                                | $\\chi^2_{1 - \\alpha,\\ (k_1 - 1)(k_2 -1)}$                                               | Правосторонняя критическая область                                                                                                                                                                                                                                                                                                                                                                                                                                                                  |\n",
    "| Формула расчета p-value                                                          | $1 - F_Z(z_{\\text{выб}} \\mid H_0)$                                                      |                                                                                                                                                                                                                                                                                                                                                                                                                                                                                                     |\n"
   ]
  },
  {
   "cell_type": "markdown",
   "metadata": {},
   "source": [
    "## Построить эмпирическую таблицу сопряжённости"
   ]
  },
  {
   "cell_type": "code",
   "execution_count": 104,
   "metadata": {},
   "outputs": [
    {
     "data": {
      "text/html": [
       "<div>\n",
       "<style scoped>\n",
       "    .dataframe tbody tr th:only-of-type {\n",
       "        vertical-align: middle;\n",
       "    }\n",
       "\n",
       "    .dataframe tbody tr th {\n",
       "        vertical-align: top;\n",
       "    }\n",
       "\n",
       "    .dataframe thead th {\n",
       "        text-align: right;\n",
       "    }\n",
       "</style>\n",
       "<table border=\"1\" class=\"dataframe\">\n",
       "  <thead>\n",
       "    <tr style=\"text-align: right;\">\n",
       "      <th></th>\n",
       "      <th>X</th>\n",
       "      <th>Y</th>\n",
       "    </tr>\n",
       "  </thead>\n",
       "  <tbody>\n",
       "    <tr>\n",
       "      <th>0</th>\n",
       "      <td>normal</td>\n",
       "      <td>Male</td>\n",
       "    </tr>\n",
       "    <tr>\n",
       "      <th>1</th>\n",
       "      <td>low</td>\n",
       "      <td>Male</td>\n",
       "    </tr>\n",
       "    <tr>\n",
       "      <th>2</th>\n",
       "      <td>high</td>\n",
       "      <td>Male</td>\n",
       "    </tr>\n",
       "    <tr>\n",
       "      <th>3</th>\n",
       "      <td>normal</td>\n",
       "      <td>Male</td>\n",
       "    </tr>\n",
       "    <tr>\n",
       "      <th>4</th>\n",
       "      <td>high</td>\n",
       "      <td>Male</td>\n",
       "    </tr>\n",
       "    <tr>\n",
       "      <th>...</th>\n",
       "      <td>...</td>\n",
       "      <td>...</td>\n",
       "    </tr>\n",
       "    <tr>\n",
       "      <th>247</th>\n",
       "      <td>normal</td>\n",
       "      <td>Male</td>\n",
       "    </tr>\n",
       "    <tr>\n",
       "      <th>248</th>\n",
       "      <td>high</td>\n",
       "      <td>Female</td>\n",
       "    </tr>\n",
       "    <tr>\n",
       "      <th>249</th>\n",
       "      <td>high</td>\n",
       "      <td>Female</td>\n",
       "    </tr>\n",
       "    <tr>\n",
       "      <th>250</th>\n",
       "      <td>high</td>\n",
       "      <td>Female</td>\n",
       "    </tr>\n",
       "    <tr>\n",
       "      <th>251</th>\n",
       "      <td>high</td>\n",
       "      <td>Female</td>\n",
       "    </tr>\n",
       "  </tbody>\n",
       "</table>\n",
       "<p>252 rows × 2 columns</p>\n",
       "</div>"
      ],
      "text/plain": [
       "          X       Y\n",
       "0    normal    Male\n",
       "1       low    Male\n",
       "2      high    Male\n",
       "3    normal    Male\n",
       "4      high    Male\n",
       "..      ...     ...\n",
       "247  normal    Male\n",
       "248    high  Female\n",
       "249    high  Female\n",
       "250    high  Female\n",
       "251    high  Female\n",
       "\n",
       "[252 rows x 2 columns]"
      ]
     },
     "execution_count": 104,
     "metadata": {},
     "output_type": "execute_result"
    }
   ],
   "source": [
    "df = pd.DataFrame({\"X\": X, \"Y\": Y})\n",
    "df"
   ]
  },
  {
   "cell_type": "code",
   "execution_count": 105,
   "metadata": {},
   "outputs": [
    {
     "data": {
      "text/html": [
       "<div>\n",
       "<style scoped>\n",
       "    .dataframe tbody tr th:only-of-type {\n",
       "        vertical-align: middle;\n",
       "    }\n",
       "\n",
       "    .dataframe tbody tr th {\n",
       "        vertical-align: top;\n",
       "    }\n",
       "\n",
       "    .dataframe thead th {\n",
       "        text-align: right;\n",
       "    }\n",
       "</style>\n",
       "<table border=\"1\" class=\"dataframe\">\n",
       "  <thead>\n",
       "    <tr style=\"text-align: right;\">\n",
       "      <th>Y</th>\n",
       "      <th>Female</th>\n",
       "      <th>Male</th>\n",
       "      <th>All</th>\n",
       "    </tr>\n",
       "    <tr>\n",
       "      <th>X</th>\n",
       "      <th></th>\n",
       "      <th></th>\n",
       "      <th></th>\n",
       "    </tr>\n",
       "  </thead>\n",
       "  <tbody>\n",
       "    <tr>\n",
       "      <th>high</th>\n",
       "      <td>65</td>\n",
       "      <td>55</td>\n",
       "      <td>120</td>\n",
       "    </tr>\n",
       "    <tr>\n",
       "      <th>low</th>\n",
       "      <td>8</td>\n",
       "      <td>31</td>\n",
       "      <td>39</td>\n",
       "    </tr>\n",
       "    <tr>\n",
       "      <th>normal</th>\n",
       "      <td>20</td>\n",
       "      <td>73</td>\n",
       "      <td>93</td>\n",
       "    </tr>\n",
       "    <tr>\n",
       "      <th>All</th>\n",
       "      <td>93</td>\n",
       "      <td>159</td>\n",
       "      <td>252</td>\n",
       "    </tr>\n",
       "  </tbody>\n",
       "</table>\n",
       "</div>"
      ],
      "text/plain": [
       "Y       Female  Male  All\n",
       "X                        \n",
       "high        65    55  120\n",
       "low          8    31   39\n",
       "normal      20    73   93\n",
       "All         93   159  252"
      ]
     },
     "execution_count": 105,
     "metadata": {},
     "output_type": "execute_result"
    }
   ],
   "source": [
    "emperical_table = pd.crosstab(df[\"X\"], df[\"Y\"], margins=True)\n",
    "emperical_table"
   ]
  },
  {
   "cell_type": "code",
   "execution_count": 106,
   "metadata": {},
   "outputs": [
    {
     "name": "stdout",
     "output_type": "stream",
     "text": [
      "| Index | Female | Male | All |\n",
      "|---|---|---|---|\n",
      "| high | 65 | 55 | 120 |\n",
      "| low | 8 | 31 | 39 |\n",
      "| normal | 20 | 73 | 93 |\n",
      "| All | 93 | 159 | 252 |\n",
      "\n"
     ]
    }
   ],
   "source": [
    "print(dataframe_to_markdown(emperical_table))"
   ]
  },
  {
   "cell_type": "markdown",
   "metadata": {},
   "source": [
    "| Index  | Female | Male | All |\n",
    "| ------ | ------ | ---- | --- |\n",
    "| high   | 65     | 55   | 120 |\n",
    "| low    | 8      | 31   | 39  |\n",
    "| normal | 20     | 73   | 93  |\n",
    "| All    | 93     | 159  | 252 |"
   ]
  },
  {
   "cell_type": "markdown",
   "metadata": {},
   "source": [
    "| Вариант X\\Вариант Y | $y^{(1)}$ | $y^{(2)}$ | $\\sum$ |\n",
    "| ------------------- | --------- | --------- | ------ |\n",
    "| $x^{(1)}$           | 65        | 55        | 120    |\n",
    "| $x^{(2)}$           | 8         | 31        | 39     |\n",
    "| $x^{(3)}$           | 20        | 73        | 93     |\n",
    "| $\\sum$              | 93        | 159       | 252    |"
   ]
  },
  {
   "cell_type": "markdown",
   "metadata": {},
   "source": [
    "## Построить теоретическую таблицу сопряжённости"
   ]
  },
  {
   "cell_type": "markdown",
   "metadata": {},
   "source": [
    "### Теоретическая справка"
   ]
  },
  {
   "cell_type": "markdown",
   "metadata": {},
   "source": [
    "Пусть $H_0$ верна. Тогда $F_Y(y \\mid_{X = x^{(i)}}) = F_Y(y)$. У нас дискретные случайные величины, поэтому это эквивалентно $P\\left[Y = y^{(j)} \\mid X = x^{(i)}\\right] = P\\left[Y = y^{(j)}\\right]$.\n",
    "\n",
    "Это значит, что случайные величины $X$ и $Y$ независимы. Значит $P\\left[X = x^{(i)}, Y = y^{(j)}\\right] = P\\left[X = x^{(i)}\\right] \\cdot P\\left[Y = y^{(j)}\\right] \\Leftrightarrow p_{ij} = p_i \\cdot p_j = \\sum\\limits_{k = 1}^{k_2}p_{ik} \\cdot \\sum\\limits_{l=1}^{k_1}p_{lj}$.\n",
    "\n",
    "Теоретические частоты отсюда легко находятся: $m_{ij} = n \\cdot p_{ij} = n \\cdot \\sum\\limits_{k = 1}^{k_2}p_{ik} \\cdot \\sum\\limits_{l=1}^{k_1}p_{lj} = n \\cdot \\sum\\limits_{k = 1}^{k_2}\\dfrac{n_{ik}}{n} \\cdot \\sum\\limits_{l=1}^{k_1}\\dfrac{n_{lj}}{n} = \\dfrac{\\sum\\limits_{k = 1}^{k_2}n_{ik} \\cdot \\sum\\limits_{l=1}^{k_1}n_{lj}}{n}$."
   ]
  },
  {
   "cell_type": "markdown",
   "metadata": {},
   "source": [
    "Итак, для начала получим матрицу $A = \\|a_{ij}\\|_{k_1 \\times k_2}$, где $a_{ij} = \\sum\\limits_{k = 1}^{k_2}n_{ik} \\cdot \\sum\\limits_{l=1}^{k_1}n_{lj}$\n",
    "\n",
    "Матрицу $A$ можно получить простым матричным произведением:\n",
    "\n",
    "$$\n",
    "A = \\overrightarrow{V_1}^T \\cdot \\overrightarrow{V_2} = \\begin{pmatrix}\n",
    "\\sum\\limits_{k = 1}^{k_2}n_{1k} \\\\\n",
    "\\sum\\limits_{k = 1}^{k_2}n_{2k} \\\\\n",
    "\\vdots \\\\\n",
    "\\sum\\limits_{k = 1}^{k_2}n_{k_1k} \\\\\n",
    "\\end{pmatrix} \\cdot \\begin{pmatrix} \\sum\\limits_{l=1}^{k_1}n_{l1} & \\sum\\limits_{l=1}^{k_1}n_{l2} & \\cdots & \\sum\\limits_{l=1}^{k_1}n_{lk_2} \\end{pmatrix} = \n",
    "\\begin{pmatrix} \n",
    "\\sum\\limits_{k = 1}^{k_2}n_{1k} \\cdot \\sum\\limits_{l=1}^{k_1}n_{l1} & \\cdots & \\sum\\limits_{k = 1}^{k_2}n_{1k} \\cdot \\sum\\limits_{l=1}^{k_1}n_{lk_2} \\\\\n",
    "\\cdots & \\ddots & \\cdots \\\\\n",
    "\\sum\\limits_{k = 1}^{k_2}n_{k_1k} \\cdot \\sum\\limits_{l=1}^{k_1}n_{l1} &  \\cdots & \\sum\\limits_{k = 1}^{k_2}n_{k_1k} \\cdot \\sum\\limits_{l=1}^{k_1}n_{lk_2} \\\\\n",
    "\\end{pmatrix}\n",
    "$$\n"
   ]
  },
  {
   "cell_type": "markdown",
   "metadata": {},
   "source": [
    "Получаем $\\overrightarrow{V_1}^T$:"
   ]
  },
  {
   "cell_type": "code",
   "execution_count": 107,
   "metadata": {},
   "outputs": [
    {
     "data": {
      "text/plain": [
       "array([120,  39,  93])"
      ]
     },
     "execution_count": 107,
     "metadata": {},
     "output_type": "execute_result"
    }
   ],
   "source": [
    "V1 = np.array(emperical_table.iloc[:-1, -1])\n",
    "V1"
   ]
  },
  {
   "cell_type": "code",
   "execution_count": 108,
   "metadata": {},
   "outputs": [
    {
     "data": {
      "text/plain": [
       "array([[120],\n",
       "       [ 39],\n",
       "       [ 93]])"
      ]
     },
     "execution_count": 108,
     "metadata": {},
     "output_type": "execute_result"
    }
   ],
   "source": [
    "V1 = np.atleast_2d(V1).T\n",
    "V1"
   ]
  },
  {
   "cell_type": "markdown",
   "metadata": {},
   "source": [
    "Получаем $\\overrightarrow{V_2}$:"
   ]
  },
  {
   "cell_type": "code",
   "execution_count": 109,
   "metadata": {},
   "outputs": [
    {
     "data": {
      "text/plain": [
       "array([ 93, 159])"
      ]
     },
     "execution_count": 109,
     "metadata": {},
     "output_type": "execute_result"
    }
   ],
   "source": [
    "V2 = np.array(emperical_table.iloc[-1][:-1])\n",
    "V2"
   ]
  },
  {
   "cell_type": "code",
   "execution_count": 110,
   "metadata": {},
   "outputs": [
    {
     "data": {
      "text/plain": [
       "array([[ 93, 159]])"
      ]
     },
     "execution_count": 110,
     "metadata": {},
     "output_type": "execute_result"
    }
   ],
   "source": [
    "V2 = np.atleast_2d(V2)\n",
    "V2"
   ]
  },
  {
   "cell_type": "markdown",
   "metadata": {},
   "source": [
    "Получаем матрицу $A$:"
   ]
  },
  {
   "cell_type": "code",
   "execution_count": 111,
   "metadata": {},
   "outputs": [
    {
     "data": {
      "text/plain": [
       "array([[11160, 19080],\n",
       "       [ 3627,  6201],\n",
       "       [ 8649, 14787]])"
      ]
     },
     "execution_count": 111,
     "metadata": {},
     "output_type": "execute_result"
    }
   ],
   "source": [
    "A = np.dot(V1, V2)\n",
    "A"
   ]
  },
  {
   "cell_type": "markdown",
   "metadata": {},
   "source": [
    "Строим теоретическую таблицу сопряжённости:"
   ]
  },
  {
   "cell_type": "code",
   "execution_count": 112,
   "metadata": {},
   "outputs": [
    {
     "data": {
      "text/html": [
       "<div>\n",
       "<style scoped>\n",
       "    .dataframe tbody tr th:only-of-type {\n",
       "        vertical-align: middle;\n",
       "    }\n",
       "\n",
       "    .dataframe tbody tr th {\n",
       "        vertical-align: top;\n",
       "    }\n",
       "\n",
       "    .dataframe thead th {\n",
       "        text-align: right;\n",
       "    }\n",
       "</style>\n",
       "<table border=\"1\" class=\"dataframe\">\n",
       "  <thead>\n",
       "    <tr style=\"text-align: right;\">\n",
       "      <th>Y</th>\n",
       "      <th>Female</th>\n",
       "      <th>Male</th>\n",
       "    </tr>\n",
       "    <tr>\n",
       "      <th>X</th>\n",
       "      <th></th>\n",
       "      <th></th>\n",
       "    </tr>\n",
       "  </thead>\n",
       "  <tbody>\n",
       "    <tr>\n",
       "      <th>high</th>\n",
       "      <td>44.285714</td>\n",
       "      <td>75.714286</td>\n",
       "    </tr>\n",
       "    <tr>\n",
       "      <th>low</th>\n",
       "      <td>14.392857</td>\n",
       "      <td>24.607143</td>\n",
       "    </tr>\n",
       "    <tr>\n",
       "      <th>normal</th>\n",
       "      <td>34.321429</td>\n",
       "      <td>58.678571</td>\n",
       "    </tr>\n",
       "  </tbody>\n",
       "</table>\n",
       "</div>"
      ],
      "text/plain": [
       "Y          Female       Male\n",
       "X                           \n",
       "high    44.285714  75.714286\n",
       "low     14.392857  24.607143\n",
       "normal  34.321429  58.678571"
      ]
     },
     "execution_count": 112,
     "metadata": {},
     "output_type": "execute_result"
    }
   ],
   "source": [
    "theoretical_table = pd.DataFrame(\n",
    "    A / n,\n",
    "    index=emperical_table.index[:-1],\n",
    "    columns=emperical_table.columns[:-1],\n",
    ")\n",
    "theoretical_table"
   ]
  },
  {
   "cell_type": "markdown",
   "metadata": {},
   "source": [
    "Добавим в таблицу суммы по строкам и столбцам:"
   ]
  },
  {
   "cell_type": "code",
   "execution_count": 113,
   "metadata": {},
   "outputs": [
    {
     "data": {
      "text/html": [
       "<div>\n",
       "<style scoped>\n",
       "    .dataframe tbody tr th:only-of-type {\n",
       "        vertical-align: middle;\n",
       "    }\n",
       "\n",
       "    .dataframe tbody tr th {\n",
       "        vertical-align: top;\n",
       "    }\n",
       "\n",
       "    .dataframe thead th {\n",
       "        text-align: right;\n",
       "    }\n",
       "</style>\n",
       "<table border=\"1\" class=\"dataframe\">\n",
       "  <thead>\n",
       "    <tr style=\"text-align: right;\">\n",
       "      <th>Y</th>\n",
       "      <th>Female</th>\n",
       "      <th>Male</th>\n",
       "      <th>All</th>\n",
       "    </tr>\n",
       "    <tr>\n",
       "      <th>X</th>\n",
       "      <th></th>\n",
       "      <th></th>\n",
       "      <th></th>\n",
       "    </tr>\n",
       "  </thead>\n",
       "  <tbody>\n",
       "    <tr>\n",
       "      <th>high</th>\n",
       "      <td>44.285714</td>\n",
       "      <td>75.714286</td>\n",
       "      <td>120.0</td>\n",
       "    </tr>\n",
       "    <tr>\n",
       "      <th>low</th>\n",
       "      <td>14.392857</td>\n",
       "      <td>24.607143</td>\n",
       "      <td>39.0</td>\n",
       "    </tr>\n",
       "    <tr>\n",
       "      <th>normal</th>\n",
       "      <td>34.321429</td>\n",
       "      <td>58.678571</td>\n",
       "      <td>93.0</td>\n",
       "    </tr>\n",
       "    <tr>\n",
       "      <th>All</th>\n",
       "      <td>93.000000</td>\n",
       "      <td>159.000000</td>\n",
       "      <td>252.0</td>\n",
       "    </tr>\n",
       "  </tbody>\n",
       "</table>\n",
       "</div>"
      ],
      "text/plain": [
       "Y          Female        Male    All\n",
       "X                                   \n",
       "high    44.285714   75.714286  120.0\n",
       "low     14.392857   24.607143   39.0\n",
       "normal  34.321429   58.678571   93.0\n",
       "All     93.000000  159.000000  252.0"
      ]
     },
     "execution_count": 113,
     "metadata": {},
     "output_type": "execute_result"
    }
   ],
   "source": [
    "theoretical_table[\"All\"] = theoretical_table.sum(axis=1)\n",
    "theoretical_table.loc[\"All\"] = theoretical_table.sum()\n",
    "theoretical_table"
   ]
  },
  {
   "cell_type": "code",
   "execution_count": 114,
   "metadata": {},
   "outputs": [
    {
     "name": "stdout",
     "output_type": "stream",
     "text": [
      "| Index | Female | Male | All |\n",
      "|---|---|---|---|\n",
      "| high | 44.29 | 75.71 | 120.0 |\n",
      "| low | 14.39 | 24.61 | 39.0 |\n",
      "| normal | 34.32 | 58.68 | 93.0 |\n",
      "| All | 93.0 | 159.0 | 252.0 |\n",
      "\n"
     ]
    }
   ],
   "source": [
    "print(dataframe_to_markdown(theoretical_table))"
   ]
  },
  {
   "cell_type": "markdown",
   "metadata": {},
   "source": [
    "| Index  | Female | Male  | All   |\n",
    "| ------ | ------ | ----- | ----- |\n",
    "| high   | 44.29  | 75.71 | 120.0 |\n",
    "| low    | 14.39  | 24.61 | 39.0  |\n",
    "| normal | 34.32  | 58.68 | 93.0  |\n",
    "| All    | 93.0   | 159.0 | 252.0 |\n"
   ]
  },
  {
   "cell_type": "markdown",
   "metadata": {},
   "source": [
    "| Вариант X\\Вариант Y | $y^{(1)}$ | $y^{(2)}$ | $\\sum$ |\n",
    "| ------------------- | --------- | --------- | ------ |\n",
    "| $x^{(1)}$           | 44.29     | 75.71     | 120    |\n",
    "| $x^{(2)}$           | 14.39     | 24.61     | 39     |\n",
    "| $x^{(3)}$           | 34.32     | 58.68     | 93     |\n",
    "| $\\sum$              | 93        | 159       | 252    |\n",
    "        "
   ]
  },
  {
   "cell_type": "markdown",
   "metadata": {},
   "source": [
    "## Проверить статистические гипотезы"
   ]
  },
  {
   "cell_type": "code",
   "execution_count": 115,
   "metadata": {},
   "outputs": [
    {
     "data": {
      "text/plain": [
       "Chi2ContingencyResult(statistic=np.float64(29.327732209282477), pvalue=np.float64(4.281183740842417e-07), dof=2, expected_freq=array([[44.28571429, 75.71428571],\n",
       "       [14.39285714, 24.60714286],\n",
       "       [34.32142857, 58.67857143]]))"
      ]
     },
     "execution_count": 115,
     "metadata": {},
     "output_type": "execute_result"
    }
   ],
   "source": [
    "alphas = [0.01, 0.05, 0.1]\n",
    "\n",
    "res = stats.chi2_contingency(emperical_table.iloc[:-1, :-1])\n",
    "res"
   ]
  },
  {
   "cell_type": "code",
   "execution_count": 116,
   "metadata": {},
   "outputs": [
    {
     "data": {
      "text/markdown": [
       "### $\\chi^2$-test"
      ],
      "text/plain": [
       "<IPython.core.display.Markdown object>"
      ]
     },
     "metadata": {},
     "output_type": "display_data"
    },
    {
     "data": {
      "text/markdown": [
       "$H_0:\\ F_Y(y \\mid_{X = x^{(1)}}) = F_Y(y \\mid_{X = x^{(2)}}) = \\dots = F_Y(y \\mid_{X = x^{(k_1)}}) = F_Y(y)$"
      ],
      "text/plain": [
       "<IPython.core.display.Markdown object>"
      ]
     },
     "metadata": {},
     "output_type": "display_data"
    },
    {
     "data": {
      "text/markdown": [
       "$z_{выб} =$ 29.33"
      ],
      "text/plain": [
       "<IPython.core.display.Markdown object>"
      ]
     },
     "metadata": {},
     "output_type": "display_data"
    },
    {
     "data": {
      "text/markdown": [
       "$p =$ 0.00"
      ],
      "text/plain": [
       "<IPython.core.display.Markdown object>"
      ]
     },
     "metadata": {},
     "output_type": "display_data"
    },
    {
     "data": {
      "text/markdown": [
       "При $\\alpha = 0.01$ $H_0$ отклоняется"
      ],
      "text/plain": [
       "<IPython.core.display.Markdown object>"
      ]
     },
     "metadata": {},
     "output_type": "display_data"
    },
    {
     "data": {
      "text/markdown": [
       "При $\\alpha = 0.05$ $H_0$ отклоняется"
      ],
      "text/plain": [
       "<IPython.core.display.Markdown object>"
      ]
     },
     "metadata": {},
     "output_type": "display_data"
    },
    {
     "data": {
      "text/markdown": [
       "При $\\alpha = 0.1$ $H_0$ отклоняется"
      ],
      "text/plain": [
       "<IPython.core.display.Markdown object>"
      ]
     },
     "metadata": {},
     "output_type": "display_data"
    }
   ],
   "source": [
    "z = res.statistic\n",
    "p = res.pvalue\n",
    "\n",
    "mprint(\n",
    "    r\"### $\\chi^2$-test\",\n",
    "    f\"$H_0:\\\\ F_Y(y \\\\mid_{{X = x^{{(1)}}}}) = F_Y(y \\\\mid_{{X = x^{{(2)}}}}) = \\\\dots = F_Y(y \\\\mid_{{X = x^{{(k_1)}}}}) = F_Y(y)$\",\n",
    "    f\"$z_{{выб}} =$ {z:.2f}\",\n",
    "    f\"$p =$ {p:.2f}\",\n",
    ")\n",
    "\n",
    "for alpha in alphas:\n",
    "    mprint(f\"При $\\\\alpha = {alpha}$ {verdict(alpha, p)}\")"
   ]
  },
  {
   "cell_type": "markdown",
   "metadata": {},
   "source": [
    "| Уровень значимости | Выборочное значение статистического критерия | $p$-value | Статистическое решение | Вывод                                                                    |\n",
    "| ------------------ | -------------------------------------------- | --------- | ---------------------- | ------------------------------------------------------------------------ |\n",
    "| 0.01               | 29.33                                        | 0.00       | $H_0$ отклоняется      | $\\exists i, j: F_Y(y \\mid_{X = x^{(i)}}) \\neq F_Y(y \\mid_{X = x^{(j)})}$ |\n",
    "| 0.05               | 29.33                                        | 0.00       | $H_0$ отклоняется      | $\\exists i, j: F_Y(y \\mid_{X = x^{(i)}}) \\neq F_Y(y \\mid_{X = x^{(j)})}$ |\n",
    "| 0.1                | 29.33                                        | 0.00       | $H_0$ отклоняется      | $\\exists i, j: F_Y(y \\mid_{X = x^{(i)}}) \\neq F_Y(y \\mid_{X = x^{(j)})}$ |"
   ]
  },
  {
   "cell_type": "markdown",
   "metadata": {},
   "source": [
    "## Вывод (в терминах предметной области)"
   ]
  },
  {
   "cell_type": "markdown",
   "metadata": {},
   "source": [
    "В результате проведённого в п.6 статистического анализа обнаружено, что между факторным признаком `B3` и результативным признаком `B5` присутствует статистическая связь. Под действием `B3` оказывается влияние на распределение `B5`."
   ]
  },
  {
   "cell_type": "markdown",
   "metadata": {},
   "source": [
    "# Раздел 7. Дисперсионный анализ"
   ]
  },
  {
   "cell_type": "markdown",
   "metadata": {},
   "source": [
    "## Условие"
   ]
  },
  {
   "cell_type": "markdown",
   "metadata": {},
   "source": [
    "Факторный признак $x$ – `B6` (Town)\n",
    "\n",
    "Результативный признак $y$ – `B1` (Body density determined from underwater weighing)\n",
    "\n",
    "Число вариантов факторного признака – $k = 4$\n",
    "\n",
    "Объёмы выборок – $n_1 = n_2 = n = 252$\n",
    "\n",
    "Статистическая гипотеза – $H_0:\\ F_Y(y \\mid_{X = x_1}) = F_Y(y \\mid_{X = x_2}) = \\dots = F_Y(y \\mid_{X = x_k}) = F_Y(y);\\ \\ \\ H':\\ \\exists i, j: F_Y(y \\mid_{X = x_i}) \\neq F_Y(y \\mid_{X = x_j})$"
   ]
  },
  {
   "cell_type": "markdown",
   "metadata": {},
   "source": [
    "## Определения"
   ]
  },
  {
   "cell_type": "code",
   "execution_count": 117,
   "metadata": {},
   "outputs": [
    {
     "data": {
      "text/plain": [
       "(0    Somerville\n",
       " 1    Somerville\n",
       " 2    Somerville\n",
       " 3    Somerville\n",
       " 4    Somerville\n",
       " Name: B6, dtype: object,\n",
       " 0    1.0708\n",
       " 1    1.0853\n",
       " 2    1.0414\n",
       " 3    1.0751\n",
       " 4    1.0340\n",
       " Name: B1, dtype: float64)"
      ]
     },
     "execution_count": 117,
     "metadata": {},
     "output_type": "execute_result"
    }
   ],
   "source": [
    "X, Y = data(\"7\")\n",
    "X.head(), Y.head()"
   ]
  },
  {
   "cell_type": "code",
   "execution_count": 118,
   "metadata": {},
   "outputs": [
    {
     "name": "stdout",
     "output_type": "stream",
     "text": [
      "252 252\n"
     ]
    }
   ],
   "source": [
    "print(n1 := len(X), n2 := len(Y))\n",
    "if n1 == n2:\n",
    "    n = n1"
   ]
  },
  {
   "cell_type": "code",
   "execution_count": 119,
   "metadata": {},
   "outputs": [
    {
     "name": "stdout",
     "output_type": "stream",
     "text": [
      "4\n"
     ]
    }
   ],
   "source": [
    "print(k := len(X.unique()))"
   ]
  },
  {
   "cell_type": "markdown",
   "metadata": {},
   "source": [
    "## Рассчитать групповые выборочные характеристики"
   ]
  },
  {
   "cell_type": "code",
   "execution_count": 120,
   "metadata": {},
   "outputs": [
    {
     "data": {
      "text/html": [
       "<div>\n",
       "<style scoped>\n",
       "    .dataframe tbody tr th:only-of-type {\n",
       "        vertical-align: middle;\n",
       "    }\n",
       "\n",
       "    .dataframe tbody tr th {\n",
       "        vertical-align: top;\n",
       "    }\n",
       "\n",
       "    .dataframe thead th {\n",
       "        text-align: right;\n",
       "    }\n",
       "</style>\n",
       "<table border=\"1\" class=\"dataframe\">\n",
       "  <thead>\n",
       "    <tr style=\"text-align: right;\">\n",
       "      <th></th>\n",
       "      <th>Y</th>\n",
       "    </tr>\n",
       "    <tr>\n",
       "      <th>X</th>\n",
       "      <th></th>\n",
       "    </tr>\n",
       "  </thead>\n",
       "  <tbody>\n",
       "    <tr>\n",
       "      <th>Arlington</th>\n",
       "      <td>[1.0524, 1.0356, 1.028, 1.043, 1.0396, 1.0317,...</td>\n",
       "    </tr>\n",
       "    <tr>\n",
       "      <th>Norwood</th>\n",
       "      <td>[1.0648, 1.0575, 1.0472, 1.0452, 1.0398, 1.043...</td>\n",
       "    </tr>\n",
       "    <tr>\n",
       "      <th>Revere</th>\n",
       "      <td>[1.0926, 1.0983, 1.0521, 1.0603, 1.0414, 1.076...</td>\n",
       "    </tr>\n",
       "    <tr>\n",
       "      <th>Somerville</th>\n",
       "      <td>[1.0708, 1.0853, 1.0414, 1.0751, 1.034, 1.0502...</td>\n",
       "    </tr>\n",
       "  </tbody>\n",
       "</table>\n",
       "</div>"
      ],
      "text/plain": [
       "                                                            Y\n",
       "X                                                            \n",
       "Arlington   [1.0524, 1.0356, 1.028, 1.043, 1.0396, 1.0317,...\n",
       "Norwood     [1.0648, 1.0575, 1.0472, 1.0452, 1.0398, 1.043...\n",
       "Revere      [1.0926, 1.0983, 1.0521, 1.0603, 1.0414, 1.076...\n",
       "Somerville  [1.0708, 1.0853, 1.0414, 1.0751, 1.034, 1.0502..."
      ]
     },
     "execution_count": 120,
     "metadata": {},
     "output_type": "execute_result"
    }
   ],
   "source": [
    "df = pd.DataFrame({\"X\": X, \"Y\": Y}).groupby(\"X\")[\"Y\"].apply(np.array).to_frame()\n",
    "df"
   ]
  },
  {
   "cell_type": "code",
   "execution_count": 121,
   "metadata": {},
   "outputs": [
    {
     "data": {
      "text/html": [
       "<div>\n",
       "<style scoped>\n",
       "    .dataframe tbody tr th:only-of-type {\n",
       "        vertical-align: middle;\n",
       "    }\n",
       "\n",
       "    .dataframe tbody tr th {\n",
       "        vertical-align: top;\n",
       "    }\n",
       "\n",
       "    .dataframe thead th {\n",
       "        text-align: right;\n",
       "    }\n",
       "</style>\n",
       "<table border=\"1\" class=\"dataframe\">\n",
       "  <thead>\n",
       "    <tr style=\"text-align: right;\">\n",
       "      <th></th>\n",
       "      <th>$x^{(i)}$</th>\n",
       "      <th>$n_i$</th>\n",
       "      <th>$\\overline{y_i}$</th>\n",
       "      <th>$s_i^2$</th>\n",
       "    </tr>\n",
       "  </thead>\n",
       "  <tbody>\n",
       "    <tr>\n",
       "      <th>1</th>\n",
       "      <td>Arlington</td>\n",
       "      <td>73</td>\n",
       "      <td>1.053964</td>\n",
       "      <td>0.000241</td>\n",
       "    </tr>\n",
       "    <tr>\n",
       "      <th>2</th>\n",
       "      <td>Norwood</td>\n",
       "      <td>41</td>\n",
       "      <td>1.054844</td>\n",
       "      <td>0.000236</td>\n",
       "    </tr>\n",
       "    <tr>\n",
       "      <th>3</th>\n",
       "      <td>Revere</td>\n",
       "      <td>82</td>\n",
       "      <td>1.054324</td>\n",
       "      <td>0.000437</td>\n",
       "    </tr>\n",
       "    <tr>\n",
       "      <th>4</th>\n",
       "      <td>Somerville</td>\n",
       "      <td>56</td>\n",
       "      <td>1.060036</td>\n",
       "      <td>0.000471</td>\n",
       "    </tr>\n",
       "  </tbody>\n",
       "</table>\n",
       "</div>"
      ],
      "text/plain": [
       "    $x^{(i)}$  $n_i$  $\\overline{y_i}$   $s_i^2$\n",
       "1   Arlington     73          1.053964  0.000241\n",
       "2     Norwood     41          1.054844  0.000236\n",
       "3      Revere     82          1.054324  0.000437\n",
       "4  Somerville     56          1.060036  0.000471"
      ]
     },
     "execution_count": 121,
     "metadata": {},
     "output_type": "execute_result"
    }
   ],
   "source": [
    "groups = pd.DataFrame(index=range(1, k + 1))\n",
    "groups[r\"$x^{(i)}$\"] = df.index\n",
    "groups[r\"$n_i$\"] = df[\"Y\"].apply(len).values\n",
    "groups[r\"$\\overline{y_i}$\"] = df[\"Y\"].apply(np.mean).values\n",
    "groups[r\"$s_i^2$\"] = df[\"Y\"].apply(np.var, ddof=0).values\n",
    "groups"
   ]
  },
  {
   "cell_type": "code",
   "execution_count": 122,
   "metadata": {},
   "outputs": [
    {
     "name": "stdout",
     "output_type": "stream",
     "text": [
      "| Index | $x^{(i)}$ | $n_i$ | $\\overline{y_i}$ | $s_i^2$ |\n",
      "|---|---|---|---|---|\n",
      "| 1 | Arlington | 73 | 1.05 | 0.0 |\n",
      "| 2 | Norwood | 41 | 1.05 | 0.0 |\n",
      "| 3 | Revere | 82 | 1.05 | 0.0 |\n",
      "| 4 | Somerville | 56 | 1.06 | 0.0 |\n",
      "\n"
     ]
    }
   ],
   "source": [
    "print(dataframe_to_markdown(groups))"
   ]
  },
  {
   "cell_type": "markdown",
   "metadata": {},
   "source": [
    "| Index | $x^{(i)}$  | $n_i$ | $\\overline{y_i}$ | $s_i^2$ |\n",
    "| ----- | ---------- | ----- | ---------------- | ------- |\n",
    "| 1     | Arlington  | 73    | 1.05             | 0.0     |\n",
    "| 2     | Norwood    | 41    | 1.05             | 0.0     |\n",
    "| 3     | Revere     | 82    | 1.05             | 0.0     |\n",
    "| 4     | Somerville | 56    | 1.06             | 0.0     |"
   ]
  },
  {
   "cell_type": "markdown",
   "metadata": {},
   "source": [
    "## Привести формулы расчёта показателей вариации, используемых в дисперсионном анализе"
   ]
  },
  {
   "cell_type": "markdown",
   "metadata": {},
   "source": [
    "| Источник вариации      | Показатель вариации                                                                                                                                                                                     | Число степеней свободы | Несмещённая оценка                         |\n",
    "| ---------------------- | ------------------------------------------------------------------------------------------------------------------------------------------------------------------------------------------------------- | ---------------------- | ------------------------------------------ |\n",
    "| Группировочный признак | $\\tilde{D}_{\\text{межгр}} = \\dfrac{1}{n}\\sum\\limits_{i=1}^{k}n_i(\\overline{y_i} - \\overline{y})^2$                                                                                                      | $k - 1$                | $\\dfrac{n}{k - 1}\\tilde{D}_{\\text{межгр}}$ |\n",
    "| Остаточные факторы     | $\\tilde{D}_{\\text{внутр}} = \\dfrac{1}{n}\\sum\\limits_{i=1}^{k}n_i\\tilde{\\sigma_i}^2$, где $\\tilde{\\sigma_i}^2 =  \\dfrac{1}{n_i}\\sum\\limits_{j=1}^{n_i}(y_{ij} - \\overline{y_i}^2)$ - групповая дисперсия | $n - k$                | $\\dfrac{n}{n - k}\\tilde{D}_{\\text{внутр}}$ |\n",
    "| Все факторы            | $\\tilde{D}_{\\text{общ}} = \\dfrac{1}{n}\\sum\\limits_{i=1}^{k}\\sum\\limits_{j=1}^{n_i}(y_{ij}-\\overline{y})^2$                                                                                              | $n - 1 $               | $\\dfrac{n}{n - 1}\\tilde{D}_{\\text{общ}}$   |"
   ]
  },
  {
   "cell_type": "markdown",
   "metadata": {},
   "source": [
    "## Рассчитать показатели вариации, используемые в дисперсионном анализе"
   ]
  },
  {
   "cell_type": "code",
   "execution_count": 123,
   "metadata": {},
   "outputs": [
    {
     "data": {
      "text/markdown": [
       "$\\tilde{D}_{\\text{межгр}} = 0.00$"
      ],
      "text/plain": [
       "<IPython.core.display.Markdown object>"
      ]
     },
     "metadata": {},
     "output_type": "display_data"
    },
    {
     "data": {
      "text/markdown": [
       "$\\tilde{D}_{\\text{внутр}} = 0.00$"
      ],
      "text/plain": [
       "<IPython.core.display.Markdown object>"
      ]
     },
     "metadata": {},
     "output_type": "display_data"
    },
    {
     "data": {
      "text/markdown": [
       "$\\tilde{D}_{\\text{общ}} = 0.00$"
      ],
      "text/plain": [
       "<IPython.core.display.Markdown object>"
      ]
     },
     "metadata": {},
     "output_type": "display_data"
    },
    {
     "data": {
      "text/markdown": [
       "$\\tilde{D}_{\\text{межгр, несмещ}} = 0.00$"
      ],
      "text/plain": [
       "<IPython.core.display.Markdown object>"
      ]
     },
     "metadata": {},
     "output_type": "display_data"
    },
    {
     "data": {
      "text/markdown": [
       "$\\tilde{D}_{\\text{внутр, несмещ}} = 0.00$"
      ],
      "text/plain": [
       "<IPython.core.display.Markdown object>"
      ]
     },
     "metadata": {},
     "output_type": "display_data"
    },
    {
     "data": {
      "text/markdown": [
       "$\\tilde{D}_{\\text{общ, несмещ}} = 0.00$"
      ],
      "text/plain": [
       "<IPython.core.display.Markdown object>"
      ]
     },
     "metadata": {},
     "output_type": "display_data"
    }
   ],
   "source": [
    "S_general = float(Y.var(ddof=0))\n",
    "S_inside = 1 / n * sum(groups[r\"$n_i$\"] * groups[r\"$s_i^2$\"])\n",
    "S_between = (\n",
    "    1 / n * sum(groups[r\"$n_i$\"] * (groups[r\"$\\overline{y_i}$\"] - Y.mean()) ** 2)\n",
    ")\n",
    "\n",
    "S_general_unbiased = S_general * n / (n - 1)\n",
    "S_inside_unbiased = S_inside * n / (n - k)\n",
    "S_between_unbiased = S_between * n / (k - 1)\n",
    "\n",
    "mprint(\n",
    "    f\"$\\\\tilde{{D}}_{{\\\\text{{межгр}}}} = {S_between:.2f}$\",\n",
    "    f\"$\\\\tilde{{D}}_{{\\\\text{{внутр}}}} = {S_inside:.2f}$\",\n",
    "    f\"$\\\\tilde{{D}}_{{\\\\text{{общ}}}} = {S_general:.2f}$\",\n",
    "    f\"$\\\\tilde{{D}}_{{\\\\text{{межгр, несмещ}}}} = {S_between_unbiased:.2f}$\",\n",
    "    f\"$\\\\tilde{{D}}_{{\\\\text{{внутр, несмещ}}}} = {S_inside_unbiased:.2f}$\",\n",
    "    f\"$\\\\tilde{{D}}_{{\\\\text{{общ, несмещ}}}} = {S_general_unbiased:.2f}$\",\n",
    ")"
   ]
  },
  {
   "cell_type": "markdown",
   "metadata": {},
   "source": [
    "| Источник вариации      | Показатель вариации               | Число степеней свободы | Несмещённая оценка                                |\n",
    "| ---------------------- | --------------------------------- | ---------------------- | ------------------------------------------------- |\n",
    "| Группировочный признак | $\\tilde{D}_{\\text{межгр}} = 0.00$ | $k - 1 = 3$            | $\\dfrac{n}{k - 1}\\tilde{D}_{\\text{межгр}} = 0.00$ |\n",
    "| Остаточные факторы     | $\\tilde{D}_{\\text{внутр}} = 0.00$ | $n - k = 248$          | $\\dfrac{n}{n - k}\\tilde{D}_{\\text{внутр}} = 0.00$ |\n",
    "| Все факторы            | $\\tilde{D}_{\\text{общ}} = 0.00$   | $n - 1 = 251$          | $\\dfrac{n}{n - 1}\\tilde{D}_{\\text{общ}} = 0.00$   |"
   ]
  },
  {
   "cell_type": "markdown",
   "metadata": {},
   "source": [
    "## Проверить правило сложения дисперсий"
   ]
  },
  {
   "cell_type": "code",
   "execution_count": 124,
   "metadata": {},
   "outputs": [
    {
     "data": {
      "text/markdown": [
       "$\\tilde{D}_{\\text{межгр}} = 0.00$"
      ],
      "text/plain": [
       "<IPython.core.display.Markdown object>"
      ]
     },
     "metadata": {},
     "output_type": "display_data"
    },
    {
     "data": {
      "text/markdown": [
       "$\\tilde{D}_{\\text{внутр}} = 0.00$"
      ],
      "text/plain": [
       "<IPython.core.display.Markdown object>"
      ]
     },
     "metadata": {},
     "output_type": "display_data"
    },
    {
     "data": {
      "text/markdown": [
       "$\\tilde{D}_{\\text{общ}} = 0.00$"
      ],
      "text/plain": [
       "<IPython.core.display.Markdown object>"
      ]
     },
     "metadata": {},
     "output_type": "display_data"
    },
    {
     "data": {
      "text/markdown": [
       "$\\tilde{D}_{\\text{межгр}} + \\tilde{D}_{\\text{внутр}} = 0.00$"
      ],
      "text/plain": [
       "<IPython.core.display.Markdown object>"
      ]
     },
     "metadata": {},
     "output_type": "display_data"
    },
    {
     "name": "stdout",
     "output_type": "stream",
     "text": [
      "True\n"
     ]
    }
   ],
   "source": [
    "mprint(\n",
    "    f\"$\\\\tilde{{D}}_{{\\\\text{{межгр}}}} = {S_between:.2f}$\",\n",
    "    f\"$\\\\tilde{{D}}_{{\\\\text{{внутр}}}} = {S_inside:.2f}$\",\n",
    "    f\"$\\\\tilde{{D}}_{{\\\\text{{общ}}}} = {S_general:.2f}$\",\n",
    "    f\"$\\\\tilde{{D}}_{{\\\\text{{межгр}}}} + \\\\tilde{{D}}_{{\\\\text{{внутр}}}} = {S_between + S_inside:.2f}$\",\n",
    ")\n",
    "print(S_between + S_inside - S_general < 1e-10)"
   ]
  },
  {
   "cell_type": "markdown",
   "metadata": {},
   "source": [
    "| Показатель | $\\tilde{D}_{\\text{межгр}}$ | $\\tilde{D}_{\\text{внутр}}$ | $\\tilde{D}_{\\text{общ}}$ | $\\tilde{D}_{\\text{межгр}} + \\tilde{D}_{\\text{внутр}}$ |\n",
    "| ---------- | -------------------------- | -------------------------- | ------------------------ | ----------------------------------------------------- |\n",
    "| Значение   | 0.00                       | 0.00                       | 0.00                     | 0.00                                                  |\n"
   ]
  },
  {
   "cell_type": "markdown",
   "metadata": {},
   "source": [
    "## Рассчитать показатели тесноты связи между факторным и результативным признаками"
   ]
  },
  {
   "cell_type": "code",
   "execution_count": 125,
   "metadata": {},
   "outputs": [
    {
     "data": {
      "text/markdown": [
       "$\\tilde{\\eta^2} = 0.02$"
      ],
      "text/plain": [
       "<IPython.core.display.Markdown object>"
      ]
     },
     "metadata": {},
     "output_type": "display_data"
    },
    {
     "data": {
      "text/markdown": [
       "$\\tilde{\\eta} = 0.13$"
      ],
      "text/plain": [
       "<IPython.core.display.Markdown object>"
      ]
     },
     "metadata": {},
     "output_type": "display_data"
    }
   ],
   "source": [
    "eta_squared = S_between / S_general\n",
    "\n",
    "eta = m.sqrt(eta_squared)\n",
    "\n",
    "mprint(\n",
    "    f\"$\\\\tilde{{\\\\eta^2}} = {eta_squared:.2f}$\",\n",
    "    f\"$\\\\tilde{{\\\\eta}} = {eta:.2f}$\",\n",
    ")"
   ]
  },
  {
   "cell_type": "markdown",
   "metadata": {},
   "source": [
    "| Показатель                            | Формула расчета                                                                                          | Значение |\n",
    "| ------------------------------------- | -------------------------------------------------------------------------------------------------------- | -------- |\n",
    "| Эмпирический коэффициент детерминации | $\\tilde{\\eta}^2 = \\dfrac{\\tilde{D}_{\\text{межгр}}}{\\tilde{D}_{\\text{общ}}}$                              | 0.02     |\n",
    "| Эмпирическое корреляционное отношение | $\\tilde{\\eta} = \\sqrt{\\tilde{\\eta}^2} = \\sqrt{\\dfrac{\\tilde{D}_{\\text{межгр}}}{\\tilde{D}_{\\text{общ}}}}$ | 0.13     |\n"
   ]
  },
  {
   "cell_type": "markdown",
   "metadata": {},
   "source": [
    "## Охарактеризовать тип связи между факторным и результативным признаками"
   ]
  },
  {
   "cell_type": "markdown",
   "metadata": {},
   "source": [
    "По шкале Чеддока наблюдается слабая степень статистической связи между факторным признаком `B6` и результативным признаком `B1`."
   ]
  },
  {
   "cell_type": "markdown",
   "metadata": {},
   "source": [
    "## Указать формулы расчёта показателей, используемых при проверке статистической гипотезы дисперсионного анализа"
   ]
  },
  {
   "cell_type": "markdown",
   "metadata": {},
   "source": [
    "|                                                                                  | Выражение                                                                        | Пояснение использованных обозначений                                       |\n",
    "| -------------------------------------------------------------------------------- | -------------------------------------------------------------------------------- | -------------------------------------------------------------------------- |\n",
    "| Формула рассчёта статистики критерия                                             | $Z = \\dfrac{n-k}{k-1}\\dfrac{\\tilde{D}_{\\text{межгр}}}{\\tilde{D}_{\\text{внутр}}}$ | $k$ - число групп $\\\\$ $n$ - объём выборки $y_1, \\dots, y_n$ |\n",
    "| Закон распределения статистики критерия при условии истинности основной гипотезы | F(k-1, n-k)                                                                      |                                                                            |\n",
    "| Формула расчета критической точки                                                | $F_{1-\\alpha, k-1, n-k}$                                                         | Правосторонняя критическая область                                         |\n",
    "| Формула расчета p-value                                                          | $1 - F_Z(z_{\\text{выб}} \\mid H_0)$                                               |                                                                            |\n"
   ]
  },
  {
   "cell_type": "markdown",
   "metadata": {},
   "source": [
    "## Проверить статистическую гипотезу дисперсионного анализа"
   ]
  },
  {
   "cell_type": "code",
   "execution_count": 126,
   "metadata": {},
   "outputs": [
    {
     "data": {
      "text/plain": [
       "(np.float64(1.3434615014584868), np.float64(0.26081468573054767))"
      ]
     },
     "execution_count": 126,
     "metadata": {},
     "output_type": "execute_result"
    }
   ],
   "source": [
    "z, p_value = stats.f_oneway(*df[\"Y\"])\n",
    "z, p_value"
   ]
  },
  {
   "cell_type": "code",
   "execution_count": 127,
   "metadata": {},
   "outputs": [
    {
     "data": {
      "text/plain": [
       "(1.3434615014585003, np.float64(0.2608146857305446))"
      ]
     },
     "execution_count": 127,
     "metadata": {},
     "output_type": "execute_result"
    }
   ],
   "source": [
    "alphas = [0.01, 0.05, 0.1]\n",
    "\n",
    "z = S_between_unbiased / S_inside_unbiased\n",
    "p_value = stats.f.sf(z, dfn=k - 1, dfd=n - k)\n",
    "z, p_value"
   ]
  },
  {
   "cell_type": "code",
   "execution_count": 128,
   "metadata": {},
   "outputs": [
    {
     "data": {
      "text/markdown": [
       "### ANOVA"
      ],
      "text/plain": [
       "<IPython.core.display.Markdown object>"
      ]
     },
     "metadata": {},
     "output_type": "display_data"
    },
    {
     "data": {
      "text/markdown": [
       "$H_0: m_1 = m_2 = m_3 = m_4$"
      ],
      "text/plain": [
       "<IPython.core.display.Markdown object>"
      ]
     },
     "metadata": {},
     "output_type": "display_data"
    },
    {
     "data": {
      "text/markdown": [
       "$z_{выб} = 1.34$"
      ],
      "text/plain": [
       "<IPython.core.display.Markdown object>"
      ]
     },
     "metadata": {},
     "output_type": "display_data"
    },
    {
     "data": {
      "text/markdown": [
       "$p = 0.26$"
      ],
      "text/plain": [
       "<IPython.core.display.Markdown object>"
      ]
     },
     "metadata": {},
     "output_type": "display_data"
    },
    {
     "data": {
      "text/markdown": [
       "При $\\alpha = 0.01$ $H_0$ принимается"
      ],
      "text/plain": [
       "<IPython.core.display.Markdown object>"
      ]
     },
     "metadata": {},
     "output_type": "display_data"
    },
    {
     "data": {
      "text/markdown": [
       "При $\\alpha = 0.05$ $H_0$ принимается"
      ],
      "text/plain": [
       "<IPython.core.display.Markdown object>"
      ]
     },
     "metadata": {},
     "output_type": "display_data"
    },
    {
     "data": {
      "text/markdown": [
       "При $\\alpha = 0.1$ $H_0$ принимается"
      ],
      "text/plain": [
       "<IPython.core.display.Markdown object>"
      ]
     },
     "metadata": {},
     "output_type": "display_data"
    }
   ],
   "source": [
    "mprint(\n",
    "    r\"### ANOVA\",\n",
    "    f\"$H_0: m_1 = m_2 = m_3 = m_4$\",\n",
    "    f\"$z_{{выб}} = {z:.2f}$\",\n",
    "    f\"$p = {p_value:.2f}$\",\n",
    ")\n",
    "\n",
    "for alpha in alphas:\n",
    "    mprint(f\"При $\\\\alpha = {alpha}$ {verdict(alpha, p_value)}\")"
   ]
  },
  {
   "cell_type": "markdown",
   "metadata": {},
   "source": [
    "| Уровень значимости | Выборочное значение статистического критерия | $p$-value | Статистическое решение | Вывод                                                                                    |\n",
    "| ------------------ | -------------------------------------------- | --------- | ---------------------- | ---------------------------------------------------------------------------------------- |\n",
    "| 0.01               | 1.34                                         | 0.26      | $H_0$ принимается      | $F_Y(y \\mid_{X = x_1}) = F_Y(y \\mid_{X = x_2}) = \\dots = F_Y(y \\mid_{X = x_k}) = F_Y(y)$ |\n",
    "| 0.05               | 1.34                                         | 0.26      | $H_0$ принимается      | $F_Y(y \\mid_{X = x_1}) = F_Y(y \\mid_{X = x_2}) = \\dots = F_Y(y \\mid_{X = x_k}) = F_Y(y)$ |\n",
    "| 0.1                | 1.34                                         | 0.26      | $H_0$ принимается      | $F_Y(y \\mid_{X = x_1}) = F_Y(y \\mid_{X = x_2}) = \\dots = F_Y(y \\mid_{X = x_k}) = F_Y(y)$ |"
   ]
  },
  {
   "cell_type": "markdown",
   "metadata": {},
   "source": [
    "## Вывод (в терминах предметной области)"
   ]
  },
  {
   "cell_type": "markdown",
   "metadata": {},
   "source": [
    "В результате проведённого в п.7 статистического анализа обнаружено, что между факторным признаком `B6` и результативным признаком `B1` отсутствует статистическая связь. Под действием `B6` не оказывается влияние на распределение `B1`."
   ]
  }
 ],
 "metadata": {
  "kernelspec": {
   "display_name": ".venv",
   "language": "python",
   "name": "python3"
  },
  "language_info": {
   "codemirror_mode": {
    "name": "ipython",
    "version": 3
   },
   "file_extension": ".py",
   "mimetype": "text/x-python",
   "name": "python",
   "nbconvert_exporter": "python",
   "pygments_lexer": "ipython3",
   "version": "3.13.0"
  }
 },
 "nbformat": 4,
 "nbformat_minor": 2
}
