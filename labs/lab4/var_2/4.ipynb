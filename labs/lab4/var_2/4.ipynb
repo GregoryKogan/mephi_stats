{
 "cells": [
  {
   "cell_type": "markdown",
   "metadata": {},
   "source": [
    "# Лабораторная работа №4"
   ]
  },
  {
   "cell_type": "markdown",
   "metadata": {},
   "source": [
    "## Условие\n",
    "\n",
    "Вариант №2\n",
    "\n",
    "Распределения:\n",
    "\n",
    "$$\\mathbf{X} \\sim R(2, 6)$$\n",
    "$$\\mathbf{Y} \\sim R(2, 6)$$\n",
    "\n",
    "Объём выборки:\n",
    "\n",
    "$$ n = 50 $$"
   ]
  },
  {
   "cell_type": "markdown",
   "metadata": {},
   "source": [
    "## Импорты"
   ]
  },
  {
   "cell_type": "code",
   "execution_count": 2,
   "metadata": {},
   "outputs": [],
   "source": [
    "import numpy as np\n",
    "import matplotlib.pyplot as plt\n",
    "from math import sqrt\n",
    "from scipy import stats\n",
    "from time import time\n",
    "from IPython.display import display, Markdown  # для вывода формул в консоль\n",
    "import pandas as pd"
   ]
  },
  {
   "cell_type": "markdown",
   "metadata": {},
   "source": [
    "## Определения"
   ]
  },
  {
   "cell_type": "code",
   "execution_count": 3,
   "metadata": {},
   "outputs": [],
   "source": [
    "a1, b1 = 2, 6\n",
    "a2, b2 = 2, 6\n",
    "n = 50"
   ]
  },
  {
   "cell_type": "code",
   "execution_count": 4,
   "metadata": {},
   "outputs": [],
   "source": [
    "def mprint(*strings):\n",
    "    for s in strings:\n",
    "        display(Markdown(s))\n",
    "\n",
    "\n",
    "np.random.seed(int(time()))\n",
    "plt.rc(\"text\", usetex=True)\n",
    "plt.rc(\n",
    "    \"text.latex\",\n",
    "    preamble=r\"\"\"\n",
    "\\usepackage[english, russian]{babel}\n",
    "\\usepackage[utf8]{inputenc}\n",
    "\"\"\",\n",
    ")\n",
    "plt.style.use(\"seaborn-v0_8\")"
   ]
  },
  {
   "cell_type": "code",
   "execution_count": 5,
   "metadata": {},
   "outputs": [],
   "source": [
    "def dataframe_to_markdown(df):\n",
    "    markdown_table = \"| Index | \" + \" | \".join(df.columns) + \" |\\n\"\n",
    "    markdown_table += \"|---\" * (len(df.columns) + 1) + \"|\\n\"  # Учитываем индекс\n",
    "\n",
    "    for index, row in df.iterrows():\n",
    "        row_values = [str(round(val, 2) if type(val) != str else val) for val in row]\n",
    "        markdown_table += f\"| {index} | \" + \" | \".join(row_values) + \" |\\n\"\n",
    "\n",
    "    return markdown_table"
   ]
  },
  {
   "cell_type": "code",
   "execution_count": 6,
   "metadata": {},
   "outputs": [],
   "source": [
    "alpha = 0.05\n",
    "\n",
    "\n",
    "def verdict(alpha, p_value):\n",
    "    if alpha > p_value:\n",
    "        return \"$H_0$ отклоняется\"\n",
    "    else:\n",
    "        return \"$H_0$ принимается\""
   ]
  },
  {
   "cell_type": "markdown",
   "metadata": {},
   "source": [
    "## 1. Исходные данные"
   ]
  },
  {
   "cell_type": "code",
   "execution_count": 7,
   "metadata": {},
   "outputs": [
    {
     "data": {
      "text/markdown": [
       "$X$: [5.73 5.7  4.92 4.3  2.08 3.65 4.89 4.67 2.32 2.88]"
      ],
      "text/plain": [
       "<IPython.core.display.Markdown object>"
      ]
     },
     "metadata": {},
     "output_type": "display_data"
    },
    {
     "data": {
      "text/markdown": [
       "$Y$: [3.94 2.88 5.17 4.27 3.63 2.78 5.47 5.41 5.72 5.27]"
      ],
      "text/plain": [
       "<IPython.core.display.Markdown object>"
      ]
     },
     "metadata": {},
     "output_type": "display_data"
    }
   ],
   "source": [
    "X = np.random.uniform(a1, b1, n)\n",
    "Y = np.random.uniform(a2, b2, n)\n",
    "\n",
    "mprint(f\"$X$: {X[:10].round(2)}\")\n",
    "mprint(f\"$Y$: {Y[:10].round(2)}\")"
   ]
  },
  {
   "cell_type": "markdown",
   "metadata": {},
   "source": [
    "### Характеристики наблюдаемых случайных величин"
   ]
  },
  {
   "cell_type": "markdown",
   "metadata": {},
   "source": [
    "| СВ             | Распределение | Параметры          | Математическое ожидание, $m_i$   | Дисперсия, $\\sigma_i^2$                                 | Объём выборки, $n$ |\n",
    "| -------------- | ------------- | ------------------ | -------------------------------- | ------------------------------------------------------- | -------------------- |\n",
    "| $X$ | $R(2, 6)$     | $a_1 = 2, b_1 = 6$ | $m_1 = \\dfrac{a_1 + b_1}{2} = 4$ | $\\sigma_1^2 = \\dfrac{(b_1 - a_1)^2}{12} = \\dfrac{4}{3}$ | 50                  |\n",
    "| $Y$ | $R(2, 6)$     | $a_2 = 2, b_2 = 6$ | $m_2 = \\dfrac{a_2 + b_2}{2} = 4$ | $\\sigma_2^2 = \\dfrac{(b_2 - a_2)^2}{12} = \\dfrac{4}{3}$ | 50                  |"
   ]
  },
  {
   "cell_type": "markdown",
   "metadata": {},
   "source": [
    "### Выборочные характеристики"
   ]
  },
  {
   "cell_type": "code",
   "execution_count": 25,
   "metadata": {},
   "outputs": [
    {
     "data": {
      "text/markdown": [
       "$\\overline{x} =$ 4.03, $s_X^2 =$ 1.83"
      ],
      "text/plain": [
       "<IPython.core.display.Markdown object>"
      ]
     },
     "metadata": {},
     "output_type": "display_data"
    },
    {
     "data": {
      "text/markdown": [
       "$\\overline{y} =$ 4.47, $s_Y^2 =$ 1.13"
      ],
      "text/plain": [
       "<IPython.core.display.Markdown object>"
      ]
     },
     "metadata": {},
     "output_type": "display_data"
    },
    {
     "data": {
      "text/markdown": [
       "$r_{XY} =$ -0.01, $\\rho_{XY} =$ 0.02, $\\tau_{XY} =$ 0.01"
      ],
      "text/plain": [
       "<IPython.core.display.Markdown object>"
      ]
     },
     "metadata": {},
     "output_type": "display_data"
    }
   ],
   "source": [
    "mean_X = X.mean()\n",
    "S_X = X.var(ddof=1)\n",
    "\n",
    "mean_Y = Y.mean()\n",
    "S_Y = Y.var(ddof=1)\n",
    "\n",
    "r_XY = stats.pearsonr(X, Y)[0]\n",
    "rho_XY = stats.spearmanr(X, Y)[0]\n",
    "tau_XY = stats.kendalltau(X, Y)[0]\n",
    "\n",
    "mprint(f\"$\\\\overline{{x}} =$ {mean_X:.2f}, $s_X^2 =$ {S_X:.2f}\")\n",
    "mprint(f\"$\\\\overline{{y}} =$ {mean_Y:.2f}, $s_Y^2 =$ {S_Y:.2f}\")\n",
    "\n",
    "mprint(\n",
    "    f\"$r_{{XY}} =$ {r_XY:.2f}, $\\\\rho_{{XY}} =$ {rho_XY:.2f}, $\\\\tau_{{XY}} =$ {tau_XY:.2f}\"\n",
    ")"
   ]
  },
  {
   "cell_type": "markdown",
   "metadata": {},
   "source": [
    "| СВ  | Среднее, $\\overline{x_i}$ | Оценка дисперсии, $s_i^2$ | КК по Пирсону, $r_{XY}$ | КК по Спирмену, $\\rho_{XY}$ | КК по Кендаллу, $\\tau_{XY}$ |\n",
    "| --- | ------------------------- | ------------------------- | ----------------------- | --------------------------- | --------------------------- |\n",
    "| X   | 4.03                      | 1.83                      | -0.01                   | 0.02                        | 0.01                        |\n",
    "| Y   | 4.47                      | 1.13                      | -0.01                   | 0.02                        | 0.01                        |"
   ]
  },
  {
   "cell_type": "markdown",
   "metadata": {},
   "source": [
    "### Проверка значимости коэффициентов корреляции"
   ]
  },
  {
   "cell_type": "code",
   "execution_count": 30,
   "metadata": {},
   "outputs": [
    {
     "data": {
      "text/markdown": [
       "### Проверка значимости КК"
      ],
      "text/plain": [
       "<IPython.core.display.Markdown object>"
      ]
     },
     "metadata": {},
     "output_type": "display_data"
    },
    {
     "data": {
      "text/markdown": [
       "---"
      ],
      "text/plain": [
       "<IPython.core.display.Markdown object>"
      ]
     },
     "metadata": {},
     "output_type": "display_data"
    },
    {
     "data": {
      "text/markdown": [
       "### $r_{XY}$"
      ],
      "text/plain": [
       "<IPython.core.display.Markdown object>"
      ]
     },
     "metadata": {},
     "output_type": "display_data"
    },
    {
     "data": {
      "text/markdown": [
       "$H_0$: $r_{XY} = 0$, $H_1$: $r_{XY} \\neq 0$"
      ],
      "text/plain": [
       "<IPython.core.display.Markdown object>"
      ]
     },
     "metadata": {},
     "output_type": "display_data"
    },
    {
     "data": {
      "text/markdown": [
       "$z_{выб} =$ -0.04, "
      ],
      "text/plain": [
       "<IPython.core.display.Markdown object>"
      ]
     },
     "metadata": {},
     "output_type": "display_data"
    },
    {
     "data": {
      "text/markdown": [
       "$p =$ 0.97"
      ],
      "text/plain": [
       "<IPython.core.display.Markdown object>"
      ]
     },
     "metadata": {},
     "output_type": "display_data"
    },
    {
     "data": {
      "text/markdown": [
       "$H_0$ принимается"
      ],
      "text/plain": [
       "<IPython.core.display.Markdown object>"
      ]
     },
     "metadata": {},
     "output_type": "display_data"
    },
    {
     "data": {
      "text/markdown": [
       "---"
      ],
      "text/plain": [
       "<IPython.core.display.Markdown object>"
      ]
     },
     "metadata": {},
     "output_type": "display_data"
    },
    {
     "data": {
      "text/markdown": [
       "### $\\rho_{XY}$"
      ],
      "text/plain": [
       "<IPython.core.display.Markdown object>"
      ]
     },
     "metadata": {},
     "output_type": "display_data"
    },
    {
     "data": {
      "text/markdown": [
       "$H_0$: $\rho_{XY} = 0$, $H_1$: $\rho_{XY} \\neq 0$"
      ],
      "text/plain": [
       "<IPython.core.display.Markdown object>"
      ]
     },
     "metadata": {},
     "output_type": "display_data"
    },
    {
     "data": {
      "text/markdown": [
       "$z_{выб} =$ 0.13, "
      ],
      "text/plain": [
       "<IPython.core.display.Markdown object>"
      ]
     },
     "metadata": {},
     "output_type": "display_data"
    },
    {
     "data": {
      "text/markdown": [
       "$p =$ 0.90"
      ],
      "text/plain": [
       "<IPython.core.display.Markdown object>"
      ]
     },
     "metadata": {},
     "output_type": "display_data"
    },
    {
     "data": {
      "text/markdown": [
       "$H_0$ принимается"
      ],
      "text/plain": [
       "<IPython.core.display.Markdown object>"
      ]
     },
     "metadata": {},
     "output_type": "display_data"
    },
    {
     "data": {
      "text/markdown": [
       "---"
      ],
      "text/plain": [
       "<IPython.core.display.Markdown object>"
      ]
     },
     "metadata": {},
     "output_type": "display_data"
    },
    {
     "data": {
      "text/markdown": [
       "### $\\tau_{XY}$"
      ],
      "text/plain": [
       "<IPython.core.display.Markdown object>"
      ]
     },
     "metadata": {},
     "output_type": "display_data"
    },
    {
     "data": {
      "text/markdown": [
       "$H_0$: $\tau_{XY} = 0$, $H_1$: $\tau_{XY} \\neq 0$"
      ],
      "text/plain": [
       "<IPython.core.display.Markdown object>"
      ]
     },
     "metadata": {},
     "output_type": "display_data"
    },
    {
     "data": {
      "text/markdown": [
       "$z_{выб} =$ 0.09, "
      ],
      "text/plain": [
       "<IPython.core.display.Markdown object>"
      ]
     },
     "metadata": {},
     "output_type": "display_data"
    },
    {
     "data": {
      "text/markdown": [
       "$p =$ 0.93"
      ],
      "text/plain": [
       "<IPython.core.display.Markdown object>"
      ]
     },
     "metadata": {},
     "output_type": "display_data"
    },
    {
     "data": {
      "text/markdown": [
       "$H_0$ принимается"
      ],
      "text/plain": [
       "<IPython.core.display.Markdown object>"
      ]
     },
     "metadata": {},
     "output_type": "display_data"
    }
   ],
   "source": [
    "z_r_XY = r_XY * sqrt(n - 2) / sqrt(1 - r_XY**2)\n",
    "p_r_XY = stats.pearsonr(X, Y)[1]\n",
    "\n",
    "z_rho_XY = rho_XY * sqrt(n - 2) / sqrt(1 - rho_XY**2)\n",
    "p_rho_XY = stats.spearmanr(X, Y)[1]\n",
    "\n",
    "z_tau_XY = tau_XY * sqrt(9 * n * (n + 1)) / sqrt(2 * (2 * n + 5))\n",
    "p_tau_XY = stats.kendalltau(X, Y)[1]\n",
    "\n",
    "mprint(\n",
    "    r\"### Проверка значимости КК\",\n",
    "    r\"---\",\n",
    "    r\"### $r_{XY}$\",\n",
    "    f\"$H_0$: $r_{{XY}} = 0$, $H_1$: $r_{{XY}} \\\\neq 0$\",\n",
    "    f\"$z_{{выб}} =$ {z_r_XY:.2f}, \",\n",
    "    f\"$p =$ {p_r_XY:.2f}\",\n",
    "    verdict(alpha, p_r_XY),\n",
    "    r\"---\",\n",
    "    r\"### $\\rho_{XY}$\",\n",
    "    f\"$H_0$: $\\\\rho_{{XY}} = 0$, $H_1$: $\\\\rho_{{XY}} \\\\neq 0$\",\n",
    "    f\"$z_{{выб}} =$ {z_rho_XY:.2f}, \",\n",
    "    f\"$p =$ {p_rho_XY:.2f}\",\n",
    "    verdict(alpha, p_rho_XY),\n",
    "    r\"---\",\n",
    "    r\"### $\\tau_{XY}$\",\n",
    "    f\"$H_0$: $\\\\tau_{{XY}} = 0$, $H_1$: $\\\\tau_{{XY}} \\\\neq 0$\",\n",
    "    f\"$z_{{выб}} =$ {z_tau_XY:.2f}, \",\n",
    "    f\"$p =$ {p_tau_XY:.2f}\",\n",
    "    verdict(alpha, p_tau_XY),\n",
    ")"
   ]
  },
  {
   "cell_type": "markdown",
   "metadata": {},
   "source": [
    "| Статистическая гипотеза, $H_0$                 | $p$-value | Статистическое решение при $\\alpha = 0.05$ | Ошибка статистического решения |\n",
    "| ---------------------------------------------- | --------- | ------------------------------------------ | ------------------------------ |\n",
    "| $H_0:\\ r_{XY} = 0 \\\\H_1:\\ r_{XY} \\neq 0$       | 0.97      | $H_0$ принимается                          | Нет                            |\n",
    "| $H_0:\\ \\rho_{XY} = 0 \\\\H_1:\\ \\rho_{XY} \\neq 0$ | 0.90      | $H_0$ принимается                          | Нет                            |\n",
    "| $H_0:\\ \\tau_{XY} = 0 \\\\H_1:\\ \\tau_{XY} \\neq 0$ | 0.93      | $H_0$ принимается                          | Нет                            |\n"
   ]
  },
  {
   "cell_type": "markdown",
   "metadata": {},
   "source": [
    "## 2. Визуальное представление двумерной выборки"
   ]
  },
  {
   "cell_type": "code",
   "execution_count": 33,
   "metadata": {},
   "outputs": [
    {
     "data": {
      "image/png": "[encoded data removed]",
      "text/plain": [
       "<Figure size 800x550 with 1 Axes>"
      ]
     },
     "metadata": {},
     "output_type": "display_data"
    }
   ],
   "source": [
    "plt.scatter(X, Y, color=\"orange\")\n",
    "plt.xlabel(r\"$X$\")\n",
    "plt.ylabel(r\"$Y$\")\n",
    "plt.title(r\"Диаграмма рассеяния случайных величин $X$ и $Y$\")\n",
    "plt.show()"
   ]
  },
  {
   "cell_type": "markdown",
   "metadata": {},
   "source": [
    "## 3. Проверка независимости методом таблиц сопряженности"
   ]
  },
  {
   "cell_type": "markdown",
   "metadata": {},
   "source": [
    "Статистическая гипотеза: $H_0:\\ F_y(y \\mid X \\in \\Delta_1) = F_y(y \\mid X \\in \\Delta_2) = \\ldots = F_y(y \\mid X \\in \\Delta_k) = F_y(y);\\ \\ \\ H':\\ \\exists i, j: F_Y(y \\mid X \\in \\Delta_i) \\neq F_Y(y \\mid X \\in \\Delta_j)$"
   ]
  },
  {
   "cell_type": "markdown",
   "metadata": {},
   "source": [
    "### Эмпирическая таблица сопряженности"
   ]
  },
  {
   "cell_type": "code",
   "execution_count": 65,
   "metadata": {},
   "outputs": [
    {
     "data": {
      "image/png": "[encoded data removed]",
      "text/plain": [
       "<Figure size 800x550 with 1 Axes>"
      ]
     },
     "metadata": {},
     "output_type": "display_data"
    }
   ],
   "source": [
    "k = 3\n",
    "\n",
    "emperical_table, bin_edges_X, bin_edges_Y, _ = plt.hist2d(X, Y, bins=k)"
   ]
  },
  {
   "cell_type": "code",
   "execution_count": 78,
   "metadata": {},
   "outputs": [
    {
     "data": {
      "text/html": [
       "<div>\n",
       "<style scoped>\n",
       "    .dataframe tbody tr th:only-of-type {\n",
       "        vertical-align: middle;\n",
       "    }\n",
       "\n",
       "    .dataframe tbody tr th {\n",
       "        vertical-align: top;\n",
       "    }\n",
       "\n",
       "    .dataframe thead th {\n",
       "        text-align: right;\n",
       "    }\n",
       "</style>\n",
       "<table border=\"1\" class=\"dataframe\">\n",
       "  <thead>\n",
       "    <tr style=\"text-align: right;\">\n",
       "      <th></th>\n",
       "      <th>[2.20, 3.46)</th>\n",
       "      <th>[3.46, 4.73)</th>\n",
       "      <th>[4.73, 6.00]</th>\n",
       "    </tr>\n",
       "  </thead>\n",
       "  <tbody>\n",
       "    <tr>\n",
       "      <th>$\\Delta_{1} =$ [2.07, 3.36)</th>\n",
       "      <td>4.0</td>\n",
       "      <td>8.0</td>\n",
       "      <td>7.0</td>\n",
       "    </tr>\n",
       "    <tr>\n",
       "      <th>$\\Delta_{2} =$ [3.36, 4.64)</th>\n",
       "      <td>0.0</td>\n",
       "      <td>3.0</td>\n",
       "      <td>5.0</td>\n",
       "    </tr>\n",
       "    <tr>\n",
       "      <th>$\\Delta_{3} =$ [4.64, 5.92]</th>\n",
       "      <td>5.0</td>\n",
       "      <td>8.0</td>\n",
       "      <td>10.0</td>\n",
       "    </tr>\n",
       "  </tbody>\n",
       "</table>\n",
       "</div>"
      ],
      "text/plain": [
       "                             [2.20, 3.46)  [3.46, 4.73)  [4.73, 6.00]\n",
       "$\\Delta_{1} =$ [2.07, 3.36)           4.0           8.0           7.0\n",
       "$\\Delta_{2} =$ [3.36, 4.64)           0.0           3.0           5.0\n",
       "$\\Delta_{3} =$ [4.64, 5.92]           5.0           8.0          10.0"
      ]
     },
     "execution_count": 78,
     "metadata": {},
     "output_type": "execute_result"
    }
   ],
   "source": [
    "columns = [f\"[{bin_edges_Y[i]:.2f}, {bin_edges_Y[i+1]:.2f})\" for i in range(k - 1)] + [\n",
    "    f\"[{bin_edges_Y[-2]:.2f}, {bin_edges_Y[-1]:.2f}]\"\n",
    "]\n",
    "indexes = [\n",
    "    f\"$\\\\Delta_{{{i+1}}} =$ [{bin_edges_X[i]:.2f}, {bin_edges_X[i+1]:.2f})\"\n",
    "    for i in range(k - 1)\n",
    "] + [f\"$\\\\Delta_{{{k}}} =$ [{bin_edges_X[-2]:.2f}, {bin_edges_X[-1]:.2f}]\"]\n",
    "\n",
    "emperical_table = pd.DataFrame(emperical_table, columns=columns, index=indexes)\n",
    "emperical_table"
   ]
  },
  {
   "cell_type": "code",
   "execution_count": 79,
   "metadata": {},
   "outputs": [
    {
     "name": "stdout",
     "output_type": "stream",
     "text": [
      "| Index | [2.20, 3.46) | [3.46, 4.73) | [4.73, 6.00] |\n",
      "|---|---|---|---|\n",
      "| $\\Delta_{1} =$ [2.07, 3.36) | 4.0 | 8.0 | 7.0 |\n",
      "| $\\Delta_{2} =$ [3.36, 4.64) | 0.0 | 3.0 | 5.0 |\n",
      "| $\\Delta_{3} =$ [4.64, 5.92] | 5.0 | 8.0 | 10.0 |\n",
      "\n"
     ]
    }
   ],
   "source": [
    "print(dataframe_to_markdown(emperical_table))"
   ]
  },
  {
   "cell_type": "markdown",
   "metadata": {},
   "source": [
    "| X\\Y                         | [2.20, 3.46) | [3.46, 4.73) | [4.73, 6.00] |\n",
    "| --------------------------- | ------------ | ------------ | ------------ |\n",
    "| $\\Delta_{1} =$ [2.07, 3.36) | 4.0          | 8.0          | 7.0          |\n",
    "| $\\Delta_{2} =$ [3.36, 4.64) | 0.0          | 3.0          | 5.0          |\n",
    "| $\\Delta_{3} =$ [4.64, 5.92] | 5.0          | 8.0          | 10.0         |"
   ]
  },
  {
   "cell_type": "markdown",
   "metadata": {},
   "source": [
    "### Теоретическая таблица сопряженности"
   ]
  },
  {
   "cell_type": "code",
   "execution_count": 80,
   "metadata": {},
   "outputs": [
    {
     "data": {
      "text/plain": [
       "array([[19.],\n",
       "       [ 8.],\n",
       "       [23.]])"
      ]
     },
     "execution_count": 80,
     "metadata": {},
     "output_type": "execute_result"
    }
   ],
   "source": [
    "V1 = emperical_table.sum(axis=1).values\n",
    "V1 = np.atleast_2d(V1).T\n",
    "V1"
   ]
  },
  {
   "cell_type": "code",
   "execution_count": 81,
   "metadata": {},
   "outputs": [
    {
     "data": {
      "text/plain": [
       "array([[ 9., 19., 22.]])"
      ]
     },
     "execution_count": 81,
     "metadata": {},
     "output_type": "execute_result"
    }
   ],
   "source": [
    "V2 = emperical_table.sum(axis=0).values\n",
    "V2 = np.atleast_2d(V2)\n",
    "V2"
   ]
  },
  {
   "cell_type": "code",
   "execution_count": 76,
   "metadata": {},
   "outputs": [
    {
     "data": {
      "text/html": [
       "<div>\n",
       "<style scoped>\n",
       "    .dataframe tbody tr th:only-of-type {\n",
       "        vertical-align: middle;\n",
       "    }\n",
       "\n",
       "    .dataframe tbody tr th {\n",
       "        vertical-align: top;\n",
       "    }\n",
       "\n",
       "    .dataframe thead th {\n",
       "        text-align: right;\n",
       "    }\n",
       "</style>\n",
       "<table border=\"1\" class=\"dataframe\">\n",
       "  <thead>\n",
       "    <tr style=\"text-align: right;\">\n",
       "      <th></th>\n",
       "      <th>[2.20, 3.46)</th>\n",
       "      <th>[3.46, 4.73)</th>\n",
       "      <th>[4.73, 6.00]</th>\n",
       "    </tr>\n",
       "  </thead>\n",
       "  <tbody>\n",
       "    <tr>\n",
       "      <th>$\\Delta_{1} =$ [2.07, 3.36)</th>\n",
       "      <td>3.42</td>\n",
       "      <td>7.22</td>\n",
       "      <td>8.36</td>\n",
       "    </tr>\n",
       "    <tr>\n",
       "      <th>$\\Delta_{2} =$ [3.36, 4.64)</th>\n",
       "      <td>1.44</td>\n",
       "      <td>3.04</td>\n",
       "      <td>3.52</td>\n",
       "    </tr>\n",
       "    <tr>\n",
       "      <th>$\\Delta_{3} =$ [4.64, 5.92]</th>\n",
       "      <td>4.14</td>\n",
       "      <td>8.74</td>\n",
       "      <td>10.12</td>\n",
       "    </tr>\n",
       "  </tbody>\n",
       "</table>\n",
       "</div>"
      ],
      "text/plain": [
       "                             [2.20, 3.46)  [3.46, 4.73)  [4.73, 6.00]\n",
       "$\\Delta_{1} =$ [2.07, 3.36)          3.42          7.22          8.36\n",
       "$\\Delta_{2} =$ [3.36, 4.64)          1.44          3.04          3.52\n",
       "$\\Delta_{3} =$ [4.64, 5.92]          4.14          8.74         10.12"
      ]
     },
     "execution_count": 76,
     "metadata": {},
     "output_type": "execute_result"
    }
   ],
   "source": [
    "theoretical_table = pd.DataFrame(np.dot(V1, V2) / n, columns=columns, index=indexes)\n",
    "theoretical_table"
   ]
  },
  {
   "cell_type": "code",
   "execution_count": 77,
   "metadata": {},
   "outputs": [
    {
     "name": "stdout",
     "output_type": "stream",
     "text": [
      "| Index | [2.20, 3.46) | [3.46, 4.73) | [4.73, 6.00] |\n",
      "|---|---|---|---|\n",
      "| $\\Delta_{1} =$ [2.07, 3.36) | 3.42 | 7.22 | 8.36 |\n",
      "| $\\Delta_{2} =$ [3.36, 4.64) | 1.44 | 3.04 | 3.52 |\n",
      "| $\\Delta_{3} =$ [4.64, 5.92] | 4.14 | 8.74 | 10.12 |\n",
      "\n"
     ]
    }
   ],
   "source": [
    "print(dataframe_to_markdown(theoretical_table))"
   ]
  },
  {
   "cell_type": "markdown",
   "metadata": {},
   "source": [
    "| X\\Y                         | [2.20, 3.46) | [3.46, 4.73) | [4.73, 6.00] |\n",
    "| --------------------------- | ------------ | ------------ | ------------ |\n",
    "| $\\Delta_{1} =$ [2.07, 3.36) | 3.42         | 7.22         | 8.36         |\n",
    "| $\\Delta_{2} =$ [3.36, 4.64) | 1.44         | 3.04         | 3.52         |\n",
    "| $\\Delta_{3} =$ [4.64, 5.92] | 4.14         | 8.74         | 10.12        |"
   ]
  },
  {
   "cell_type": "markdown",
   "metadata": {},
   "source": [
    "### Проверка статистической гипотезы"
   ]
  },
  {
   "cell_type": "code",
   "execution_count": 85,
   "metadata": {},
   "outputs": [
    {
     "data": {
      "text/markdown": [
       "### $\\chi^2$-test"
      ],
      "text/plain": [
       "<IPython.core.display.Markdown object>"
      ]
     },
     "metadata": {},
     "output_type": "display_data"
    },
    {
     "data": {
      "text/markdown": [
       "$H_0:\\ F_y(y \\mid X \\in \\Delta_1) = F_y(y \\mid X \\in \\Delta_2) = \\ldots = F_y(y \\mid X \\in \\Delta_k) = F_y(y)$"
      ],
      "text/plain": [
       "<IPython.core.display.Markdown object>"
      ]
     },
     "metadata": {},
     "output_type": "display_data"
    },
    {
     "data": {
      "text/markdown": [
       "$z_{выб} =$ 2.71"
      ],
      "text/plain": [
       "<IPython.core.display.Markdown object>"
      ]
     },
     "metadata": {},
     "output_type": "display_data"
    },
    {
     "data": {
      "text/markdown": [
       "$p =$ 0.61"
      ],
      "text/plain": [
       "<IPython.core.display.Markdown object>"
      ]
     },
     "metadata": {},
     "output_type": "display_data"
    },
    {
     "data": {
      "text/markdown": [
       "$H_0$ принимается"
      ],
      "text/plain": [
       "<IPython.core.display.Markdown object>"
      ]
     },
     "metadata": {},
     "output_type": "display_data"
    }
   ],
   "source": [
    "res = stats.chi2_contingency(emperical_table)\n",
    "z = res.statistic\n",
    "p = res.pvalue\n",
    "\n",
    "mprint(\n",
    "    r\"### $\\chi^2$-test\",\n",
    "    r\"$H_0:\\ F_y(y \\mid X \\in \\Delta_1) = F_y(y \\mid X \\in \\Delta_2) = \\ldots = F_y(y \\mid X \\in \\Delta_k) = F_y(y)$\",\n",
    "    f\"$z_{{выб}} =$ {z:.2f}\",\n",
    "    f\"$p =$ {p:.2f}\",\n",
    "    verdict(alpha, p),\n",
    ")"
   ]
  },
  {
   "cell_type": "markdown",
   "metadata": {},
   "source": [
    "| Выборочное значение статистики критерия | $p$-value | Статистическое решение при $\\alpha = 0.05$ | Ошибка статистического решения |\n",
    "| --------------------------------------- | --------- | ------------------------------------------ | ------------------------------ |\n",
    "| 2.71                                    | 0.61      | $H_0$ принимается                          | Нет                            |\n"
   ]
  },
  {
   "cell_type": "markdown",
   "metadata": {},
   "source": [
    "## 4. Исследование корреляционной связи"
   ]
  },
  {
   "cell_type": "markdown",
   "metadata": {},
   "source": [
    "Случайная величина $U = \\lambda X + (1 - \\lambda)Y,\\ \\lambda \\in [0;1]$\n",
    "\n",
    "Случайная величина $V = \\lambda X^3 + (1 - \\lambda)Y^3,\\ \\lambda \\in [0;1]$"
   ]
  },
  {
   "cell_type": "code",
   "execution_count": 96,
   "metadata": {},
   "outputs": [],
   "source": [
    "lambdas = np.linspace(0, 1, 10000)"
   ]
  },
  {
   "cell_type": "code",
   "execution_count": 97,
   "metadata": {},
   "outputs": [
    {
     "data": {
      "image/png": "[encoded data removed]",
      "text/plain": [
       "<Figure size 800x550 with 1 Axes>"
      ]
     },
     "metadata": {},
     "output_type": "display_data"
    }
   ],
   "source": [
    "r_XU = []\n",
    "rho_XU = []\n",
    "tau_XU = []\n",
    "\n",
    "for l in lambdas:\n",
    "    U = l * X + (1 - l) * Y\n",
    "    r_XU += [stats.pearsonr(X, U)[0]]\n",
    "    rho_XU += [stats.spearmanr(X, U)[0]]\n",
    "    tau_XU += [stats.kendalltau(X, U)[0]]\n",
    "\n",
    "plt.plot(lambdas, r_XU, label=r\"$r_{XU}$\")\n",
    "plt.plot(lambdas, rho_XU, label=r\"$\\rho_{XU}$\")\n",
    "plt.plot(lambdas, tau_XU, label=r\"$\\tau_{XU}$\")\n",
    "plt.xlabel(r\"$\\lambda$\")\n",
    "plt.ylabel(r\"$r_{XU}, \\rho_{XU}, \\tau_{XU}$\")\n",
    "plt.title(\n",
    "    r\"Графики зависимостей коэффициента корреляции $r_{XU}(\\lambda)$, рангового\\\\ коэффициента корреляции по Спирмену $\\rho_{XU}(\\lambda)$ и по Кендаллу $\\tau_{XU}(\\lambda)$\"\n",
    ")\n",
    "plt.legend()\n",
    "plt.show()"
   ]
  },
  {
   "cell_type": "code",
   "execution_count": 100,
   "metadata": {},
   "outputs": [
    {
     "data": {
      "image/png": "[encoded data removed]",
      "text/plain": [
       "<Figure size 800x550 with 1 Axes>"
      ]
     },
     "metadata": {},
     "output_type": "display_data"
    }
   ],
   "source": [
    "r_XV = []\n",
    "rho_XV = []\n",
    "tau_XV = []\n",
    "\n",
    "for l in lambdas:\n",
    "    V = l * X**3 + (1 - l) * Y**3\n",
    "    r_XV += [stats.pearsonr(X, V)[0]]\n",
    "    rho_XV += [stats.spearmanr(X, V)[0]]\n",
    "    tau_XV += [stats.kendalltau(X, V)[0]]\n",
    "\n",
    "plt.plot(lambdas, r_XV, label=r\"$r_{XV}$\")\n",
    "plt.plot(lambdas, rho_XV, label=r\"$\\rho_{XV}$\")\n",
    "plt.plot(lambdas, tau_XV, label=r\"$\\tau_{XV}$\")\n",
    "plt.xlabel(r\"$\\lambda$\")\n",
    "plt.ylabel(r\"$r_{XV}, \\rho_{XV}, \\tau_{XV}$\")\n",
    "plt.title(\n",
    "    r\"Графики зависимостей коэффициента корреляции $r_{XV}(\\lambda)$, рангового\\\\ коэффициента корреляции по Спирмену $\\rho_{XV}(\\lambda)$ и по Кендаллу $\\tau_{XV}(\\lambda)$\"\n",
    ")\n",
    "plt.legend()\n",
    "plt.show()"
   ]
  },
  {
   "cell_type": "markdown",
   "metadata": {},
   "source": [
    "Выводы:\n",
    "\n",
    "По первому графику: при $\\lambda \\to 0$ все коэффициенты корреляции стремятся к 0, что свидетельствует об отсутствии линейной корреляционной связи между случайными величинами $X$ и $U$. При $\\lambda \\to 1$ все коэффициенты корреляции стремятся к 1, что свидетельствует о наличии линейной функциональной зависимости между случайными величинами $X$ и $U$.\n",
    "\n",
    "По второму графику: $r_{XV}$ никогда не принимает значений 1, что свидетельствует об отсутствии линейной функциональной зависимости между случайными величинами $X$ и $V$. Однако при $\\lambda \\to 1$ коэффициенты корреляции $\\rho_{XV}, \\tau_{XV} \\to 1$, что свидетельствует о наличии монотонной функциональной зависимости между случайными величинами $X$ и $V$. При $\\lambda \\to 0$ коэффициенты корреляции $r_{XV}, \\rho_{XV}, \\tau_{XV}$ близки к 0, что свидетельствует об отсутствии линейной и даже монотонной корреляционной связи между случайными величинами $X$ и $V$. "
   ]
  },
  {
   "cell_type": "code",
   "execution_count": 11,
   "metadata": {},
   "outputs": [
    {
     "data": {
      "image/png": "[encoded data removed]",
      "text/plain": [
       "<Figure size 1000x600 with 4 Axes>"
      ]
     },
     "metadata": {},
     "output_type": "display_data"
    }
   ],
   "source": [
    "fig, axes = plt.subplots(2, 2, figsize=(10, 6))\n",
    "\n",
    "axes[0, 0].scatter(X, Y**3, color=\"orange\")\n",
    "axes[0, 0].set_xlabel(r\"$X$\")\n",
    "axes[0, 0].set_ylabel(r\"$V = Y^3$\")\n",
    "axes[0, 0].set_title(\n",
    "    r\"Диаграмма рассеяния случайных величин $X$ и $V$ при $\\lambda = 0$\"\n",
    ")\n",
    "\n",
    "axes[0, 1].scatter(stats.rankdata(X), stats.rankdata(Y**3), color=\"orange\")\n",
    "axes[0, 1].set_xlabel(r\"$R$\")\n",
    "axes[0, 1].set_ylabel(r\"$S$\")\n",
    "axes[0, 1].set_title(\n",
    "    r\"Диаграмма рассеяния рангов случайных величин $X$ и $V$ при $\\lambda = 0$\"\n",
    ")\n",
    "\n",
    "axes[1, 0].scatter(X, X**3, color=\"orange\")\n",
    "axes[1, 0].set_xlabel(r\"$X$\")\n",
    "axes[1, 0].set_ylabel(r\"$V = X^3$\")\n",
    "axes[1, 0].set_title(\n",
    "    r\"Диаграмма рассеяния случайных величин $X$ и $V$ при $\\lambda = 1$\"\n",
    ")\n",
    "\n",
    "axes[1, 1].scatter(stats.rankdata(X), stats.rankdata(X**3), color=\"orange\")\n",
    "axes[1, 1].set_xlabel(r\"$R$\")\n",
    "axes[1, 1].set_ylabel(r\"$S$\")\n",
    "axes[1, 1].set_title(\n",
    "    r\"Диаграмма рассеяния рангов случайных величин $X$ и $V$ при $\\lambda = 1$\"\n",
    ")\n",
    "\n",
    "plt.tight_layout()\n",
    "plt.show()"
   ]
  },
  {
   "cell_type": "markdown",
   "metadata": {},
   "source": [
    "Выводы:\n",
    "\n",
    "Если $X$ и $V$ независимы, то и их ранги $R$ и $S$ также будут независимыми. \n",
    "\n",
    "Если $V = \\varphi(X)$, $\\varphi$ - монотонная функция, то переход к рангам \"выпрямляет\" монотонную зависимость исходных признаков."
   ]
  }
 ],
 "metadata": {
  "kernelspec": {
   "display_name": ".venv",
   "language": "python",
   "name": "python3"
  },
  "language_info": {
   "codemirror_mode": {
    "name": "ipython",
    "version": 3
   },
   "file_extension": ".py",
   "mimetype": "text/x-python",
   "name": "python",
   "nbconvert_exporter": "python",
   "pygments_lexer": "ipython3",
   "version": "3.13.0"
  }
 },
 "nbformat": 4,
 "nbformat_minor": 2
}
