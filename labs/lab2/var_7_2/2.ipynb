{
 "cells": [
  {
   "cell_type": "markdown",
   "metadata": {},
   "source": [
    "# Лабораторная работа №2"
   ]
  },
  {
   "cell_type": "markdown",
   "metadata": {},
   "source": [
    "## Условие\n",
    "\n",
    "Вариант №7\n",
    "\n",
    "Распределения:\n",
    "\n",
    "$$\\mathbf{X} \\sim N(-1, 2)$$\n",
    "$$\\mathbf{Y} \\sim R(-2, 0)$$\n",
    "\n",
    "Объёмы выборок:\n",
    "\n",
    "$$ n_1 = 100$$\n",
    "$$ n_2 = 100$$"
   ]
  },
  {
   "cell_type": "markdown",
   "metadata": {},
   "source": [
    "## Импорты"
   ]
  },
  {
   "cell_type": "code",
   "execution_count": 1,
   "metadata": {},
   "outputs": [],
   "source": [
    "import numpy as np\n",
    "import matplotlib.pyplot as plt\n",
    "from math import sqrt\n",
    "from scipy import stats\n",
    "from statsmodels.stats.descriptivestats import sign_test\n",
    "from time import time\n",
    "from IPython.display import display, Math, Markdown  # для вывода формул в консоль"
   ]
  },
  {
   "cell_type": "markdown",
   "metadata": {},
   "source": [
    "## Определения"
   ]
  },
  {
   "cell_type": "code",
   "execution_count": 7,
   "metadata": {},
   "outputs": [],
   "source": [
    "m1, std1, n1 = -1, 2, 100\n",
    "a2, b2, n2 = -2, 0, 100"
   ]
  },
  {
   "cell_type": "code",
   "execution_count": 3,
   "metadata": {},
   "outputs": [],
   "source": [
    "def mprint(*strings):\n",
    "    for s in strings:\n",
    "        display(Markdown(s))\n",
    "\n",
    "\n",
    "np.random.seed(int(time()))\n",
    "plt.rc(\"text\", usetex=True)\n",
    "plt.rc(\n",
    "    \"text.latex\",\n",
    "    preamble=r\"\"\"\n",
    "\\usepackage[english, russian]{babel}\n",
    "\\usepackage[utf8]{inputenc}\n",
    "\"\"\",\n",
    ")\n",
    "plt.style.use(\"seaborn-v0_8\")"
   ]
  },
  {
   "cell_type": "code",
   "execution_count": 4,
   "metadata": {},
   "outputs": [],
   "source": [
    "alpha = 0.05\n",
    "\n",
    "\n",
    "def verdict(alpha, p_value):\n",
    "    if alpha > p_value:\n",
    "        return \"$H_0$ отклоняется\"\n",
    "    else:\n",
    "        return \"$H_0$ принимается\""
   ]
  },
  {
   "cell_type": "markdown",
   "metadata": {},
   "source": [
    "## 1. Исходные данные"
   ]
  },
  {
   "cell_type": "code",
   "execution_count": 8,
   "metadata": {},
   "outputs": [
    {
     "data": {
      "text/markdown": [
       "$\\mathbf{X}$: [ 0.13 -0.99 -1.03 -0.83 -2.04  1.98 -4.05 -0.03  0.83 -0.92]"
      ],
      "text/plain": [
       "<IPython.core.display.Markdown object>"
      ]
     },
     "metadata": {},
     "output_type": "display_data"
    }
   ],
   "source": [
    "X = np.random.normal(m1, std1, n1)\n",
    "\n",
    "mprint(f\"$\\\\mathbf{{X}}$: {X[:10].round(2)}\")"
   ]
  },
  {
   "cell_type": "markdown",
   "metadata": {},
   "source": [
    "### Характеристики наблюдаемой величины $\\mathbf X$"
   ]
  },
  {
   "cell_type": "markdown",
   "metadata": {},
   "source": [
    "| Распределение | Параметры                | Математическое ожидание | Дисперсия        |\n",
    "| ------------- | ------------------------ | ----------------------- | ---------------- |\n",
    "| $N(-1, 2)$    | $m_1 = -1, \\sigma_1 = 2$ | $m_1 = -1$              | $\\sigma_1^2 = 4$ |"
   ]
  },
  {
   "cell_type": "markdown",
   "metadata": {},
   "source": [
    "### Выборочные характеристики"
   ]
  },
  {
   "cell_type": "markdown",
   "metadata": {},
   "source": [
    "Мы имеем выборку, нам нужно рассчитать **несмещенную** оценку с.к.о. и дисперсии, поэтому применяем формулы:\n",
    "\n",
    "$$ s = \\sqrt{\\dfrac{1}{n - 1} \\sum\\limits_{i = 1}^{n} (x_i - \\overline{x})^2} $$\n",
    "$$ s^2 = \\dfrac{1}{n - 1} \\sum\\limits_{i = 1}^{n} (x_i - \\overline{x})^2 $$\n",
    "\n",
    "Множитель $\\dfrac{1}{n - a}$  в `numpy` достигается передачей параметра `ddof=a`, в данном случае `ddof=1`. "
   ]
  },
  {
   "cell_type": "code",
   "execution_count": 9,
   "metadata": {},
   "outputs": [
    {
     "data": {
      "text/markdown": [
       "$\\overline{x} =$ -0.91, $s^2 =$ 4.37, $s$ = 2.09"
      ],
      "text/plain": [
       "<IPython.core.display.Markdown object>"
      ]
     },
     "metadata": {},
     "output_type": "display_data"
    }
   ],
   "source": [
    "mean1 = X.mean()\n",
    "s1 = X.std(ddof=1)\n",
    "S1 = X.var(ddof=1)\n",
    "\n",
    "mprint(f\"$\\\\overline{{x}} =$ {mean1:.2f}, $s^2 =$ {S1:.2f}, $s$ = {s1:.2f}\")"
   ]
  },
  {
   "cell_type": "markdown",
   "metadata": {},
   "source": [
    "| Среднее, $\\overline{x_i}$ | Оценка дисперсии, $s_i^2$ | Оценка с.к.о., $s_i$ |\n",
    "| ------------------------- | ------------------------- | -------------------- |\n",
    "| -0.91                     | 4.37                      | 2.09                 |\n"
   ]
  },
  {
   "cell_type": "markdown",
   "metadata": {},
   "source": [
    "## 2. Визуальное представление выборки"
   ]
  },
  {
   "cell_type": "code",
   "execution_count": 15,
   "metadata": {},
   "outputs": [
    {
     "data": {
      "image/png": "[encoded data removed]",
      "text/plain": [
       "<Figure size 1000x600 with 4 Axes>"
      ]
     },
     "metadata": {},
     "output_type": "display_data"
    }
   ],
   "source": [
    "bins_list = [5, 10, 15, 7]\n",
    "\n",
    "fig, axes = plt.subplots(2, 2, figsize=(10, 6))\n",
    "\n",
    "for ax, NBins in zip(axes.flatten(), bins_list):\n",
    "    ax.hist(X, bins=NBins, edgecolor=\"black\")\n",
    "    ax.set_xlabel(\"Value\")\n",
    "    ax.set_ylabel(\"Frequency\")\n",
    "    ax.set_title(f\"{NBins=}\")\n",
    "plt.tight_layout()  # оптимизирует отступы\n",
    "plt.show()"
   ]
  },
  {
   "cell_type": "markdown",
   "metadata": {},
   "source": [
    "## 3. Критерий $\\chi^2$"
   ]
  },
  {
   "cell_type": "markdown",
   "metadata": {},
   "source": [
    "### Теоретическая справка"
   ]
  },
  {
   "cell_type": "markdown",
   "metadata": {},
   "source": [
    "У нас есть выборка объёма $n$: $x_1, x_2, \\dots, x_n$ случайной величины $\\mathbf X \\sim F_X(x)$.\n",
    "\n",
    "Мы хотим понять вид распределения случайной величины $\\mathbf X$:\n",
    "$$ H_0:\\ F_X(x) = G(x) $$\n",
    "$$ H_1:\\ F_X(x) \\neq G(x)  $$\n",
    "\n",
    "Разбиваем выборку в группированный статистический ряд. Рекомендуется выбирать $\\Delta_i$ так, чтобы $n \\cdot p_i \\gtrsim 5$ \n",
    "\n",
    "| $\\Delta_i$ | $\\Delta_1$ | $\\cdots$ | $\\Delta_k$ |\n",
    "| ---------- | ---------- | -------- | ---------- |\n",
    "| $n_i$      | $n_1$      | $\\cdots$ | $n_k$      |\n",
    "\n",
    "$n_i$ - частота попадания случайной величины $\\mathbf X$ в интервал $\\Delta_i$.\n",
    "\n",
    "$p_i$ - вероятность попадания случайной величины $\\mathbf X$ в интервал $\\Delta_i$ в условиях $H_0$, то есть, если $\\Delta_i = (a_{i-1}, a_{i}]$, то \n",
    "\n",
    "$$p_i = \\int\\limits_{a_{i-1}}^{a_{i}}g(x)dx = G(a_{i}) - G(a_{i-1})$$\n",
    "\n",
    "Статистика критерия: \n",
    "$$Z = \\sum\\limits_{i=1}^k \\dfrac{(n_i - n \\cdot p_i)^2}{n \\cdot p_i}$$\n",
    "$$Z \\mid_{H_0} \\sim \\chi^2(k-r-1),$$\n",
    "где $r$ - количество оцениваемых параметров у $G$. \n",
    "Например:\n",
    "\n",
    "1. если $H_0:\\ \\mathbf X \\sim N(5, 2)$, то $r = 0$\n",
    "2. если $H_0:\\ \\mathbf X \\sim N(?, 2)$, то $r = 1$\n",
    "3. если $H_0:\\ \\mathbf X \\sim N(?, ?)$, то $r = 2$\n",
    "\n",
    "При каком-то неизвестном параметре переформулируем задачу как $H_0:\\ \\mathbf X \\sim N(\\overline x, s)$, то есть используем МП-оценки для рассчёта параметров.\n",
    "\n"
   ]
  },
  {
   "cell_type": "markdown",
   "metadata": {},
   "source": [
    "### Статистическая гипотеза $H_0:\\ X \\sim N(m, \\sigma)$"
   ]
  },
  {
   "cell_type": "code",
   "execution_count": 16,
   "metadata": {},
   "outputs": [],
   "source": [
    "def chi2_gof_normal(X, bins, m=None, std=None):\n",
    "    n = len(X)\n",
    "    r = 0\n",
    "    if not m:\n",
    "        m = X.mean()\n",
    "        r += 1\n",
    "    if not std:\n",
    "        std = X.std(ddof=1)\n",
    "        r += 1\n",
    "    frequences, bin_edges = np.histogram(X, bins=bins)\n",
    "    k = len(frequences)\n",
    "    p_list = stats.norm.cdf(bin_edges[1:], loc=m, scale=std) - stats.norm.cdf(\n",
    "        bin_edges[:-1], loc=m, scale=std\n",
    "    )\n",
    "    z = sum((frequences - n * p_list) ** 2 / (n * p_list))\n",
    "    p_value = stats.chi2.sf(z, df=k - r - 1)\n",
    "    return z, p_value"
   ]
  },
  {
   "cell_type": "code",
   "execution_count": 17,
   "metadata": {},
   "outputs": [
    {
     "data": {
      "text/markdown": [
       "### $\\chi^2$ goodness of fit test"
      ],
      "text/plain": [
       "<IPython.core.display.Markdown object>"
      ]
     },
     "metadata": {},
     "output_type": "display_data"
    },
    {
     "data": {
      "text/markdown": [
       "$H_0: \\mathbf X \\sim N(?, ?)$"
      ],
      "text/plain": [
       "<IPython.core.display.Markdown object>"
      ]
     },
     "metadata": {},
     "output_type": "display_data"
    },
    {
     "data": {
      "text/markdown": [
       "#### NBins = 5"
      ],
      "text/plain": [
       "<IPython.core.display.Markdown object>"
      ]
     },
     "metadata": {},
     "output_type": "display_data"
    },
    {
     "data": {
      "text/markdown": [
       "$z_{выб} =$ 0.48"
      ],
      "text/plain": [
       "<IPython.core.display.Markdown object>"
      ]
     },
     "metadata": {},
     "output_type": "display_data"
    },
    {
     "data": {
      "text/markdown": [
       "$p =$ 0.79"
      ],
      "text/plain": [
       "<IPython.core.display.Markdown object>"
      ]
     },
     "metadata": {},
     "output_type": "display_data"
    },
    {
     "data": {
      "text/markdown": [
       "$H_0$ принимается"
      ],
      "text/plain": [
       "<IPython.core.display.Markdown object>"
      ]
     },
     "metadata": {},
     "output_type": "display_data"
    },
    {
     "data": {
      "text/markdown": [
       "#### NBins = 10"
      ],
      "text/plain": [
       "<IPython.core.display.Markdown object>"
      ]
     },
     "metadata": {},
     "output_type": "display_data"
    },
    {
     "data": {
      "text/markdown": [
       "$z_{выб} =$ 2.13"
      ],
      "text/plain": [
       "<IPython.core.display.Markdown object>"
      ]
     },
     "metadata": {},
     "output_type": "display_data"
    },
    {
     "data": {
      "text/markdown": [
       "$p =$ 0.95"
      ],
      "text/plain": [
       "<IPython.core.display.Markdown object>"
      ]
     },
     "metadata": {},
     "output_type": "display_data"
    },
    {
     "data": {
      "text/markdown": [
       "$H_0$ принимается"
      ],
      "text/plain": [
       "<IPython.core.display.Markdown object>"
      ]
     },
     "metadata": {},
     "output_type": "display_data"
    },
    {
     "data": {
      "text/markdown": [
       "#### NBins = 15"
      ],
      "text/plain": [
       "<IPython.core.display.Markdown object>"
      ]
     },
     "metadata": {},
     "output_type": "display_data"
    },
    {
     "data": {
      "text/markdown": [
       "$z_{выб} =$ 6.94"
      ],
      "text/plain": [
       "<IPython.core.display.Markdown object>"
      ]
     },
     "metadata": {},
     "output_type": "display_data"
    },
    {
     "data": {
      "text/markdown": [
       "$p =$ 0.86"
      ],
      "text/plain": [
       "<IPython.core.display.Markdown object>"
      ]
     },
     "metadata": {},
     "output_type": "display_data"
    },
    {
     "data": {
      "text/markdown": [
       "$H_0$ принимается"
      ],
      "text/plain": [
       "<IPython.core.display.Markdown object>"
      ]
     },
     "metadata": {},
     "output_type": "display_data"
    },
    {
     "data": {
      "text/markdown": [
       "#### NBins = 7"
      ],
      "text/plain": [
       "<IPython.core.display.Markdown object>"
      ]
     },
     "metadata": {},
     "output_type": "display_data"
    },
    {
     "data": {
      "text/markdown": [
       "$z_{выб} =$ 0.99"
      ],
      "text/plain": [
       "<IPython.core.display.Markdown object>"
      ]
     },
     "metadata": {},
     "output_type": "display_data"
    },
    {
     "data": {
      "text/markdown": [
       "$p =$ 0.91"
      ],
      "text/plain": [
       "<IPython.core.display.Markdown object>"
      ]
     },
     "metadata": {},
     "output_type": "display_data"
    },
    {
     "data": {
      "text/markdown": [
       "$H_0$ принимается"
      ],
      "text/plain": [
       "<IPython.core.display.Markdown object>"
      ]
     },
     "metadata": {},
     "output_type": "display_data"
    }
   ],
   "source": [
    "mprint(r\"### $\\chi^2$ goodness of fit test\", f\"$H_0: \\\\mathbf X \\\\sim N(?, ?)$\")\n",
    "for bins in bins_list:\n",
    "    z, p_value = chi2_gof_normal(X, bins)\n",
    "    mprint(\n",
    "        f\"#### NBins = {bins}\",\n",
    "        f\"$z_{{выб}} =$ {z:.2f}\",\n",
    "        f\"$p =$ {p_value:.2f}\",\n",
    "        verdict(alpha, p_value),\n",
    "    )"
   ]
  },
  {
   "cell_type": "markdown",
   "metadata": {},
   "source": [
    "| Число интервалов группировки | Выборочное значение статистики критерия | $p$-value | Статистическое решение при $\\alpha = 0.05$ | Ошибка статистического решения |\n",
    "| ---------------------------- | --------------------------------------- | --------- | ------------------------------------------ | ------------------------------ |\n",
    "| 5                            | 0.48                                    | 0.79      | $H_0$ принимается                          | Нет                            |\n",
    "| 10                           | 2.13                                    | 0.95      | $H_0$ принимается                          | Нет                            |\n",
    "| 15                           | 6.94                                    | 0.86      | $H_0$ принимается                          | Нет                            |\n",
    "| 7                            | 0.99                                    | 0.91      | $H_0$ принимается                          | Нет                            |\n"
   ]
  },
  {
   "cell_type": "markdown",
   "metadata": {},
   "source": [
    "### Статистическая гипотеза $H_0:\\ X \\sim R(a, b)$"
   ]
  },
  {
   "cell_type": "code",
   "execution_count": 18,
   "metadata": {},
   "outputs": [],
   "source": [
    "def chi2_gof_uniform(X, bins, a=None, b=None):\n",
    "    n = len(X)\n",
    "    r = 0\n",
    "    if not a:\n",
    "        a = X.min()\n",
    "        r += 1\n",
    "    if not b:\n",
    "        b = X.max()\n",
    "        r += 1\n",
    "    frequences, bin_edges = np.histogram(X, bins=bins)\n",
    "    k = len(frequences)\n",
    "    p_list = stats.uniform.cdf(bin_edges[1:], loc=a, scale=b - a) - stats.uniform.cdf(\n",
    "        bin_edges[:-1], loc=a, scale=b - a\n",
    "    )\n",
    "    z = sum((frequences - n * p_list) ** 2 / (n * p_list))\n",
    "    p_value = stats.chi2.sf(z, df=k - r - 1)\n",
    "    return z, p_value"
   ]
  },
  {
   "cell_type": "code",
   "execution_count": 19,
   "metadata": {},
   "outputs": [
    {
     "data": {
      "text/markdown": [
       "### $\\chi^2$ goodness of fit test"
      ],
      "text/plain": [
       "<IPython.core.display.Markdown object>"
      ]
     },
     "metadata": {},
     "output_type": "display_data"
    },
    {
     "data": {
      "text/markdown": [
       "$H_0: \\mathbf X \\sim R(?, ?)$"
      ],
      "text/plain": [
       "<IPython.core.display.Markdown object>"
      ]
     },
     "metadata": {},
     "output_type": "display_data"
    },
    {
     "data": {
      "text/markdown": [
       "#### NBins = 5"
      ],
      "text/plain": [
       "<IPython.core.display.Markdown object>"
      ]
     },
     "metadata": {},
     "output_type": "display_data"
    },
    {
     "data": {
      "text/markdown": [
       "$z_{выб} =$ 47.60"
      ],
      "text/plain": [
       "<IPython.core.display.Markdown object>"
      ]
     },
     "metadata": {},
     "output_type": "display_data"
    },
    {
     "data": {
      "text/markdown": [
       "$p =$ 0.00"
      ],
      "text/plain": [
       "<IPython.core.display.Markdown object>"
      ]
     },
     "metadata": {},
     "output_type": "display_data"
    },
    {
     "data": {
      "text/markdown": [
       "$H_0$ отклоняется"
      ],
      "text/plain": [
       "<IPython.core.display.Markdown object>"
      ]
     },
     "metadata": {},
     "output_type": "display_data"
    },
    {
     "data": {
      "text/markdown": [
       "#### NBins = 10"
      ],
      "text/plain": [
       "<IPython.core.display.Markdown object>"
      ]
     },
     "metadata": {},
     "output_type": "display_data"
    },
    {
     "data": {
      "text/markdown": [
       "$z_{выб} =$ 55.20"
      ],
      "text/plain": [
       "<IPython.core.display.Markdown object>"
      ]
     },
     "metadata": {},
     "output_type": "display_data"
    },
    {
     "data": {
      "text/markdown": [
       "$p =$ 0.00"
      ],
      "text/plain": [
       "<IPython.core.display.Markdown object>"
      ]
     },
     "metadata": {},
     "output_type": "display_data"
    },
    {
     "data": {
      "text/markdown": [
       "$H_0$ отклоняется"
      ],
      "text/plain": [
       "<IPython.core.display.Markdown object>"
      ]
     },
     "metadata": {},
     "output_type": "display_data"
    },
    {
     "data": {
      "text/markdown": [
       "#### NBins = 15"
      ],
      "text/plain": [
       "<IPython.core.display.Markdown object>"
      ]
     },
     "metadata": {},
     "output_type": "display_data"
    },
    {
     "data": {
      "text/markdown": [
       "$z_{выб} =$ 56.90"
      ],
      "text/plain": [
       "<IPython.core.display.Markdown object>"
      ]
     },
     "metadata": {},
     "output_type": "display_data"
    },
    {
     "data": {
      "text/markdown": [
       "$p =$ 0.00"
      ],
      "text/plain": [
       "<IPython.core.display.Markdown object>"
      ]
     },
     "metadata": {},
     "output_type": "display_data"
    },
    {
     "data": {
      "text/markdown": [
       "$H_0$ отклоняется"
      ],
      "text/plain": [
       "<IPython.core.display.Markdown object>"
      ]
     },
     "metadata": {},
     "output_type": "display_data"
    },
    {
     "data": {
      "text/markdown": [
       "#### NBins = 7"
      ],
      "text/plain": [
       "<IPython.core.display.Markdown object>"
      ]
     },
     "metadata": {},
     "output_type": "display_data"
    },
    {
     "data": {
      "text/markdown": [
       "$z_{выб} =$ 48.12"
      ],
      "text/plain": [
       "<IPython.core.display.Markdown object>"
      ]
     },
     "metadata": {},
     "output_type": "display_data"
    },
    {
     "data": {
      "text/markdown": [
       "$p =$ 0.00"
      ],
      "text/plain": [
       "<IPython.core.display.Markdown object>"
      ]
     },
     "metadata": {},
     "output_type": "display_data"
    },
    {
     "data": {
      "text/markdown": [
       "$H_0$ отклоняется"
      ],
      "text/plain": [
       "<IPython.core.display.Markdown object>"
      ]
     },
     "metadata": {},
     "output_type": "display_data"
    }
   ],
   "source": [
    "mprint(r\"### $\\chi^2$ goodness of fit test\", f\"$H_0: \\\\mathbf X \\\\sim R(?, ?)$\")\n",
    "for bins in bins_list:\n",
    "    z, p_value = chi2_gof_uniform(X, bins)\n",
    "    mprint(\n",
    "        f\"#### NBins = {bins}\",\n",
    "        f\"$z_{{выб}} =$ {z:.2f}\",\n",
    "        f\"$p =$ {p_value:.2f}\",\n",
    "        verdict(alpha, p_value),\n",
    "    )"
   ]
  },
  {
   "cell_type": "markdown",
   "metadata": {},
   "source": [
    "| Число интервалов группировки | Выборочное значение статистики критерия | $p$-value | Статистическое решение при $\\alpha = 0.05$ | Ошибка статистического решения |\n",
    "| ---------------------------- | --------------------------------------- | --------- | ------------------------------------------ | ------------------------------ |\n",
    "| 5                            | 47.60                                   | 0.00      | $H_0$ отклоняется                          | Нет                            |\n",
    "| 10                           | 55.20                                   | 0.00      | $H_0$ отклоняется                          | Нет                            |\n",
    "| 15                           | 56.90                                   | 0.00      | $H_0$ отклоняется                          | Нет                            |\n",
    "| 7                            | 48.12                                   | 0.00      | $H_0$ отклоняется                          | Нет                            |\n"
   ]
  },
  {
   "cell_type": "markdown",
   "metadata": {},
   "source": [
    "### Статистическая гипотеза $H_0:\\ X \\sim \\chi^2(5)$"
   ]
  },
  {
   "cell_type": "markdown",
   "metadata": {},
   "source": [
    "Функция выдаёт ошибку `divide by zero`, так как у нас есть значения в выборке, меньшие нуля. А, как известно, $\\chi^2$ распределение не определено на отрицательных значениях. Поэтому значения в `p_list` имеют значение `0`."
   ]
  },
  {
   "cell_type": "code",
   "execution_count": 20,
   "metadata": {},
   "outputs": [],
   "source": [
    "def chi2_gof_chi2(X, bins, df=None):\n",
    "    n = len(X)\n",
    "    r = 0\n",
    "    if not df:\n",
    "        df = stats.chi2.fit(X)[0]\n",
    "        r += 1\n",
    "    frequences, bin_edges = np.histogram(X, bins=bins)\n",
    "    k = len(frequences)\n",
    "    p_list = stats.chi2.cdf(bin_edges[1:], df=df) - stats.chi2.cdf(\n",
    "        bin_edges[:-1], df=df\n",
    "    )\n",
    "    z = sum((frequences - n * p_list) ** 2 / (n * p_list))\n",
    "    p_value = stats.chi2.sf(z, df=k - r - 1)\n",
    "    return z, p_value"
   ]
  },
  {
   "cell_type": "code",
   "execution_count": 21,
   "metadata": {},
   "outputs": [
    {
     "data": {
      "text/markdown": [
       "### $\\chi^2$ goodness of fit test"
      ],
      "text/plain": [
       "<IPython.core.display.Markdown object>"
      ]
     },
     "metadata": {},
     "output_type": "display_data"
    },
    {
     "data": {
      "text/markdown": [
       "$H_0: \\mathbf X \\sim \\chi^2(5)$"
      ],
      "text/plain": [
       "<IPython.core.display.Markdown object>"
      ]
     },
     "metadata": {},
     "output_type": "display_data"
    },
    {
     "name": "stderr",
     "output_type": "stream",
     "text": [
      "/var/folders/91/5nd525qn3bj4_rkt88_n02z80000gn/T/ipykernel_56615/3898661440.py:12: RuntimeWarning: divide by zero encountered in divide\n",
      "  z = sum((frequences - n * p_list) ** 2 / (n * p_list))\n"
     ]
    },
    {
     "data": {
      "text/markdown": [
       "#### NBins = 5"
      ],
      "text/plain": [
       "<IPython.core.display.Markdown object>"
      ]
     },
     "metadata": {},
     "output_type": "display_data"
    },
    {
     "data": {
      "text/markdown": [
       "$z_{выб} =$ inf"
      ],
      "text/plain": [
       "<IPython.core.display.Markdown object>"
      ]
     },
     "metadata": {},
     "output_type": "display_data"
    },
    {
     "data": {
      "text/markdown": [
       "$p =$ 0.00"
      ],
      "text/plain": [
       "<IPython.core.display.Markdown object>"
      ]
     },
     "metadata": {},
     "output_type": "display_data"
    },
    {
     "data": {
      "text/markdown": [
       "$H_0$ отклоняется"
      ],
      "text/plain": [
       "<IPython.core.display.Markdown object>"
      ]
     },
     "metadata": {},
     "output_type": "display_data"
    },
    {
     "data": {
      "text/markdown": [
       "#### NBins = 10"
      ],
      "text/plain": [
       "<IPython.core.display.Markdown object>"
      ]
     },
     "metadata": {},
     "output_type": "display_data"
    },
    {
     "data": {
      "text/markdown": [
       "$z_{выб} =$ inf"
      ],
      "text/plain": [
       "<IPython.core.display.Markdown object>"
      ]
     },
     "metadata": {},
     "output_type": "display_data"
    },
    {
     "data": {
      "text/markdown": [
       "$p =$ 0.00"
      ],
      "text/plain": [
       "<IPython.core.display.Markdown object>"
      ]
     },
     "metadata": {},
     "output_type": "display_data"
    },
    {
     "data": {
      "text/markdown": [
       "$H_0$ отклоняется"
      ],
      "text/plain": [
       "<IPython.core.display.Markdown object>"
      ]
     },
     "metadata": {},
     "output_type": "display_data"
    },
    {
     "data": {
      "text/markdown": [
       "#### NBins = 15"
      ],
      "text/plain": [
       "<IPython.core.display.Markdown object>"
      ]
     },
     "metadata": {},
     "output_type": "display_data"
    },
    {
     "data": {
      "text/markdown": [
       "$z_{выб} =$ inf"
      ],
      "text/plain": [
       "<IPython.core.display.Markdown object>"
      ]
     },
     "metadata": {},
     "output_type": "display_data"
    },
    {
     "data": {
      "text/markdown": [
       "$p =$ 0.00"
      ],
      "text/plain": [
       "<IPython.core.display.Markdown object>"
      ]
     },
     "metadata": {},
     "output_type": "display_data"
    },
    {
     "data": {
      "text/markdown": [
       "$H_0$ отклоняется"
      ],
      "text/plain": [
       "<IPython.core.display.Markdown object>"
      ]
     },
     "metadata": {},
     "output_type": "display_data"
    },
    {
     "data": {
      "text/markdown": [
       "#### NBins = 7"
      ],
      "text/plain": [
       "<IPython.core.display.Markdown object>"
      ]
     },
     "metadata": {},
     "output_type": "display_data"
    },
    {
     "data": {
      "text/markdown": [
       "$z_{выб} =$ inf"
      ],
      "text/plain": [
       "<IPython.core.display.Markdown object>"
      ]
     },
     "metadata": {},
     "output_type": "display_data"
    },
    {
     "data": {
      "text/markdown": [
       "$p =$ 0.00"
      ],
      "text/plain": [
       "<IPython.core.display.Markdown object>"
      ]
     },
     "metadata": {},
     "output_type": "display_data"
    },
    {
     "data": {
      "text/markdown": [
       "$H_0$ отклоняется"
      ],
      "text/plain": [
       "<IPython.core.display.Markdown object>"
      ]
     },
     "metadata": {},
     "output_type": "display_data"
    }
   ],
   "source": [
    "mprint(r\"### $\\chi^2$ goodness of fit test\", f\"$H_0: \\\\mathbf X \\\\sim \\\\chi^2(5)$\")\n",
    "for bins in bins_list:\n",
    "    z, p_value = chi2_gof_chi2(X, bins, df=5)\n",
    "    mprint(\n",
    "        f\"#### NBins = {bins}\",\n",
    "        f\"$z_{{выб}} =$ {z:.2f}\",\n",
    "        f\"$p =$ {p_value:.2f}\",\n",
    "        verdict(alpha, p_value),\n",
    "    )"
   ]
  },
  {
   "cell_type": "markdown",
   "metadata": {},
   "source": [
    "| Число интервалов группировки | Выборочное значение статистики критерия | $p$-value | Статистическое решение при $\\alpha = 0.05$ | Ошибка статистического решения |\n",
    "| ---------------------------- | --------------------------------------- | --------- | ------------------------------------------ | ------------------------------ |\n",
    "| 5                            | $+\\infty$                               | 0.00      | $H_0$ отклоняется                          | Нет                            |\n",
    "| 10                           | $+\\infty$                               | 0.00      | $H_0$ отклоняется                          | Нет                            |\n",
    "| 15                           | $+\\infty$                               | 0.00      | $H_0$ отклоняется                          | Нет                            |\n",
    "| 7                            | $+\\infty$                               | 0.00      | $H_0$ отклоняется                          | Нет                            |\n"
   ]
  },
  {
   "cell_type": "markdown",
   "metadata": {},
   "source": [
    "## 4. Критерий Колмогорова"
   ]
  },
  {
   "cell_type": "code",
   "execution_count": 22,
   "metadata": {},
   "outputs": [
    {
     "data": {
      "text/markdown": [
       "### ks-test"
      ],
      "text/plain": [
       "<IPython.core.display.Markdown object>"
      ]
     },
     "metadata": {},
     "output_type": "display_data"
    },
    {
     "data": {
      "text/markdown": [
       "$H_0: \\mathbf X \\sim N(?, ?)$"
      ],
      "text/plain": [
       "<IPython.core.display.Markdown object>"
      ]
     },
     "metadata": {},
     "output_type": "display_data"
    },
    {
     "data": {
      "text/markdown": [
       "$z_{выб} =$ 0.06"
      ],
      "text/plain": [
       "<IPython.core.display.Markdown object>"
      ]
     },
     "metadata": {},
     "output_type": "display_data"
    },
    {
     "data": {
      "text/markdown": [
       "$p =$ 0.86"
      ],
      "text/plain": [
       "<IPython.core.display.Markdown object>"
      ]
     },
     "metadata": {},
     "output_type": "display_data"
    },
    {
     "data": {
      "text/markdown": [
       "$H_0$ принимается"
      ],
      "text/plain": [
       "<IPython.core.display.Markdown object>"
      ]
     },
     "metadata": {},
     "output_type": "display_data"
    },
    {
     "data": {
      "text/markdown": [
       "$H_0: \\mathbf X \\sim R(?, ?)$"
      ],
      "text/plain": [
       "<IPython.core.display.Markdown object>"
      ]
     },
     "metadata": {},
     "output_type": "display_data"
    },
    {
     "data": {
      "text/markdown": [
       "$z_{выб} =$ 0.25"
      ],
      "text/plain": [
       "<IPython.core.display.Markdown object>"
      ]
     },
     "metadata": {},
     "output_type": "display_data"
    },
    {
     "data": {
      "text/markdown": [
       "$p =$ 0.00"
      ],
      "text/plain": [
       "<IPython.core.display.Markdown object>"
      ]
     },
     "metadata": {},
     "output_type": "display_data"
    },
    {
     "data": {
      "text/markdown": [
       "$H_0$ отклоняется"
      ],
      "text/plain": [
       "<IPython.core.display.Markdown object>"
      ]
     },
     "metadata": {},
     "output_type": "display_data"
    },
    {
     "data": {
      "text/markdown": [
       "$H_0: \\mathbf X \\sim \\chi^2(5)$"
      ],
      "text/plain": [
       "<IPython.core.display.Markdown object>"
      ]
     },
     "metadata": {},
     "output_type": "display_data"
    },
    {
     "data": {
      "text/markdown": [
       "$z_{выб} =$ 0.80"
      ],
      "text/plain": [
       "<IPython.core.display.Markdown object>"
      ]
     },
     "metadata": {},
     "output_type": "display_data"
    },
    {
     "data": {
      "text/markdown": [
       "$p =$ 0.00"
      ],
      "text/plain": [
       "<IPython.core.display.Markdown object>"
      ]
     },
     "metadata": {},
     "output_type": "display_data"
    },
    {
     "data": {
      "text/markdown": [
       "$H_0$ отклоняется"
      ],
      "text/plain": [
       "<IPython.core.display.Markdown object>"
      ]
     },
     "metadata": {},
     "output_type": "display_data"
    }
   ],
   "source": [
    "mprint(r\"### ks-test\")\n",
    "\n",
    "z, p_value = stats.kstest(X, stats.norm.cdf, args=(X.mean(), X.std(ddof=1)))\n",
    "mprint(\n",
    "    f\"$H_0: \\\\mathbf X \\\\sim N(?, ?)$\",\n",
    "    f\"$z_{{выб}} =$ {z:.2f}\",\n",
    "    f\"$p =$ {p_value:.2f}\",\n",
    "    verdict(alpha, p_value),\n",
    ")\n",
    "\n",
    "z, p_value = stats.kstest(X, stats.uniform.cdf, args=(X.min(), X.max() - X.min()))\n",
    "mprint(\n",
    "    f\"$H_0: \\\\mathbf X \\\\sim R(?, ?)$\",\n",
    "    f\"$z_{{выб}} =$ {z:.2f}\",\n",
    "    f\"$p =$ {p_value:.2f}\",\n",
    "    verdict(alpha, p_value),\n",
    ")\n",
    "\n",
    "z, p_value = stats.kstest(X, stats.chi2.cdf, args=(5,))\n",
    "mprint(\n",
    "    f\"$H_0: \\\\mathbf X \\\\sim \\\\chi^2(5)$\",\n",
    "    f\"$z_{{выб}} =$ {z:.2f}\",\n",
    "    f\"$p =$ {p_value:.2f}\",\n",
    "    verdict(alpha, p_value),\n",
    ")"
   ]
  },
  {
   "cell_type": "markdown",
   "metadata": {},
   "source": [
    "| Статистическая гипотеза $H_0$ | Выборочное значение статистики критерий | $p$-value | Статистическое решение при $\\alpha = 0.05$ | Ошибка статистического решения |\n",
    "| ----------------------------- | --------------------------------------- | --------- | ------------------------------------------ | ------------------------------ |\n",
    "| $\\mathbf X \\sim N(m, \\sigma)$ | 0.06                                    | 0.86      | $H_0$ принимается                          | Нет                            |\n",
    "| $\\mathbf X \\sim R(a, b)$      | 0.25                                    | 0.00      | $H_0$ отклоняется                          | Нет                            |\n",
    "| $\\mathbf X \\sim \\chi^2(5)$    | 0.80                                    | 0.00      | $H_0$ отклоняется                          | Нет                            |\n"
   ]
  },
  {
   "cell_type": "code",
   "execution_count": 23,
   "metadata": {},
   "outputs": [
    {
     "data": {
      "image/png": "[encoded data removed]",
      "text/plain": [
       "<Figure size 800x550 with 1 Axes>"
      ]
     },
     "metadata": {},
     "output_type": "display_data"
    }
   ],
   "source": [
    "# сначала построим график чисто по выборке\n",
    "n = len(X)\n",
    "X_sorted = np.sort(X)\n",
    "F = np.arange(1, n + 1) / n\n",
    "\n",
    "plt.step(X_sorted, F, where=\"post\")\n",
    "plt.show()"
   ]
  },
  {
   "cell_type": "code",
   "execution_count": 26,
   "metadata": {},
   "outputs": [
    {
     "data": {
      "image/png": "[encoded data removed]",
      "text/plain": [
       "<Figure size 800x550 with 1 Axes>"
      ]
     },
     "metadata": {},
     "output_type": "display_data"
    }
   ],
   "source": [
    "# теперь построим с \"хвостиками\"\n",
    "X_sorted = np.concatenate(([-10000], X_sorted, [10000]))\n",
    "F = np.concatenate(([0], F, [1]))\n",
    "\n",
    "plt.step(X_sorted, F, where=\"post\")\n",
    "plt.xlim(-10, 10)\n",
    "plt.show()"
   ]
  },
  {
   "cell_type": "code",
   "execution_count": 29,
   "metadata": {},
   "outputs": [
    {
     "data": {
      "image/png": "[encoded data removed]",
      "text/plain": [
       "<Figure size 800x550 with 1 Axes>"
      ]
     },
     "metadata": {},
     "output_type": "display_data"
    }
   ],
   "source": [
    "x = np.linspace(-11, 11, 10000)\n",
    "norm = stats.norm.cdf(x, loc=X.mean(), scale=X.std(ddof=1))\n",
    "uniform = stats.uniform.cdf(x, loc=X.min(), scale=X.max() - X.min())\n",
    "chi2 = stats.chi2.cdf(x, df=5)\n",
    "\n",
    "plt.plot(x, uniform, color=\"b\", linewidth=1, label=r\"$R(x_{min}, x_{max})$\")\n",
    "plt.plot(x, chi2, color=\"g\", linewidth=1, label=r\"$\\chi^2(5)$\")\n",
    "plt.step(X_sorted, F, where=\"post\", color=\"r\", linewidth=3, label=r\"$F^*_X(x)$\")\n",
    "plt.plot(x, norm, color=\"black\", linewidth=1, label=r\"$N(\\overline x, s)$\")\n",
    "\n",
    "plt.title(\"Эмпирическая и теоретические функции распределения\", fontsize=14)\n",
    "plt.xlim(-10, 10)\n",
    "plt.legend(fontsize=14)\n",
    "plt.xlabel(\"$x$\", fontsize=14)\n",
    "\n",
    "plt.show()"
   ]
  },
  {
   "cell_type": "markdown",
   "metadata": {},
   "source": [
    "## 5. Двухвыборочные характеристики"
   ]
  },
  {
   "cell_type": "code",
   "execution_count": 30,
   "metadata": {},
   "outputs": [
    {
     "data": {
      "text/markdown": [
       "$\\mathbf{Y}$: [-1.06 -1.89 -0.79 -0.45 -1.55 -1.16 -1.67 -1.88 -0.72 -1.62]"
      ],
      "text/plain": [
       "<IPython.core.display.Markdown object>"
      ]
     },
     "metadata": {},
     "output_type": "display_data"
    }
   ],
   "source": [
    "Y = np.random.uniform(a2, b2, n2)\n",
    "\n",
    "mprint(f\"$\\\\mathbf{{Y}}$: {Y[:10].round(2)}\")"
   ]
  },
  {
   "cell_type": "markdown",
   "metadata": {},
   "source": [
    "### Характеристики наблюдаемой величины $\\mathbf Y$\n",
    "\n",
    "| Распределение | Параметры           | Математическое ожидание           | Дисперсия                                               |\n",
    "| ------------- | ------------------- | --------------------------------- | ------------------------------------------------------- |\n",
    "| $R(-2, 0)$    | $a_2 = -2, b_2 = 0$ | $m_2 = \\dfrac{a_2 + b_2}{2} = -1$ | $\\sigma_2^2 = \\dfrac{(b_2 - a_2)^2}{12} = \\dfrac{1}{3}$ |"
   ]
  },
  {
   "cell_type": "markdown",
   "metadata": {},
   "source": [
    "### Графики"
   ]
  },
  {
   "cell_type": "code",
   "execution_count": 39,
   "metadata": {},
   "outputs": [
    {
     "data": {
      "image/png": "[encoded data removed]",
      "text/plain": [
       "<Figure size 800x550 with 2 Axes>"
      ]
     },
     "metadata": {},
     "output_type": "display_data"
    }
   ],
   "source": [
    "frequencesX, bin_edges = np.histogram(X, bins=7)\n",
    "frequencesY, _ = np.histogram(Y, bin_edges)\n",
    "plt.subplot(1, 2, 1)\n",
    "plt.hist(\n",
    "    X, bins=bin_edges, color=\"b\", edgecolor=\"black\", linewidth=2, label=r\"$\\mathbf X$\"\n",
    ")\n",
    "plt.hist(\n",
    "    Y,\n",
    "    bins=bin_edges,\n",
    "    color=\"r\",\n",
    "    edgecolor=\"black\",\n",
    "    alpha=0.7,\n",
    "    linestyle=\"--\",\n",
    "    linewidth=2,\n",
    "    label=r\"$\\mathbf Y$\",\n",
    ")\n",
    "plt.legend(fontsize=14)\n",
    "plt.xlabel(\"Value\", fontsize=14)\n",
    "plt.ylabel(\"Frequency\", fontsize=14)\n",
    "plt.title(r\"HIST: $\\mathbf X, \\mathbf Y$\", fontsize=14)\n",
    "\n",
    "\n",
    "n = len(X)\n",
    "m = len(Y)\n",
    "\n",
    "X_sorted = np.concatenate(([-10000], np.sort(X), [10000]))\n",
    "F_x = np.concatenate(([0], np.arange(1, n + 1) / n, [1]))\n",
    "\n",
    "Y_sorted = np.concatenate(([-10000], np.sort(Y), [10000]))\n",
    "F_y = np.concatenate(([0], np.arange(1, m + 1) / m, [1]))\n",
    "\n",
    "plt.subplot(1, 2, 2)\n",
    "plt.step(X_sorted, F_x, where=\"post\", color=\"b\", label=r\"$F_X^*(x)$\")\n",
    "plt.step(Y_sorted, F_y, where=\"post\", color=\"r\", label=r\"$F_Y^*(x)$\")\n",
    "plt.legend(fontsize=14)\n",
    "plt.xlabel(r\"$x$\", fontsize=14)\n",
    "plt.title(r\"ECDF:  $\\mathbf X, \\mathbf Y$\")\n",
    "plt.xlim(-10, 10)\n",
    "\n",
    "\n",
    "plt.tight_layout()\n",
    "plt.show()"
   ]
  },
  {
   "cell_type": "markdown",
   "metadata": {},
   "source": [
    "### Двухвыборочный критерий $\\chi^2$"
   ]
  },
  {
   "cell_type": "markdown",
   "metadata": {},
   "source": [
    "#### Теоретическая справка"
   ]
  },
  {
   "cell_type": "markdown",
   "metadata": {},
   "source": [
    "У нас есть две выборки объёмов $n$ и $m$: \n",
    "$$x_1, x_2, \\dots, x_n \\text{- случайной величины } \\mathbf X \\sim F_X(x)$$\n",
    "$$y_1, y_2, \\dots, y_m \\text{- случайной величины } \\mathbf Y \\sim F_Y(x)$$\n",
    "\n",
    "Мы хотим понять, получены ли они из одной генеральной совокупности:\n",
    "$$ H_0:\\ F_X(x) = F_Y(x) $$\n",
    "$$ H_1:\\ F_X(x) \\neq F_Y(x)  $$\n",
    "\n",
    "Идея та же, что и у одновыборочного критерия $\\chi^2$: cтроятся две гистограммы и сравниваются их высоты. Рекомендуется брать $\\Delta_i$ так, чтобы $n_i + m_i \\gtrsim 5$.\n",
    "\n",
    "| $\\Delta_i$ | $\\Delta_1$ | $\\cdots$ | $\\Delta_k$ |\n",
    "| ---------- | ---------- | -------- | ---------- |\n",
    "| $n_i$      | $n_1$      | $\\cdots$ | $n_k$      |\n",
    "| $m_i$      | $m_1$      | $\\cdots$ | $m_k$      |\n",
    "\n",
    "Статистика критерия: \n",
    "$$Z = nm \\cdot \\sum\\limits_{i=1}^k \\dfrac{1}{n_i + m_i}\\left( \\dfrac{n_i}{n} - \\dfrac{m_i}{m} \\right)^2$$\n",
    "$$Z \\mid_{H_0} \\sim \\chi^2(k-1)$$"
   ]
  },
  {
   "cell_type": "markdown",
   "metadata": {},
   "source": [
    "#### Код"
   ]
  },
  {
   "cell_type": "code",
   "execution_count": 40,
   "metadata": {},
   "outputs": [],
   "source": [
    "def chi2_2samp(X, Y, bins):\n",
    "    n = len(X)\n",
    "    m = len(Y)\n",
    "    frequencesX, bin_edges = np.histogram(\n",
    "        X, bins=bins, range=(min(min(X), min(Y)), max(max(X), max(Y)))\n",
    "    )\n",
    "    frequencesY, bin_edges = np.histogram(Y, bins=bin_edges)\n",
    "    z = (\n",
    "        n\n",
    "        * m\n",
    "        * sum((frequencesX / n - frequencesY / m) ** 2 / (frequencesX + frequencesY))\n",
    "    )\n",
    "    p_value = stats.chi2.sf(z, df=8)\n",
    "    return z, p_value"
   ]
  },
  {
   "cell_type": "code",
   "execution_count": 42,
   "metadata": {},
   "outputs": [
    {
     "data": {
      "text/markdown": [
       "### 2-sample $\\chi^2$ test"
      ],
      "text/plain": [
       "<IPython.core.display.Markdown object>"
      ]
     },
     "metadata": {},
     "output_type": "display_data"
    },
    {
     "data": {
      "text/markdown": [
       "$H_0: F_X(x) = F_Y(x)$"
      ],
      "text/plain": [
       "<IPython.core.display.Markdown object>"
      ]
     },
     "metadata": {},
     "output_type": "display_data"
    },
    {
     "data": {
      "text/markdown": [
       "$z_{выб} =$ 59.77"
      ],
      "text/plain": [
       "<IPython.core.display.Markdown object>"
      ]
     },
     "metadata": {},
     "output_type": "display_data"
    },
    {
     "data": {
      "text/markdown": [
       "$p =$ 0.00"
      ],
      "text/plain": [
       "<IPython.core.display.Markdown object>"
      ]
     },
     "metadata": {},
     "output_type": "display_data"
    },
    {
     "data": {
      "text/markdown": [
       "$H_0$ отклоняется"
      ],
      "text/plain": [
       "<IPython.core.display.Markdown object>"
      ]
     },
     "metadata": {},
     "output_type": "display_data"
    }
   ],
   "source": [
    "z, p_value = chi2_2samp(X, Y, bins=7)\n",
    "\n",
    "mprint(\n",
    "    r\"### 2-sample $\\chi^2$ test\",\n",
    "    f\"$H_0: F_X(x) = F_Y(x)$\",\n",
    "    f\"$z_{{выб}} =$ {z:.2f}\",\n",
    "    f\"$p =$ {p_value:.2f}\",\n",
    "    verdict(alpha, p_value),\n",
    ")"
   ]
  },
  {
   "cell_type": "markdown",
   "metadata": {},
   "source": [
    "| Критерий | Статистическая гипотеза $H_0$ | Выборочное значение статистики критерия | $p$-value | Статистическое решение при $\\alpha = 0.05$ | Ошибка статистического решения |\n",
    "| -------- | ----------------------------- | --------------------------------------- | --------- | ------------------------------------------ | ------------------------------ |\n",
    "| $\\chi^2$ | $F_X(x) = F_Y(x)$             | 59.77                                   | 0.00      | $H_0$ отклоняется                          | Нет                            |\n"
   ]
  },
  {
   "cell_type": "markdown",
   "metadata": {},
   "source": [
    "### Двухвыборочный критерий Колмогорова"
   ]
  },
  {
   "cell_type": "code",
   "execution_count": 43,
   "metadata": {},
   "outputs": [
    {
     "data": {
      "text/markdown": [
       "### 2-sample ks-test"
      ],
      "text/plain": [
       "<IPython.core.display.Markdown object>"
      ]
     },
     "metadata": {},
     "output_type": "display_data"
    },
    {
     "data": {
      "text/markdown": [
       "$H_0: F_X(x) = F_Y(x)$"
      ],
      "text/plain": [
       "<IPython.core.display.Markdown object>"
      ]
     },
     "metadata": {},
     "output_type": "display_data"
    },
    {
     "data": {
      "text/markdown": [
       "$z_{выб} =$ 0.34"
      ],
      "text/plain": [
       "<IPython.core.display.Markdown object>"
      ]
     },
     "metadata": {},
     "output_type": "display_data"
    },
    {
     "data": {
      "text/markdown": [
       "$p =$ 0.00"
      ],
      "text/plain": [
       "<IPython.core.display.Markdown object>"
      ]
     },
     "metadata": {},
     "output_type": "display_data"
    },
    {
     "data": {
      "text/markdown": [
       "$H_0$ отклоняется"
      ],
      "text/plain": [
       "<IPython.core.display.Markdown object>"
      ]
     },
     "metadata": {},
     "output_type": "display_data"
    }
   ],
   "source": [
    "z, p_value = stats.ks_2samp(X, Y)\n",
    "\n",
    "mprint(\n",
    "    r\"### 2-sample ks-test\",\n",
    "    f\"$H_0: F_X(x) = F_Y(x)$\",\n",
    "    f\"$z_{{выб}} =$ {z:.2f}\",\n",
    "    f\"$p =$ {p_value:.2f}\",\n",
    "    verdict(alpha, p_value),\n",
    ")"
   ]
  },
  {
   "cell_type": "markdown",
   "metadata": {},
   "source": [
    "| Критерий | Статистическая гипотеза $H_0$ | Выборочное значение статистики критерия | $p$-value | Статистическое решение при $\\alpha = 0.05$ | Ошибка статистического решения |\n",
    "| -------- | ----------------------------- | --------------------------------------- | --------- | ------------------------------------------ | ------------------------------ |\n",
    "| KS-test  | $F_X(x) = F_Y(x)$             | 0.34                                    | 0.18      | $H_0$ отклоняется                          | Нет                            |\n"
   ]
  },
  {
   "cell_type": "markdown",
   "metadata": {},
   "source": [
    "### Критерий знаков"
   ]
  },
  {
   "cell_type": "code",
   "execution_count": 44,
   "metadata": {},
   "outputs": [
    {
     "data": {
      "text/markdown": [
       "### Sign test"
      ],
      "text/plain": [
       "<IPython.core.display.Markdown object>"
      ]
     },
     "metadata": {},
     "output_type": "display_data"
    },
    {
     "data": {
      "text/markdown": [
       "$H_0: F_X(x) = F_Y(x)$"
      ],
      "text/plain": [
       "<IPython.core.display.Markdown object>"
      ]
     },
     "metadata": {},
     "output_type": "display_data"
    },
    {
     "data": {
      "text/markdown": [
       "$z_{выб} =$ 1.00"
      ],
      "text/plain": [
       "<IPython.core.display.Markdown object>"
      ]
     },
     "metadata": {},
     "output_type": "display_data"
    },
    {
     "data": {
      "text/markdown": [
       "$p =$ 0.92"
      ],
      "text/plain": [
       "<IPython.core.display.Markdown object>"
      ]
     },
     "metadata": {},
     "output_type": "display_data"
    },
    {
     "data": {
      "text/markdown": [
       "$H_0$ принимается"
      ],
      "text/plain": [
       "<IPython.core.display.Markdown object>"
      ]
     },
     "metadata": {},
     "output_type": "display_data"
    }
   ],
   "source": [
    "z, p_value = sign_test(X - Y)\n",
    "mprint(\n",
    "    r\"### Sign test\",\n",
    "    f\"$H_0: F_X(x) = F_Y(x)$\",\n",
    "    f\"$z_{{выб}} =$ {z:.2f}\",\n",
    "    f\"$p =$ {p_value:.2f}\",\n",
    "    verdict(alpha, p_value),\n",
    ")"
   ]
  },
  {
   "cell_type": "markdown",
   "metadata": {},
   "source": [
    "| Критерий  | Статистическая гипотеза $H_0$ | Выборочное значение статистики критерия | $p$-value | Статистическое решение при $\\alpha = 0.05$ | Ошибка статистического решения |\n",
    "| --------- | ----------------------------- | --------------------------------------- | --------- | ------------------------------------------ | ------------------------------ |\n",
    "| Sign test | $F_X(x) = F_Y(x)$             | 1.00                                    | 0.92      | $H_0$ принимается                          | Да                             |\n"
   ]
  },
  {
   "cell_type": "markdown",
   "metadata": {},
   "source": [
    "### Критерий Манна-Уитни"
   ]
  },
  {
   "cell_type": "code",
   "execution_count": 45,
   "metadata": {},
   "outputs": [
    {
     "data": {
      "text/markdown": [
       "### U-test"
      ],
      "text/plain": [
       "<IPython.core.display.Markdown object>"
      ]
     },
     "metadata": {},
     "output_type": "display_data"
    },
    {
     "data": {
      "text/markdown": [
       "$H_0: F_X(x) = F_Y(x)$"
      ],
      "text/plain": [
       "<IPython.core.display.Markdown object>"
      ]
     },
     "metadata": {},
     "output_type": "display_data"
    },
    {
     "data": {
      "text/markdown": [
       "$z_{выб} =$ 4989.00"
      ],
      "text/plain": [
       "<IPython.core.display.Markdown object>"
      ]
     },
     "metadata": {},
     "output_type": "display_data"
    },
    {
     "data": {
      "text/markdown": [
       "$p =$ 0.98"
      ],
      "text/plain": [
       "<IPython.core.display.Markdown object>"
      ]
     },
     "metadata": {},
     "output_type": "display_data"
    },
    {
     "data": {
      "text/markdown": [
       "$H_0$ принимается"
      ],
      "text/plain": [
       "<IPython.core.display.Markdown object>"
      ]
     },
     "metadata": {},
     "output_type": "display_data"
    }
   ],
   "source": [
    "z, p_value = stats.mannwhitneyu(X, Y)\n",
    "\n",
    "mprint(\n",
    "    r\"### U-test\",\n",
    "    f\"$H_0: F_X(x) = F_Y(x)$\",\n",
    "    f\"$z_{{выб}} =$ {z:.2f}\",\n",
    "    f\"$p =$ {p_value:.2f}\",\n",
    "    verdict(alpha, p_value),\n",
    ")"
   ]
  },
  {
   "cell_type": "markdown",
   "metadata": {},
   "source": [
    "| Критерий | Статистическая гипотеза $H_0$ | Выборочное значение статистики критерия | $p$-value | Статистическое решение при $\\alpha = 0.05$ | Ошибка статистического решения |\n",
    "| -------- | ----------------------------- | --------------------------------------- | --------- | ------------------------------------------ | ------------------------------ |\n",
    "| U-test   | $F_X(x) = F_Y(x)$             | 4989                                    | 0.98      | $H_0$ принимается                          | Да                            |\n"
   ]
  }
 ],
 "metadata": {
  "kernelspec": {
   "display_name": ".venv",
   "language": "python",
   "name": "python3"
  },
  "language_info": {
   "codemirror_mode": {
    "name": "ipython",
    "version": 3
   },
   "file_extension": ".py",
   "mimetype": "text/x-python",
   "name": "python",
   "nbconvert_exporter": "python",
   "pygments_lexer": "ipython3",
   "version": "3.13.0"
  }
 },
 "nbformat": 4,
 "nbformat_minor": 2
}
