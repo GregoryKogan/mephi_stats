{
 "cells": [
  {
   "cell_type": "markdown",
   "metadata": {},
   "source": [
    "# Лабораторная работа №3"
   ]
  },
  {
   "cell_type": "markdown",
   "metadata": {},
   "source": [
    "## Условие\n",
    "\n",
    "Вариант №7\n",
    "\n",
    "Распределения:\n",
    "\n",
    "$$\\mathbf{X_1} \\sim N(-1, 2)$$\n",
    "$$\\mathbf{X_2} \\sim R(-2, 0)$$\n",
    "$$\\mathbf{X_3} \\sim N(2, 1)$$\n",
    "\n",
    "\n",
    "Объёмы выборок:\n",
    "\n",
    "$$ n_1 = 100$$\n",
    "$$ n_2 = 100$$\n",
    "$$ n_3 = 200$$"
   ]
  },
  {
   "cell_type": "markdown",
   "metadata": {},
   "source": [
    "## Импорты"
   ]
  },
  {
   "cell_type": "code",
   "execution_count": 1,
   "metadata": {},
   "outputs": [],
   "source": [
    "import numpy as np\n",
    "import matplotlib.pyplot as plt\n",
    "from math import sqrt\n",
    "from scipy import stats\n",
    "from time import time\n",
    "from IPython.display import display, Markdown  # для вывода формул в консоль\n",
    "import pandas as pd\n",
    "from statsmodels.stats.multicomp import pairwise_tukeyhsd"
   ]
  },
  {
   "cell_type": "markdown",
   "metadata": {},
   "source": [
    "## Определения"
   ]
  },
  {
   "cell_type": "code",
   "execution_count": 2,
   "metadata": {},
   "outputs": [],
   "source": [
    "m1, std1, n1 = -1, 2, 100\n",
    "a2, b2, n2 = -2, 0, 100\n",
    "m3, std3, n3 = 2, 1, 100"
   ]
  },
  {
   "cell_type": "code",
   "execution_count": 3,
   "metadata": {},
   "outputs": [],
   "source": [
    "def mprint(*strings):\n",
    "    for s in strings:\n",
    "        display(Markdown(s))\n",
    "\n",
    "\n",
    "np.random.seed(int(time()))\n",
    "plt.rc(\"text\", usetex=True)\n",
    "plt.rc(\n",
    "    \"text.latex\",\n",
    "    preamble=r\"\"\"\n",
    "\\usepackage[english, russian]{babel}\n",
    "\\usepackage[utf8]{inputenc}\n",
    "\"\"\",\n",
    ")\n",
    "plt.style.use(\"seaborn-v0_8\")"
   ]
  },
  {
   "cell_type": "code",
   "execution_count": 4,
   "metadata": {},
   "outputs": [],
   "source": [
    "alpha = 0.05\n",
    "\n",
    "\n",
    "def verdict(alpha, p_value):\n",
    "    if alpha > p_value:\n",
    "        return \"$H_0$ отклоняется\"\n",
    "    else:\n",
    "        return \"$H_0$ принимается\""
   ]
  },
  {
   "cell_type": "markdown",
   "metadata": {},
   "source": [
    "## Исходные данные"
   ]
  },
  {
   "cell_type": "markdown",
   "metadata": {},
   "source": [
    "## 1. Исходные данные\n",
    "\n",
    "| СВ             | Распределение | Параметры                | Математическое ожидание, $m_i$    | Дисперсия, $\\sigma_i^2$                                 | Объём выборки, $n_i$ |\n",
    "| -------------- | ------------- | ------------------------ | --------------------------------- | ------------------------------------------------------- | -------------------- |\n",
    "| $\\mathbf{X_1}$ | $N(-1, 2)$    | $m_1 = -1, \\sigma_1 = 2$ | $m_1 = -1$                        | $\\sigma_1^2 = 4$                                        | 100                  |\n",
    "| $\\mathbf{X_2}$ | $R(-2, 0)$    | $a_2 = -2, b_2 = 0$      | $m_2 = \\dfrac{a_2 + b_2}{2} = -1$ | $\\sigma_2^2 = \\dfrac{(b_2 - a_2)^2}{12} = \\dfrac{1}{3}$ | 100                  |\n",
    "| $\\mathbf{X_3}$ | $N(2, 1)$     | $m_3 = 2, \\sigma_3 = 1$  | $m_3 = 2$                         | $\\sigma_3^2 = 1$                                        | 200                  |\n"
   ]
  },
  {
   "cell_type": "code",
   "execution_count": 6,
   "metadata": {},
   "outputs": [
    {
     "data": {
      "text/markdown": [
       "$X_1$: [ 1.44 -3.51 -0.23  0.66  0.15  0.43 -4.1  -0.82 -3.77 -5.75]"
      ],
      "text/plain": [
       "<IPython.core.display.Markdown object>"
      ]
     },
     "metadata": {},
     "output_type": "display_data"
    },
    {
     "data": {
      "text/markdown": [
       "$X_2$: [-0.44 -0.52 -1.54 -1.86 -0.37 -1.63 -0.72 -1.43 -0.45 -1.8 ]"
      ],
      "text/plain": [
       "<IPython.core.display.Markdown object>"
      ]
     },
     "metadata": {},
     "output_type": "display_data"
    },
    {
     "data": {
      "text/markdown": [
       "$X_3$: [2.17 1.46 0.68 2.14 1.77 2.95 3.04 1.7  1.43 0.95]"
      ],
      "text/plain": [
       "<IPython.core.display.Markdown object>"
      ]
     },
     "metadata": {},
     "output_type": "display_data"
    }
   ],
   "source": [
    "k = 3\n",
    "\n",
    "X1 = np.random.normal(m1, std1, n1)\n",
    "X2 = np.random.uniform(a2, b2, n2)\n",
    "X3 = np.random.normal(m3, std3, n3)\n",
    "\n",
    "X = [X1, X2, X3]\n",
    "n = [n1, n2, n3]\n",
    "\n",
    "mprint(f\"$X_1$: {X1[:10].round(2)}\")\n",
    "mprint(f\"$X_2$: {X2[:10].round(2)}\")\n",
    "mprint(f\"$X_3$: {X3[:10].round(2)}\")"
   ]
  },
  {
   "cell_type": "markdown",
   "metadata": {},
   "source": [
    "### Выборочные характеристики"
   ]
  },
  {
   "cell_type": "code",
   "execution_count": 9,
   "metadata": {},
   "outputs": [
    {
     "data": {
      "text/markdown": [
       "$\\overline{x_1} =$ -0.87, $s_1^2 =$ 3.88, $s_1$ = 1.97"
      ],
      "text/plain": [
       "<IPython.core.display.Markdown object>"
      ]
     },
     "metadata": {},
     "output_type": "display_data"
    },
    {
     "data": {
      "text/markdown": [
       "$\\overline{x_2} =$ -0.92, $s_2^2 =$ 0.33, $s_2$ = 0.57"
      ],
      "text/plain": [
       "<IPython.core.display.Markdown object>"
      ]
     },
     "metadata": {},
     "output_type": "display_data"
    },
    {
     "data": {
      "text/markdown": [
       "$\\overline{x_3} =$ 2.01, $s_3^2 =$ 0.86, $s_3$ = 0.93"
      ],
      "text/plain": [
       "<IPython.core.display.Markdown object>"
      ]
     },
     "metadata": {},
     "output_type": "display_data"
    },
    {
     "data": {
      "text/markdown": [
       "$\\overline{x_{pooled}} =$ 0.07, $s_{pooled}^2 =$ 3.56, $s_{pooled}$ = 1.89"
      ],
      "text/plain": [
       "<IPython.core.display.Markdown object>"
      ]
     },
     "metadata": {},
     "output_type": "display_data"
    }
   ],
   "source": [
    "mean1 = X1.mean()\n",
    "S1 = X1.var(ddof=1)\n",
    "s1 = X1.std(ddof=1)\n",
    "\n",
    "mean2 = X2.mean()\n",
    "S2 = X2.var(ddof=1)\n",
    "s2 = X2.std(ddof=1)\n",
    "\n",
    "mean3 = X3.mean()\n",
    "S3 = X3.var(ddof=1)\n",
    "s3 = X3.std(ddof=1)\n",
    "\n",
    "X_pooled = np.concatenate(X)\n",
    "n_pooled = sum(n)\n",
    "\n",
    "mean_pooled = X_pooled.mean()\n",
    "S_pooled = X_pooled.var(ddof=1)\n",
    "s_pooled = X_pooled.std(ddof=1)\n",
    "\n",
    "mprint(f\"$\\\\overline{{x_1}} =$ {mean1:.2f}, $s_1^2 =$ {S1:.2f}, $s_1$ = {s1:.2f}\")\n",
    "mprint(f\"$\\\\overline{{x_2}} =$ {mean2:.2f}, $s_2^2 =$ {S2:.2f}, $s_2$ = {s2:.2f}\")\n",
    "mprint(f\"$\\\\overline{{x_3}} =$ {mean3:.2f}, $s_3^2 =$ {S3:.2f}, $s_3$ = {s3:.2f}\")\n",
    "mprint(\n",
    "    f\"$\\\\overline{{x_{{pooled}}}} =$ {mean_pooled:.2f}, $s_{{pooled}}^2 =$ {S_pooled:.2f}, $s_{{pooled}}$ = {s_pooled:.2f}\"\n",
    ")"
   ]
  },
  {
   "cell_type": "markdown",
   "metadata": {},
   "source": [
    "| СВ            | Среднее, $\\overline{x_i}$ | Оценка дисперсии, $s_i^2$ | Оценка с.к.о., $s_i$ |\n",
    "| ------------- | ------------------------- | ------------------------- | -------------------- |\n",
    "| $\\mathbf{X1}$ | -0.87                     | 3.88                      | 1.97                 |\n",
    "| $\\mathbf{X2}$ | -0.92                     | 0.33                      | 0.57                 |\n",
    "| $\\mathbf{X3}$ | 2.01                      | 0.86                      | 0.93                 |\n",
    "| Pooled        | 0.07                      | 3.56                      | 1.89                 |"
   ]
  },
  {
   "cell_type": "markdown",
   "metadata": {},
   "source": [
    "## 2. Визуальное представление выборки"
   ]
  },
  {
   "cell_type": "code",
   "execution_count": 11,
   "metadata": {},
   "outputs": [
    {
     "data": {
      "image/png": "[encoded data removed]",
      "text/plain": [
       "<Figure size 800x550 with 1 Axes>"
      ]
     },
     "metadata": {},
     "output_type": "display_data"
    }
   ],
   "source": [
    "plt.boxplot(\n",
    "    X,\n",
    "    tick_labels=[r\"$X_1$\", r\"$X_2$\", r\"$X_3$\"],\n",
    "    vert=False,\n",
    "    boxprops=dict(color=\"black\"),\n",
    "    whiskerprops=dict(color=\"black\"),\n",
    "    capprops=dict(color=\"black\"),\n",
    "    flierprops=dict(markeredgecolor=\"black\"),\n",
    ")\n",
    "\n",
    "plt.title(\"Диаграммы Box-and-Whisker\")\n",
    "plt.show()"
   ]
  },
  {
   "cell_type": "markdown",
   "metadata": {},
   "source": [
    "## 3. Проверка условия применимости дисперсионного анализа"
   ]
  },
  {
   "cell_type": "markdown",
   "metadata": {},
   "source": [
    "Статистическая гипотеза: $H_0: \\sigma_1^2 = \\sigma_2^2 = \\sigma_3^2$"
   ]
  },
  {
   "cell_type": "code",
   "execution_count": 12,
   "metadata": {},
   "outputs": [
    {
     "data": {
      "text/markdown": [
       "### Bartlett’s test"
      ],
      "text/plain": [
       "<IPython.core.display.Markdown object>"
      ]
     },
     "metadata": {},
     "output_type": "display_data"
    },
    {
     "data": {
      "text/markdown": [
       "$H_0: \\sigma_1^2 = \\sigma_2^2 = \\sigma_3^2$"
      ],
      "text/plain": [
       "<IPython.core.display.Markdown object>"
      ]
     },
     "metadata": {},
     "output_type": "display_data"
    },
    {
     "data": {
      "text/markdown": [
       "$z_{выб} =$ 145.96"
      ],
      "text/plain": [
       "<IPython.core.display.Markdown object>"
      ]
     },
     "metadata": {},
     "output_type": "display_data"
    },
    {
     "data": {
      "text/markdown": [
       "$p =$ 0.00"
      ],
      "text/plain": [
       "<IPython.core.display.Markdown object>"
      ]
     },
     "metadata": {},
     "output_type": "display_data"
    },
    {
     "data": {
      "text/markdown": [
       "$H_0$ отклоняется"
      ],
      "text/plain": [
       "<IPython.core.display.Markdown object>"
      ]
     },
     "metadata": {},
     "output_type": "display_data"
    }
   ],
   "source": [
    "z, p_value = stats.bartlett(X1, X2, X3)\n",
    "\n",
    "mprint(\n",
    "    r\"### Bartlett’s test\",\n",
    "    f\"$H_0: \\\\sigma_1^2 = \\\\sigma_2^2 = \\\\sigma_3^2$\",\n",
    "    f\"$z_{{выб}} =$ {z:.2f}\",\n",
    "    f\"$p =$ {p_value:.2f}\",\n",
    "    verdict(alpha, p_value),\n",
    ")"
   ]
  },
  {
   "cell_type": "markdown",
   "metadata": {},
   "source": [
    "Критерий Бартлетта:\n",
    "| Выборочное значение статистики критерия | p-value | Статистическое решение при $\\alpha = 0.05$ | Ошибка статистического решения |\n",
    "| --------------------------------------- | ------- | ------------------------------------------ | ------------------------------ |\n",
    "| 145.96                                  | 0.00    | $H_0$ отклоняется                          | Нет                            |"
   ]
  },
  {
   "cell_type": "markdown",
   "metadata": {},
   "source": [
    "## 4. Однофакторный дисперсионный анализ"
   ]
  },
  {
   "cell_type": "code",
   "execution_count": 13,
   "metadata": {},
   "outputs": [
    {
     "data": {
      "text/markdown": [
       "$\\tilde{D}_{\\text{межгр}} = 1.88$"
      ],
      "text/plain": [
       "<IPython.core.display.Markdown object>"
      ]
     },
     "metadata": {},
     "output_type": "display_data"
    },
    {
     "data": {
      "text/markdown": [
       "$\\tilde{D}_{\\text{внутр}} = 1.67$"
      ],
      "text/plain": [
       "<IPython.core.display.Markdown object>"
      ]
     },
     "metadata": {},
     "output_type": "display_data"
    },
    {
     "data": {
      "text/markdown": [
       "$\\tilde{D}_{\\text{общ}} = 3.55$"
      ],
      "text/plain": [
       "<IPython.core.display.Markdown object>"
      ]
     },
     "metadata": {},
     "output_type": "display_data"
    },
    {
     "data": {
      "text/markdown": [
       "$\\tilde{D}_{\\text{межгр, несмещ}} = 281.77$"
      ],
      "text/plain": [
       "<IPython.core.display.Markdown object>"
      ]
     },
     "metadata": {},
     "output_type": "display_data"
    },
    {
     "data": {
      "text/markdown": [
       "$\\tilde{D}_{\\text{внутр, несмещ}} = 1.69$"
      ],
      "text/plain": [
       "<IPython.core.display.Markdown object>"
      ]
     },
     "metadata": {},
     "output_type": "display_data"
    },
    {
     "data": {
      "text/markdown": [
       "$\\tilde{D}_{\\text{общ, несмещ}} = 3.56$"
      ],
      "text/plain": [
       "<IPython.core.display.Markdown object>"
      ]
     },
     "metadata": {},
     "output_type": "display_data"
    }
   ],
   "source": [
    "S_general = X_pooled.var()\n",
    "S_inside = 1 / n_pooled * sum([n[i] * X[i].var() for i in range(k)])\n",
    "S_between = S_general - S_inside\n",
    "\n",
    "S_general_unbiased = S_general * n_pooled / (n_pooled - 1)\n",
    "S_inside_unbiased = S_inside * n_pooled / (n_pooled - k)\n",
    "S_between_unbiased = S_between * n_pooled / (k - 1)\n",
    "\n",
    "mprint(\n",
    "    f\"$\\\\tilde{{D}}_{{\\\\text{{межгр}}}} = {S_between:.2f}$\",\n",
    "    f\"$\\\\tilde{{D}}_{{\\\\text{{внутр}}}} = {S_inside:.2f}$\",\n",
    "    f\"$\\\\tilde{{D}}_{{\\\\text{{общ}}}} = {S_general:.2f}$\",\n",
    "    f\"$\\\\tilde{{D}}_{{\\\\text{{межгр, несмещ}}}} = {S_between_unbiased:.2f}$\",\n",
    "    f\"$\\\\tilde{{D}}_{{\\\\text{{внутр, несмещ}}}} = {S_inside_unbiased:.2f}$\",\n",
    "    f\"$\\\\tilde{{D}}_{{\\\\text{{общ, несмещ}}}} = {S_general_unbiased:.2f}$\",\n",
    ")"
   ]
  },
  {
   "cell_type": "markdown",
   "metadata": {},
   "source": [
    "Таблица дисперсионного анализа:\n",
    "\n",
    "| Источник вариации      | Показатель вариации               | Число степеней свободы | Несмещённая оценка                                  |\n",
    "| ---------------------- | --------------------------------- | ---------------------- | --------------------------------------------------- |\n",
    "| Группировочный признак | $\\tilde{D}_{\\text{межгр}} = 1.88$ | $k - 1 = 2$            | $\\dfrac{n}{k - 1}\\tilde{D}_{\\text{межгр}} = 281.77$ |\n",
    "| Остаточные факторы     | $\\tilde{D}_{\\text{внутр}} = 1.67$ | $n - k = 297$          | $\\dfrac{n}{n - k}\\tilde{D}_{\\text{внутр}} = 1.69$   |\n",
    "| Все факторы            | $\\tilde{D}_{\\text{общ}} = 3.55$   | $n - 1 = 299$          | $\\dfrac{n}{n - 1}\\tilde{D}_{\\text{общ}} = 3.56$     |"
   ]
  },
  {
   "cell_type": "code",
   "execution_count": 15,
   "metadata": {},
   "outputs": [
    {
     "data": {
      "text/markdown": [
       "$\\tilde{\\eta^2} = 0.53$"
      ],
      "text/plain": [
       "<IPython.core.display.Markdown object>"
      ]
     },
     "metadata": {},
     "output_type": "display_data"
    },
    {
     "data": {
      "text/markdown": [
       "$\\tilde{\\eta} = 0.73$"
      ],
      "text/plain": [
       "<IPython.core.display.Markdown object>"
      ]
     },
     "metadata": {},
     "output_type": "display_data"
    }
   ],
   "source": [
    "eta_squared = S_between / S_general\n",
    "\n",
    "eta = sqrt(eta_squared)\n",
    "\n",
    "mprint(\n",
    "    f\"$\\\\tilde{{\\\\eta^2}} = {eta_squared:.2f}$\",\n",
    "    f\"$\\\\tilde{{\\\\eta}} = {eta:.2f}$\",\n",
    ")"
   ]
  },
  {
   "cell_type": "markdown",
   "metadata": {},
   "source": [
    "Эмпирирический коэффициент детерминации $\\tilde{\\eta^2} = \\dfrac{\\tilde{D}_{\\text{межгр}}}{\\tilde{D}_{\\text{общ}}} = 0.53$\n",
    "\n",
    "Эмпирическое корреляционное отношение $\\tilde{\\eta} = \\sqrt{\\tilde{\\eta^2}} = 0.73$"
   ]
  },
  {
   "cell_type": "markdown",
   "metadata": {},
   "source": [
    "Статистическая гипотеза: $H_0: m_1 = m_2 = m_3$"
   ]
  },
  {
   "cell_type": "code",
   "execution_count": 16,
   "metadata": {},
   "outputs": [
    {
     "data": {
      "text/markdown": [
       "### ANOVA"
      ],
      "text/plain": [
       "<IPython.core.display.Markdown object>"
      ]
     },
     "metadata": {},
     "output_type": "display_data"
    },
    {
     "data": {
      "text/markdown": [
       "$H_0: m_1 = m_2 = m_3$"
      ],
      "text/plain": [
       "<IPython.core.display.Markdown object>"
      ]
     },
     "metadata": {},
     "output_type": "display_data"
    },
    {
     "data": {
      "text/markdown": [
       "$z_{выб} = 166.84$"
      ],
      "text/plain": [
       "<IPython.core.display.Markdown object>"
      ]
     },
     "metadata": {},
     "output_type": "display_data"
    },
    {
     "data": {
      "text/markdown": [
       "$p = 0.00$"
      ],
      "text/plain": [
       "<IPython.core.display.Markdown object>"
      ]
     },
     "metadata": {},
     "output_type": "display_data"
    },
    {
     "data": {
      "text/markdown": [
       "$H_0$ отклоняется"
      ],
      "text/plain": [
       "<IPython.core.display.Markdown object>"
      ]
     },
     "metadata": {},
     "output_type": "display_data"
    }
   ],
   "source": [
    "# можно использовать функцию f_oneway, но критерий простой и я напишу его сам\n",
    "\n",
    "z = S_between_unbiased / S_inside_unbiased\n",
    "p_value = stats.f.sf(z, k - 1, n_pooled - k)\n",
    "\n",
    "mprint(\n",
    "    r\"### ANOVA\",\n",
    "    f\"$H_0: m_1 = m_2 = m_3$\",\n",
    "    f\"$z_{{выб}} = {z:.2f}$\",\n",
    "    f\"$p = {p_value:.2f}$\",\n",
    "    verdict(alpha, p_value),\n",
    ")"
   ]
  },
  {
   "cell_type": "markdown",
   "metadata": {},
   "source": [
    "| Выборочное значение статистики критерия | p-value | Статистическое решение при $\\alpha = 0.05$ | Ошибка статистического решения |\n",
    "| --------------------------------------- | ------- | ------------------------------------------ | ------------------------------ |\n",
    "| 166.84                                  | 0.00    | $H_0$ отклоняется                          | Нет                            |"
   ]
  },
  {
   "cell_type": "markdown",
   "metadata": {},
   "source": [
    "## Метод линейных контрастов"
   ]
  },
  {
   "cell_type": "markdown",
   "metadata": {},
   "source": [
    "### Доверительные интервалы для $m_1, \\dots, m_k$"
   ]
  },
  {
   "cell_type": "code",
   "execution_count": 17,
   "metadata": {},
   "outputs": [
    {
     "data": {
      "text/html": [
       "<div>\n",
       "<style scoped>\n",
       "    .dataframe tbody tr th:only-of-type {\n",
       "        vertical-align: middle;\n",
       "    }\n",
       "\n",
       "    .dataframe tbody tr th {\n",
       "        vertical-align: top;\n",
       "    }\n",
       "\n",
       "    .dataframe thead th {\n",
       "        text-align: right;\n",
       "    }\n",
       "</style>\n",
       "<table border=\"1\" class=\"dataframe\">\n",
       "  <thead>\n",
       "    <tr style=\"text-align: right;\">\n",
       "      <th></th>\n",
       "      <th>$X_1$</th>\n",
       "      <th>$X_2$</th>\n",
       "      <th>$X_3$</th>\n",
       "    </tr>\n",
       "  </thead>\n",
       "  <tbody>\n",
       "    <tr>\n",
       "      <th>Нижняя граница</th>\n",
       "      <td>-1.256599</td>\n",
       "      <td>-1.038470</td>\n",
       "      <td>1.827181</td>\n",
       "    </tr>\n",
       "    <tr>\n",
       "      <th>Верхняя граница</th>\n",
       "      <td>-0.475312</td>\n",
       "      <td>-0.811383</td>\n",
       "      <td>2.195853</td>\n",
       "    </tr>\n",
       "  </tbody>\n",
       "</table>\n",
       "</div>"
      ],
      "text/plain": [
       "                    $X_1$     $X_2$     $X_3$\n",
       "Нижняя граница  -1.256599 -1.038470  1.827181\n",
       "Верхняя граница -0.475312 -0.811383  2.195853"
      ]
     },
     "execution_count": 17,
     "metadata": {},
     "output_type": "execute_result"
    }
   ],
   "source": [
    "intervals = pd.DataFrame(index=[\"Нижняя граница\", \"Верхняя граница\"])\n",
    "for data, N, i in zip(X, n, range(1, k + 1)):\n",
    "    std_err = stats.sem(data)\n",
    "    intervals[f\"$X_{i}$\"] = stats.t.interval(\n",
    "        1 - alpha, df=N - 1, loc=np.mean(data), scale=std_err\n",
    "    )\n",
    "\n",
    "intervals"
   ]
  },
  {
   "cell_type": "code",
   "execution_count": 18,
   "metadata": {},
   "outputs": [
    {
     "data": {
      "image/png": "[encoded data removed]",
      "text/plain": [
       "<Figure size 800x550 with 1 Axes>"
      ]
     },
     "metadata": {},
     "output_type": "display_data"
    }
   ],
   "source": [
    "for interval, y in zip(intervals.columns, range(1, k + 1)):\n",
    "    plt.errorbar(\n",
    "        intervals[interval].mean(),\n",
    "        y,\n",
    "        xerr=(intervals[interval].mean() - intervals[interval].iloc[0]),\n",
    "        fmt=\"o\",\n",
    "        label=f\"$m_{y}$\",\n",
    "    )\n",
    "\n",
    "plt.yticks(range(1, k + 1), [f\"$X_{i}$\" for i in range(1, k + 1)])\n",
    "plt.legend(loc=\"upper left\")\n",
    "plt.title(\"Доверительные интервалы для математических ожиданий\")\n",
    "plt.show()"
   ]
  },
  {
   "cell_type": "markdown",
   "metadata": {},
   "source": [
    "### Попарные сравнения $m_i$ и $m_j$"
   ]
  },
  {
   "cell_type": "code",
   "execution_count": 19,
   "metadata": {},
   "outputs": [
    {
     "data": {
      "text/html": [
       "<div>\n",
       "<style scoped>\n",
       "    .dataframe tbody tr th:only-of-type {\n",
       "        vertical-align: middle;\n",
       "    }\n",
       "\n",
       "    .dataframe tbody tr th {\n",
       "        vertical-align: top;\n",
       "    }\n",
       "\n",
       "    .dataframe thead th {\n",
       "        text-align: right;\n",
       "    }\n",
       "</style>\n",
       "<table border=\"1\" class=\"dataframe\">\n",
       "  <thead>\n",
       "    <tr style=\"text-align: right;\">\n",
       "      <th></th>\n",
       "      <th>data</th>\n",
       "      <th>group</th>\n",
       "    </tr>\n",
       "  </thead>\n",
       "  <tbody>\n",
       "    <tr>\n",
       "      <th>0</th>\n",
       "      <td>1.440171</td>\n",
       "      <td>1</td>\n",
       "    </tr>\n",
       "    <tr>\n",
       "      <th>1</th>\n",
       "      <td>-3.507674</td>\n",
       "      <td>1</td>\n",
       "    </tr>\n",
       "    <tr>\n",
       "      <th>2</th>\n",
       "      <td>-0.231784</td>\n",
       "      <td>1</td>\n",
       "    </tr>\n",
       "    <tr>\n",
       "      <th>3</th>\n",
       "      <td>0.664483</td>\n",
       "      <td>1</td>\n",
       "    </tr>\n",
       "    <tr>\n",
       "      <th>4</th>\n",
       "      <td>0.154523</td>\n",
       "      <td>1</td>\n",
       "    </tr>\n",
       "    <tr>\n",
       "      <th>...</th>\n",
       "      <td>...</td>\n",
       "      <td>...</td>\n",
       "    </tr>\n",
       "    <tr>\n",
       "      <th>295</th>\n",
       "      <td>2.172269</td>\n",
       "      <td>3</td>\n",
       "    </tr>\n",
       "    <tr>\n",
       "      <th>296</th>\n",
       "      <td>2.400683</td>\n",
       "      <td>3</td>\n",
       "    </tr>\n",
       "    <tr>\n",
       "      <th>297</th>\n",
       "      <td>1.352911</td>\n",
       "      <td>3</td>\n",
       "    </tr>\n",
       "    <tr>\n",
       "      <th>298</th>\n",
       "      <td>3.015934</td>\n",
       "      <td>3</td>\n",
       "    </tr>\n",
       "    <tr>\n",
       "      <th>299</th>\n",
       "      <td>2.099638</td>\n",
       "      <td>3</td>\n",
       "    </tr>\n",
       "  </tbody>\n",
       "</table>\n",
       "<p>300 rows × 2 columns</p>\n",
       "</div>"
      ],
      "text/plain": [
       "         data  group\n",
       "0    1.440171      1\n",
       "1   -3.507674      1\n",
       "2   -0.231784      1\n",
       "3    0.664483      1\n",
       "4    0.154523      1\n",
       "..        ...    ...\n",
       "295  2.172269      3\n",
       "296  2.400683      3\n",
       "297  1.352911      3\n",
       "298  3.015934      3\n",
       "299  2.099638      3\n",
       "\n",
       "[300 rows x 2 columns]"
      ]
     },
     "execution_count": 19,
     "metadata": {},
     "output_type": "execute_result"
    }
   ],
   "source": [
    "grouped = pd.DataFrame({\"data\": X_pooled, \"group\": np.repeat(range(1, k + 1), n)})\n",
    "grouped"
   ]
  },
  {
   "cell_type": "code",
   "execution_count": 20,
   "metadata": {},
   "outputs": [
    {
     "name": "stdout",
     "output_type": "stream",
     "text": [
      "Multiple Comparison of Means - Tukey HSD, FWER=0.05\n",
      "===================================================\n",
      "group1 group2 meandiff p-adj   lower  upper  reject\n",
      "---------------------------------------------------\n",
      "     1      2   -0.059 0.9448 -0.4919 0.3739  False\n",
      "     1      3   2.8775    0.0  2.4446 3.3104   True\n",
      "     2      3   2.9364    0.0  2.5035 3.3694   True\n",
      "---------------------------------------------------\n"
     ]
    }
   ],
   "source": [
    "result = pairwise_tukeyhsd(endog=grouped[\"data\"], groups=grouped[\"group\"], alpha=alpha)\n",
    "print(result)"
   ]
  },
  {
   "cell_type": "code",
   "execution_count": 21,
   "metadata": {},
   "outputs": [
    {
     "data": {
      "text/html": [
       "<div>\n",
       "<style scoped>\n",
       "    .dataframe tbody tr th:only-of-type {\n",
       "        vertical-align: middle;\n",
       "    }\n",
       "\n",
       "    .dataframe tbody tr th {\n",
       "        vertical-align: top;\n",
       "    }\n",
       "\n",
       "    .dataframe thead th {\n",
       "        text-align: right;\n",
       "    }\n",
       "</style>\n",
       "<table border=\"1\" class=\"dataframe\">\n",
       "  <thead>\n",
       "    <tr style=\"text-align: right;\">\n",
       "      <th></th>\n",
       "      <th>m_i</th>\n",
       "      <th>m_j</th>\n",
       "      <th>z</th>\n",
       "      <th>p-value</th>\n",
       "      <th>lower</th>\n",
       "      <th>upper</th>\n",
       "      <th>Отклонение H_0</th>\n",
       "    </tr>\n",
       "  </thead>\n",
       "  <tbody>\n",
       "    <tr>\n",
       "      <th>0</th>\n",
       "      <td>1</td>\n",
       "      <td>2</td>\n",
       "      <td>-0.0590</td>\n",
       "      <td>0.9448</td>\n",
       "      <td>-0.4919</td>\n",
       "      <td>0.3739</td>\n",
       "      <td>False</td>\n",
       "    </tr>\n",
       "    <tr>\n",
       "      <th>1</th>\n",
       "      <td>1</td>\n",
       "      <td>3</td>\n",
       "      <td>2.8775</td>\n",
       "      <td>0.0000</td>\n",
       "      <td>2.4446</td>\n",
       "      <td>3.3104</td>\n",
       "      <td>True</td>\n",
       "    </tr>\n",
       "    <tr>\n",
       "      <th>2</th>\n",
       "      <td>2</td>\n",
       "      <td>3</td>\n",
       "      <td>2.9364</td>\n",
       "      <td>0.0000</td>\n",
       "      <td>2.5035</td>\n",
       "      <td>3.3694</td>\n",
       "      <td>True</td>\n",
       "    </tr>\n",
       "  </tbody>\n",
       "</table>\n",
       "</div>"
      ],
      "text/plain": [
       "   m_i  m_j       z  p-value   lower   upper  Отклонение H_0\n",
       "0    1    2 -0.0590   0.9448 -0.4919  0.3739           False\n",
       "1    1    3  2.8775   0.0000  2.4446  3.3104            True\n",
       "2    2    3  2.9364   0.0000  2.5035  3.3694            True"
      ]
     },
     "execution_count": 21,
     "metadata": {},
     "output_type": "execute_result"
    }
   ],
   "source": [
    "df = pd.DataFrame(\n",
    "    data=result._results_table.data[1:],\n",
    "    columns=[\n",
    "        \"m_i\",\n",
    "        \"m_j\",\n",
    "        \"z\",\n",
    "        \"p-value\",\n",
    "        \"lower\",\n",
    "        \"upper\",\n",
    "        \"Отклонение H_0\",\n",
    "    ],\n",
    ")\n",
    "\n",
    "df"
   ]
  },
  {
   "cell_type": "markdown",
   "metadata": {},
   "source": [
    "| Гипотеза          | Выборочное значение статистики критерия | $p$-value | Статистическое решение при $\\alpha = 0.05$ | Ошибка статистического решения |\n",
    "| ----------------- | --------------------------------------- | --------- | ------------------------------------------ | ------------------------------ |\n",
    "| $H_0:\\ m_1 = m_2$ | -0.06                                   | 0.94      | $H_0$ принимается                          | Нет                            |\n",
    "| $H_0:\\ m_1 = m_3$ | 2.88                                    | 0.00      | $H_0$ отклоняется                          | Нет                            |\n",
    "| $H_0:\\ m_2 = m_3$ | 2.94                                    | 0.00      | $H_0$ отклоняется                          | Нет                            |\n"
   ]
  }
 ],
 "metadata": {
  "kernelspec": {
   "display_name": ".venv",
   "language": "python",
   "name": "python3"
  },
  "language_info": {
   "codemirror_mode": {
    "name": "ipython",
    "version": 3
   },
   "file_extension": ".py",
   "mimetype": "text/x-python",
   "name": "python",
   "nbconvert_exporter": "python",
   "pygments_lexer": "ipython3",
   "version": "3.13.0"
  }
 },
 "nbformat": 4,
 "nbformat_minor": 2
}
